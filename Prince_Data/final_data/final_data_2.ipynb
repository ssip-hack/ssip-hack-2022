{
 "cells": [
  {
   "cell_type": "code",
   "execution_count": 1,
   "id": "a4790714-5908-41de-83d5-54dd41897ab8",
   "metadata": {},
   "outputs": [
    {
     "data": {
      "text/html": [
       "<div>\n",
       "<style scoped>\n",
       "    .dataframe tbody tr th:only-of-type {\n",
       "        vertical-align: middle;\n",
       "    }\n",
       "\n",
       "    .dataframe tbody tr th {\n",
       "        vertical-align: top;\n",
       "    }\n",
       "\n",
       "    .dataframe thead th {\n",
       "        text-align: right;\n",
       "    }\n",
       "</style>\n",
       "<table border=\"1\" class=\"dataframe\">\n",
       "  <thead>\n",
       "    <tr style=\"text-align: right;\">\n",
       "      <th></th>\n",
       "      <th>d1</th>\n",
       "      <th>d2</th>\n",
       "      <th>d3</th>\n",
       "      <th>d4</th>\n",
       "      <th>d5</th>\n",
       "      <th>d6</th>\n",
       "      <th>d7</th>\n",
       "      <th>d8</th>\n",
       "      <th>d9</th>\n",
       "      <th>d10</th>\n",
       "      <th>...</th>\n",
       "      <th>d24</th>\n",
       "      <th>d25</th>\n",
       "      <th>d26</th>\n",
       "      <th>d27</th>\n",
       "      <th>d28</th>\n",
       "      <th>d29</th>\n",
       "      <th>d30</th>\n",
       "      <th>d31</th>\n",
       "      <th>d32</th>\n",
       "      <th>d33</th>\n",
       "    </tr>\n",
       "  </thead>\n",
       "  <tbody>\n",
       "    <tr>\n",
       "      <th>0</th>\n",
       "      <td>0.03122</td>\n",
       "      <td>0.03094</td>\n",
       "      <td>0.02952</td>\n",
       "      <td>0.03048</td>\n",
       "      <td>0.0306</td>\n",
       "      <td>0.03018</td>\n",
       "      <td>0.03126</td>\n",
       "      <td>0.03116</td>\n",
       "      <td>0.0307</td>\n",
       "      <td>0.02974</td>\n",
       "      <td>...</td>\n",
       "      <td>0.0305</td>\n",
       "      <td>0.03004</td>\n",
       "      <td>0.02874</td>\n",
       "      <td>0.03072</td>\n",
       "      <td>0.03022</td>\n",
       "      <td>0.03052</td>\n",
       "      <td>0.03084</td>\n",
       "      <td>0.02972</td>\n",
       "      <td>0.03022</td>\n",
       "      <td>0.03046</td>\n",
       "    </tr>\n",
       "  </tbody>\n",
       "</table>\n",
       "<p>1 rows × 33 columns</p>\n",
       "</div>"
      ],
      "text/plain": [
       "        d1       d2       d3       d4      d5       d6       d7       d8  \\\n",
       "0  0.03122  0.03094  0.02952  0.03048  0.0306  0.03018  0.03126  0.03116   \n",
       "\n",
       "       d9      d10  ...     d24      d25      d26      d27      d28      d29  \\\n",
       "0  0.0307  0.02974  ...  0.0305  0.03004  0.02874  0.03072  0.03022  0.03052   \n",
       "\n",
       "       d30      d31      d32      d33  \n",
       "0  0.03084  0.02972  0.03022  0.03046  \n",
       "\n",
       "[1 rows x 33 columns]"
      ]
     },
     "execution_count": 1,
     "metadata": {},
     "output_type": "execute_result"
    }
   ],
   "source": [
    "import pandas as pd\n",
    "read = pd.read_csv('district.csv')\n",
    "read"
   ]
  },
  {
   "cell_type": "code",
   "execution_count": 3,
   "id": "076d1a56-b14f-4e8b-8d38-31072509ba69",
   "metadata": {},
   "outputs": [],
   "source": [
    "l1=[]\n",
    "for index in read:\n",
    "    l1.append(index)"
   ]
  },
  {
   "cell_type": "code",
   "execution_count": 11,
   "id": "7e74d4ae-cc0a-45be-bcf0-be90038ff330",
   "metadata": {},
   "outputs": [
    {
     "data": {
      "text/html": [
       "<div>\n",
       "<style scoped>\n",
       "    .dataframe tbody tr th:only-of-type {\n",
       "        vertical-align: middle;\n",
       "    }\n",
       "\n",
       "    .dataframe tbody tr th {\n",
       "        vertical-align: top;\n",
       "    }\n",
       "\n",
       "    .dataframe thead th {\n",
       "        text-align: right;\n",
       "    }\n",
       "</style>\n",
       "<table border=\"1\" class=\"dataframe\">\n",
       "  <thead>\n",
       "    <tr style=\"text-align: right;\">\n",
       "      <th></th>\n",
       "      <th>entity</th>\n",
       "      <th>value</th>\n",
       "    </tr>\n",
       "  </thead>\n",
       "  <tbody>\n",
       "    <tr>\n",
       "      <th>0</th>\n",
       "      <td>0</td>\n",
       "      <td>0</td>\n",
       "    </tr>\n",
       "    <tr>\n",
       "      <th>1</th>\n",
       "      <td>0</td>\n",
       "      <td>0</td>\n",
       "    </tr>\n",
       "    <tr>\n",
       "      <th>2</th>\n",
       "      <td>0</td>\n",
       "      <td>0</td>\n",
       "    </tr>\n",
       "    <tr>\n",
       "      <th>3</th>\n",
       "      <td>0</td>\n",
       "      <td>0</td>\n",
       "    </tr>\n",
       "    <tr>\n",
       "      <th>4</th>\n",
       "      <td>0</td>\n",
       "      <td>0</td>\n",
       "    </tr>\n",
       "  </tbody>\n",
       "</table>\n",
       "</div>"
      ],
      "text/plain": [
       "   entity  value\n",
       "0       0      0\n",
       "1       0      0\n",
       "2       0      0\n",
       "3       0      0\n",
       "4       0      0"
      ]
     },
     "execution_count": 11,
     "metadata": {},
     "output_type": "execute_result"
    }
   ],
   "source": [
    "read1 = pd.read_csv('entity.csv')\n",
    "read1.head()"
   ]
  },
  {
   "cell_type": "code",
   "execution_count": 12,
   "id": "abea35db-2101-457f-933f-55417949370c",
   "metadata": {},
   "outputs": [
    {
     "data": {
      "text/html": [
       "<div>\n",
       "<style scoped>\n",
       "    .dataframe tbody tr th:only-of-type {\n",
       "        vertical-align: middle;\n",
       "    }\n",
       "\n",
       "    .dataframe tbody tr th {\n",
       "        vertical-align: top;\n",
       "    }\n",
       "\n",
       "    .dataframe thead th {\n",
       "        text-align: right;\n",
       "    }\n",
       "</style>\n",
       "<table border=\"1\" class=\"dataframe\">\n",
       "  <thead>\n",
       "    <tr style=\"text-align: right;\">\n",
       "      <th></th>\n",
       "      <th>entity</th>\n",
       "      <th>value</th>\n",
       "    </tr>\n",
       "  </thead>\n",
       "  <tbody>\n",
       "    <tr>\n",
       "      <th>0</th>\n",
       "      <td>d1</td>\n",
       "      <td>0</td>\n",
       "    </tr>\n",
       "    <tr>\n",
       "      <th>1</th>\n",
       "      <td>d2</td>\n",
       "      <td>0</td>\n",
       "    </tr>\n",
       "    <tr>\n",
       "      <th>2</th>\n",
       "      <td>d3</td>\n",
       "      <td>0</td>\n",
       "    </tr>\n",
       "    <tr>\n",
       "      <th>3</th>\n",
       "      <td>d4</td>\n",
       "      <td>0</td>\n",
       "    </tr>\n",
       "    <tr>\n",
       "      <th>4</th>\n",
       "      <td>d5</td>\n",
       "      <td>0</td>\n",
       "    </tr>\n",
       "  </tbody>\n",
       "</table>\n",
       "</div>"
      ],
      "text/plain": [
       "  entity  value\n",
       "0     d1      0\n",
       "1     d2      0\n",
       "2     d3      0\n",
       "3     d4      0\n",
       "4     d5      0"
      ]
     },
     "execution_count": 12,
     "metadata": {},
     "output_type": "execute_result"
    }
   ],
   "source": [
    "read1['entity'] = l1\n",
    "read1.head()"
   ]
  },
  {
   "cell_type": "code",
   "execution_count": 16,
   "id": "4c39291b-2334-4da9-9552-21f2b10a874c",
   "metadata": {},
   "outputs": [],
   "source": [
    "l3=[]\n",
    "for index in read.index:\n",
    "    for value in range(0,33):\n",
    "        l3.append( read[l1[value]][index] )"
   ]
  },
  {
   "cell_type": "code",
   "execution_count": 17,
   "id": "ce0d4d7b-dcad-4788-ade7-cb492eb973f7",
   "metadata": {},
   "outputs": [
    {
     "name": "stdout",
     "output_type": "stream",
     "text": [
      "[0.03122, 0.03094, 0.02952, 0.03048, 0.0306, 0.03018, 0.03126, 0.03116, 0.0307, 0.02974, 0.02976, 0.0301, 0.03162, 0.0305, 0.03102, 0.03012, 0.03092, 0.03006, 0.02888, 0.0292, 0.031, 0.02906, 0.02998, 0.0305, 0.03004, 0.02874, 0.03072, 0.03022, 0.03052, 0.03084, 0.02972, 0.03022, 0.03046]\n"
     ]
    }
   ],
   "source": [
    "print(l3)"
   ]
  },
  {
   "cell_type": "code",
   "execution_count": 18,
   "id": "f5218741-208a-439c-8eeb-d9f5e92a8315",
   "metadata": {},
   "outputs": [],
   "source": [
    "read1['value'] = l3"
   ]
  },
  {
   "cell_type": "code",
   "execution_count": 19,
   "id": "e70c7d0c-38dc-4adf-a265-eef4569a3f6a",
   "metadata": {},
   "outputs": [],
   "source": [
    "read1.to_csv('final_data_2.csv')"
   ]
  },
  {
   "cell_type": "code",
   "execution_count": null,
   "id": "386f2594-d441-4243-a58b-8715d3670cc7",
   "metadata": {},
   "outputs": [],
   "source": []
  }
 ],
 "metadata": {
  "kernelspec": {
   "display_name": "Python 3 (ipykernel)",
   "language": "python",
   "name": "python3"
  },
  "language_info": {
   "codemirror_mode": {
    "name": "ipython",
    "version": 3
   },
   "file_extension": ".py",
   "mimetype": "text/x-python",
   "name": "python",
   "nbconvert_exporter": "python",
   "pygments_lexer": "ipython3",
   "version": "3.10.7"
  }
 },
 "nbformat": 4,
 "nbformat_minor": 5
}
