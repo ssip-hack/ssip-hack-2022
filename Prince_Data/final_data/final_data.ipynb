{
 "cells": [
  {
   "cell_type": "code",
   "execution_count": 1,
   "id": "a77042c0-9a4c-4ca6-a12c-ef33b9e48763",
   "metadata": {},
   "outputs": [
    {
     "data": {
      "text/html": [
       "<div>\n",
       "<style scoped>\n",
       "    .dataframe tbody tr th:only-of-type {\n",
       "        vertical-align: middle;\n",
       "    }\n",
       "\n",
       "    .dataframe tbody tr th {\n",
       "        vertical-align: top;\n",
       "    }\n",
       "\n",
       "    .dataframe thead th {\n",
       "        text-align: right;\n",
       "    }\n",
       "</style>\n",
       "<table border=\"1\" class=\"dataframe\">\n",
       "  <thead>\n",
       "    <tr style=\"text-align: right;\">\n",
       "      <th></th>\n",
       "      <th>male</th>\n",
       "      <th>female</th>\n",
       "      <th>age_1</th>\n",
       "      <th>age_2</th>\n",
       "      <th>age_3</th>\n",
       "      <th>age_4</th>\n",
       "      <th>age_5</th>\n",
       "      <th>sc</th>\n",
       "      <th>st</th>\n",
       "      <th>obc</th>\n",
       "      <th>general</th>\n",
       "    </tr>\n",
       "  </thead>\n",
       "  <tbody>\n",
       "    <tr>\n",
       "      <th>0</th>\n",
       "      <td>0.5021</td>\n",
       "      <td>0.4979</td>\n",
       "      <td>0.20042</td>\n",
       "      <td>0.20104</td>\n",
       "      <td>0.20136</td>\n",
       "      <td>0.19812</td>\n",
       "      <td>0.19906</td>\n",
       "      <td>0.25136</td>\n",
       "      <td>0.25122</td>\n",
       "      <td>0.24858</td>\n",
       "      <td>0.24884</td>\n",
       "    </tr>\n",
       "  </tbody>\n",
       "</table>\n",
       "</div>"
      ],
      "text/plain": [
       "     male  female    age_1    age_2    age_3    age_4    age_5       sc  \\\n",
       "0  0.5021  0.4979  0.20042  0.20104  0.20136  0.19812  0.19906  0.25136   \n",
       "\n",
       "        st      obc  general  \n",
       "0  0.25122  0.24858  0.24884  "
      ]
     },
     "execution_count": 1,
     "metadata": {},
     "output_type": "execute_result"
    }
   ],
   "source": [
    "import pandas as pd\n",
    "read = pd.read_csv('basic.csv')\n",
    "read"
   ]
  },
  {
   "cell_type": "code",
   "execution_count": 41,
   "id": "514597e2-808c-459a-9a65-108a92ff9aee",
   "metadata": {},
   "outputs": [],
   "source": [
    "l1=[]\n",
    "for index in read:\n",
    "    l1.append(index)"
   ]
  },
  {
   "cell_type": "code",
   "execution_count": 42,
   "id": "4337375f-2589-4b6a-82d4-8bfe1c88a4a3",
   "metadata": {},
   "outputs": [
    {
     "name": "stdout",
     "output_type": "stream",
     "text": [
      "['male', 'female', 'age_1', 'age_2', 'age_3', 'age_4', 'age_5', 'sc', 'st', 'obc', 'general']\n"
     ]
    }
   ],
   "source": [
    "print(l1)"
   ]
  },
  {
   "cell_type": "code",
   "execution_count": 57,
   "id": "dec0a4ee-e40e-4121-b9c4-6fb986ec504f",
   "metadata": {},
   "outputs": [],
   "source": [
    "read1 = pd.read_csv('entity.csv')\n"
   ]
  },
  {
   "cell_type": "code",
   "execution_count": 47,
   "id": "4c639bfe-cd2a-4d64-bc46-fcaba33ae3a6",
   "metadata": {},
   "outputs": [],
   "source": [
    "read1['entity'] = l1\n"
   ]
  },
  {
   "cell_type": "code",
   "execution_count": 51,
   "id": "bf501cc5-a483-405a-a805-adbb20a033b3",
   "metadata": {},
   "outputs": [],
   "source": [
    "l2=[]\n",
    "for index in read.index:\n",
    "    for value in range(0,11):\n",
    "        l2.append( read[l1[value]][index] )"
   ]
  },
  {
   "cell_type": "code",
   "execution_count": 52,
   "id": "f063f0e7-cc93-4b59-b501-7720ae0c7ff6",
   "metadata": {},
   "outputs": [
    {
     "name": "stdout",
     "output_type": "stream",
     "text": [
      "[0.5021, 0.4979, 0.20042, 0.20104, 0.20136, 0.19812, 0.19906, 0.25136, 0.25122, 0.24858, 0.24884]\n"
     ]
    }
   ],
   "source": [
    "print(l2)"
   ]
  },
  {
   "cell_type": "code",
   "execution_count": 54,
   "id": "6952e533-b47d-47b3-b51a-12126c68d991",
   "metadata": {},
   "outputs": [],
   "source": [
    "read1['value'] = l2"
   ]
  },
  {
   "cell_type": "code",
   "execution_count": 55,
   "id": "c1356f02-6442-4d73-804a-d1bd8bb4ad63",
   "metadata": {},
   "outputs": [],
   "source": [
    "read1.to_csv('final_data_1.csv')"
   ]
  },
  {
   "cell_type": "code",
   "execution_count": null,
   "id": "e15b28e7-2f6e-4296-918e-01a3b11279ac",
   "metadata": {},
   "outputs": [],
   "source": []
  },
  {
   "cell_type": "code",
   "execution_count": null,
   "id": "f19bf9e8-ae98-4ada-86d8-8c8e1afd3945",
   "metadata": {},
   "outputs": [],
   "source": []
  }
 ],
 "metadata": {
  "kernelspec": {
   "display_name": "Python 3 (ipykernel)",
   "language": "python",
   "name": "python3"
  },
  "language_info": {
   "codemirror_mode": {
    "name": "ipython",
    "version": 3
   },
   "file_extension": ".py",
   "mimetype": "text/x-python",
   "name": "python",
   "nbconvert_exporter": "python",
   "pygments_lexer": "ipython3",
   "version": "3.10.7"
  }
 },
 "nbformat": 4,
 "nbformat_minor": 5
}
