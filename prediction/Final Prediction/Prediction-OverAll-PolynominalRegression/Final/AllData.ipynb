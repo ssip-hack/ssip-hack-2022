{
 "cells": [
  {
   "cell_type": "code",
   "execution_count": 1,
   "id": "6d7e2730-6112-41e4-8a1a-7603180fcd8d",
   "metadata": {},
   "outputs": [],
   "source": [
    "import pandas as pd\n",
    "import numpy as np\n",
    "import matplotlib.pyplot as plt\n",
    "import seaborn as sns"
   ]
  },
  {
   "cell_type": "code",
   "execution_count": 2,
   "id": "8afeb331-5c69-4f81-8184-ff1530a872bc",
   "metadata": {},
   "outputs": [],
   "source": [
    "maindata = pd.read_csv('Data.csv') "
   ]
  },
  {
   "cell_type": "code",
   "execution_count": 3,
   "id": "647f656f-e983-40b4-aaf9-00bd3ba8408d",
   "metadata": {},
   "outputs": [
    {
     "data": {
      "text/html": [
       "<div>\n",
       "<style scoped>\n",
       "    .dataframe tbody tr th:only-of-type {\n",
       "        vertical-align: middle;\n",
       "    }\n",
       "\n",
       "    .dataframe tbody tr th {\n",
       "        vertical-align: top;\n",
       "    }\n",
       "\n",
       "    .dataframe thead th {\n",
       "        text-align: right;\n",
       "    }\n",
       "</style>\n",
       "<table border=\"1\" class=\"dataframe\">\n",
       "  <thead>\n",
       "    <tr style=\"text-align: right;\">\n",
       "      <th></th>\n",
       "      <th>Location</th>\n",
       "      <th>Social Category</th>\n",
       "      <th>PrimaryGirls</th>\n",
       "      <th>PrimaryBoys</th>\n",
       "      <th>PrimaryOverall</th>\n",
       "      <th>UpperGirls</th>\n",
       "      <th>UpperBoys</th>\n",
       "      <th>UpperOverall</th>\n",
       "      <th>SecondGirls</th>\n",
       "      <th>SecondBoys</th>\n",
       "      <th>SecondOverall</th>\n",
       "    </tr>\n",
       "  </thead>\n",
       "  <tbody>\n",
       "    <tr>\n",
       "      <th>0</th>\n",
       "      <td>AHMEDABAD</td>\n",
       "      <td>General</td>\n",
       "      <td>0.00</td>\n",
       "      <td>0.00</td>\n",
       "      <td>0.00</td>\n",
       "      <td>0.00</td>\n",
       "      <td>0.00</td>\n",
       "      <td>0.00</td>\n",
       "      <td>8.02</td>\n",
       "      <td>12.34</td>\n",
       "      <td>10.54</td>\n",
       "    </tr>\n",
       "    <tr>\n",
       "      <th>1</th>\n",
       "      <td>AHMEDABAD</td>\n",
       "      <td>OBC</td>\n",
       "      <td>0.64</td>\n",
       "      <td>1.10</td>\n",
       "      <td>0.89</td>\n",
       "      <td>9.37</td>\n",
       "      <td>4.14</td>\n",
       "      <td>6.46</td>\n",
       "      <td>18.43</td>\n",
       "      <td>23.13</td>\n",
       "      <td>21.40</td>\n",
       "    </tr>\n",
       "    <tr>\n",
       "      <th>2</th>\n",
       "      <td>AHMEDABAD</td>\n",
       "      <td>SC</td>\n",
       "      <td>0.00</td>\n",
       "      <td>0.00</td>\n",
       "      <td>0.00</td>\n",
       "      <td>0.00</td>\n",
       "      <td>4.13</td>\n",
       "      <td>1.26</td>\n",
       "      <td>0.00</td>\n",
       "      <td>10.65</td>\n",
       "      <td>6.08</td>\n",
       "    </tr>\n",
       "    <tr>\n",
       "      <th>3</th>\n",
       "      <td>AHMEDABAD</td>\n",
       "      <td>ST</td>\n",
       "      <td>5.92</td>\n",
       "      <td>5.72</td>\n",
       "      <td>5.81</td>\n",
       "      <td>9.68</td>\n",
       "      <td>13.69</td>\n",
       "      <td>12.07</td>\n",
       "      <td>24.31</td>\n",
       "      <td>10.94</td>\n",
       "      <td>16.57</td>\n",
       "    </tr>\n",
       "    <tr>\n",
       "      <th>4</th>\n",
       "      <td>AMRELI</td>\n",
       "      <td>General</td>\n",
       "      <td>0.87</td>\n",
       "      <td>0.00</td>\n",
       "      <td>0.00</td>\n",
       "      <td>0.00</td>\n",
       "      <td>0.00</td>\n",
       "      <td>0.00</td>\n",
       "      <td>1.56</td>\n",
       "      <td>11.80</td>\n",
       "      <td>6.97</td>\n",
       "    </tr>\n",
       "  </tbody>\n",
       "</table>\n",
       "</div>"
      ],
      "text/plain": [
       "    Location Social Category  PrimaryGirls  PrimaryBoys  PrimaryOverall  \\\n",
       "0  AHMEDABAD         General          0.00         0.00            0.00   \n",
       "1  AHMEDABAD             OBC          0.64         1.10            0.89   \n",
       "2  AHMEDABAD              SC          0.00         0.00            0.00   \n",
       "3  AHMEDABAD              ST          5.92         5.72            5.81   \n",
       "4     AMRELI         General          0.87         0.00            0.00   \n",
       "\n",
       "   UpperGirls  UpperBoys  UpperOverall  SecondGirls  SecondBoys  SecondOverall  \n",
       "0        0.00       0.00          0.00         8.02       12.34          10.54  \n",
       "1        9.37       4.14          6.46        18.43       23.13          21.40  \n",
       "2        0.00       4.13          1.26         0.00       10.65           6.08  \n",
       "3        9.68      13.69         12.07        24.31       10.94          16.57  \n",
       "4        0.00       0.00          0.00         1.56       11.80           6.97  "
      ]
     },
     "execution_count": 3,
     "metadata": {},
     "output_type": "execute_result"
    }
   ],
   "source": [
    "maindata.head()"
   ]
  },
  {
   "cell_type": "markdown",
   "id": "dd336c6e-8f02-4542-9673-082f19c6b585",
   "metadata": {},
   "source": [
    "# comparison of the all grapg"
   ]
  },
  {
   "cell_type": "markdown",
   "id": "deae7658-563c-4597-97a2-bf915e1dc9ea",
   "metadata": {},
   "source": [
    "# Male and Female and school category"
   ]
  },
  {
   "cell_type": "code",
   "execution_count": null,
   "id": "e3931211-e704-4262-8328-2a2b6ede9774",
   "metadata": {},
   "outputs": [],
   "source": []
  },
  {
   "cell_type": "code",
   "execution_count": null,
   "id": "f3b31cbb-8c5f-4bdd-9f19-6407c3de8125",
   "metadata": {},
   "outputs": [],
   "source": []
  },
  {
   "cell_type": "code",
   "execution_count": null,
   "id": "46a96adf-d616-4bf5-b7fe-d787968f5df5",
   "metadata": {},
   "outputs": [],
   "source": []
  },
  {
   "cell_type": "markdown",
   "id": "fecf4130-ac89-4b81-a923-3380c73099fd",
   "metadata": {},
   "source": []
  },
  {
   "cell_type": "code",
   "execution_count": null,
   "id": "dd195375-5179-4c57-933f-d286d956e800",
   "metadata": {},
   "outputs": [],
   "source": []
  },
  {
   "cell_type": "code",
   "execution_count": null,
   "id": "dbc60e9d-c04a-4874-ba73-0efd56f4ec87",
   "metadata": {},
   "outputs": [],
   "source": []
  },
  {
   "cell_type": "code",
   "execution_count": null,
   "id": "8ed58e7b-7009-4093-bfbe-1c448ba9af1c",
   "metadata": {},
   "outputs": [],
   "source": []
  },
  {
   "cell_type": "code",
   "execution_count": 10,
   "id": "40cbc44f-cdfc-4693-9924-ddba66609ff9",
   "metadata": {},
   "outputs": [],
   "source": [
    "# prediction time :"
   ]
  },
  {
   "cell_type": "code",
   "execution_count": 30,
   "id": "b56b975e-ea54-40ce-b9cc-9cfa7ab6911b",
   "metadata": {},
   "outputs": [],
   "source": [
    "# liner regression model:\n",
    "from sklearn.model_selection import train_test_split\n",
    "from sklearn.linear_model import LinearRegression\n",
    "from sklearn import metrics"
   ]
  },
  {
   "cell_type": "code",
   "execution_count": 31,
   "id": "d21a52c5-eaf8-462f-b6f0-f7c13b8946ef",
   "metadata": {},
   "outputs": [],
   "source": [
    "x = maindata[['PrimaryOverall']]\n",
    "y = maindata[['PrimaryBoys' , 'PrimaryGirls']]"
   ]
  },
  {
   "cell_type": "code",
   "execution_count": 32,
   "id": "029cdda2-2dc9-4eae-8c39-b802f9327f45",
   "metadata": {},
   "outputs": [
    {
     "name": "stdout",
     "output_type": "stream",
     "text": [
      "(290, 6)\n",
      "(870, 6)\n",
      "(290, 3)\n",
      "(870, 3)\n"
     ]
    }
   ],
   "source": [
    "\n",
    "print(x_test.shape)\n",
    "print(x_train.shape)\n",
    "print(y_test.shape)\n",
    "print(y_train.shape)\n"
   ]
  },
  {
   "cell_type": "code",
   "execution_count": 33,
   "id": "bf425120-392e-4665-b91b-187d432268d7",
   "metadata": {},
   "outputs": [],
   "source": [
    "linermodel = LinearRegression()"
   ]
  },
  {
   "cell_type": "code",
   "execution_count": 34,
   "id": "1b9cd26e-26a8-4c26-b68c-cb6061797911",
   "metadata": {},
   "outputs": [
    {
     "data": {
      "text/html": [
       "<style>#sk-container-id-1 {color: black;background-color: white;}#sk-container-id-1 pre{padding: 0;}#sk-container-id-1 div.sk-toggleable {background-color: white;}#sk-container-id-1 label.sk-toggleable__label {cursor: pointer;display: block;width: 100%;margin-bottom: 0;padding: 0.3em;box-sizing: border-box;text-align: center;}#sk-container-id-1 label.sk-toggleable__label-arrow:before {content: \"▸\";float: left;margin-right: 0.25em;color: #696969;}#sk-container-id-1 label.sk-toggleable__label-arrow:hover:before {color: black;}#sk-container-id-1 div.sk-estimator:hover label.sk-toggleable__label-arrow:before {color: black;}#sk-container-id-1 div.sk-toggleable__content {max-height: 0;max-width: 0;overflow: hidden;text-align: left;background-color: #f0f8ff;}#sk-container-id-1 div.sk-toggleable__content pre {margin: 0.2em;color: black;border-radius: 0.25em;background-color: #f0f8ff;}#sk-container-id-1 input.sk-toggleable__control:checked~div.sk-toggleable__content {max-height: 200px;max-width: 100%;overflow: auto;}#sk-container-id-1 input.sk-toggleable__control:checked~label.sk-toggleable__label-arrow:before {content: \"▾\";}#sk-container-id-1 div.sk-estimator input.sk-toggleable__control:checked~label.sk-toggleable__label {background-color: #d4ebff;}#sk-container-id-1 div.sk-label input.sk-toggleable__control:checked~label.sk-toggleable__label {background-color: #d4ebff;}#sk-container-id-1 input.sk-hidden--visually {border: 0;clip: rect(1px 1px 1px 1px);clip: rect(1px, 1px, 1px, 1px);height: 1px;margin: -1px;overflow: hidden;padding: 0;position: absolute;width: 1px;}#sk-container-id-1 div.sk-estimator {font-family: monospace;background-color: #f0f8ff;border: 1px dotted black;border-radius: 0.25em;box-sizing: border-box;margin-bottom: 0.5em;}#sk-container-id-1 div.sk-estimator:hover {background-color: #d4ebff;}#sk-container-id-1 div.sk-parallel-item::after {content: \"\";width: 100%;border-bottom: 1px solid gray;flex-grow: 1;}#sk-container-id-1 div.sk-label:hover label.sk-toggleable__label {background-color: #d4ebff;}#sk-container-id-1 div.sk-serial::before {content: \"\";position: absolute;border-left: 1px solid gray;box-sizing: border-box;top: 0;bottom: 0;left: 50%;z-index: 0;}#sk-container-id-1 div.sk-serial {display: flex;flex-direction: column;align-items: center;background-color: white;padding-right: 0.2em;padding-left: 0.2em;position: relative;}#sk-container-id-1 div.sk-item {position: relative;z-index: 1;}#sk-container-id-1 div.sk-parallel {display: flex;align-items: stretch;justify-content: center;background-color: white;position: relative;}#sk-container-id-1 div.sk-item::before, #sk-container-id-1 div.sk-parallel-item::before {content: \"\";position: absolute;border-left: 1px solid gray;box-sizing: border-box;top: 0;bottom: 0;left: 50%;z-index: -1;}#sk-container-id-1 div.sk-parallel-item {display: flex;flex-direction: column;z-index: 1;position: relative;background-color: white;}#sk-container-id-1 div.sk-parallel-item:first-child::after {align-self: flex-end;width: 50%;}#sk-container-id-1 div.sk-parallel-item:last-child::after {align-self: flex-start;width: 50%;}#sk-container-id-1 div.sk-parallel-item:only-child::after {width: 0;}#sk-container-id-1 div.sk-dashed-wrapped {border: 1px dashed gray;margin: 0 0.4em 0.5em 0.4em;box-sizing: border-box;padding-bottom: 0.4em;background-color: white;}#sk-container-id-1 div.sk-label label {font-family: monospace;font-weight: bold;display: inline-block;line-height: 1.2em;}#sk-container-id-1 div.sk-label-container {text-align: center;}#sk-container-id-1 div.sk-container {/* jupyter's `normalize.less` sets `[hidden] { display: none; }` but bootstrap.min.css set `[hidden] { display: none !important; }` so we also need the `!important` here to be able to override the default hidden behavior on the sphinx rendered scikit-learn.org. See: https://github.com/scikit-learn/scikit-learn/issues/21755 */display: inline-block !important;position: relative;}#sk-container-id-1 div.sk-text-repr-fallback {display: none;}</style><div id=\"sk-container-id-1\" class=\"sk-top-container\"><div class=\"sk-text-repr-fallback\"><pre>LinearRegression()</pre><b>In a Jupyter environment, please rerun this cell to show the HTML representation or trust the notebook. <br />On GitHub, the HTML representation is unable to render, please try loading this page with nbviewer.org.</b></div><div class=\"sk-container\" hidden><div class=\"sk-item\"><div class=\"sk-estimator sk-toggleable\"><input class=\"sk-toggleable__control sk-hidden--visually\" id=\"sk-estimator-id-1\" type=\"checkbox\" checked><label for=\"sk-estimator-id-1\" class=\"sk-toggleable__label sk-toggleable__label-arrow\">LinearRegression</label><div class=\"sk-toggleable__content\"><pre>LinearRegression()</pre></div></div></div></div></div>"
      ],
      "text/plain": [
       "LinearRegression()"
      ]
     },
     "execution_count": 34,
     "metadata": {},
     "output_type": "execute_result"
    }
   ],
   "source": [
    "linermodel.fit(x_train,y_train)"
   ]
  },
  {
   "cell_type": "code",
   "execution_count": 35,
   "id": "d0a8f90f-e3d6-4322-9721-3d3b116de0c3",
   "metadata": {},
   "outputs": [
    {
     "data": {
      "text/plain": [
       "array([[ 0.5500617 ,  0.45501269, -0.00197819,  0.00113283, -0.00077291,\n",
       "         0.00179602],\n",
       "       [-0.03696277,  0.02969533,  0.554245  ,  0.45226897,  0.003067  ,\n",
       "        -0.00072439],\n",
       "       [ 0.01420889, -0.01437871, -0.00871414,  0.00659829,  0.58461283,\n",
       "         0.42335011]])"
      ]
     },
     "execution_count": 35,
     "metadata": {},
     "output_type": "execute_result"
    }
   ],
   "source": [
    "linermodel.coef_"
   ]
  },
  {
   "cell_type": "code",
   "execution_count": 36,
   "id": "f50e0759-d6a2-4a7d-a135-c56128ac8035",
   "metadata": {},
   "outputs": [
    {
     "data": {
      "text/plain": [
       "array([-0.07838675, -0.18832986, -0.25139238])"
      ]
     },
     "execution_count": 36,
     "metadata": {},
     "output_type": "execute_result"
    }
   ],
   "source": [
    "linermodel.intercept_"
   ]
  },
  {
   "cell_type": "code",
   "execution_count": 37,
   "id": "61cb8643-1af3-49a5-8c39-8c8611b70886",
   "metadata": {},
   "outputs": [
    {
     "data": {
      "text/plain": [
       "array([[ 1.31246984, -0.25063962, 10.00211075],\n",
       "       [ 3.53282359, 11.21754977, 30.9463826 ],\n",
       "       [ 0.25494342,  8.07299017, 29.68163204],\n",
       "       [ 3.34760668, 12.79061162, 32.85365204],\n",
       "       [ 1.53507131, 10.18779881, 24.64165242],\n",
       "       [ 0.4193031 ,  2.42627846, 27.4620329 ],\n",
       "       [ 1.1895399 , 10.38173174, 31.83491493],\n",
       "       [ 0.43100039,  4.2685156 , 12.88667245],\n",
       "       [-0.07838675, -0.18832986, -0.25139238],\n",
       "       [ 0.24194817,  1.22164052, 13.76429929]])"
      ]
     },
     "execution_count": 37,
     "metadata": {},
     "output_type": "execute_result"
    }
   ],
   "source": [
    "linermodel.predict(x_test)[:10]"
   ]
  },
  {
   "cell_type": "code",
   "execution_count": 39,
   "id": "bdfcd97e-a4e8-4d90-aab9-146d67bc41c0",
   "metadata": {},
   "outputs": [
    {
     "name": "stderr",
     "output_type": "stream",
     "text": [
      "C:\\Users\\malan\\AppData\\Local\\Programs\\Python\\Python310\\lib\\site-packages\\sklearn\\base.py:450: UserWarning: X does not have valid feature names, but LinearRegression was fitted with feature names\n",
      "  warnings.warn(\n"
     ]
    },
    {
     "ename": "ValueError",
     "evalue": "X has 1 features, but LinearRegression is expecting 6 features as input.",
     "output_type": "error",
     "traceback": [
      "\u001b[1;31m---------------------------------------------------------------------------\u001b[0m",
      "\u001b[1;31mValueError\u001b[0m                                Traceback (most recent call last)",
      "Cell \u001b[1;32mIn [39], line 2\u001b[0m\n\u001b[0;32m      1\u001b[0m \u001b[38;5;66;03m# primary school Predication :->\u001b[39;00m\n\u001b[1;32m----> 2\u001b[0m x \u001b[38;5;241m=\u001b[39m linermodel\u001b[38;5;241m.\u001b[39mpredict([[maindata[\u001b[38;5;124m'\u001b[39m\u001b[38;5;124mPrimaryOverall\u001b[39m\u001b[38;5;124m'\u001b[39m]\u001b[38;5;241m.\u001b[39mmean()]])\u001b[38;5;241m.\u001b[39mtolist()\n\u001b[0;32m      3\u001b[0m \u001b[38;5;28mprint\u001b[39m(\u001b[38;5;124m\"\u001b[39m\u001b[38;5;124mPrimary boys : \u001b[39m\u001b[38;5;124m\"\u001b[39m,x[\u001b[38;5;241m0\u001b[39m][\u001b[38;5;241m0\u001b[39m])\n\u001b[0;32m      4\u001b[0m \u001b[38;5;28mprint\u001b[39m(\u001b[38;5;124m\"\u001b[39m\u001b[38;5;124mPrimary Girls : \u001b[39m\u001b[38;5;124m\"\u001b[39m,x[\u001b[38;5;241m0\u001b[39m][\u001b[38;5;241m1\u001b[39m])\n",
      "File \u001b[1;32m~\\AppData\\Local\\Programs\\Python\\Python310\\lib\\site-packages\\sklearn\\linear_model\\_base.py:386\u001b[0m, in \u001b[0;36mLinearModel.predict\u001b[1;34m(self, X)\u001b[0m\n\u001b[0;32m    372\u001b[0m \u001b[38;5;28;01mdef\u001b[39;00m \u001b[38;5;21mpredict\u001b[39m(\u001b[38;5;28mself\u001b[39m, X):\n\u001b[0;32m    373\u001b[0m     \u001b[38;5;124;03m\"\"\"\u001b[39;00m\n\u001b[0;32m    374\u001b[0m \u001b[38;5;124;03m    Predict using the linear model.\u001b[39;00m\n\u001b[0;32m    375\u001b[0m \n\u001b[1;32m   (...)\u001b[0m\n\u001b[0;32m    384\u001b[0m \u001b[38;5;124;03m        Returns predicted values.\u001b[39;00m\n\u001b[0;32m    385\u001b[0m \u001b[38;5;124;03m    \"\"\"\u001b[39;00m\n\u001b[1;32m--> 386\u001b[0m     \u001b[38;5;28;01mreturn\u001b[39;00m \u001b[38;5;28;43mself\u001b[39;49m\u001b[38;5;241;43m.\u001b[39;49m\u001b[43m_decision_function\u001b[49m\u001b[43m(\u001b[49m\u001b[43mX\u001b[49m\u001b[43m)\u001b[49m\n",
      "File \u001b[1;32m~\\AppData\\Local\\Programs\\Python\\Python310\\lib\\site-packages\\sklearn\\linear_model\\_base.py:369\u001b[0m, in \u001b[0;36mLinearModel._decision_function\u001b[1;34m(self, X)\u001b[0m\n\u001b[0;32m    366\u001b[0m \u001b[38;5;28;01mdef\u001b[39;00m \u001b[38;5;21m_decision_function\u001b[39m(\u001b[38;5;28mself\u001b[39m, X):\n\u001b[0;32m    367\u001b[0m     check_is_fitted(\u001b[38;5;28mself\u001b[39m)\n\u001b[1;32m--> 369\u001b[0m     X \u001b[38;5;241m=\u001b[39m \u001b[38;5;28;43mself\u001b[39;49m\u001b[38;5;241;43m.\u001b[39;49m\u001b[43m_validate_data\u001b[49m\u001b[43m(\u001b[49m\u001b[43mX\u001b[49m\u001b[43m,\u001b[49m\u001b[43m \u001b[49m\u001b[43maccept_sparse\u001b[49m\u001b[38;5;241;43m=\u001b[39;49m\u001b[43m[\u001b[49m\u001b[38;5;124;43m\"\u001b[39;49m\u001b[38;5;124;43mcsr\u001b[39;49m\u001b[38;5;124;43m\"\u001b[39;49m\u001b[43m,\u001b[49m\u001b[43m \u001b[49m\u001b[38;5;124;43m\"\u001b[39;49m\u001b[38;5;124;43mcsc\u001b[39;49m\u001b[38;5;124;43m\"\u001b[39;49m\u001b[43m,\u001b[49m\u001b[43m \u001b[49m\u001b[38;5;124;43m\"\u001b[39;49m\u001b[38;5;124;43mcoo\u001b[39;49m\u001b[38;5;124;43m\"\u001b[39;49m\u001b[43m]\u001b[49m\u001b[43m,\u001b[49m\u001b[43m \u001b[49m\u001b[43mreset\u001b[49m\u001b[38;5;241;43m=\u001b[39;49m\u001b[38;5;28;43;01mFalse\u001b[39;49;00m\u001b[43m)\u001b[49m\n\u001b[0;32m    370\u001b[0m     \u001b[38;5;28;01mreturn\u001b[39;00m safe_sparse_dot(X, \u001b[38;5;28mself\u001b[39m\u001b[38;5;241m.\u001b[39mcoef_\u001b[38;5;241m.\u001b[39mT, dense_output\u001b[38;5;241m=\u001b[39m\u001b[38;5;28;01mTrue\u001b[39;00m) \u001b[38;5;241m+\u001b[39m \u001b[38;5;28mself\u001b[39m\u001b[38;5;241m.\u001b[39mintercept_\n",
      "File \u001b[1;32m~\\AppData\\Local\\Programs\\Python\\Python310\\lib\\site-packages\\sklearn\\base.py:600\u001b[0m, in \u001b[0;36mBaseEstimator._validate_data\u001b[1;34m(self, X, y, reset, validate_separately, **check_params)\u001b[0m\n\u001b[0;32m    597\u001b[0m     out \u001b[38;5;241m=\u001b[39m X, y\n\u001b[0;32m    599\u001b[0m \u001b[38;5;28;01mif\u001b[39;00m \u001b[38;5;129;01mnot\u001b[39;00m no_val_X \u001b[38;5;129;01mand\u001b[39;00m check_params\u001b[38;5;241m.\u001b[39mget(\u001b[38;5;124m\"\u001b[39m\u001b[38;5;124mensure_2d\u001b[39m\u001b[38;5;124m\"\u001b[39m, \u001b[38;5;28;01mTrue\u001b[39;00m):\n\u001b[1;32m--> 600\u001b[0m     \u001b[38;5;28;43mself\u001b[39;49m\u001b[38;5;241;43m.\u001b[39;49m\u001b[43m_check_n_features\u001b[49m\u001b[43m(\u001b[49m\u001b[43mX\u001b[49m\u001b[43m,\u001b[49m\u001b[43m \u001b[49m\u001b[43mreset\u001b[49m\u001b[38;5;241;43m=\u001b[39;49m\u001b[43mreset\u001b[49m\u001b[43m)\u001b[49m\n\u001b[0;32m    602\u001b[0m \u001b[38;5;28;01mreturn\u001b[39;00m out\n",
      "File \u001b[1;32m~\\AppData\\Local\\Programs\\Python\\Python310\\lib\\site-packages\\sklearn\\base.py:400\u001b[0m, in \u001b[0;36mBaseEstimator._check_n_features\u001b[1;34m(self, X, reset)\u001b[0m\n\u001b[0;32m    397\u001b[0m     \u001b[38;5;28;01mreturn\u001b[39;00m\n\u001b[0;32m    399\u001b[0m \u001b[38;5;28;01mif\u001b[39;00m n_features \u001b[38;5;241m!=\u001b[39m \u001b[38;5;28mself\u001b[39m\u001b[38;5;241m.\u001b[39mn_features_in_:\n\u001b[1;32m--> 400\u001b[0m     \u001b[38;5;28;01mraise\u001b[39;00m \u001b[38;5;167;01mValueError\u001b[39;00m(\n\u001b[0;32m    401\u001b[0m         \u001b[38;5;124mf\u001b[39m\u001b[38;5;124m\"\u001b[39m\u001b[38;5;124mX has \u001b[39m\u001b[38;5;132;01m{\u001b[39;00mn_features\u001b[38;5;132;01m}\u001b[39;00m\u001b[38;5;124m features, but \u001b[39m\u001b[38;5;132;01m{\u001b[39;00m\u001b[38;5;28mself\u001b[39m\u001b[38;5;241m.\u001b[39m\u001b[38;5;18m__class__\u001b[39m\u001b[38;5;241m.\u001b[39m\u001b[38;5;18m__name__\u001b[39m\u001b[38;5;132;01m}\u001b[39;00m\u001b[38;5;124m \u001b[39m\u001b[38;5;124m\"\u001b[39m\n\u001b[0;32m    402\u001b[0m         \u001b[38;5;124mf\u001b[39m\u001b[38;5;124m\"\u001b[39m\u001b[38;5;124mis expecting \u001b[39m\u001b[38;5;132;01m{\u001b[39;00m\u001b[38;5;28mself\u001b[39m\u001b[38;5;241m.\u001b[39mn_features_in_\u001b[38;5;132;01m}\u001b[39;00m\u001b[38;5;124m features as input.\u001b[39m\u001b[38;5;124m\"\u001b[39m\n\u001b[0;32m    403\u001b[0m     )\n",
      "\u001b[1;31mValueError\u001b[0m: X has 1 features, but LinearRegression is expecting 6 features as input."
     ]
    }
   ],
   "source": [
    "# primary school Predication :->\n",
    "x = linermodel.predict([[maindata['PrimaryOverall'].mean()]]).tolist()\n",
    "print(\"Primary boys : \",x[0][0])\n",
    "print(\"Primary Girls : \",x[0][1])\n",
    "print(\"OverALL : \",(x[0][1] + x[0][0]))\n",
    "print(\"R2 Square \", metrics.r2_score(linermodel.predict(x_test) , y_test) )\n",
    "print('MEA : ',metrics.mean_absolute_error(linermodel.predict(x_test) , y_test))"
   ]
  },
  {
   "cell_type": "code",
   "execution_count": 40,
   "id": "e7036238-103e-45f5-9d18-b4eb33d54cc4",
   "metadata": {},
   "outputs": [],
   "source": [
    "def School_And_Gender_wise_prediction():\n",
    "    # primary data\n",
    "    print('Primary'.center(100,'-'))\n",
    "    # train and test model split :\n",
    "    x = maindata[['PrimaryOverall']]\n",
    "    y = maindata[['PrimaryBoys' , 'PrimaryGirls']]\n",
    "    x_train, x_test, y_train, y_test = train_test_split(x, y,random_state=12 ,test_size=0.25 )\n",
    "    \n",
    "    # liner regression model called\n",
    "    linermodel = LinearRegression()\n",
    "    linermodel.fit(x_train,y_train)\n",
    "    \n",
    "    # primary school Predication mean value of the all the data :->\n",
    "    x = linermodel.predict([[maindata['PrimaryOverall'].mean()]]).tolist()\n",
    "    print(\"boys : \",x[0][0] / (x[0][1] + x[0][0]))\n",
    "    print(\"Girls : \",x[0][1] / (x[0][1] + x[0][0]))\n",
    "    print(\"OverALL : \",(x[0][1] + x[0][0]))\n",
    "    print(\"R2 Square \", metrics.r2_score(linermodel.predict(x_test) , y_test) )\n",
    "    print('MEA : ',metrics.mean_absolute_error(linermodel.predict(x_test) , y_test) , \"\\n\\n\")\n",
    "    \n",
    "    # upper Primary Data :\n",
    "    print('Upper Primary'.center(100,'-'))\n",
    "    x1 = maindata[['UpperOverall']]\n",
    "    y1 = maindata[['UpperBoys' , 'UpperGirls']]\n",
    "    x1_train, x1_test, y1_train, y1_test = train_test_split(x1,y1, random_state=4 , test_size=0.25 )\n",
    "    # fir the model \n",
    "    linermodel.fit(x1_train,y1_train)\n",
    "    # prediction for the data :\n",
    "    x11 = linermodel.predict([[maindata['UpperOverall'].mean()]]).tolist()\n",
    "    print(\"boys : \",x11[0][0] / (x11[0][1] + x11[0][0]))\n",
    "    print(\"Girls : \",x11[0][1] / (x11[0][1] + x11[0][0]))\n",
    "    print(\"OverALL : \",(x11[0][1] + x11[0][0]))\n",
    "    print(\"R2 Square \", metrics.r2_score(linermodel.predict(x1_test) , y1_test) )\n",
    "    print('MEA : ',metrics.mean_absolute_error(linermodel.predict(x1_test) , y1_test) , \"\\n\\n\")\n",
    "    \n",
    "    # secondary data : \n",
    "    print('Secondary'.center(100,'-'))\n",
    "    x2 = maindata[['SecondOverall']]\n",
    "    y2 = maindata[['SecondBoys' , 'SecondGirls']]\n",
    "    x2_train, x2_test, y2_train, y2_test = train_test_split(x2,y2, random_state=12 , test_size=0.25 )\n",
    "    # fir the model \n",
    "    linermodel.fit(x2_train,y2_train)\n",
    "    # prediction for the data :\n",
    "    x22 = linermodel.predict([[maindata['UpperOverall'].mean()]]).tolist()\n",
    "    print(\"boys : \",x22[0][0] / (x22[0][1] + x22[0][0]))\n",
    "    print(\"Girls : \",x22[0][1] / (x22[0][1] + x22[0][0]) )\n",
    "    print(\"OverALL : \", x22[0][1] + x22[0][0])\n",
    "    print(\"R2 Square \", metrics.r2_score(linermodel.predict(x2_test) , y2_test) )\n",
    "    print('MEA : ',metrics.mean_absolute_error(linermodel.predict(x2_test) , y2_test) )"
   ]
  },
  {
   "cell_type": "code",
   "execution_count": 41,
   "id": "e1c52ce4-c86d-4a24-8214-5626260ac1f8",
   "metadata": {},
   "outputs": [
    {
     "name": "stdout",
     "output_type": "stream",
     "text": [
      "----------------------------------------------Primary-----------------------------------------------\n",
      "boys :  0.49272690851899126\n",
      "Girls :  0.5072730914810089\n",
      "OverALL :  7.586346110083333\n",
      "R2 Square  0.9542536594044685\n",
      "MEA :  0.696091929884425 \n",
      "\n",
      "\n",
      "-------------------------------------------Upper Primary--------------------------------------------\n",
      "boys :  0.42561732399579805\n",
      "Girls :  0.5743826760042019\n",
      "OverALL :  15.080591899896756\n",
      "R2 Square  0.956312661237577\n",
      "MEA :  1.45316639026304 \n",
      "\n",
      "\n",
      "---------------------------------------------Secondary----------------------------------------------\n",
      "boys :  0.6126614497732403\n",
      "Girls :  0.38733855022675967\n",
      "OverALL :  14.822916098947713\n",
      "R2 Square  0.9014130917910546\n",
      "MEA :  2.5302372609141512\n"
     ]
    },
    {
     "name": "stderr",
     "output_type": "stream",
     "text": [
      "C:\\Users\\malan\\AppData\\Local\\Programs\\Python\\Python310\\lib\\site-packages\\sklearn\\base.py:450: UserWarning: X does not have valid feature names, but LinearRegression was fitted with feature names\n",
      "  warnings.warn(\n",
      "C:\\Users\\malan\\AppData\\Local\\Programs\\Python\\Python310\\lib\\site-packages\\sklearn\\base.py:450: UserWarning: X does not have valid feature names, but LinearRegression was fitted with feature names\n",
      "  warnings.warn(\n",
      "C:\\Users\\malan\\AppData\\Local\\Programs\\Python\\Python310\\lib\\site-packages\\sklearn\\base.py:450: UserWarning: X does not have valid feature names, but LinearRegression was fitted with feature names\n",
      "  warnings.warn(\n"
     ]
    }
   ],
   "source": [
    "School_And_Gender_wise_prediction()"
   ]
  },
  {
   "cell_type": "code",
   "execution_count": 42,
   "id": "0aad556d-2c74-4fb2-928a-d584b64d18c6",
   "metadata": {},
   "outputs": [],
   "source": [
    "def cast_wise_prediction():\n",
    "    pass"
   ]
  },
  {
   "cell_type": "code",
   "execution_count": 17,
   "id": "54704ce1-9896-4673-a836-1c6b7e82b80d",
   "metadata": {},
   "outputs": [],
   "source": [
    "cast = maindata.sort_values(['Social Category']) "
   ]
  },
  {
   "cell_type": "code",
   "execution_count": 18,
   "id": "1b3e0a24-1868-4f11-aa53-ee911ee1d493",
   "metadata": {},
   "outputs": [],
   "source": [
    "def List_conversion(l1):\n",
    "    temp = []\n",
    "    for i in l1:\n",
    "        if type(i) == 'list':\n",
    "            for j in i:\n",
    "                temp.append(j)\n",
    "        else:\n",
    "            temp.append(i)\n",
    "    return temp"
   ]
  },
  {
   "cell_type": "code",
   "execution_count": 44,
   "id": "51051a8b-740a-4067-aaeb-60f514aa3ba2",
   "metadata": {},
   "outputs": [],
   "source": [
    "\n",
    "    general = []\n",
    "    obc = []\n",
    "    sc = []\n",
    "    st = []\n",
    "    overall = []\n",
    "    temp1, temp2, temp3, temp4, temp5 = 0, 0, 0, 0, 0\n",
    "    for i in range(len(maindata)):\n",
    "        if maindata['Social Category'][i] == 'General':\n",
    "            temp1 = maindata['PrimaryBoys'][i] + maindata['PrimaryGirls'][i] + maindata['UpperBoys'][i] + maindata['UpperGirls'][i] + maindata['SecondBoys'][i] + maindata['SecondGirls'][i]\n",
    "            general.append(temp1)\n",
    "        if maindata['Social Category'][i] == 'OBC':\n",
    "            temp2 = maindata['PrimaryBoys'][i] + maindata['PrimaryGirls'][i] + maindata['UpperBoys'][i] + maindata['UpperGirls'][i] + maindata['SecondBoys'][i] + maindata['SecondGirls'][i]\n",
    "            obc.append(temp2)\n",
    "        if maindata['Social Category'][i] == 'SC':\n",
    "            temp3 = maindata['PrimaryBoys'][i] + maindata['PrimaryGirls'][i] + maindata['UpperBoys'][i] + maindata['UpperGirls'][i] + maindata['SecondBoys'][i] + maindata['SecondGirls'][i]\n",
    "            sc.append(temp3)\n",
    "        if maindata['Social Category'][i] == 'ST':\n",
    "            temp4 =  maindata['PrimaryBoys'][i] + maindata['PrimaryGirls'][i] + maindata['UpperBoys'][i] + maindata['UpperGirls'][i] + maindata['SecondBoys'][i] + maindata['SecondGirls'][i]\n",
    "            st.append(temp4)\n",
    "        temp5 = temp1+temp2+temp3+temp4\n",
    "        overall.append(temp5)\n",
    "        temp1, temp2, temp3, temp4, temp5 = 0, 0, 0, 0, 0\n",
    "    # implement the lincer regression model uisgn the given data\n"
   ]
  },
  {
   "cell_type": "code",
   "execution_count": 45,
   "id": "82745bd2-f412-4587-a26d-987916b790c9",
   "metadata": {},
   "outputs": [],
   "source": [
    "zipforthecast = list(zip(general,obc,sc,st,overall))"
   ]
  },
  {
   "cell_type": "code",
   "execution_count": 46,
   "id": "1b0eaeb6-9e56-46e6-8674-4fea2a71bc70",
   "metadata": {},
   "outputs": [
    {
     "data": {
      "text/html": [
       "<div>\n",
       "<style scoped>\n",
       "    .dataframe tbody tr th:only-of-type {\n",
       "        vertical-align: middle;\n",
       "    }\n",
       "\n",
       "    .dataframe tbody tr th {\n",
       "        vertical-align: top;\n",
       "    }\n",
       "\n",
       "    .dataframe thead th {\n",
       "        text-align: right;\n",
       "    }\n",
       "</style>\n",
       "<table border=\"1\" class=\"dataframe\">\n",
       "  <thead>\n",
       "    <tr style=\"text-align: right;\">\n",
       "      <th></th>\n",
       "      <th>general</th>\n",
       "      <th>obc</th>\n",
       "      <th>sc</th>\n",
       "      <th>st</th>\n",
       "      <th>overall</th>\n",
       "    </tr>\n",
       "  </thead>\n",
       "  <tbody>\n",
       "    <tr>\n",
       "      <th>0</th>\n",
       "      <td>20.36</td>\n",
       "      <td>56.81</td>\n",
       "      <td>14.78</td>\n",
       "      <td>70.26</td>\n",
       "      <td>20.36</td>\n",
       "    </tr>\n",
       "    <tr>\n",
       "      <th>1</th>\n",
       "      <td>14.23</td>\n",
       "      <td>40.88</td>\n",
       "      <td>10.36</td>\n",
       "      <td>293.09</td>\n",
       "      <td>56.81</td>\n",
       "    </tr>\n",
       "    <tr>\n",
       "      <th>2</th>\n",
       "      <td>63.71</td>\n",
       "      <td>55.77</td>\n",
       "      <td>51.67</td>\n",
       "      <td>82.03</td>\n",
       "      <td>14.78</td>\n",
       "    </tr>\n",
       "    <tr>\n",
       "      <th>3</th>\n",
       "      <td>64.73</td>\n",
       "      <td>67.63</td>\n",
       "      <td>65.66</td>\n",
       "      <td>88.33</td>\n",
       "      <td>70.26</td>\n",
       "    </tr>\n",
       "    <tr>\n",
       "      <th>4</th>\n",
       "      <td>60.27</td>\n",
       "      <td>35.72</td>\n",
       "      <td>46.49</td>\n",
       "      <td>79.31</td>\n",
       "      <td>14.23</td>\n",
       "    </tr>\n",
       "    <tr>\n",
       "      <th>...</th>\n",
       "      <td>...</td>\n",
       "      <td>...</td>\n",
       "      <td>...</td>\n",
       "      <td>...</td>\n",
       "      <td>...</td>\n",
       "    </tr>\n",
       "    <tr>\n",
       "      <th>285</th>\n",
       "      <td>16.50</td>\n",
       "      <td>63.76</td>\n",
       "      <td>46.94</td>\n",
       "      <td>134.50</td>\n",
       "      <td>71.81</td>\n",
       "    </tr>\n",
       "    <tr>\n",
       "      <th>286</th>\n",
       "      <td>32.75</td>\n",
       "      <td>42.61</td>\n",
       "      <td>28.03</td>\n",
       "      <td>40.20</td>\n",
       "      <td>57.83</td>\n",
       "    </tr>\n",
       "    <tr>\n",
       "      <th>287</th>\n",
       "      <td>0.00</td>\n",
       "      <td>75.84</td>\n",
       "      <td>0.00</td>\n",
       "      <td>55.66</td>\n",
       "      <td>121.91</td>\n",
       "    </tr>\n",
       "    <tr>\n",
       "      <th>288</th>\n",
       "      <td>21.04</td>\n",
       "      <td>112.91</td>\n",
       "      <td>90.44</td>\n",
       "      <td>104.27</td>\n",
       "      <td>40.68</td>\n",
       "    </tr>\n",
       "    <tr>\n",
       "      <th>289</th>\n",
       "      <td>28.24</td>\n",
       "      <td>21.40</td>\n",
       "      <td>104.80</td>\n",
       "      <td>43.13</td>\n",
       "      <td>89.75</td>\n",
       "    </tr>\n",
       "  </tbody>\n",
       "</table>\n",
       "<p>290 rows × 5 columns</p>\n",
       "</div>"
      ],
      "text/plain": [
       "     general     obc      sc      st  overall\n",
       "0      20.36   56.81   14.78   70.26    20.36\n",
       "1      14.23   40.88   10.36  293.09    56.81\n",
       "2      63.71   55.77   51.67   82.03    14.78\n",
       "3      64.73   67.63   65.66   88.33    70.26\n",
       "4      60.27   35.72   46.49   79.31    14.23\n",
       "..       ...     ...     ...     ...      ...\n",
       "285    16.50   63.76   46.94  134.50    71.81\n",
       "286    32.75   42.61   28.03   40.20    57.83\n",
       "287     0.00   75.84    0.00   55.66   121.91\n",
       "288    21.04  112.91   90.44  104.27    40.68\n",
       "289    28.24   21.40  104.80   43.13    89.75\n",
       "\n",
       "[290 rows x 5 columns]"
      ]
     },
     "execution_count": 46,
     "metadata": {},
     "output_type": "execute_result"
    }
   ],
   "source": [
    "cast = pd.DataFrame(zipforthecast , columns=['general' ,'obc' , 'sc' , 'st' , 'overall'])\n",
    "cast"
   ]
  },
  {
   "cell_type": "code",
   "execution_count": 47,
   "id": "6b71e872-acd0-49a9-befc-6e71bc9f17af",
   "metadata": {},
   "outputs": [],
   "source": [
    "cast.sort_values('overall' , inplace=True)"
   ]
  },
  {
   "cell_type": "code",
   "execution_count": 48,
   "id": "cf55c5cb-4830-4631-a484-3ff0ba44f328",
   "metadata": {},
   "outputs": [],
   "source": [
    "t = LinearRegression()"
   ]
  },
  {
   "cell_type": "code",
   "execution_count": 49,
   "id": "9389b04d-c086-4ad4-9853-1fd6c773b8b9",
   "metadata": {},
   "outputs": [],
   "source": [
    "y3= cast[['overall']]\n",
    "x3 = cast[['general' ,'obc' , 'sc' , 'st']]"
   ]
  },
  {
   "cell_type": "code",
   "execution_count": 50,
   "id": "11889565-1e57-4f96-9a1a-b5a81dd643a8",
   "metadata": {},
   "outputs": [],
   "source": [
    "x3_train, x3_test, y3_train, y3_test = train_test_split(x3,y3, random_state=2 , test_size=0.25 )"
   ]
  },
  {
   "cell_type": "code",
   "execution_count": 51,
   "id": "e0efb11b-4d00-465c-9c74-cf6c0f79da8b",
   "metadata": {},
   "outputs": [
    {
     "name": "stdout",
     "output_type": "stream",
     "text": [
      "(73, 4)\n",
      "(217, 4)\n",
      "(73, 1)\n",
      "(217, 1)\n"
     ]
    }
   ],
   "source": [
    "print(x3_test.shape)\n",
    "print(x3_train.shape)\n",
    "print(y3_test.shape)\n",
    "print(y3_train.shape)"
   ]
  },
  {
   "cell_type": "code",
   "execution_count": 52,
   "id": "dc43d371-9e8a-4a83-9a26-6fec3d0479ea",
   "metadata": {},
   "outputs": [
    {
     "data": {
      "text/html": [
       "<style>#sk-container-id-2 {color: black;background-color: white;}#sk-container-id-2 pre{padding: 0;}#sk-container-id-2 div.sk-toggleable {background-color: white;}#sk-container-id-2 label.sk-toggleable__label {cursor: pointer;display: block;width: 100%;margin-bottom: 0;padding: 0.3em;box-sizing: border-box;text-align: center;}#sk-container-id-2 label.sk-toggleable__label-arrow:before {content: \"▸\";float: left;margin-right: 0.25em;color: #696969;}#sk-container-id-2 label.sk-toggleable__label-arrow:hover:before {color: black;}#sk-container-id-2 div.sk-estimator:hover label.sk-toggleable__label-arrow:before {color: black;}#sk-container-id-2 div.sk-toggleable__content {max-height: 0;max-width: 0;overflow: hidden;text-align: left;background-color: #f0f8ff;}#sk-container-id-2 div.sk-toggleable__content pre {margin: 0.2em;color: black;border-radius: 0.25em;background-color: #f0f8ff;}#sk-container-id-2 input.sk-toggleable__control:checked~div.sk-toggleable__content {max-height: 200px;max-width: 100%;overflow: auto;}#sk-container-id-2 input.sk-toggleable__control:checked~label.sk-toggleable__label-arrow:before {content: \"▾\";}#sk-container-id-2 div.sk-estimator input.sk-toggleable__control:checked~label.sk-toggleable__label {background-color: #d4ebff;}#sk-container-id-2 div.sk-label input.sk-toggleable__control:checked~label.sk-toggleable__label {background-color: #d4ebff;}#sk-container-id-2 input.sk-hidden--visually {border: 0;clip: rect(1px 1px 1px 1px);clip: rect(1px, 1px, 1px, 1px);height: 1px;margin: -1px;overflow: hidden;padding: 0;position: absolute;width: 1px;}#sk-container-id-2 div.sk-estimator {font-family: monospace;background-color: #f0f8ff;border: 1px dotted black;border-radius: 0.25em;box-sizing: border-box;margin-bottom: 0.5em;}#sk-container-id-2 div.sk-estimator:hover {background-color: #d4ebff;}#sk-container-id-2 div.sk-parallel-item::after {content: \"\";width: 100%;border-bottom: 1px solid gray;flex-grow: 1;}#sk-container-id-2 div.sk-label:hover label.sk-toggleable__label {background-color: #d4ebff;}#sk-container-id-2 div.sk-serial::before {content: \"\";position: absolute;border-left: 1px solid gray;box-sizing: border-box;top: 0;bottom: 0;left: 50%;z-index: 0;}#sk-container-id-2 div.sk-serial {display: flex;flex-direction: column;align-items: center;background-color: white;padding-right: 0.2em;padding-left: 0.2em;position: relative;}#sk-container-id-2 div.sk-item {position: relative;z-index: 1;}#sk-container-id-2 div.sk-parallel {display: flex;align-items: stretch;justify-content: center;background-color: white;position: relative;}#sk-container-id-2 div.sk-item::before, #sk-container-id-2 div.sk-parallel-item::before {content: \"\";position: absolute;border-left: 1px solid gray;box-sizing: border-box;top: 0;bottom: 0;left: 50%;z-index: -1;}#sk-container-id-2 div.sk-parallel-item {display: flex;flex-direction: column;z-index: 1;position: relative;background-color: white;}#sk-container-id-2 div.sk-parallel-item:first-child::after {align-self: flex-end;width: 50%;}#sk-container-id-2 div.sk-parallel-item:last-child::after {align-self: flex-start;width: 50%;}#sk-container-id-2 div.sk-parallel-item:only-child::after {width: 0;}#sk-container-id-2 div.sk-dashed-wrapped {border: 1px dashed gray;margin: 0 0.4em 0.5em 0.4em;box-sizing: border-box;padding-bottom: 0.4em;background-color: white;}#sk-container-id-2 div.sk-label label {font-family: monospace;font-weight: bold;display: inline-block;line-height: 1.2em;}#sk-container-id-2 div.sk-label-container {text-align: center;}#sk-container-id-2 div.sk-container {/* jupyter's `normalize.less` sets `[hidden] { display: none; }` but bootstrap.min.css set `[hidden] { display: none !important; }` so we also need the `!important` here to be able to override the default hidden behavior on the sphinx rendered scikit-learn.org. See: https://github.com/scikit-learn/scikit-learn/issues/21755 */display: inline-block !important;position: relative;}#sk-container-id-2 div.sk-text-repr-fallback {display: none;}</style><div id=\"sk-container-id-2\" class=\"sk-top-container\"><div class=\"sk-text-repr-fallback\"><pre>LinearRegression()</pre><b>In a Jupyter environment, please rerun this cell to show the HTML representation or trust the notebook. <br />On GitHub, the HTML representation is unable to render, please try loading this page with nbviewer.org.</b></div><div class=\"sk-container\" hidden><div class=\"sk-item\"><div class=\"sk-estimator sk-toggleable\"><input class=\"sk-toggleable__control sk-hidden--visually\" id=\"sk-estimator-id-2\" type=\"checkbox\" checked><label for=\"sk-estimator-id-2\" class=\"sk-toggleable__label sk-toggleable__label-arrow\">LinearRegression</label><div class=\"sk-toggleable__content\"><pre>LinearRegression()</pre></div></div></div></div></div>"
      ],
      "text/plain": [
       "LinearRegression()"
      ]
     },
     "execution_count": 52,
     "metadata": {},
     "output_type": "execute_result"
    }
   ],
   "source": [
    "t.fit(x3_train,y3_train)"
   ]
  },
  {
   "cell_type": "code",
   "execution_count": 53,
   "id": "b2fcfe9d-615e-43c9-bb43-1769d7eef133",
   "metadata": {},
   "outputs": [],
   "source": [
    "predcast=t.predict(x3_train)"
   ]
  },
  {
   "cell_type": "code",
   "execution_count": 54,
   "id": "eb49ad68-5d47-4fda-adf1-4b728ef404a9",
   "metadata": {},
   "outputs": [
    {
     "data": {
      "text/plain": [
       "-162.80484100299725"
      ]
     },
     "execution_count": 54,
     "metadata": {},
     "output_type": "execute_result"
    }
   ],
   "source": [
    "metrics.r2_score(predcast, y3_train)"
   ]
  },
  {
   "cell_type": "code",
   "execution_count": 55,
   "id": "6f30432c-3ef0-4db9-b6b9-64a2b8c26043",
   "metadata": {},
   "outputs": [],
   "source": [
    "# polynomial regression"
   ]
  },
  {
   "cell_type": "code",
   "execution_count": 56,
   "id": "9cb840a6-148c-4f5c-bf9b-74ece4a7365a",
   "metadata": {},
   "outputs": [
    {
     "data": {
      "text/html": [
       "<div>\n",
       "<style scoped>\n",
       "    .dataframe tbody tr th:only-of-type {\n",
       "        vertical-align: middle;\n",
       "    }\n",
       "\n",
       "    .dataframe tbody tr th {\n",
       "        vertical-align: top;\n",
       "    }\n",
       "\n",
       "    .dataframe thead th {\n",
       "        text-align: right;\n",
       "    }\n",
       "</style>\n",
       "<table border=\"1\" class=\"dataframe\">\n",
       "  <thead>\n",
       "    <tr style=\"text-align: right;\">\n",
       "      <th></th>\n",
       "      <th>Location</th>\n",
       "      <th>Social Category</th>\n",
       "      <th>PrimaryGirls</th>\n",
       "      <th>PrimaryBoys</th>\n",
       "      <th>PrimaryOverall</th>\n",
       "      <th>UpperGirls</th>\n",
       "      <th>UpperBoys</th>\n",
       "      <th>UpperOverall</th>\n",
       "      <th>SecondGirls</th>\n",
       "      <th>SecondBoys</th>\n",
       "      <th>SecondOverall</th>\n",
       "    </tr>\n",
       "  </thead>\n",
       "  <tbody>\n",
       "    <tr>\n",
       "      <th>0</th>\n",
       "      <td>AHMEDABAD</td>\n",
       "      <td>General</td>\n",
       "      <td>0.00</td>\n",
       "      <td>0.00</td>\n",
       "      <td>0.00</td>\n",
       "      <td>0.00</td>\n",
       "      <td>0.00</td>\n",
       "      <td>0.00</td>\n",
       "      <td>8.02</td>\n",
       "      <td>12.34</td>\n",
       "      <td>10.54</td>\n",
       "    </tr>\n",
       "    <tr>\n",
       "      <th>633</th>\n",
       "      <td>AHMEDABAD</td>\n",
       "      <td>OBC</td>\n",
       "      <td>18.12</td>\n",
       "      <td>18.26</td>\n",
       "      <td>18.19</td>\n",
       "      <td>26.75</td>\n",
       "      <td>19.81</td>\n",
       "      <td>22.98</td>\n",
       "      <td>35.95</td>\n",
       "      <td>39.83</td>\n",
       "      <td>38.35</td>\n",
       "    </tr>\n",
       "    <tr>\n",
       "      <th>632</th>\n",
       "      <td>AHMEDABAD</td>\n",
       "      <td>General</td>\n",
       "      <td>0.00</td>\n",
       "      <td>0.00</td>\n",
       "      <td>0.00</td>\n",
       "      <td>0.00</td>\n",
       "      <td>0.00</td>\n",
       "      <td>0.00</td>\n",
       "      <td>0.00</td>\n",
       "      <td>1.50</td>\n",
       "      <td>0.42</td>\n",
       "    </tr>\n",
       "    <tr>\n",
       "      <th>764</th>\n",
       "      <td>AHMEDABAD</td>\n",
       "      <td>General</td>\n",
       "      <td>9.23</td>\n",
       "      <td>12.54</td>\n",
       "      <td>11.02</td>\n",
       "      <td>12.00</td>\n",
       "      <td>12.73</td>\n",
       "      <td>12.40</td>\n",
       "      <td>12.77</td>\n",
       "      <td>21.93</td>\n",
       "      <td>18.05</td>\n",
       "    </tr>\n",
       "    <tr>\n",
       "      <th>765</th>\n",
       "      <td>AHMEDABAD</td>\n",
       "      <td>OBC</td>\n",
       "      <td>0.00</td>\n",
       "      <td>0.00</td>\n",
       "      <td>0.00</td>\n",
       "      <td>0.43</td>\n",
       "      <td>0.00</td>\n",
       "      <td>0.00</td>\n",
       "      <td>16.72</td>\n",
       "      <td>24.65</td>\n",
       "      <td>21.60</td>\n",
       "    </tr>\n",
       "  </tbody>\n",
       "</table>\n",
       "</div>"
      ],
      "text/plain": [
       "      Location Social Category  PrimaryGirls  PrimaryBoys  PrimaryOverall  \\\n",
       "0    AHMEDABAD         General          0.00         0.00            0.00   \n",
       "633  AHMEDABAD             OBC         18.12        18.26           18.19   \n",
       "632  AHMEDABAD         General          0.00         0.00            0.00   \n",
       "764  AHMEDABAD         General          9.23        12.54           11.02   \n",
       "765  AHMEDABAD             OBC          0.00         0.00            0.00   \n",
       "\n",
       "     UpperGirls  UpperBoys  UpperOverall  SecondGirls  SecondBoys  \\\n",
       "0          0.00       0.00          0.00         8.02       12.34   \n",
       "633       26.75      19.81         22.98        35.95       39.83   \n",
       "632        0.00       0.00          0.00         0.00        1.50   \n",
       "764       12.00      12.73         12.40        12.77       21.93   \n",
       "765        0.43       0.00          0.00        16.72       24.65   \n",
       "\n",
       "     SecondOverall  \n",
       "0            10.54  \n",
       "633          38.35  \n",
       "632           0.42  \n",
       "764          18.05  \n",
       "765          21.60  "
      ]
     },
     "execution_count": 56,
     "metadata": {},
     "output_type": "execute_result"
    }
   ],
   "source": [
    "df = pd.read_csv('Data.csv').sort_values('Location')\n",
    "df.head()"
   ]
  },
  {
   "cell_type": "code",
   "execution_count": 57,
   "id": "e3ca8a25-46d1-4b33-9a18-a374a3fec02f",
   "metadata": {},
   "outputs": [],
   "source": [
    "y = df[['PrimaryOverall',  'UpperOverall' , 'SecondOverall']]\n",
    "x = df[['PrimaryBoys' ,'PrimaryGirls' ,'UpperBoys' ,'UpperGirls','SecondBoys' , 'SecondGirls']]"
   ]
  },
  {
   "cell_type": "code",
   "execution_count": 58,
   "id": "363bcb2f-199b-4e75-85e2-8be7053ddabc",
   "metadata": {},
   "outputs": [],
   "source": [
    "x_train,x_test,y_train,y_test = train_test_split(x,y,random_state=12, test_size=0.25)"
   ]
  },
  {
   "cell_type": "code",
   "execution_count": 59,
   "id": "6a5da1cd-5bf4-463f-95bb-b695a4c06247",
   "metadata": {},
   "outputs": [],
   "source": [
    "from sklearn.preprocessing import PolynomialFeatures"
   ]
  },
  {
   "cell_type": "code",
   "execution_count": 60,
   "id": "d6b4aa44-7b01-406d-be2a-5bdc32e1cd83",
   "metadata": {},
   "outputs": [
    {
     "name": "stdout",
     "output_type": "stream",
     "text": [
      "0.9975564896645664     0.2310586705071315      0.9975938672878865\n"
     ]
    }
   ],
   "source": [
    "poly = PolynomialFeatures(degree=1)\n",
    "poly.fit(x_train)\n",
    "x_train_poly = poly.transform(x_train)\n",
    "x_test_poly = poly.transform(x_test)\n",
    "\n",
    "lr = LinearRegression()\n",
    "lr.fit(x_train_poly,y_train)\n",
    "\n",
    "prediction = lr.predict(x_test_poly)\n",
    "print(metrics.r2_score(prediction , y_test),\"   \",metrics.mean_absolute_error(prediction, y_test),\"    \", lr.score(x_test_poly , y_test))"
   ]
  },
  {
   "cell_type": "code",
   "execution_count": 61,
   "id": "9fc17bba-a219-46fe-87f1-97e86cb4a9e9",
   "metadata": {},
   "outputs": [],
   "source": [
    "pred = lr.predict([[ df['PrimaryBoys'].mean() , df['PrimaryGirls'].mean() , df['UpperBoys'].mean() , df['UpperGirls'].mean() , df['SecondBoys'].mean() , df['SecondGirls'].mean() , 1.12 ]])"
   ]
  },
  {
   "cell_type": "code",
   "execution_count": 62,
   "id": "0d87b1d0-19c6-4262-9ac5-757384b55062",
   "metadata": {},
   "outputs": [
    {
     "data": {
      "text/plain": [
       "array([[ 4.95564532, 15.75368072, 12.2275259 ]])"
      ]
     },
     "execution_count": 62,
     "metadata": {},
     "output_type": "execute_result"
    }
   ],
   "source": [
    "pred"
   ]
  },
  {
   "cell_type": "code",
   "execution_count": null,
   "id": "6db8bbf2-0e5f-4cf1-81f3-8da3aebd66e4",
   "metadata": {},
   "outputs": [],
   "source": []
  }
 ],
 "metadata": {
  "kernelspec": {
   "display_name": "Python 3 (ipykernel)",
   "language": "python",
   "name": "python3"
  },
  "language_info": {
   "codemirror_mode": {
    "name": "ipython",
    "version": 3
   },
   "file_extension": ".py",
   "mimetype": "text/x-python",
   "name": "python",
   "nbconvert_exporter": "python",
   "pygments_lexer": "ipython3",
   "version": "3.10.7"
  }
 },
 "nbformat": 4,
 "nbformat_minor": 5
}
