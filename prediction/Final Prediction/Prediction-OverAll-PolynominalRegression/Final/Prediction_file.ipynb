{
 "cells": [
  {
   "cell_type": "code",
   "execution_count": null,
   "metadata": {
    "id": "y-_OA_w7pzL3"
   },
   "outputs": [],
   "source": []
  },
  {
   "cell_type": "code",
   "execution_count": null,
   "metadata": {
    "colab": {
     "base_uri": "https://localhost:8080/"
    },
    "id": "bTdX9piFp5XD",
    "outputId": "3a3ef811-0540-42b3-de8e-29bd2a6cedca"
   },
   "outputs": [],
   "source": []
  },
  {
   "cell_type": "code",
   "execution_count": 1,
   "metadata": {
    "id": "SlWyEV_tp_dG"
   },
   "outputs": [],
   "source": [
    "import pandas as pd\n",
    "import numpy as np\n",
    "import matplotlib.pyplot as plt\n",
    "import seaborn as sns\n",
    "# liner regression model:\n",
    "from sklearn.model_selection import train_test_split\n",
    "from sklearn.linear_model import LinearRegression\n",
    "from sklearn import metrics\n",
    "# polynomial feture \n",
    "from sklearn.preprocessing import PolynomialFeatures"
   ]
  },
  {
   "cell_type": "code",
   "execution_count": 2,
   "metadata": {
    "id": "gUwm2U9yq49g"
   },
   "outputs": [],
   "source": [
    "maindata = pd.read_csv('Data.csv')"
   ]
  },
  {
   "cell_type": "code",
   "execution_count": 3,
   "metadata": {
    "colab": {
     "base_uri": "https://localhost:8080/",
     "height": 267
    },
    "id": "S357E1lKrOa_",
    "outputId": "42dea938-1005-46df-a758-e9dc7a4abccc"
   },
   "outputs": [
    {
     "data": {
      "text/html": [
       "<div>\n",
       "<style scoped>\n",
       "    .dataframe tbody tr th:only-of-type {\n",
       "        vertical-align: middle;\n",
       "    }\n",
       "\n",
       "    .dataframe tbody tr th {\n",
       "        vertical-align: top;\n",
       "    }\n",
       "\n",
       "    .dataframe thead th {\n",
       "        text-align: right;\n",
       "    }\n",
       "</style>\n",
       "<table border=\"1\" class=\"dataframe\">\n",
       "  <thead>\n",
       "    <tr style=\"text-align: right;\">\n",
       "      <th></th>\n",
       "      <th>Location</th>\n",
       "      <th>Social Category</th>\n",
       "      <th>PrimaryGirls</th>\n",
       "      <th>PrimaryBoys</th>\n",
       "      <th>PrimaryOverall</th>\n",
       "      <th>UpperGirls</th>\n",
       "      <th>UpperBoys</th>\n",
       "      <th>UpperOverall</th>\n",
       "      <th>SecondGirls</th>\n",
       "      <th>SecondBoys</th>\n",
       "      <th>SecondOverall</th>\n",
       "    </tr>\n",
       "  </thead>\n",
       "  <tbody>\n",
       "    <tr>\n",
       "      <th>0</th>\n",
       "      <td>AHMEDABAD</td>\n",
       "      <td>General</td>\n",
       "      <td>0.00</td>\n",
       "      <td>0.00</td>\n",
       "      <td>0.00</td>\n",
       "      <td>0.00</td>\n",
       "      <td>0.00</td>\n",
       "      <td>0.00</td>\n",
       "      <td>8.02</td>\n",
       "      <td>12.34</td>\n",
       "      <td>10.54</td>\n",
       "    </tr>\n",
       "    <tr>\n",
       "      <th>1</th>\n",
       "      <td>AHMEDABAD</td>\n",
       "      <td>OBC</td>\n",
       "      <td>0.64</td>\n",
       "      <td>1.10</td>\n",
       "      <td>0.89</td>\n",
       "      <td>9.37</td>\n",
       "      <td>4.14</td>\n",
       "      <td>6.46</td>\n",
       "      <td>18.43</td>\n",
       "      <td>23.13</td>\n",
       "      <td>21.40</td>\n",
       "    </tr>\n",
       "    <tr>\n",
       "      <th>2</th>\n",
       "      <td>AHMEDABAD</td>\n",
       "      <td>SC</td>\n",
       "      <td>0.00</td>\n",
       "      <td>0.00</td>\n",
       "      <td>0.00</td>\n",
       "      <td>0.00</td>\n",
       "      <td>4.13</td>\n",
       "      <td>1.26</td>\n",
       "      <td>0.00</td>\n",
       "      <td>10.65</td>\n",
       "      <td>6.08</td>\n",
       "    </tr>\n",
       "    <tr>\n",
       "      <th>3</th>\n",
       "      <td>AHMEDABAD</td>\n",
       "      <td>ST</td>\n",
       "      <td>5.92</td>\n",
       "      <td>5.72</td>\n",
       "      <td>5.81</td>\n",
       "      <td>9.68</td>\n",
       "      <td>13.69</td>\n",
       "      <td>12.07</td>\n",
       "      <td>24.31</td>\n",
       "      <td>10.94</td>\n",
       "      <td>16.57</td>\n",
       "    </tr>\n",
       "    <tr>\n",
       "      <th>4</th>\n",
       "      <td>AMRELI</td>\n",
       "      <td>General</td>\n",
       "      <td>0.87</td>\n",
       "      <td>0.00</td>\n",
       "      <td>0.00</td>\n",
       "      <td>0.00</td>\n",
       "      <td>0.00</td>\n",
       "      <td>0.00</td>\n",
       "      <td>1.56</td>\n",
       "      <td>11.80</td>\n",
       "      <td>6.97</td>\n",
       "    </tr>\n",
       "  </tbody>\n",
       "</table>\n",
       "</div>"
      ],
      "text/plain": [
       "    Location Social Category  PrimaryGirls  PrimaryBoys  PrimaryOverall  \\\n",
       "0  AHMEDABAD         General          0.00         0.00            0.00   \n",
       "1  AHMEDABAD             OBC          0.64         1.10            0.89   \n",
       "2  AHMEDABAD              SC          0.00         0.00            0.00   \n",
       "3  AHMEDABAD              ST          5.92         5.72            5.81   \n",
       "4     AMRELI         General          0.87         0.00            0.00   \n",
       "\n",
       "   UpperGirls  UpperBoys  UpperOverall  SecondGirls  SecondBoys  SecondOverall  \n",
       "0        0.00       0.00          0.00         8.02       12.34          10.54  \n",
       "1        9.37       4.14          6.46        18.43       23.13          21.40  \n",
       "2        0.00       4.13          1.26         0.00       10.65           6.08  \n",
       "3        9.68      13.69         12.07        24.31       10.94          16.57  \n",
       "4        0.00       0.00          0.00         1.56       11.80           6.97  "
      ]
     },
     "execution_count": 3,
     "metadata": {},
     "output_type": "execute_result"
    }
   ],
   "source": [
    "maindata.head()"
   ]
  },
  {
   "cell_type": "code",
   "execution_count": 4,
   "metadata": {
    "id": "oKeNTx94sJOr"
   },
   "outputs": [],
   "source": [
    "def School_And_Gender_wise_prediction():\n",
    "    print(\"All value with there %\".center(100,'='))\n",
    "    # primary data\n",
    "    print('Primary'.center(100,'-'))\n",
    "    # train and test model split :\n",
    "    x = maindata[['PrimaryOverall']]\n",
    "    y = maindata[['PrimaryBoys' , 'PrimaryGirls']]\n",
    "    x_train, x_test, y_train, y_test = train_test_split(x, y,random_state=12 ,test_size=0.25 )\n",
    "    \n",
    "    # liner regression model called\n",
    "    linermodel = LinearRegression()\n",
    "    linermodel.fit(x_train,y_train)\n",
    "    \n",
    "    # primary school Predication mean value of the all the data :->\n",
    "    x = linermodel.predict([[maindata['PrimaryOverall'].mean()]]).tolist()\n",
    "    print(\"boys : \",x[0][0] / (x[0][1] + x[0][0]))\n",
    "    print(\"Girls : \",x[0][1] / (x[0][1] + x[0][0]))\n",
    "    print(\"R2 Square \", metrics.r2_score(linermodel.predict(x_test) , y_test) )\n",
    "    print('MEA : ',metrics.mean_absolute_error(linermodel.predict(x_test) , y_test) , \"\\n\\n\")\n",
    "    \n",
    "    # upper Primary Data :\n",
    "    print('Upper Primary'.center(100,'-'))\n",
    "    x1 = maindata[['UpperOverall']]\n",
    "    y1 = maindata[['UpperBoys' , 'UpperGirls']]\n",
    "    x1_train, x1_test, y1_train, y1_test = train_test_split(x1,y1, random_state=4 , test_size=0.25 )\n",
    "    # fir the model \n",
    "    linermodel.fit(x1_train,y1_train)\n",
    "    # prediction for the data :\n",
    "    x11 = linermodel.predict([[maindata['UpperOverall'].mean()]]).tolist()\n",
    "    print(\"boys : \",x11[0][0] / (x11[0][1] + x11[0][0]))\n",
    "    print(\"Girls : \",x11[0][1] / (x11[0][1] + x11[0][0]))\n",
    "    print(\"R2 Square \", metrics.r2_score(linermodel.predict(x1_test) , y1_test) )\n",
    "    print('MEA : ',metrics.mean_absolute_error(linermodel.predict(x1_test) , y1_test) , \"\\n\\n\")\n",
    "    \n",
    "    # secondary data : \n",
    "    print('Secondary'.center(100,'-'))\n",
    "    x2 = maindata[['SecondOverall']]\n",
    "    y2 = maindata[['SecondBoys' , 'SecondGirls']]\n",
    "    x2_train, x2_test, y2_train, y2_test = train_test_split(x2,y2, random_state=12 , test_size=0.25 )\n",
    "    # fir the model \n",
    "    linermodel.fit(x2_train,y2_train)\n",
    "    # prediction for the data :\n",
    "    x22 = linermodel.predict([[maindata['UpperOverall'].mean()]]).tolist()\n",
    "    print(\"boys : \",x22[0][0] / (x22[0][1] + x22[0][0]))\n",
    "    print(\"Girls : \",x22[0][1] / (x22[0][1] + x22[0][0]) )\n",
    "    print(\"R2 Square \", metrics.r2_score(linermodel.predict(x2_test) , y2_test) )\n",
    "    print('MEA : ',metrics.mean_absolute_error(linermodel.predict(x2_test) , y2_test),\"\\n\\n\" )\n",
    "    print('School Category'.center(100 , '-'))\n",
    "    te = (x[0][1] + x[0][0] + x11[0][1] + x11[0][0] + x22[0][1] + x22[0][0] ) \n",
    "    print(\"Primary OverALL : \",(x[0][1] + x[0][0]) / te)\n",
    "    #upper\n",
    "    print(\"Upper OverALL : \",(x11[0][1] + x11[0][0]) / te)     \n",
    "    # second\n",
    "    print(\"Second OverALL : \", (x22[0][1] + x22[0][0] ) /  te , \"\\n\\n\")\n",
    "    print(\"Wornings\")"
   ]
  },
  {
   "cell_type": "code",
   "execution_count": 5,
   "metadata": {
    "id": "NUN4oUSFd9Qw"
   },
   "outputs": [],
   "source": [
    "# implement the Polynomial regression :"
   ]
  },
  {
   "cell_type": "code",
   "execution_count": 6,
   "metadata": {
    "colab": {
     "base_uri": "https://localhost:8080/"
    },
    "id": "WyPbuyV-eEPV",
    "outputId": "3692a522-cae4-437c-ba9f-fc990a4acf1d"
   },
   "outputs": [
    {
     "name": "stdout",
     "output_type": "stream",
     "text": [
      "=======================================All value with there %=======================================\n",
      "----------------------------------------------Primary-----------------------------------------------\n",
      "boys :  0.49272690851899126\n",
      "Girls :  0.5072730914810089\n",
      "R2 Square  0.9542536594044685\n",
      "MEA :  0.696091929884425 \n",
      "\n",
      "\n",
      "-------------------------------------------Upper Primary--------------------------------------------\n",
      "boys :  0.42561732399579805\n",
      "Girls :  0.5743826760042019\n",
      "R2 Square  0.956312661237577\n",
      "MEA :  1.45316639026304 \n",
      "\n",
      "\n",
      "---------------------------------------------Secondary----------------------------------------------\n",
      "boys :  0.6126614497732403\n",
      "Girls :  0.38733855022675967\n",
      "R2 Square  0.9014130917910546\n",
      "MEA :  2.5302372609141512 \n",
      "\n",
      "\n",
      "------------------------------------------School Category-------------------------------------------\n",
      "Primary OverALL :  0.20235731214213307\n",
      "Upper OverALL :  0.40225795107336726\n",
      "Second OverALL :  0.3953847367844997 \n",
      "\n",
      "\n",
      "Wornings\n"
     ]
    },
    {
     "name": "stderr",
     "output_type": "stream",
     "text": [
      "C:\\Users\\malan\\AppData\\Local\\Programs\\Python\\Python310\\lib\\site-packages\\sklearn\\base.py:450: UserWarning: X does not have valid feature names, but LinearRegression was fitted with feature names\n",
      "  warnings.warn(\n",
      "C:\\Users\\malan\\AppData\\Local\\Programs\\Python\\Python310\\lib\\site-packages\\sklearn\\base.py:450: UserWarning: X does not have valid feature names, but LinearRegression was fitted with feature names\n",
      "  warnings.warn(\n",
      "C:\\Users\\malan\\AppData\\Local\\Programs\\Python\\Python310\\lib\\site-packages\\sklearn\\base.py:450: UserWarning: X does not have valid feature names, but LinearRegression was fitted with feature names\n",
      "  warnings.warn(\n"
     ]
    }
   ],
   "source": [
    "School_And_Gender_wise_prediction()"
   ]
  },
  {
   "cell_type": "code",
   "execution_count": 7,
   "metadata": {
    "id": "LQS3E3MdOnnt"
   },
   "outputs": [],
   "source": [
    "# polynomial regression"
   ]
  },
  {
   "cell_type": "code",
   "execution_count": 8,
   "metadata": {
    "colab": {
     "base_uri": "https://localhost:8080/",
     "height": 485
    },
    "id": "7t0zMr_sOuA1",
    "outputId": "f5b516e9-6884-4040-e854-c2439513fed7"
   },
   "outputs": [
    {
     "data": {
      "text/html": [
       "<div>\n",
       "<style scoped>\n",
       "    .dataframe tbody tr th:only-of-type {\n",
       "        vertical-align: middle;\n",
       "    }\n",
       "\n",
       "    .dataframe tbody tr th {\n",
       "        vertical-align: top;\n",
       "    }\n",
       "\n",
       "    .dataframe thead th {\n",
       "        text-align: right;\n",
       "    }\n",
       "</style>\n",
       "<table border=\"1\" class=\"dataframe\">\n",
       "  <thead>\n",
       "    <tr style=\"text-align: right;\">\n",
       "      <th></th>\n",
       "      <th>Location</th>\n",
       "      <th>Social Category</th>\n",
       "      <th>PrimaryGirls</th>\n",
       "      <th>PrimaryBoys</th>\n",
       "      <th>PrimaryOverall</th>\n",
       "      <th>UpperGirls</th>\n",
       "      <th>UpperBoys</th>\n",
       "      <th>UpperOverall</th>\n",
       "      <th>SecondGirls</th>\n",
       "      <th>SecondBoys</th>\n",
       "      <th>SecondOverall</th>\n",
       "    </tr>\n",
       "  </thead>\n",
       "  <tbody>\n",
       "    <tr>\n",
       "      <th>0</th>\n",
       "      <td>AHMEDABAD</td>\n",
       "      <td>General</td>\n",
       "      <td>0.00</td>\n",
       "      <td>0.00</td>\n",
       "      <td>0.00</td>\n",
       "      <td>0.00</td>\n",
       "      <td>0.00</td>\n",
       "      <td>0.00</td>\n",
       "      <td>8.02</td>\n",
       "      <td>12.34</td>\n",
       "      <td>10.54</td>\n",
       "    </tr>\n",
       "    <tr>\n",
       "      <th>633</th>\n",
       "      <td>AHMEDABAD</td>\n",
       "      <td>OBC</td>\n",
       "      <td>18.12</td>\n",
       "      <td>18.26</td>\n",
       "      <td>18.19</td>\n",
       "      <td>26.75</td>\n",
       "      <td>19.81</td>\n",
       "      <td>22.98</td>\n",
       "      <td>35.95</td>\n",
       "      <td>39.83</td>\n",
       "      <td>38.35</td>\n",
       "    </tr>\n",
       "  </tbody>\n",
       "</table>\n",
       "</div>"
      ],
      "text/plain": [
       "      Location Social Category  PrimaryGirls  PrimaryBoys  PrimaryOverall  \\\n",
       "0    AHMEDABAD         General          0.00         0.00            0.00   \n",
       "633  AHMEDABAD             OBC         18.12        18.26           18.19   \n",
       "\n",
       "     UpperGirls  UpperBoys  UpperOverall  SecondGirls  SecondBoys  \\\n",
       "0          0.00       0.00          0.00         8.02       12.34   \n",
       "633       26.75      19.81         22.98        35.95       39.83   \n",
       "\n",
       "     SecondOverall  \n",
       "0            10.54  \n",
       "633          38.35  "
      ]
     },
     "execution_count": 8,
     "metadata": {},
     "output_type": "execute_result"
    }
   ],
   "source": [
    "df = maindata.sort_values('Location')\n",
    "df.head(2)"
   ]
  },
  {
   "cell_type": "markdown",
   "metadata": {},
   "source": [
    "# School Category :"
   ]
  },
  {
   "cell_type": "code",
   "execution_count": 9,
   "metadata": {
    "id": "P_uMvvqfPO4t"
   },
   "outputs": [],
   "source": [
    "y = df[['PrimaryOverall',  'UpperOverall' , 'SecondOverall']]\n",
    "x = df[['PrimaryBoys' ,'PrimaryGirls' ,'UpperBoys' ,'UpperGirls','SecondBoys' , 'SecondGirls']]"
   ]
  },
  {
   "cell_type": "code",
   "execution_count": 10,
   "metadata": {
    "id": "X9lR4VSRPbYE"
   },
   "outputs": [],
   "source": [
    "x_train,x_test,y_train,y_test = train_test_split(x,y,random_state=12, test_size=0.25)"
   ]
  },
  {
   "cell_type": "code",
   "execution_count": 11,
   "metadata": {
    "colab": {
     "base_uri": "https://localhost:8080/"
    },
    "id": "hAvnUMxCPeBf",
    "outputId": "f8e7aa94-1bcf-4e04-cb37-29d1285ea535"
   },
   "outputs": [
    {
     "name": "stdout",
     "output_type": "stream",
     "text": [
      "R2_error :  0.9975564896645664\n",
      "MEA :  0.2310586705071315\n",
      "Liner Regression Score 0.9975938672878865\n"
     ]
    }
   ],
   "source": [
    "#print(\"degree------R2-----------------MAe-----------------------lr\")\n",
    "#for i in range(0,11):\n",
    "poly = PolynomialFeatures(degree=1)\n",
    "poly.fit(x_train)\n",
    "x_train_poly = poly.transform(x_train)\n",
    "x_test_poly = poly.transform(x_test)\n",
    "\n",
    "lr = LinearRegression()\n",
    "lr.fit(x_train_poly,y_train)\n",
    "\n",
    "prediction = lr.predict(x_test_poly)\n",
    "print(\"R2_error : \", metrics.r2_score(prediction , y_test))\n",
    "print(\"MEA : \",metrics.mean_absolute_error(prediction, y_test))\n",
    "print(\"Liner Regression Score\", lr.score(x_test_poly , y_test))"
   ]
  },
  {
   "cell_type": "code",
   "execution_count": 12,
   "metadata": {
    "id": "ODm8a6ENPfwp"
   },
   "outputs": [],
   "source": [
    "temp = lr.predict([[df['PrimaryBoys'].mean() ,df['PrimaryGirls'].mean() , df['UpperBoys'].mean(), df['UpperGirls'].mean() , df['SecondBoys'].mean() , df['SecondGirls'].mean() , 1  ]]).tolist()"
   ]
  },
  {
   "cell_type": "code",
   "execution_count": 13,
   "metadata": {},
   "outputs": [
    {
     "name": "stdout",
     "output_type": "stream",
     "text": [
      "-----------------------------------Using Polynomial Regression : -----------------------------------\n",
      "-------------------------------Prediction Of the School Category is :-------------------------------\n",
      "Primary :  0.15068544837265652\n",
      "Upper :  0.4790429157550515\n",
      "Second :  0.370271635872292\n"
     ]
    }
   ],
   "source": [
    "print(\"Using Polynomial Regression : \".center(100 , '-'))\n",
    "print(\"Prediction Of the School Category is :\".center(100 , '-'))\n",
    "print('Primary : ' , temp[0][0]/sum(temp[0]) )\n",
    "print('Upper : ', temp[0][1] / sum(temp[0]))\n",
    "print('Second : ' ,temp[0][2] / sum(temp[0]))"
   ]
  },
  {
   "cell_type": "code",
   "execution_count": null,
   "metadata": {},
   "outputs": [],
   "source": []
  },
  {
   "cell_type": "code",
   "execution_count": null,
   "metadata": {},
   "outputs": [],
   "source": []
  },
  {
   "cell_type": "code",
   "execution_count": null,
   "metadata": {},
   "outputs": [],
   "source": []
  },
  {
   "cell_type": "code",
   "execution_count": null,
   "metadata": {},
   "outputs": [],
   "source": []
  },
  {
   "cell_type": "code",
   "execution_count": null,
   "metadata": {},
   "outputs": [],
   "source": []
  },
  {
   "cell_type": "code",
   "execution_count": null,
   "metadata": {},
   "outputs": [],
   "source": []
  },
  {
   "cell_type": "code",
   "execution_count": null,
   "metadata": {},
   "outputs": [],
   "source": []
  },
  {
   "cell_type": "code",
   "execution_count": null,
   "metadata": {},
   "outputs": [],
   "source": []
  },
  {
   "cell_type": "code",
   "execution_count": null,
   "metadata": {},
   "outputs": [],
   "source": []
  },
  {
   "cell_type": "code",
   "execution_count": null,
   "metadata": {},
   "outputs": [],
   "source": []
  }
 ],
 "metadata": {
  "accelerator": "GPU",
  "colab": {
   "provenance": []
  },
  "gpuClass": "standard",
  "kernelspec": {
   "display_name": "Python 3 (ipykernel)",
   "language": "python",
   "name": "python3"
  },
  "language_info": {
   "codemirror_mode": {
    "name": "ipython",
    "version": 3
   },
   "file_extension": ".py",
   "mimetype": "text/x-python",
   "name": "python",
   "nbconvert_exporter": "python",
   "pygments_lexer": "ipython3",
   "version": "3.10.7"
  }
 },
 "nbformat": 4,
 "nbformat_minor": 4
}
