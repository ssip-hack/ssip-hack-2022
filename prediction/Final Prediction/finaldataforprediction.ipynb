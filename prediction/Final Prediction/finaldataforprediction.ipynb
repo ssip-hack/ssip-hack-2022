{
 "cells": [
  {
   "cell_type": "code",
   "execution_count": 1,
   "id": "d17b6cf4-23e4-462f-a568-1473c8d36296",
   "metadata": {},
   "outputs": [],
   "source": [
    "import pandas as pd \n",
    "import numpy as np\n",
    "from sklearn.model_selection import train_test_split\n",
    "from sklearn.linear_model import LinearRegression\n",
    "from sklearn.preprocessing import PolynomialFeatures\n",
    "from sklearn import metrics"
   ]
  },
  {
   "cell_type": "code",
   "execution_count": 2,
   "id": "b4c73a24-e4ea-4a5e-b0fb-25dd9c0d2aeb",
   "metadata": {},
   "outputs": [],
   "source": [
    "df = pd.read_csv('Data.csv')"
   ]
  },
  {
   "cell_type": "code",
   "execution_count": 3,
   "id": "68f392b6-b7ff-4798-b99a-f20b792a0d96",
   "metadata": {},
   "outputs": [
    {
     "data": {
      "text/plain": [
       "Index(['Location', 'Social Category', 'PrimaryGirls', 'PrimaryBoys',\n",
       "       'PrimaryOverall', 'UpperGirls', 'UpperBoys', 'UpperOverall',\n",
       "       'SecondGirls', 'SecondBoys', 'SecondOverall'],\n",
       "      dtype='object')"
      ]
     },
     "execution_count": 3,
     "metadata": {},
     "output_type": "execute_result"
    }
   ],
   "source": [
    "df.columns"
   ]
  },
  {
   "cell_type": "code",
   "execution_count": 4,
   "id": "d02ec304-ff07-4f03-b9cb-ce76156fc73f",
   "metadata": {},
   "outputs": [
    {
     "data": {
      "text/plain": [
       "(1160, 11)"
      ]
     },
     "execution_count": 4,
     "metadata": {},
     "output_type": "execute_result"
    }
   ],
   "source": [
    "df.shape"
   ]
  },
  {
   "cell_type": "code",
   "execution_count": 5,
   "id": "b243fbea-5f92-43e6-9076-ea7afbd7f307",
   "metadata": {},
   "outputs": [],
   "source": [
    "df = df.sort_values('Location')"
   ]
  },
  {
   "cell_type": "code",
   "execution_count": 6,
   "id": "dbcdb736-ab8b-4be7-9af0-bb833aeefa8d",
   "metadata": {},
   "outputs": [
    {
     "data": {
      "text/html": [
       "<div>\n",
       "<style scoped>\n",
       "    .dataframe tbody tr th:only-of-type {\n",
       "        vertical-align: middle;\n",
       "    }\n",
       "\n",
       "    .dataframe tbody tr th {\n",
       "        vertical-align: top;\n",
       "    }\n",
       "\n",
       "    .dataframe thead th {\n",
       "        text-align: right;\n",
       "    }\n",
       "</style>\n",
       "<table border=\"1\" class=\"dataframe\">\n",
       "  <thead>\n",
       "    <tr style=\"text-align: right;\">\n",
       "      <th></th>\n",
       "      <th>Location</th>\n",
       "      <th>Social Category</th>\n",
       "      <th>PrimaryGirls</th>\n",
       "      <th>PrimaryBoys</th>\n",
       "      <th>PrimaryOverall</th>\n",
       "      <th>UpperGirls</th>\n",
       "      <th>UpperBoys</th>\n",
       "      <th>UpperOverall</th>\n",
       "      <th>SecondGirls</th>\n",
       "      <th>SecondBoys</th>\n",
       "      <th>SecondOverall</th>\n",
       "    </tr>\n",
       "  </thead>\n",
       "  <tbody>\n",
       "    <tr>\n",
       "      <th>0</th>\n",
       "      <td>AHMEDABAD</td>\n",
       "      <td>General</td>\n",
       "      <td>0.00</td>\n",
       "      <td>0.00</td>\n",
       "      <td>0.00</td>\n",
       "      <td>0.00</td>\n",
       "      <td>0.00</td>\n",
       "      <td>0.00</td>\n",
       "      <td>8.02</td>\n",
       "      <td>12.34</td>\n",
       "      <td>10.54</td>\n",
       "    </tr>\n",
       "    <tr>\n",
       "      <th>633</th>\n",
       "      <td>AHMEDABAD</td>\n",
       "      <td>OBC</td>\n",
       "      <td>18.12</td>\n",
       "      <td>18.26</td>\n",
       "      <td>18.19</td>\n",
       "      <td>26.75</td>\n",
       "      <td>19.81</td>\n",
       "      <td>22.98</td>\n",
       "      <td>35.95</td>\n",
       "      <td>39.83</td>\n",
       "      <td>38.35</td>\n",
       "    </tr>\n",
       "    <tr>\n",
       "      <th>632</th>\n",
       "      <td>AHMEDABAD</td>\n",
       "      <td>General</td>\n",
       "      <td>0.00</td>\n",
       "      <td>0.00</td>\n",
       "      <td>0.00</td>\n",
       "      <td>0.00</td>\n",
       "      <td>0.00</td>\n",
       "      <td>0.00</td>\n",
       "      <td>0.00</td>\n",
       "      <td>1.50</td>\n",
       "      <td>0.42</td>\n",
       "    </tr>\n",
       "    <tr>\n",
       "      <th>764</th>\n",
       "      <td>AHMEDABAD</td>\n",
       "      <td>General</td>\n",
       "      <td>9.23</td>\n",
       "      <td>12.54</td>\n",
       "      <td>11.02</td>\n",
       "      <td>12.00</td>\n",
       "      <td>12.73</td>\n",
       "      <td>12.40</td>\n",
       "      <td>12.77</td>\n",
       "      <td>21.93</td>\n",
       "      <td>18.05</td>\n",
       "    </tr>\n",
       "    <tr>\n",
       "      <th>765</th>\n",
       "      <td>AHMEDABAD</td>\n",
       "      <td>OBC</td>\n",
       "      <td>0.00</td>\n",
       "      <td>0.00</td>\n",
       "      <td>0.00</td>\n",
       "      <td>0.43</td>\n",
       "      <td>0.00</td>\n",
       "      <td>0.00</td>\n",
       "      <td>16.72</td>\n",
       "      <td>24.65</td>\n",
       "      <td>21.60</td>\n",
       "    </tr>\n",
       "  </tbody>\n",
       "</table>\n",
       "</div>"
      ],
      "text/plain": [
       "      Location Social Category  PrimaryGirls  PrimaryBoys  PrimaryOverall  \\\n",
       "0    AHMEDABAD         General          0.00         0.00            0.00   \n",
       "633  AHMEDABAD             OBC         18.12        18.26           18.19   \n",
       "632  AHMEDABAD         General          0.00         0.00            0.00   \n",
       "764  AHMEDABAD         General          9.23        12.54           11.02   \n",
       "765  AHMEDABAD             OBC          0.00         0.00            0.00   \n",
       "\n",
       "     UpperGirls  UpperBoys  UpperOverall  SecondGirls  SecondBoys  \\\n",
       "0          0.00       0.00          0.00         8.02       12.34   \n",
       "633       26.75      19.81         22.98        35.95       39.83   \n",
       "632        0.00       0.00          0.00         0.00        1.50   \n",
       "764       12.00      12.73         12.40        12.77       21.93   \n",
       "765        0.43       0.00          0.00        16.72       24.65   \n",
       "\n",
       "     SecondOverall  \n",
       "0            10.54  \n",
       "633          38.35  \n",
       "632           0.42  \n",
       "764          18.05  \n",
       "765          21.60  "
      ]
     },
     "execution_count": 6,
     "metadata": {},
     "output_type": "execute_result"
    }
   ],
   "source": [
    "df.head()"
   ]
  },
  {
   "cell_type": "code",
   "execution_count": 7,
   "id": "2ee8d7b4-31e7-4484-a245-8d66b0c42795",
   "metadata": {},
   "outputs": [],
   "source": [
    "temp_gender = df[[ 'Location' ,'PrimaryBoys' , 'PrimaryGirls' , 'UpperBoys', 'UpperGirls' ,'SecondBoys' ,'SecondGirls' ,'PrimaryOverall' , 'UpperOverall','SecondOverall']]  "
   ]
  },
  {
   "cell_type": "code",
   "execution_count": 8,
   "id": "bec2feeb-e096-4b18-b39d-57d11cd51a9d",
   "metadata": {},
   "outputs": [],
   "source": [
    "tempboy = temp_gender['PrimaryBoys'] + temp_gender['UpperBoys'] + temp_gender['SecondBoys']\n",
    "tempgirl = temp_gender['PrimaryGirls'] + temp_gender['UpperGirls'] + temp_gender['SecondGirls']\n",
    "tempoverall = temp_gender['PrimaryOverall'] + temp_gender['UpperOverall'] + temp_gender['SecondOverall']"
   ]
  },
  {
   "cell_type": "code",
   "execution_count": 9,
   "id": "fbe3f37f-e83f-49d0-8d4b-78ddddc37b48",
   "metadata": {},
   "outputs": [],
   "source": [
    "final_gender = pd.DataFrame(zip(tempboy,tempgirl,tempoverall) , columns=['boys' ,'girls' , 'overall'])"
   ]
  },
  {
   "cell_type": "code",
   "execution_count": 10,
   "id": "b312e44f-6f03-44ca-a790-5dbc16115d99",
   "metadata": {},
   "outputs": [
    {
     "data": {
      "text/html": [
       "<div>\n",
       "<style scoped>\n",
       "    .dataframe tbody tr th:only-of-type {\n",
       "        vertical-align: middle;\n",
       "    }\n",
       "\n",
       "    .dataframe tbody tr th {\n",
       "        vertical-align: top;\n",
       "    }\n",
       "\n",
       "    .dataframe thead th {\n",
       "        text-align: right;\n",
       "    }\n",
       "</style>\n",
       "<table border=\"1\" class=\"dataframe\">\n",
       "  <thead>\n",
       "    <tr style=\"text-align: right;\">\n",
       "      <th></th>\n",
       "      <th>boys</th>\n",
       "      <th>girls</th>\n",
       "      <th>overall</th>\n",
       "    </tr>\n",
       "  </thead>\n",
       "  <tbody>\n",
       "    <tr>\n",
       "      <th>0</th>\n",
       "      <td>12.34</td>\n",
       "      <td>8.02</td>\n",
       "      <td>10.54</td>\n",
       "    </tr>\n",
       "  </tbody>\n",
       "</table>\n",
       "</div>"
      ],
      "text/plain": [
       "    boys  girls  overall\n",
       "0  12.34   8.02    10.54"
      ]
     },
     "execution_count": 10,
     "metadata": {},
     "output_type": "execute_result"
    }
   ],
   "source": [
    "final_gender.head(1)"
   ]
  },
  {
   "cell_type": "code",
   "execution_count": 11,
   "id": "c8bbb552-4b22-44b3-bb81-d79dd57d2ff1",
   "metadata": {},
   "outputs": [],
   "source": [
    "y = final_gender[['boys' , 'girls']]\n",
    "x = final_gender[['overall']]"
   ]
  },
  {
   "cell_type": "code",
   "execution_count": 12,
   "id": "b412abea-64cc-442f-ab56-8d95849426fe",
   "metadata": {},
   "outputs": [],
   "source": [
    "x_train,x_test,y_train,y_test = train_test_split(x,y,random_state=12, test_size=0.25)"
   ]
  },
  {
   "cell_type": "code",
   "execution_count": 13,
   "id": "e21f1c11-1316-44fe-b4a4-d2bac4f8db51",
   "metadata": {},
   "outputs": [
    {
     "data": {
      "text/html": [
       "<style>#sk-container-id-1 {color: black;background-color: white;}#sk-container-id-1 pre{padding: 0;}#sk-container-id-1 div.sk-toggleable {background-color: white;}#sk-container-id-1 label.sk-toggleable__label {cursor: pointer;display: block;width: 100%;margin-bottom: 0;padding: 0.3em;box-sizing: border-box;text-align: center;}#sk-container-id-1 label.sk-toggleable__label-arrow:before {content: \"▸\";float: left;margin-right: 0.25em;color: #696969;}#sk-container-id-1 label.sk-toggleable__label-arrow:hover:before {color: black;}#sk-container-id-1 div.sk-estimator:hover label.sk-toggleable__label-arrow:before {color: black;}#sk-container-id-1 div.sk-toggleable__content {max-height: 0;max-width: 0;overflow: hidden;text-align: left;background-color: #f0f8ff;}#sk-container-id-1 div.sk-toggleable__content pre {margin: 0.2em;color: black;border-radius: 0.25em;background-color: #f0f8ff;}#sk-container-id-1 input.sk-toggleable__control:checked~div.sk-toggleable__content {max-height: 200px;max-width: 100%;overflow: auto;}#sk-container-id-1 input.sk-toggleable__control:checked~label.sk-toggleable__label-arrow:before {content: \"▾\";}#sk-container-id-1 div.sk-estimator input.sk-toggleable__control:checked~label.sk-toggleable__label {background-color: #d4ebff;}#sk-container-id-1 div.sk-label input.sk-toggleable__control:checked~label.sk-toggleable__label {background-color: #d4ebff;}#sk-container-id-1 input.sk-hidden--visually {border: 0;clip: rect(1px 1px 1px 1px);clip: rect(1px, 1px, 1px, 1px);height: 1px;margin: -1px;overflow: hidden;padding: 0;position: absolute;width: 1px;}#sk-container-id-1 div.sk-estimator {font-family: monospace;background-color: #f0f8ff;border: 1px dotted black;border-radius: 0.25em;box-sizing: border-box;margin-bottom: 0.5em;}#sk-container-id-1 div.sk-estimator:hover {background-color: #d4ebff;}#sk-container-id-1 div.sk-parallel-item::after {content: \"\";width: 100%;border-bottom: 1px solid gray;flex-grow: 1;}#sk-container-id-1 div.sk-label:hover label.sk-toggleable__label {background-color: #d4ebff;}#sk-container-id-1 div.sk-serial::before {content: \"\";position: absolute;border-left: 1px solid gray;box-sizing: border-box;top: 0;bottom: 0;left: 50%;z-index: 0;}#sk-container-id-1 div.sk-serial {display: flex;flex-direction: column;align-items: center;background-color: white;padding-right: 0.2em;padding-left: 0.2em;position: relative;}#sk-container-id-1 div.sk-item {position: relative;z-index: 1;}#sk-container-id-1 div.sk-parallel {display: flex;align-items: stretch;justify-content: center;background-color: white;position: relative;}#sk-container-id-1 div.sk-item::before, #sk-container-id-1 div.sk-parallel-item::before {content: \"\";position: absolute;border-left: 1px solid gray;box-sizing: border-box;top: 0;bottom: 0;left: 50%;z-index: -1;}#sk-container-id-1 div.sk-parallel-item {display: flex;flex-direction: column;z-index: 1;position: relative;background-color: white;}#sk-container-id-1 div.sk-parallel-item:first-child::after {align-self: flex-end;width: 50%;}#sk-container-id-1 div.sk-parallel-item:last-child::after {align-self: flex-start;width: 50%;}#sk-container-id-1 div.sk-parallel-item:only-child::after {width: 0;}#sk-container-id-1 div.sk-dashed-wrapped {border: 1px dashed gray;margin: 0 0.4em 0.5em 0.4em;box-sizing: border-box;padding-bottom: 0.4em;background-color: white;}#sk-container-id-1 div.sk-label label {font-family: monospace;font-weight: bold;display: inline-block;line-height: 1.2em;}#sk-container-id-1 div.sk-label-container {text-align: center;}#sk-container-id-1 div.sk-container {/* jupyter's `normalize.less` sets `[hidden] { display: none; }` but bootstrap.min.css set `[hidden] { display: none !important; }` so we also need the `!important` here to be able to override the default hidden behavior on the sphinx rendered scikit-learn.org. See: https://github.com/scikit-learn/scikit-learn/issues/21755 */display: inline-block !important;position: relative;}#sk-container-id-1 div.sk-text-repr-fallback {display: none;}</style><div id=\"sk-container-id-1\" class=\"sk-top-container\"><div class=\"sk-text-repr-fallback\"><pre>LinearRegression()</pre><b>In a Jupyter environment, please rerun this cell to show the HTML representation or trust the notebook. <br />On GitHub, the HTML representation is unable to render, please try loading this page with nbviewer.org.</b></div><div class=\"sk-container\" hidden><div class=\"sk-item\"><div class=\"sk-estimator sk-toggleable\"><input class=\"sk-toggleable__control sk-hidden--visually\" id=\"sk-estimator-id-1\" type=\"checkbox\" checked><label for=\"sk-estimator-id-1\" class=\"sk-toggleable__label sk-toggleable__label-arrow\">LinearRegression</label><div class=\"sk-toggleable__content\"><pre>LinearRegression()</pre></div></div></div></div></div>"
      ],
      "text/plain": [
       "LinearRegression()"
      ]
     },
     "execution_count": 13,
     "metadata": {},
     "output_type": "execute_result"
    }
   ],
   "source": [
    "# Object of the Polynomial regression\n",
    "poly = PolynomialFeatures(degree=1)\n",
    "poly.fit(x_train)\n",
    "x_train_poly = poly.transform(x_train)\n",
    "x_test_Poly = poly.transform(x_test)\n",
    "\n",
    "lr = LinearRegression()\n",
    "lr.fit(x_train_poly ,y_train)"
   ]
  },
  {
   "cell_type": "code",
   "execution_count": 14,
   "id": "51ec28db-de6e-479b-8c10-0820b187760e",
   "metadata": {},
   "outputs": [],
   "source": [
    "prediction = lr.predict(x_test_Poly)"
   ]
  },
  {
   "cell_type": "code",
   "execution_count": 15,
   "id": "3b2a831e-c63f-4dc9-8b2a-fc996fffeaac",
   "metadata": {},
   "outputs": [
    {
     "data": {
      "text/plain": [
       "array([12.26739254,  9.67828558])"
      ]
     },
     "execution_count": 15,
     "metadata": {},
     "output_type": "execute_result"
    }
   ],
   "source": [
    "prediction[0]"
   ]
  },
  {
   "cell_type": "code",
   "execution_count": 16,
   "id": "fb716ca1-249a-49e0-847c-873b3796a089",
   "metadata": {},
   "outputs": [],
   "source": [
    "# value of the next year "
   ]
  },
  {
   "cell_type": "code",
   "execution_count": 17,
   "id": "3a8086c3-54bf-4748-bffd-03d0301d8575",
   "metadata": {},
   "outputs": [],
   "source": [
    "prediction = lr.predict([[final_gender['boys'].mean() , final_gender['girls'].mean() ]]).tolist()"
   ]
  },
  {
   "cell_type": "code",
   "execution_count": 18,
   "id": "20c52a73-8032-478c-b895-c5554139cb43",
   "metadata": {},
   "outputs": [],
   "source": [
    "gender = {'male' : prediction[0][0] / sum(prediction[0]) * 100,\n",
    "          'female' : prediction[0][1] / sum(prediction[0]) * 100 }"
   ]
  },
  {
   "cell_type": "markdown",
   "id": "73a2c91d-b5e3-48a2-9c41-c7955bdb4d1d",
   "metadata": {},
   "source": [
    "# For the School Category Wise Prediction"
   ]
  },
  {
   "cell_type": "code",
   "execution_count": 19,
   "id": "16ef6b61-1146-4a7e-be8c-cc63123f5725",
   "metadata": {},
   "outputs": [],
   "source": [
    "# sort the data"
   ]
  },
  {
   "cell_type": "code",
   "execution_count": 20,
   "id": "830c8241-f43d-424b-a04c-832311c8812e",
   "metadata": {},
   "outputs": [],
   "source": [
    "y = df[['PrimaryOverall',  'UpperOverall' , 'SecondOverall']]\n",
    "x = df[['PrimaryBoys' ,'PrimaryGirls' ,'UpperBoys' ,'UpperGirls','SecondBoys' , 'SecondGirls']]"
   ]
  },
  {
   "cell_type": "code",
   "execution_count": 21,
   "id": "b857c542-4ccc-420f-a2df-aeacd20ccf92",
   "metadata": {},
   "outputs": [],
   "source": [
    "x_train,x_test,y_train,y_test = train_test_split(x,y,random_state=12, test_size=0.25)"
   ]
  },
  {
   "cell_type": "code",
   "execution_count": 22,
   "id": "eadc3d1c-3234-4c12-9f67-df46e2febf97",
   "metadata": {},
   "outputs": [
    {
     "name": "stdout",
     "output_type": "stream",
     "text": [
      "R2_error :  0.9975564896645664\n",
      "MEA :  0.2310586705071315\n",
      "Liner Regression Score 0.9975938672878865\n"
     ]
    }
   ],
   "source": [
    "poly = PolynomialFeatures(degree=1)\n",
    "poly.fit(x_train)\n",
    "x_train_poly = poly.transform(x_train)\n",
    "x_test_poly = poly.transform(x_test)\n",
    "\n",
    "lr = LinearRegression()\n",
    "lr.fit(x_train_poly,y_train)\n",
    "\n",
    "prediction = lr.predict(x_test_poly)\n",
    "print(\"R2_error : \", metrics.r2_score(prediction , y_test))\n",
    "print(\"MEA : \",metrics.mean_absolute_error(prediction, y_test))\n",
    "print(\"Liner Regression Score\", lr.score(x_test_poly , y_test))"
   ]
  },
  {
   "cell_type": "code",
   "execution_count": 23,
   "id": "95ced96a-da2d-4c3c-a86e-c9a620629dae",
   "metadata": {},
   "outputs": [],
   "source": [
    "temp = lr.predict([[df['PrimaryBoys'].mean() ,df['PrimaryGirls'].mean() , df['UpperBoys'].mean(), df['UpperGirls'].mean() , df['SecondBoys'].mean() , df['SecondGirls'].mean() , ( df['PrimaryOverall'] + df['UpperOverall'] + df['SecondOverall']) .mean()  ]]).tolist()"
   ]
  },
  {
   "cell_type": "code",
   "execution_count": 24,
   "id": "4e16f0cc-ac9d-442d-8a62-2fe48b2ce8ce",
   "metadata": {},
   "outputs": [
    {
     "data": {
      "text/plain": [
       "{'Primary': 10.719017535479605,\n",
       " 'Secondary': 33.626515473676086,\n",
       " 'higher Secondary': 55.6544669908443}"
      ]
     },
     "execution_count": 24,
     "metadata": {},
     "output_type": "execute_result"
    }
   ],
   "source": [
    "school = {\n",
    "    'Primary' : temp[0][0] / sum(temp[0]) * 100,\n",
    "    'Secondary' : temp[0][1] / sum(temp[0] ) * 100,\n",
    "    'higher Secondary' : temp[0][2] / sum(temp[0])* 100\n",
    "}\n",
    "school"
   ]
  },
  {
   "cell_type": "markdown",
   "id": "655d173d-0127-4a00-b6cb-c66355a86844",
   "metadata": {},
   "source": [
    "# Cast Wise Prediction File"
   ]
  },
  {
   "cell_type": "code",
   "execution_count": 34,
   "id": "cd4a2340-6a53-4b6f-be8e-723718b9c235",
   "metadata": {},
   "outputs": [],
   "source": [
    "cast = df.sort_values('Social Category')"
   ]
  },
  {
   "cell_type": "code",
   "execution_count": 26,
   "id": "24c7d4e2-ed9d-4780-a5f2-c9c1cbd9f633",
   "metadata": {},
   "outputs": [],
   "source": [
    "tempcast = cast['PrimaryBoys'] + cast['PrimaryGirls'] + cast['UpperBoys'] + cast['UpperGirls'] + cast['SecondBoys'] + cast['SecondGirls']\n",
    "tempcastoverall = cast['PrimaryOverall'] + cast['UpperOverall'] + cast['SecondOverall']\n",
    "Location = df['Location']\n",
    "tempcat = df['Social Category']"
   ]
  },
  {
   "cell_type": "code",
   "execution_count": 27,
   "id": "88d3cf57-3b29-4ca7-a24a-562dafe9d220",
   "metadata": {},
   "outputs": [],
   "source": [
    "cast = pd.DataFrame(zip(Location,tempcat,tempcast,tempcastoverall) , columns=['Loc' ,'Social Category','All Boys and Girls' , 'Overall'])"
   ]
  },
  {
   "cell_type": "code",
   "execution_count": 28,
   "id": "6593afcc-8613-4237-90bc-68cb6c68784d",
   "metadata": {},
   "outputs": [],
   "source": [
    "tempgeneral = cast[cast['Social Category']== 'General' ]['All Boys and Girls'].tolist()\n",
    "tempgeneraloverall = cast[cast['Social Category'] == 'General' ]['Overall'].tolist()\n",
    "\n",
    "tempobc = cast[cast['Social Category']== 'OBC' ]['All Boys and Girls'].tolist()\n",
    "tempobcoverall = cast[cast['Social Category'] == 'OBC' ]['Overall'].tolist()\n",
    "\n",
    "tempsc = cast[cast['Social Category']== 'SC' ]['All Boys and Girls'].tolist()\n",
    "tempscoverall = cast[cast['Social Category'] == 'SC' ]['Overall'].tolist()\n",
    "\n",
    "tempst = cast[cast['Social Category']== 'ST' ]['All Boys and Girls'].tolist()\n",
    "tempstoverall = cast[cast['Social Category'] == 'ST' ]['Overall'].tolist()"
   ]
  },
  {
   "cell_type": "code",
   "execution_count": 29,
   "id": "1f0e0279-603c-4478-a57a-a6b6d1ef8bc9",
   "metadata": {},
   "outputs": [],
   "source": [
    "cast = pd.DataFrame(zip(tempgeneral,tempgeneraloverall,tempobc,tempobcoverall,tempsc,tempscoverall,tempst,tempstoverall),columns=['general' , 'generaloverall' ,'obc' ,'obcoverall', 'sc' ,'scoverall','st','stoverall'])"
   ]
  },
  {
   "cell_type": "code",
   "execution_count": 30,
   "id": "3fab58d7-3145-4efb-ae01-e41fa2f5e81e",
   "metadata": {},
   "outputs": [],
   "source": [
    "x = cast[['general' , 'obc' ,'sc' , 'st']]\n",
    "y = cast[['generaloverall' , 'obcoverall' ,'scoverall','stoverall']]"
   ]
  },
  {
   "cell_type": "code",
   "execution_count": 31,
   "id": "acdccca9-1f0e-40d6-9f47-67e821b10912",
   "metadata": {},
   "outputs": [],
   "source": [
    "x_train,x_test,y_train,y_test = train_test_split(x,y,random_state=12, test_size=0.25)"
   ]
  },
  {
   "cell_type": "code",
   "execution_count": 32,
   "id": "03f7acde-0434-4a19-b5ed-06921f0c56d5",
   "metadata": {},
   "outputs": [
    {
     "name": "stdout",
     "output_type": "stream",
     "text": [
      "R2_error :  0.9961934452849786\n",
      "MEA :  0.7168249196087101\n",
      "Liner Regression Score 0.9961815701211015\n"
     ]
    }
   ],
   "source": [
    "poly = PolynomialFeatures(degree=1)\n",
    "poly.fit(x_train)\n",
    "x_train_poly = poly.transform(x_train)\n",
    "x_test_poly = poly.transform(x_test)\n",
    "\n",
    "lr = LinearRegression()\n",
    "lr.fit(x_train_poly,y_train)\n",
    "\n",
    "prediction = lr.predict(x_test_poly)\n",
    "print(\"R2_error : \", metrics.r2_score(prediction , y_test))\n",
    "print(\"MEA : \",metrics.mean_absolute_error(prediction, y_test))\n",
    "print(\"Liner Regression Score\", lr.score(x_test_poly , y_test))"
   ]
  },
  {
   "cell_type": "code",
   "execution_count": null,
   "id": "b95aec05-efca-483c-9d29-de559e7fd29e",
   "metadata": {},
   "outputs": [],
   "source": []
  },
  {
   "cell_type": "code",
   "execution_count": null,
   "id": "edf8003f-d170-4545-ac30-d7d03863a794",
   "metadata": {},
   "outputs": [],
   "source": [
    "temp = lr.predict([[cast['general'].mean(),cast['obc'].mean(),cast['sc'].mean(),cast['st'].mean(), (cast['generaloverall'] + cast['obcoverall'] + cast['scoverall'] +cast['stoverall']).mean()  ]]).tolist()"
   ]
  },
  {
   "cell_type": "code",
   "execution_count": null,
   "id": "d57d241a-b4d0-4e63-8cec-ed7a72b5bff0",
   "metadata": {},
   "outputs": [],
   "source": [
    "socialcategory = {\n",
    "    'general' : temp[0][0] / sum(temp[0]) * 100, \n",
    "    'obc' : temp[0][1] / sum(temp[0]) * 100,\n",
    "    'sc' : temp[0][2] / sum(temp[0]) * 100,\n",
    "    'st' : temp[0][3] / sum(temp[0]) * 100\n",
    "}"
   ]
  },
  {
   "cell_type": "code",
   "execution_count": null,
   "id": "173657e8-817b-4dd9-a927-3933654a8b36",
   "metadata": {},
   "outputs": [
    {
     "data": {
      "text/plain": [
       "{'general': 19.7011912765474,\n",
       " 'obc': 19.90113697149577,\n",
       " 'sc': 20.93800748007202,\n",
       " 'st': 39.459664271884805}"
      ]
     },
     "execution_count": 35,
     "metadata": {},
     "output_type": "execute_result"
    }
   ],
   "source": [
    "socialcategory"
   ]
  },
  {
   "cell_type": "code",
   "execution_count": null,
   "id": "7c5df0f7-d09f-4108-b1e2-61134879bfdb",
   "metadata": {},
   "outputs": [
    {
     "data": {
      "text/plain": [
       "{'male': 51.1861323876829, 'female': 48.81386761231708}"
      ]
     },
     "execution_count": 36,
     "metadata": {},
     "output_type": "execute_result"
    }
   ],
   "source": [
    "gender"
   ]
  },
  {
   "cell_type": "code",
   "execution_count": null,
   "id": "7bc30004-1b18-43cc-bad7-fe1ab6d9b089",
   "metadata": {},
   "outputs": [
    {
     "data": {
      "text/plain": [
       "{'Primary': 10.719017535479605,\n",
       " 'Secondary': 33.626515473676086,\n",
       " 'higher Secondary': 55.6544669908443}"
      ]
     },
     "execution_count": 37,
     "metadata": {},
     "output_type": "execute_result"
    }
   ],
   "source": [
    "school"
   ]
  },
  {
   "cell_type": "code",
   "execution_count": null,
   "id": "9bd5e236-dd90-4c43-9d20-983d46697941",
   "metadata": {},
   "outputs": [],
   "source": []
  }
 ],
 "metadata": {
  "kernelspec": {
   "display_name": "Python 3 (ipykernel)",
   "language": "python",
   "name": "python3"
  },
  "language_info": {
   "codemirror_mode": {
    "name": "ipython",
    "version": 3
   },
   "file_extension": ".py",
   "mimetype": "text/x-python",
   "name": "python",
   "nbconvert_exporter": "python",
   "pygments_lexer": "ipython3",
   "version": "3.10.7"
  }
 },
 "nbformat": 4,
 "nbformat_minor": 5
}
