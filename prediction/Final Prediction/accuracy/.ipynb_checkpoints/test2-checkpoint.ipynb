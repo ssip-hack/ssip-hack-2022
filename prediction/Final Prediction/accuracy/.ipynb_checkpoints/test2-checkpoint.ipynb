{
 "cells": [
  {
   "cell_type": "code",
   "execution_count": null,
   "id": "284b4c59-bf36-403f-ab66-9189d7a371d1",
   "metadata": {
    "tags": []
   },
   "outputs": [],
   "source": [
    "import pandas as pd\n",
    "import numpy as np\n",
    "from sklearn.preprocessing import PolynomialFeatures\n",
    "from sklearn.model_selection import train_test_split\n",
    "from sklearn.linear_model import LinearRegression\n",
    "from sklearn import metrics"
   ]
  },
  {
   "cell_type": "code",
   "execution_count": null,
   "id": "436b9d47-f97d-4871-91a1-b39bcb29a34b",
   "metadata": {
    "tags": []
   },
   "outputs": [],
   "source": [
    "df= pd.read_csv('Data.csv')\n",
    "df =df.sort_values('Location')"
   ]
  },
  {
   "cell_type": "code",
   "execution_count": 40,
   "id": "8717d80d-02e2-4823-85b3-de20c2943c40",
   "metadata": {
    "tags": []
   },
   "outputs": [],
   "source": [
    "def schooldata_acc(boys,girls,overall):\n",
    "    x = df[[boys ,girls]]\n",
    "    y = df[[overall]]\n",
    "    x_train,x_test,y_train,y_test = train_test_split(x,y,random_state=12 , test_size=0.25)\n",
    "    temp = []\n",
    "    for i in range(8):\n",
    "        poly = PolynomialFeatures(degree=i)\n",
    "        poly.fit(x_train)\n",
    "        x_train_poly = poly.transform(x_train)\n",
    "        x_test_poly = poly.transform(x_test)\n",
    "        lr = LinearRegression()\n",
    "        lr.fit(x_train_poly,y_train)\n",
    "        prediction = lr.predict(x_test_poly)\n",
    "        temp.append(metrics.r2_score(prediction, y_test))\n",
    "        \n",
    "    return temp"
   ]
  },
  {
   "cell_type": "code",
   "execution_count": 43,
   "id": "6cd4523c-45da-4840-9f46-702846faaa23",
   "metadata": {},
   "outputs": [],
   "source": [
    "primary = schooldata_acc('PrimaryBoys' ,'PrimaryGirls' , 'PrimaryOverall')\n",
    "secondary = schooldata_acc('UpperBoys' , 'UpperGirls', 'UpperOverall')\n",
    "highersecondary = schooldata_acc('SecondBoys' ,'SecondGirls' ,'SecondOverall')"
   ]
  },
  {
   "cell_type": "markdown",
   "id": "19a85743-7e58-4171-8aa8-030009052fd3",
   "metadata": {},
   "source": [
    "# Cast Wise Accuracy test "
   ]
  },
  {
   "cell_type": "code",
   "execution_count": 18,
   "id": "5faf6734-ea93-4854-a73b-025a413ca388",
   "metadata": {},
   "outputs": [],
   "source": [
    "cast = df.sort_values('Social Category')"
   ]
  },
  {
   "cell_type": "code",
   "execution_count": 20,
   "id": "1ef23a0a-232b-4a1f-9214-c99b83fb349d",
   "metadata": {},
   "outputs": [],
   "source": [
    "tempcast = cast['PrimaryBoys'] + cast['PrimaryGirls'] + cast['UpperBoys'] + cast['UpperGirls'] + cast['SecondBoys'] + cast['SecondGirls']\n",
    "tempcastoverall = cast['PrimaryOverall'] + cast['UpperOverall'] + cast['SecondOverall']\n",
    "Location = df['Location']\n",
    "tempcat = df['Social Category']"
   ]
  },
  {
   "cell_type": "code",
   "execution_count": 21,
   "id": "06b05faa-b731-4028-a68b-1a7390d49b1d",
   "metadata": {},
   "outputs": [],
   "source": [
    "cast = pd.DataFrame(zip(Location,tempcat,tempcast,tempcastoverall) , columns=['Loc' ,'Social Category','All Boys and Girls' , 'Overall'])"
   ]
  },
  {
   "cell_type": "code",
   "execution_count": 22,
   "id": "6a18730e-6492-4176-b279-90c225b3ca8d",
   "metadata": {},
   "outputs": [],
   "source": [
    "tempgeneral = cast[cast['Social Category']== 'General' ]['All Boys and Girls'].tolist()\n",
    "tempgeneraloverall = cast[cast['Social Category'] == 'General' ]['Overall'].tolist()\n",
    "\n",
    "tempobc = cast[cast['Social Category']== 'OBC' ]['All Boys and Girls'].tolist()\n",
    "tempobcoverall = cast[cast['Social Category'] == 'OBC' ]['Overall'].tolist()\n",
    "\n",
    "tempsc = cast[cast['Social Category']== 'SC' ]['All Boys and Girls'].tolist()\n",
    "tempscoverall = cast[cast['Social Category'] == 'SC' ]['Overall'].tolist()\n",
    "\n",
    "tempst = cast[cast['Social Category']== 'ST' ]['All Boys and Girls'].tolist()\n",
    "tempstoverall = cast[cast['Social Category'] == 'ST' ]['Overall'].tolist()"
   ]
  },
  {
   "cell_type": "code",
   "execution_count": 23,
   "id": "b2a932d0-b2be-402a-94ca-c87d469d4b52",
   "metadata": {},
   "outputs": [],
   "source": [
    "cast = pd.DataFrame(zip(tempgeneral,tempgeneraloverall,tempobc,tempobcoverall,tempsc,tempscoverall,tempst,tempstoverall),columns=['general' , 'generaloverall' ,'obc' ,'obcoverall', 'sc' ,'scoverall','st','stoverall'])"
   ]
  },
  {
   "cell_type": "code",
   "execution_count": 27,
   "id": "83e4ae6e-8139-429e-8c8a-67f400b673e2",
   "metadata": {},
   "outputs": [
    {
     "data": {
      "text/html": [
       "<div>\n",
       "<style scoped>\n",
       "    .dataframe tbody tr th:only-of-type {\n",
       "        vertical-align: middle;\n",
       "    }\n",
       "\n",
       "    .dataframe tbody tr th {\n",
       "        vertical-align: top;\n",
       "    }\n",
       "\n",
       "    .dataframe thead th {\n",
       "        text-align: right;\n",
       "    }\n",
       "</style>\n",
       "<table border=\"1\" class=\"dataframe\">\n",
       "  <thead>\n",
       "    <tr style=\"text-align: right;\">\n",
       "      <th></th>\n",
       "      <th>general</th>\n",
       "      <th>generaloverall</th>\n",
       "      <th>obc</th>\n",
       "      <th>obcoverall</th>\n",
       "      <th>sc</th>\n",
       "      <th>scoverall</th>\n",
       "      <th>st</th>\n",
       "      <th>stoverall</th>\n",
       "    </tr>\n",
       "  </thead>\n",
       "  <tbody>\n",
       "    <tr>\n",
       "      <th>0</th>\n",
       "      <td>20.36</td>\n",
       "      <td>10.54</td>\n",
       "      <td>33.51</td>\n",
       "      <td>17.11</td>\n",
       "      <td>36.80</td>\n",
       "      <td>14.96</td>\n",
       "      <td>45.30</td>\n",
       "      <td>22.61</td>\n",
       "    </tr>\n",
       "    <tr>\n",
       "      <th>1</th>\n",
       "      <td>41.10</td>\n",
       "      <td>20.74</td>\n",
       "      <td>33.06</td>\n",
       "      <td>16.89</td>\n",
       "      <td>29.19</td>\n",
       "      <td>14.26</td>\n",
       "      <td>27.79</td>\n",
       "      <td>13.63</td>\n",
       "    </tr>\n",
       "    <tr>\n",
       "      <th>2</th>\n",
       "      <td>37.60</td>\n",
       "      <td>19.60</td>\n",
       "      <td>88.61</td>\n",
       "      <td>43.28</td>\n",
       "      <td>298.16</td>\n",
       "      <td>148.77</td>\n",
       "      <td>0.00</td>\n",
       "      <td>0.00</td>\n",
       "    </tr>\n",
       "    <tr>\n",
       "      <th>3</th>\n",
       "      <td>26.00</td>\n",
       "      <td>13.54</td>\n",
       "      <td>20.07</td>\n",
       "      <td>10.04</td>\n",
       "      <td>76.51</td>\n",
       "      <td>38.68</td>\n",
       "      <td>51.39</td>\n",
       "      <td>26.09</td>\n",
       "    </tr>\n",
       "    <tr>\n",
       "      <th>4</th>\n",
       "      <td>53.23</td>\n",
       "      <td>25.57</td>\n",
       "      <td>35.27</td>\n",
       "      <td>20.10</td>\n",
       "      <td>22.89</td>\n",
       "      <td>11.89</td>\n",
       "      <td>0.00</td>\n",
       "      <td>0.00</td>\n",
       "    </tr>\n",
       "  </tbody>\n",
       "</table>\n",
       "</div>"
      ],
      "text/plain": [
       "   general  generaloverall    obc  obcoverall      sc  scoverall     st  \\\n",
       "0    20.36           10.54  33.51       17.11   36.80      14.96  45.30   \n",
       "1    41.10           20.74  33.06       16.89   29.19      14.26  27.79   \n",
       "2    37.60           19.60  88.61       43.28  298.16     148.77   0.00   \n",
       "3    26.00           13.54  20.07       10.04   76.51      38.68  51.39   \n",
       "4    53.23           25.57  35.27       20.10   22.89      11.89   0.00   \n",
       "\n",
       "   stoverall  \n",
       "0      22.61  \n",
       "1      13.63  \n",
       "2       0.00  \n",
       "3      26.09  \n",
       "4       0.00  "
      ]
     },
     "execution_count": 27,
     "metadata": {},
     "output_type": "execute_result"
    }
   ],
   "source": [
    "cast.head()"
   ]
  },
  {
   "cell_type": "code",
   "execution_count": 32,
   "id": "8fb11c27-e9fd-4268-a5e6-3c121fae9a90",
   "metadata": {},
   "outputs": [],
   "source": [
    "def Cast_acc(normal,overall):\n",
    "    x = cast[[normal]]\n",
    "    y = cast[[overall]]\n",
    "    x_train,x_test,y_train,y_test = train_test_split(x,y,random_state=12, test_size=0.25)\n",
    "    temp = []\n",
    "    for i in range(8):\n",
    "        poly = PolynomialFeatures(degree=i)\n",
    "        poly.fit(x_train)\n",
    "        x_train_poly = poly.transform(x_train)\n",
    "        x_test_poly = poly.transform(x_test)\n",
    "        lr = LinearRegression()\n",
    "        lr.fit(x_train_poly,y_train)\n",
    "        prediction = lr.predict(x_test_poly)\n",
    "        temp.append(metrics.r2_score(prediction, y_test))\n",
    "    return temp"
   ]
  },
  {
   "cell_type": "code",
   "execution_count": 37,
   "id": "f13d96e9-53c3-4abc-b04a-951af58a58b5",
   "metadata": {},
   "outputs": [],
   "source": [
    "general = Cast_acc('general' ,'generaloverall')\n",
    "obc = Cast_acc('obc' ,'obcoverall')\n",
    "sc = Cast_acc('sc' , 'scoverall')\n",
    "st = Cast_acc('st' , 'stoverall')"
   ]
  },
  {
   "cell_type": "markdown",
   "id": "587ad8a4-bd3c-4c8f-ade5-8d2b7450c405",
   "metadata": {},
   "source": [
    "# Gender Wise accuracy"
   ]
  },
  {
   "cell_type": "code",
   "execution_count": 45,
   "id": "c36a7dbb-a168-4bd6-873f-d6d8ecb193e2",
   "metadata": {},
   "outputs": [],
   "source": [
    "temp_gender = df[[ 'Location' ,'PrimaryBoys' , 'PrimaryGirls' , 'UpperBoys', 'UpperGirls' ,'SecondBoys' ,'SecondGirls' ,'PrimaryOverall' , 'UpperOverall','SecondOverall']]  "
   ]
  },
  {
   "cell_type": "code",
   "execution_count": 46,
   "id": "e57acbe3-19be-41f5-b010-8176bf84fcc8",
   "metadata": {},
   "outputs": [],
   "source": [
    "tempboy = temp_gender['PrimaryBoys'] + temp_gender['UpperBoys'] + temp_gender['SecondBoys']\n",
    "tempgirl = temp_gender['PrimaryGirls'] + temp_gender['UpperGirls'] + temp_gender['SecondGirls']\n",
    "tempoverall = temp_gender['PrimaryOverall'] + temp_gender['UpperOverall'] + temp_gender['SecondOverall']"
   ]
  },
  {
   "cell_type": "code",
   "execution_count": 53,
   "id": "03ca13ec-a354-4e56-97fc-032668abdfd1",
   "metadata": {},
   "outputs": [
    {
     "data": {
      "text/html": [
       "<div>\n",
       "<style scoped>\n",
       "    .dataframe tbody tr th:only-of-type {\n",
       "        vertical-align: middle;\n",
       "    }\n",
       "\n",
       "    .dataframe tbody tr th {\n",
       "        vertical-align: top;\n",
       "    }\n",
       "\n",
       "    .dataframe thead th {\n",
       "        text-align: right;\n",
       "    }\n",
       "</style>\n",
       "<table border=\"1\" class=\"dataframe\">\n",
       "  <thead>\n",
       "    <tr style=\"text-align: right;\">\n",
       "      <th></th>\n",
       "      <th>boys</th>\n",
       "      <th>girls</th>\n",
       "      <th>overall</th>\n",
       "    </tr>\n",
       "  </thead>\n",
       "  <tbody>\n",
       "    <tr>\n",
       "      <th>0</th>\n",
       "      <td>12.34</td>\n",
       "      <td>8.02</td>\n",
       "      <td>10.54</td>\n",
       "    </tr>\n",
       "    <tr>\n",
       "      <th>1</th>\n",
       "      <td>77.90</td>\n",
       "      <td>80.82</td>\n",
       "      <td>79.52</td>\n",
       "    </tr>\n",
       "  </tbody>\n",
       "</table>\n",
       "</div>"
      ],
      "text/plain": [
       "    boys  girls  overall\n",
       "0  12.34   8.02    10.54\n",
       "1  77.90  80.82    79.52"
      ]
     },
     "execution_count": 53,
     "metadata": {},
     "output_type": "execute_result"
    }
   ],
   "source": [
    "final_gender = pd.DataFrame(zip(tempboy,tempgirl,tempoverall) , columns=['boys' ,'girls' , 'overall'])\n",
    "final_gender.head(2)"
   ]
  },
  {
   "cell_type": "code",
   "execution_count": 51,
   "id": "5d59492d-729a-43ff-8a0a-70327efc0104",
   "metadata": {},
   "outputs": [],
   "source": [
    "def Gender_acc(mf , overall):\n",
    "    y = final_gender[[mf]]\n",
    "    x = final_gender[[overall]]\n",
    "    temp = []\n",
    "    \n",
    "    for i in range(8):\n",
    "        poly = PolynomialFeatures(degree=i)\n",
    "        poly.fit(x_train)\n",
    "        x_train_poly = poly.transform(x_train)\n",
    "        x_test_poly = poly.transform(x_test)\n",
    "        lr = LinearRegression()\n",
    "        lr.fit(x_train_poly,y_train)\n",
    "        prediction = lr.predict(x_test_poly)\n",
    "        temp.append(metrics.r2_score(prediction, y_test))\n",
    "    return temp"
   ]
  },
  {
   "cell_type": "code",
   "execution_count": 55,
   "id": "1f303107-bad0-495d-b91b-427ba077326d",
   "metadata": {},
   "outputs": [
    {
     "data": {
      "text/plain": [
       "[-1.3943815815116839e+29,\n",
       " 0.9975564896645664,\n",
       " 0.9971764786442313,\n",
       " 0.9830890819697534,\n",
       " 0.602565312452664,\n",
       " -0.006798257542059242,\n",
       " -0.0024847491084402464,\n",
       " -0.004947635477955403]"
      ]
     },
     "execution_count": 55,
     "metadata": {},
     "output_type": "execute_result"
    }
   ],
   "source": [
    "boys = Gender_acc('boys' ,'overall')\n",
    "gir"
   ]
  },
  {
   "cell_type": "code",
   "execution_count": null,
   "id": "1a3e59b2-8adb-4dc9-9ad7-44a6f9655ae4",
   "metadata": {},
   "outputs": [],
   "source": []
  }
 ],
 "metadata": {
  "kernelspec": {
   "display_name": "Python 3 (ipykernel)",
   "language": "python",
   "name": "python3"
  },
  "language_info": {
   "codemirror_mode": {
    "name": "ipython",
    "version": 3
   },
   "file_extension": ".py",
   "mimetype": "text/x-python",
   "name": "python",
   "nbconvert_exporter": "python",
   "pygments_lexer": "ipython3",
   "version": "3.10.7"
  }
 },
 "nbformat": 4,
 "nbformat_minor": 5
}
