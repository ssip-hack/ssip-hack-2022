{
 "cells": [
  {
   "cell_type": "code",
   "execution_count": 2,
   "id": "db4b71ea-d087-422d-8281-1c66620434aa",
   "metadata": {},
   "outputs": [],
   "source": [
    "import pandas as pd \n",
    "import numpy as np\n",
    "from sklearn.model_selection import train_test_split\n",
    "from sklearn.linear_model import LinearRegression\n",
    "from sklearn.preprocessing import PolynomialFeatures\n",
    "from sklearn import metrics\n",
    "import pickle"
   ]
  },
  {
   "cell_type": "markdown",
   "id": "615f6af0-0b15-4234-9555-d50483866456",
   "metadata": {},
   "source": [
    "# Category"
   ]
  },
  {
   "cell_type": "code",
   "execution_count": 147,
   "id": "93ed28e7-40c8-4bda-81a6-96297f066ffd",
   "metadata": {},
   "outputs": [],
   "source": [
    "df= pd.read_csv('Data.csv')\n",
    "df = df.sort_values('Location')"
   ]
  },
  {
   "cell_type": "code",
   "execution_count": 4,
   "id": "f252b2d6-8df6-45f1-b611-8b2d96b131ff",
   "metadata": {},
   "outputs": [
    {
     "data": {
      "text/html": [
       "<div>\n",
       "<style scoped>\n",
       "    .dataframe tbody tr th:only-of-type {\n",
       "        vertical-align: middle;\n",
       "    }\n",
       "\n",
       "    .dataframe tbody tr th {\n",
       "        vertical-align: top;\n",
       "    }\n",
       "\n",
       "    .dataframe thead th {\n",
       "        text-align: right;\n",
       "    }\n",
       "</style>\n",
       "<table border=\"1\" class=\"dataframe\">\n",
       "  <thead>\n",
       "    <tr style=\"text-align: right;\">\n",
       "      <th></th>\n",
       "      <th>Location</th>\n",
       "      <th>Social Category</th>\n",
       "      <th>PrimaryGirls</th>\n",
       "      <th>PrimaryBoys</th>\n",
       "      <th>PrimaryOverall</th>\n",
       "      <th>UpperGirls</th>\n",
       "      <th>UpperBoys</th>\n",
       "      <th>UpperOverall</th>\n",
       "      <th>SecondGirls</th>\n",
       "      <th>SecondBoys</th>\n",
       "      <th>SecondOverall</th>\n",
       "    </tr>\n",
       "  </thead>\n",
       "  <tbody>\n",
       "    <tr>\n",
       "      <th>0</th>\n",
       "      <td>AHMEDABAD</td>\n",
       "      <td>General</td>\n",
       "      <td>0.00</td>\n",
       "      <td>0.00</td>\n",
       "      <td>0.00</td>\n",
       "      <td>0.00</td>\n",
       "      <td>0.00</td>\n",
       "      <td>0.00</td>\n",
       "      <td>8.02</td>\n",
       "      <td>12.34</td>\n",
       "      <td>10.54</td>\n",
       "    </tr>\n",
       "    <tr>\n",
       "      <th>633</th>\n",
       "      <td>AHMEDABAD</td>\n",
       "      <td>OBC</td>\n",
       "      <td>18.12</td>\n",
       "      <td>18.26</td>\n",
       "      <td>18.19</td>\n",
       "      <td>26.75</td>\n",
       "      <td>19.81</td>\n",
       "      <td>22.98</td>\n",
       "      <td>35.95</td>\n",
       "      <td>39.83</td>\n",
       "      <td>38.35</td>\n",
       "    </tr>\n",
       "    <tr>\n",
       "      <th>632</th>\n",
       "      <td>AHMEDABAD</td>\n",
       "      <td>General</td>\n",
       "      <td>0.00</td>\n",
       "      <td>0.00</td>\n",
       "      <td>0.00</td>\n",
       "      <td>0.00</td>\n",
       "      <td>0.00</td>\n",
       "      <td>0.00</td>\n",
       "      <td>0.00</td>\n",
       "      <td>1.50</td>\n",
       "      <td>0.42</td>\n",
       "    </tr>\n",
       "    <tr>\n",
       "      <th>764</th>\n",
       "      <td>AHMEDABAD</td>\n",
       "      <td>General</td>\n",
       "      <td>9.23</td>\n",
       "      <td>12.54</td>\n",
       "      <td>11.02</td>\n",
       "      <td>12.00</td>\n",
       "      <td>12.73</td>\n",
       "      <td>12.40</td>\n",
       "      <td>12.77</td>\n",
       "      <td>21.93</td>\n",
       "      <td>18.05</td>\n",
       "    </tr>\n",
       "    <tr>\n",
       "      <th>765</th>\n",
       "      <td>AHMEDABAD</td>\n",
       "      <td>OBC</td>\n",
       "      <td>0.00</td>\n",
       "      <td>0.00</td>\n",
       "      <td>0.00</td>\n",
       "      <td>0.43</td>\n",
       "      <td>0.00</td>\n",
       "      <td>0.00</td>\n",
       "      <td>16.72</td>\n",
       "      <td>24.65</td>\n",
       "      <td>21.60</td>\n",
       "    </tr>\n",
       "  </tbody>\n",
       "</table>\n",
       "</div>"
      ],
      "text/plain": [
       "      Location Social Category  PrimaryGirls  PrimaryBoys  PrimaryOverall  \\\n",
       "0    AHMEDABAD         General          0.00         0.00            0.00   \n",
       "633  AHMEDABAD             OBC         18.12        18.26           18.19   \n",
       "632  AHMEDABAD         General          0.00         0.00            0.00   \n",
       "764  AHMEDABAD         General          9.23        12.54           11.02   \n",
       "765  AHMEDABAD             OBC          0.00         0.00            0.00   \n",
       "\n",
       "     UpperGirls  UpperBoys  UpperOverall  SecondGirls  SecondBoys  \\\n",
       "0          0.00       0.00          0.00         8.02       12.34   \n",
       "633       26.75      19.81         22.98        35.95       39.83   \n",
       "632        0.00       0.00          0.00         0.00        1.50   \n",
       "764       12.00      12.73         12.40        12.77       21.93   \n",
       "765        0.43       0.00          0.00        16.72       24.65   \n",
       "\n",
       "     SecondOverall  \n",
       "0            10.54  \n",
       "633          38.35  \n",
       "632           0.42  \n",
       "764          18.05  \n",
       "765          21.60  "
      ]
     },
     "execution_count": 4,
     "metadata": {},
     "output_type": "execute_result"
    }
   ],
   "source": [
    "df.head()"
   ]
  },
  {
   "cell_type": "code",
   "execution_count": 5,
   "id": "bbb3db24-fe0b-4f70-a648-6d940aacf995",
   "metadata": {},
   "outputs": [],
   "source": [
    "def find(overall,girl,boy):\n",
    "    x = df[[overall]]\n",
    "    y = df[[girl,boy]]\n",
    "    x_train,x_test,y_train,y_test = train_test_split(x,y,random_state=12,test_size=0.25)\n",
    "    lr = LinearRegression()\n",
    "    lr.fit(x_train,y_train)\n",
    "    prediction = lr.predict(x_test)\n",
    "    lr.score(x_test,y_test)\n",
    "    pickle.dump(lr, open('model.pkl', 'wb'))\n",
    "    pickled_model = pickle.load(open('model.pkl', 'rb'))\n",
    "    pickled_model.predict(x_test)\n",
    "    \n",
    "    return [metrics.r2_score(y_test,prediction),metrics.mean_absolute_error(y_test,prediction) ]"
   ]
  },
  {
   "cell_type": "code",
   "execution_count": 6,
   "id": "0151b64f-8fc8-4e8c-94d1-ff857bd7ff77",
   "metadata": {},
   "outputs": [],
   "source": [
    "primary = find('PrimaryOverall','PrimaryGirls', 'PrimaryBoys')"
   ]
  },
  {
   "cell_type": "code",
   "execution_count": 7,
   "id": "379ecbd3-3ab0-47b7-bc7b-a56c6f59dedd",
   "metadata": {},
   "outputs": [],
   "source": [
    "upper = find('UpperOverall','UpperGirls', 'UpperBoys')"
   ]
  },
  {
   "cell_type": "code",
   "execution_count": 8,
   "id": "43c96507-01d2-4084-9e6d-6b515e964161",
   "metadata": {},
   "outputs": [],
   "source": [
    "second = find('SecondOverall','SecondGirls', 'SecondBoys')"
   ]
  },
  {
   "cell_type": "markdown",
   "id": "fae57646-da6d-46d9-ac55-b42cd1236478",
   "metadata": {},
   "source": [
    "# Cast Wise Prediction "
   ]
  },
  {
   "cell_type": "code",
   "execution_count": 11,
   "id": "ec08140a-e53b-4984-8f24-8e704401b28d",
   "metadata": {},
   "outputs": [],
   "source": [
    "cast = df.sort_values('Social Category')"
   ]
  },
  {
   "cell_type": "code",
   "execution_count": 12,
   "id": "e68fe233-3d37-45a2-88e7-ac5af272dd68",
   "metadata": {},
   "outputs": [],
   "source": [
    "tempcast = cast['PrimaryBoys'] + cast['PrimaryGirls'] + cast['UpperBoys'] + cast['UpperGirls'] + cast['SecondBoys'] + cast['SecondGirls']\n",
    "tempcastoverall = cast['PrimaryOverall'] + cast['UpperOverall'] + cast['SecondOverall']\n",
    "Location = df['Location']\n",
    "tempcat = df['Social Category']"
   ]
  },
  {
   "cell_type": "code",
   "execution_count": 13,
   "id": "d49b4657-4ee0-4995-9431-3b1578515f09",
   "metadata": {},
   "outputs": [],
   "source": [
    "cast = pd.DataFrame(zip(Location,tempcat,tempcast,tempcastoverall) , columns=['Loc' ,'Social Category','All Boys and Girls' , 'Overall'])"
   ]
  },
  {
   "cell_type": "code",
   "execution_count": 14,
   "id": "5caa9b8a-7fad-47da-a084-32c65340fcdd",
   "metadata": {},
   "outputs": [],
   "source": [
    "tempgeneral = cast[cast['Social Category']== 'General' ]['All Boys and Girls'].tolist()\n",
    "tempgeneraloverall = cast[cast['Social Category'] == 'General' ]['Overall'].tolist()\n",
    "\n",
    "tempobc = cast[cast['Social Category']== 'OBC' ]['All Boys and Girls'].tolist()\n",
    "tempobcoverall = cast[cast['Social Category'] == 'OBC' ]['Overall'].tolist()\n",
    "\n",
    "tempsc = cast[cast['Social Category']== 'SC' ]['All Boys and Girls'].tolist()\n",
    "tempscoverall = cast[cast['Social Category'] == 'SC' ]['Overall'].tolist()\n",
    "\n",
    "tempst = cast[cast['Social Category']== 'ST' ]['All Boys and Girls'].tolist()\n",
    "tempstoverall = cast[cast['Social Category'] == 'ST' ]['Overall'].tolist()"
   ]
  },
  {
   "cell_type": "code",
   "execution_count": 119,
   "id": "f0a016ea-0778-4291-ac9f-d1e845448636",
   "metadata": {},
   "outputs": [
    {
     "data": {
      "text/html": [
       "<div>\n",
       "<style scoped>\n",
       "    .dataframe tbody tr th:only-of-type {\n",
       "        vertical-align: middle;\n",
       "    }\n",
       "\n",
       "    .dataframe tbody tr th {\n",
       "        vertical-align: top;\n",
       "    }\n",
       "\n",
       "    .dataframe thead th {\n",
       "        text-align: right;\n",
       "    }\n",
       "</style>\n",
       "<table border=\"1\" class=\"dataframe\">\n",
       "  <thead>\n",
       "    <tr style=\"text-align: right;\">\n",
       "      <th></th>\n",
       "      <th>general</th>\n",
       "      <th>generaloverall</th>\n",
       "      <th>obc</th>\n",
       "      <th>obcoverall</th>\n",
       "      <th>sc</th>\n",
       "      <th>scoverall</th>\n",
       "      <th>st</th>\n",
       "      <th>stoverall</th>\n",
       "    </tr>\n",
       "  </thead>\n",
       "  <tbody>\n",
       "    <tr>\n",
       "      <th>0</th>\n",
       "      <td>20.36</td>\n",
       "      <td>10.54</td>\n",
       "      <td>33.51</td>\n",
       "      <td>17.11</td>\n",
       "      <td>36.80</td>\n",
       "      <td>14.96</td>\n",
       "      <td>45.30</td>\n",
       "      <td>22.61</td>\n",
       "    </tr>\n",
       "    <tr>\n",
       "      <th>1</th>\n",
       "      <td>41.10</td>\n",
       "      <td>20.74</td>\n",
       "      <td>33.06</td>\n",
       "      <td>16.89</td>\n",
       "      <td>29.19</td>\n",
       "      <td>14.26</td>\n",
       "      <td>27.79</td>\n",
       "      <td>13.63</td>\n",
       "    </tr>\n",
       "  </tbody>\n",
       "</table>\n",
       "</div>"
      ],
      "text/plain": [
       "   general  generaloverall    obc  obcoverall     sc  scoverall     st  \\\n",
       "0    20.36           10.54  33.51       17.11  36.80      14.96  45.30   \n",
       "1    41.10           20.74  33.06       16.89  29.19      14.26  27.79   \n",
       "\n",
       "   stoverall  \n",
       "0      22.61  \n",
       "1      13.63  "
      ]
     },
     "execution_count": 119,
     "metadata": {},
     "output_type": "execute_result"
    }
   ],
   "source": [
    "cast.head(2)"
   ]
  },
  {
   "cell_type": "code",
   "execution_count": 156,
   "id": "66b5421c-d588-428e-8459-89c2b50c6823",
   "metadata": {},
   "outputs": [],
   "source": [
    "def Cast_acc(data,castoverall):\n",
    "    y = cast[[data]]\n",
    "    x = cast[[castoverall]]\n",
    "    x_train,x_test,y_train,y_test = train_test_split(x,y,random_state=1, test_size=0.78)\n",
    "    lr = LinearRegression()\n",
    "    lr.fit(x_train,y_train)\n",
    "    x1 = lr.predict(x_test)\n",
    "    return [metrics.r2_score(x1,y_test),metrics.mean_absolute_error(x1,y_test)]"
   ]
  },
  {
   "cell_type": "code",
   "execution_count": 157,
   "id": "0d4cdcfa-db4b-4e8a-8901-894bfa1df130",
   "metadata": {},
   "outputs": [],
   "source": [
    "general = Cast_acc('general' , 'generaloverall')\n",
    "obc = Cast_acc('obc' ,'obcoverall')\n",
    "sc = Cast_acc(\"sc\", 'scoverall')\n",
    "st = Cast_acc('st','stoverall')"
   ]
  },
  {
   "cell_type": "code",
   "execution_count": 160,
   "id": "c02aecd9-e9dd-4e5d-8bcf-38964248c1e3",
   "metadata": {},
   "outputs": [],
   "source": [
    "df2.to_csv('Linermodelaccuracy.csv')"
   ]
  },
  {
   "cell_type": "markdown",
   "id": "c33e536b-c2b6-47c4-a111-e68746d85a05",
   "metadata": {},
   "source": [
    "# Gender Wise Data anlysis"
   ]
  },
  {
   "cell_type": "code",
   "execution_count": 153,
   "id": "8670e81e-c345-457e-a62a-1b49bd488beb",
   "metadata": {},
   "outputs": [],
   "source": [
    "# Temporary dataframe created using Original Data\n",
    "temp_gender = df[[ 'Location' ,'PrimaryBoys' , 'PrimaryGirls' , 'UpperBoys', 'UpperGirls' ,'SecondBoys' ,'SecondGirls' ,'PrimaryOverall' , 'UpperOverall','SecondOverall']]  \n",
    "\n",
    "# tempboy and tempfirl creat the all data\n",
    "tempboy = temp_gender['PrimaryBoys'] + temp_gender['UpperBoys'] + temp_gender['SecondBoys']\n",
    "tempgirl = temp_gender['PrimaryGirls'] + temp_gender['UpperGirls'] + temp_gender['SecondGirls']\n",
    "tempoverall = temp_gender['PrimaryOverall'] + temp_gender['UpperOverall'] + temp_gender['SecondOverall']\n",
    "\n",
    "# final Data Frame\n",
    "final_gender = pd.DataFrame(zip(tempboy,tempgirl,tempoverall) , columns=['boys' ,'girls' , 'overall'])"
   ]
  },
  {
   "cell_type": "code",
   "execution_count": 155,
   "id": "faf7bed8-8a40-4c63-862e-e0c4f3139a14",
   "metadata": {},
   "outputs": [
    {
     "data": {
      "text/html": [
       "<div>\n",
       "<style scoped>\n",
       "    .dataframe tbody tr th:only-of-type {\n",
       "        vertical-align: middle;\n",
       "    }\n",
       "\n",
       "    .dataframe tbody tr th {\n",
       "        vertical-align: top;\n",
       "    }\n",
       "\n",
       "    .dataframe thead th {\n",
       "        text-align: right;\n",
       "    }\n",
       "</style>\n",
       "<table border=\"1\" class=\"dataframe\">\n",
       "  <thead>\n",
       "    <tr style=\"text-align: right;\">\n",
       "      <th></th>\n",
       "      <th>boys</th>\n",
       "      <th>girls</th>\n",
       "      <th>overall</th>\n",
       "    </tr>\n",
       "  </thead>\n",
       "  <tbody>\n",
       "    <tr>\n",
       "      <th>0</th>\n",
       "      <td>12.34</td>\n",
       "      <td>8.02</td>\n",
       "      <td>10.54</td>\n",
       "    </tr>\n",
       "    <tr>\n",
       "      <th>1</th>\n",
       "      <td>77.90</td>\n",
       "      <td>80.82</td>\n",
       "      <td>79.52</td>\n",
       "    </tr>\n",
       "    <tr>\n",
       "      <th>2</th>\n",
       "      <td>1.50</td>\n",
       "      <td>0.00</td>\n",
       "      <td>0.42</td>\n",
       "    </tr>\n",
       "  </tbody>\n",
       "</table>\n",
       "</div>"
      ],
      "text/plain": [
       "    boys  girls  overall\n",
       "0  12.34   8.02    10.54\n",
       "1  77.90  80.82    79.52\n",
       "2   1.50   0.00     0.42"
      ]
     },
     "execution_count": 155,
     "metadata": {},
     "output_type": "execute_result"
    }
   ],
   "source": [
    "final_gender.head(3)"
   ]
  },
  {
   "cell_type": "code",
   "execution_count": 166,
   "id": "0392086b-8e64-4524-841b-27afdafee8b2",
   "metadata": {},
   "outputs": [],
   "source": [
    "def Gender():\n",
    "    y = final_gender[['boys' , 'girls']]\n",
    "    x = final_gender[['overall']]\n",
    "    x_train,x_test,y_train,y_test = train_test_split(x,y,random_state=12, test_size=0.25)\n",
    "    \n",
    "    lr = LinearRegression()\n",
    "    lr.fit(x_train,y_train)\n",
    "    pred = lr.predict(x_test)\n",
    "    return [metrics.r2_score(pred,y_test),metrics.mean_absolute_error(pred,y_test)]"
   ]
  },
  {
   "cell_type": "code",
   "execution_count": 168,
   "id": "64a785bd-ada0-48fb-afac-c3241dbe50c6",
   "metadata": {},
   "outputs": [],
   "source": [
    "gender = Gender()"
   ]
  },
  {
   "cell_type": "code",
   "execution_count": 207,
   "id": "967cf349-f1dd-47c3-9869-41bd5d6601a9",
   "metadata": {},
   "outputs": [],
   "source": [
    "df2 = pd.DataFrame(zip(general,obc,sc,st,primary,upper,second,gender),columns=['general','obc','sc','st','primart','secondary','highersecondary','male/female']).T\n",
    "df2.rename(columns={0 : 'R2_score' , 1: 'MAE'} , inplace = True)"
   ]
  },
  {
   "cell_type": "code",
   "execution_count": 208,
   "id": "a0d9198a-aff4-4c56-b039-c237d9015772",
   "metadata": {},
   "outputs": [],
   "source": [
    "df2.to_csv('Linermodelaccuracy.csv')"
   ]
  },
  {
   "cell_type": "code",
   "execution_count": null,
   "id": "093d30b4-77ef-4c79-be95-597228006588",
   "metadata": {},
   "outputs": [],
   "source": []
  }
 ],
 "metadata": {
  "kernelspec": {
   "display_name": "Python 3 (ipykernel)",
   "language": "python",
   "name": "python3"
  },
  "language_info": {
   "codemirror_mode": {
    "name": "ipython",
    "version": 3
   },
   "file_extension": ".py",
   "mimetype": "text/x-python",
   "name": "python",
   "nbconvert_exporter": "python",
   "pygments_lexer": "ipython3",
   "version": "3.10.7"
  }
 },
 "nbformat": 4,
 "nbformat_minor": 5
}
