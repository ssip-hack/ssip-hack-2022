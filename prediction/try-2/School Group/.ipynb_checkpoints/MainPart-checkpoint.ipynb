{
 "cells": [
  {
   "cell_type": "code",
   "execution_count": 4,
   "id": "8f1f5074-14bf-4070-8fa4-7f91753367a6",
   "metadata": {},
   "outputs": [],
   "source": [
    "import pandas as pd\n",
    "import numpy as np\n",
    "import seaborn as sns\n",
    "import matplotlib.pyplot as plt\n",
    "from sklearn.model_selection import train_test_split\n",
    "from sklearn.linear_model import LinearRegression\n",
    "from sklearn.linear_model import LogisticRegression\n",
    "from sklearn import metrics"
   ]
  },
  {
   "cell_type": "code",
   "execution_count": 5,
   "id": "81a10dae-09b0-419c-b3a2-26b9f4eeb405",
   "metadata": {},
   "outputs": [
    {
     "data": {
      "text/html": [
       "<div>\n",
       "<style scoped>\n",
       "    .dataframe tbody tr th:only-of-type {\n",
       "        vertical-align: middle;\n",
       "    }\n",
       "\n",
       "    .dataframe tbody tr th {\n",
       "        vertical-align: top;\n",
       "    }\n",
       "\n",
       "    .dataframe thead th {\n",
       "        text-align: right;\n",
       "    }\n",
       "</style>\n",
       "<table border=\"1\" class=\"dataframe\">\n",
       "  <thead>\n",
       "    <tr style=\"text-align: right;\">\n",
       "      <th></th>\n",
       "      <th>City</th>\n",
       "      <th>Primary</th>\n",
       "      <th>upper</th>\n",
       "      <th>second</th>\n",
       "    </tr>\n",
       "  </thead>\n",
       "  <tbody>\n",
       "    <tr>\n",
       "      <th>0</th>\n",
       "      <td>AHMEDABAD</td>\n",
       "      <td>153.64</td>\n",
       "      <td>234.74</td>\n",
       "      <td>543.33</td>\n",
       "    </tr>\n",
       "    <tr>\n",
       "      <th>1</th>\n",
       "      <td>AMRELI</td>\n",
       "      <td>77.76</td>\n",
       "      <td>162.32</td>\n",
       "      <td>711.27</td>\n",
       "    </tr>\n",
       "    <tr>\n",
       "      <th>2</th>\n",
       "      <td>ANAND</td>\n",
       "      <td>55.08</td>\n",
       "      <td>110.18</td>\n",
       "      <td>667.27</td>\n",
       "    </tr>\n",
       "    <tr>\n",
       "      <th>3</th>\n",
       "      <td>ARAVALLI</td>\n",
       "      <td>32.32</td>\n",
       "      <td>78.78</td>\n",
       "      <td>498.77</td>\n",
       "    </tr>\n",
       "    <tr>\n",
       "      <th>4</th>\n",
       "      <td>BANAS_KANTHA</td>\n",
       "      <td>60.67</td>\n",
       "      <td>292.89</td>\n",
       "      <td>696.83</td>\n",
       "    </tr>\n",
       "  </tbody>\n",
       "</table>\n",
       "</div>"
      ],
      "text/plain": [
       "           City  Primary   upper  second\n",
       "0     AHMEDABAD   153.64  234.74  543.33\n",
       "1        AMRELI    77.76  162.32  711.27\n",
       "2         ANAND    55.08  110.18  667.27\n",
       "3      ARAVALLI    32.32   78.78  498.77\n",
       "4  BANAS_KANTHA    60.67  292.89  696.83"
      ]
     },
     "execution_count": 5,
     "metadata": {},
     "output_type": "execute_result"
    }
   ],
   "source": [
    "sd = pd.read_csv('School_Data.csv')\n",
    "sd.head()"
   ]
  },
  {
   "cell_type": "code",
   "execution_count": 6,
   "id": "c0a8788f-61ac-43f3-b03e-26efaa2f444f",
   "metadata": {},
   "outputs": [],
   "source": [
    "total = []\n",
    "temp = 0 \n",
    "\n",
    "for i  in range(len(sd)):\n",
    "    f1 = sd['Primary'][i] + sd['upper'][i] + sd['second'][i]\n",
    "    total.append(f1)"
   ]
  },
  {
   "cell_type": "code",
   "execution_count": 7,
   "id": "6c355dc1-83be-4900-99b1-a79a54f820e2",
   "metadata": {},
   "outputs": [],
   "source": [
    "sd['Overall'] = total"
   ]
  },
  {
   "cell_type": "code",
   "execution_count": 8,
   "id": "dc13127a-2767-4cc6-9787-2b30ea60bedd",
   "metadata": {},
   "outputs": [
    {
     "data": {
      "text/html": [
       "<div>\n",
       "<style scoped>\n",
       "    .dataframe tbody tr th:only-of-type {\n",
       "        vertical-align: middle;\n",
       "    }\n",
       "\n",
       "    .dataframe tbody tr th {\n",
       "        vertical-align: top;\n",
       "    }\n",
       "\n",
       "    .dataframe thead th {\n",
       "        text-align: right;\n",
       "    }\n",
       "</style>\n",
       "<table border=\"1\" class=\"dataframe\">\n",
       "  <thead>\n",
       "    <tr style=\"text-align: right;\">\n",
       "      <th></th>\n",
       "      <th>City</th>\n",
       "      <th>Primary</th>\n",
       "      <th>upper</th>\n",
       "      <th>second</th>\n",
       "      <th>Overall</th>\n",
       "    </tr>\n",
       "  </thead>\n",
       "  <tbody>\n",
       "    <tr>\n",
       "      <th>0</th>\n",
       "      <td>AHMEDABAD</td>\n",
       "      <td>153.64</td>\n",
       "      <td>234.74</td>\n",
       "      <td>543.33</td>\n",
       "      <td>931.71</td>\n",
       "    </tr>\n",
       "    <tr>\n",
       "      <th>1</th>\n",
       "      <td>AMRELI</td>\n",
       "      <td>77.76</td>\n",
       "      <td>162.32</td>\n",
       "      <td>711.27</td>\n",
       "      <td>951.35</td>\n",
       "    </tr>\n",
       "    <tr>\n",
       "      <th>2</th>\n",
       "      <td>ANAND</td>\n",
       "      <td>55.08</td>\n",
       "      <td>110.18</td>\n",
       "      <td>667.27</td>\n",
       "      <td>832.53</td>\n",
       "    </tr>\n",
       "    <tr>\n",
       "      <th>3</th>\n",
       "      <td>ARAVALLI</td>\n",
       "      <td>32.32</td>\n",
       "      <td>78.78</td>\n",
       "      <td>498.77</td>\n",
       "      <td>609.87</td>\n",
       "    </tr>\n",
       "    <tr>\n",
       "      <th>4</th>\n",
       "      <td>BANAS_KANTHA</td>\n",
       "      <td>60.67</td>\n",
       "      <td>292.89</td>\n",
       "      <td>696.83</td>\n",
       "      <td>1050.39</td>\n",
       "    </tr>\n",
       "  </tbody>\n",
       "</table>\n",
       "</div>"
      ],
      "text/plain": [
       "           City  Primary   upper  second  Overall\n",
       "0     AHMEDABAD   153.64  234.74  543.33   931.71\n",
       "1        AMRELI    77.76  162.32  711.27   951.35\n",
       "2         ANAND    55.08  110.18  667.27   832.53\n",
       "3      ARAVALLI    32.32   78.78  498.77   609.87\n",
       "4  BANAS_KANTHA    60.67  292.89  696.83  1050.39"
      ]
     },
     "execution_count": 8,
     "metadata": {},
     "output_type": "execute_result"
    }
   ],
   "source": [
    "sd.head()"
   ]
  },
  {
   "cell_type": "code",
   "execution_count": 12,
   "id": "b89728c2-162d-46da-bf33-f7d7a84280bf",
   "metadata": {},
   "outputs": [
    {
     "data": {
      "text/html": [
       "<div>\n",
       "<style scoped>\n",
       "    .dataframe tbody tr th:only-of-type {\n",
       "        vertical-align: middle;\n",
       "    }\n",
       "\n",
       "    .dataframe tbody tr th {\n",
       "        vertical-align: top;\n",
       "    }\n",
       "\n",
       "    .dataframe thead th {\n",
       "        text-align: right;\n",
       "    }\n",
       "</style>\n",
       "<table border=\"1\" class=\"dataframe\">\n",
       "  <thead>\n",
       "    <tr style=\"text-align: right;\">\n",
       "      <th></th>\n",
       "      <th>Primary</th>\n",
       "      <th>upper</th>\n",
       "      <th>second</th>\n",
       "      <th>Overall</th>\n",
       "    </tr>\n",
       "  </thead>\n",
       "  <tbody>\n",
       "    <tr>\n",
       "      <th>count</th>\n",
       "      <td>33.000000</td>\n",
       "      <td>33.000000</td>\n",
       "      <td>33.000000</td>\n",
       "      <td>33.000000</td>\n",
       "    </tr>\n",
       "    <tr>\n",
       "      <th>mean</th>\n",
       "      <td>76.703333</td>\n",
       "      <td>183.019394</td>\n",
       "      <td>651.667576</td>\n",
       "      <td>911.390303</td>\n",
       "    </tr>\n",
       "    <tr>\n",
       "      <th>std</th>\n",
       "      <td>49.473985</td>\n",
       "      <td>87.634330</td>\n",
       "      <td>120.949437</td>\n",
       "      <td>204.729864</td>\n",
       "    </tr>\n",
       "    <tr>\n",
       "      <th>min</th>\n",
       "      <td>22.740000</td>\n",
       "      <td>41.540000</td>\n",
       "      <td>365.220000</td>\n",
       "      <td>499.840000</td>\n",
       "    </tr>\n",
       "    <tr>\n",
       "      <th>25%</th>\n",
       "      <td>47.280000</td>\n",
       "      <td>138.490000</td>\n",
       "      <td>591.730000</td>\n",
       "      <td>780.390000</td>\n",
       "    </tr>\n",
       "    <tr>\n",
       "      <th>50%</th>\n",
       "      <td>62.360000</td>\n",
       "      <td>162.320000</td>\n",
       "      <td>667.270000</td>\n",
       "      <td>928.810000</td>\n",
       "    </tr>\n",
       "    <tr>\n",
       "      <th>75%</th>\n",
       "      <td>83.560000</td>\n",
       "      <td>241.690000</td>\n",
       "      <td>725.360000</td>\n",
       "      <td>1031.220000</td>\n",
       "    </tr>\n",
       "    <tr>\n",
       "      <th>max</th>\n",
       "      <td>262.690000</td>\n",
       "      <td>478.560000</td>\n",
       "      <td>890.100000</td>\n",
       "      <td>1376.410000</td>\n",
       "    </tr>\n",
       "  </tbody>\n",
       "</table>\n",
       "</div>"
      ],
      "text/plain": [
       "          Primary       upper      second      Overall\n",
       "count   33.000000   33.000000   33.000000    33.000000\n",
       "mean    76.703333  183.019394  651.667576   911.390303\n",
       "std     49.473985   87.634330  120.949437   204.729864\n",
       "min     22.740000   41.540000  365.220000   499.840000\n",
       "25%     47.280000  138.490000  591.730000   780.390000\n",
       "50%     62.360000  162.320000  667.270000   928.810000\n",
       "75%     83.560000  241.690000  725.360000  1031.220000\n",
       "max    262.690000  478.560000  890.100000  1376.410000"
      ]
     },
     "execution_count": 12,
     "metadata": {},
     "output_type": "execute_result"
    }
   ],
   "source": [
    "sd.describe()"
   ]
  },
  {
   "cell_type": "code",
   "execution_count": 10,
   "id": "5b88ce27-9427-415a-b646-5de27abe749c",
   "metadata": {},
   "outputs": [],
   "source": [
    "x = sd[['Overall']]\n",
    "y = sd[['Primary', 'upper', 'second']]"
   ]
  },
  {
   "cell_type": "code",
   "execution_count": 44,
   "id": "57d1d551-84fe-4615-a048-ffeac7fc5a54",
   "metadata": {},
   "outputs": [],
   "source": [
    "x_train, x_test, y_train, y_test = train_test_split(x,y , random_state=911 , train_size=0.8 , test_size=0.2 )"
   ]
  },
  {
   "cell_type": "code",
   "execution_count": 45,
   "id": "ff3d632c-7c52-46d3-ad51-d0b0a3408a11",
   "metadata": {},
   "outputs": [],
   "source": [
    "lm = LinearRegression()"
   ]
  },
  {
   "cell_type": "code",
   "execution_count": 46,
   "id": "ef9cc50e-cc4b-453d-8c62-a6afdbb2d950",
   "metadata": {},
   "outputs": [
    {
     "data": {
      "text/html": [
       "<style>#sk-container-id-3 {color: black;background-color: white;}#sk-container-id-3 pre{padding: 0;}#sk-container-id-3 div.sk-toggleable {background-color: white;}#sk-container-id-3 label.sk-toggleable__label {cursor: pointer;display: block;width: 100%;margin-bottom: 0;padding: 0.3em;box-sizing: border-box;text-align: center;}#sk-container-id-3 label.sk-toggleable__label-arrow:before {content: \"▸\";float: left;margin-right: 0.25em;color: #696969;}#sk-container-id-3 label.sk-toggleable__label-arrow:hover:before {color: black;}#sk-container-id-3 div.sk-estimator:hover label.sk-toggleable__label-arrow:before {color: black;}#sk-container-id-3 div.sk-toggleable__content {max-height: 0;max-width: 0;overflow: hidden;text-align: left;background-color: #f0f8ff;}#sk-container-id-3 div.sk-toggleable__content pre {margin: 0.2em;color: black;border-radius: 0.25em;background-color: #f0f8ff;}#sk-container-id-3 input.sk-toggleable__control:checked~div.sk-toggleable__content {max-height: 200px;max-width: 100%;overflow: auto;}#sk-container-id-3 input.sk-toggleable__control:checked~label.sk-toggleable__label-arrow:before {content: \"▾\";}#sk-container-id-3 div.sk-estimator input.sk-toggleable__control:checked~label.sk-toggleable__label {background-color: #d4ebff;}#sk-container-id-3 div.sk-label input.sk-toggleable__control:checked~label.sk-toggleable__label {background-color: #d4ebff;}#sk-container-id-3 input.sk-hidden--visually {border: 0;clip: rect(1px 1px 1px 1px);clip: rect(1px, 1px, 1px, 1px);height: 1px;margin: -1px;overflow: hidden;padding: 0;position: absolute;width: 1px;}#sk-container-id-3 div.sk-estimator {font-family: monospace;background-color: #f0f8ff;border: 1px dotted black;border-radius: 0.25em;box-sizing: border-box;margin-bottom: 0.5em;}#sk-container-id-3 div.sk-estimator:hover {background-color: #d4ebff;}#sk-container-id-3 div.sk-parallel-item::after {content: \"\";width: 100%;border-bottom: 1px solid gray;flex-grow: 1;}#sk-container-id-3 div.sk-label:hover label.sk-toggleable__label {background-color: #d4ebff;}#sk-container-id-3 div.sk-serial::before {content: \"\";position: absolute;border-left: 1px solid gray;box-sizing: border-box;top: 0;bottom: 0;left: 50%;z-index: 0;}#sk-container-id-3 div.sk-serial {display: flex;flex-direction: column;align-items: center;background-color: white;padding-right: 0.2em;padding-left: 0.2em;position: relative;}#sk-container-id-3 div.sk-item {position: relative;z-index: 1;}#sk-container-id-3 div.sk-parallel {display: flex;align-items: stretch;justify-content: center;background-color: white;position: relative;}#sk-container-id-3 div.sk-item::before, #sk-container-id-3 div.sk-parallel-item::before {content: \"\";position: absolute;border-left: 1px solid gray;box-sizing: border-box;top: 0;bottom: 0;left: 50%;z-index: -1;}#sk-container-id-3 div.sk-parallel-item {display: flex;flex-direction: column;z-index: 1;position: relative;background-color: white;}#sk-container-id-3 div.sk-parallel-item:first-child::after {align-self: flex-end;width: 50%;}#sk-container-id-3 div.sk-parallel-item:last-child::after {align-self: flex-start;width: 50%;}#sk-container-id-3 div.sk-parallel-item:only-child::after {width: 0;}#sk-container-id-3 div.sk-dashed-wrapped {border: 1px dashed gray;margin: 0 0.4em 0.5em 0.4em;box-sizing: border-box;padding-bottom: 0.4em;background-color: white;}#sk-container-id-3 div.sk-label label {font-family: monospace;font-weight: bold;display: inline-block;line-height: 1.2em;}#sk-container-id-3 div.sk-label-container {text-align: center;}#sk-container-id-3 div.sk-container {/* jupyter's `normalize.less` sets `[hidden] { display: none; }` but bootstrap.min.css set `[hidden] { display: none !important; }` so we also need the `!important` here to be able to override the default hidden behavior on the sphinx rendered scikit-learn.org. See: https://github.com/scikit-learn/scikit-learn/issues/21755 */display: inline-block !important;position: relative;}#sk-container-id-3 div.sk-text-repr-fallback {display: none;}</style><div id=\"sk-container-id-3\" class=\"sk-top-container\"><div class=\"sk-text-repr-fallback\"><pre>LinearRegression()</pre><b>In a Jupyter environment, please rerun this cell to show the HTML representation or trust the notebook. <br />On GitHub, the HTML representation is unable to render, please try loading this page with nbviewer.org.</b></div><div class=\"sk-container\" hidden><div class=\"sk-item\"><div class=\"sk-estimator sk-toggleable\"><input class=\"sk-toggleable__control sk-hidden--visually\" id=\"sk-estimator-id-3\" type=\"checkbox\" checked><label for=\"sk-estimator-id-3\" class=\"sk-toggleable__label sk-toggleable__label-arrow\">LinearRegression</label><div class=\"sk-toggleable__content\"><pre>LinearRegression()</pre></div></div></div></div></div>"
      ],
      "text/plain": [
       "LinearRegression()"
      ]
     },
     "execution_count": 46,
     "metadata": {},
     "output_type": "execute_result"
    }
   ],
   "source": [
    "lm.fit(x_train, y_train)"
   ]
  },
  {
   "cell_type": "code",
   "execution_count": 47,
   "id": "8eb8e0b5-9326-4ee2-9491-c2f7e549abb8",
   "metadata": {},
   "outputs": [
    {
     "data": {
      "text/plain": [
       "array([[0.0983714 ],\n",
       "       [0.32353855],\n",
       "       [0.57809006]])"
      ]
     },
     "execution_count": 47,
     "metadata": {},
     "output_type": "execute_result"
    }
   ],
   "source": [
    "lm.coef_"
   ]
  },
  {
   "cell_type": "code",
   "execution_count": 48,
   "id": "b96f7a9f-e798-4c0a-83ed-9cd86bcf3225",
   "metadata": {},
   "outputs": [
    {
     "data": {
      "text/plain": [
       "array([ -17.33517512, -112.87031819,  130.20549332])"
      ]
     },
     "execution_count": 48,
     "metadata": {},
     "output_type": "execute_result"
    }
   ],
   "source": [
    "lm.intercept_"
   ]
  },
  {
   "cell_type": "code",
   "execution_count": 49,
   "id": "72d1a04e-b23e-4dc9-8e88-2a4e4a592858",
   "metadata": {},
   "outputs": [],
   "source": [
    "prediction = lm.predict(x_test)"
   ]
  },
  {
   "cell_type": "code",
   "execution_count": 50,
   "id": "7e835712-6e01-4833-8c19-c9ed9e33c79a",
   "metadata": {},
   "outputs": [
    {
     "data": {
      "text/plain": [
       "array([[ 56.93424541, 131.39805046, 566.65770414],\n",
       "       [118.06419853, 332.4513752 , 925.89442627],\n",
       "       [ 81.00277495, 210.55822709, 708.09899795],\n",
       "       [ 35.74209549,  61.69814098, 442.11976353],\n",
       "       [ 84.10737622, 220.76910368, 726.3435201 ],\n",
       "       [ 64.56196348, 156.4852295 , 611.48280702],\n",
       "       [ 59.43287887, 139.61592959, 581.34119154]])"
      ]
     },
     "execution_count": 50,
     "metadata": {},
     "output_type": "execute_result"
    }
   ],
   "source": [
    "prediction"
   ]
  },
  {
   "cell_type": "code",
   "execution_count": 51,
   "id": "f894dc6f-e093-49a3-931a-749454f6c9e8",
   "metadata": {},
   "outputs": [
    {
     "name": "stderr",
     "output_type": "stream",
     "text": [
      "C:\\Users\\malan\\AppData\\Local\\Temp\\ipykernel_28156\\253873049.py:1: UserWarning: \n",
      "\n",
      "`distplot` is a deprecated function and will be removed in seaborn v0.14.0.\n",
      "\n",
      "Please adapt your code to use either `displot` (a figure-level function with\n",
      "similar flexibility) or `histplot` (an axes-level function for histograms).\n",
      "\n",
      "For a guide to updating your code to use the new functions, please see\n",
      "https://gist.github.com/mwaskom/de44147ed2974457ad6372750bbe5751\n",
      "\n",
      "  sns.distplot((prediction - y_test))\n"
     ]
    },
    {
     "data": {
      "text/plain": [
       "<AxesSubplot: ylabel='Density'>"
      ]
     },
     "execution_count": 51,
     "metadata": {},
     "output_type": "execute_result"
    },
    {
     "data": {
      "image/png": "[encoded data removed]",
      "text/plain": [
       "<Figure size 640x480 with 1 Axes>"
      ]
     },
     "metadata": {},
     "output_type": "display_data"
    }
   ],
   "source": [
    "sns.distplot((prediction - y_test))"
   ]
  },
  {
   "cell_type": "code",
   "execution_count": 57,
   "id": "4898f171-c97f-47ae-8301-1f0a052bb9b5",
   "metadata": {},
   "outputs": [
    {
     "name": "stdin",
     "output_type": "stream",
     "text": [
      "Enter The Percentage :  453.2\n"
     ]
    },
    {
     "name": "stdout",
     "output_type": "stream",
     "text": [
      "Pre-primary : 33.75735193950746 \n",
      "Upper-primary : 33.75735193950746 \n",
      "Secondary : 392.19590635916603\n"
     ]
    },
    {
     "name": "stderr",
     "output_type": "stream",
     "text": [
      "C:\\Users\\malan\\AppData\\Local\\Programs\\Python\\Python310\\lib\\site-packages\\sklearn\\base.py:450: UserWarning: X does not have valid feature names, but LinearRegression was fitted with feature names\n",
      "  warnings.warn(\n"
     ]
    }
   ],
   "source": [
    "obj = float(input(\"Enter The Percentage : \"))\n",
    "l1 = [obj]\n",
    "\n",
    "pre = lm.predict([l1]).tolist()\n",
    "if pre[0][0] < 0 :\n",
    "    pre[0][0] = 0\n",
    "if  pre[0][1] < 0 :\n",
    "    pre[0][1] = 0\n",
    "if pre[0][2] < 0 :\n",
    "    pre[0][2] = 0\n",
    "print(f\"Pre-primary : {pre[0][1]} \\nUpper-primary : {pre[0][1]} \\nSecondary : {pre[0][2]}\")"
   ]
  },
  {
   "cell_type": "code",
   "execution_count": null,
   "id": "2c0fbf5f-91e6-4683-8005-d7fbfc8d832f",
   "metadata": {},
   "outputs": [],
   "source": []
  },
  {
   "cell_type": "code",
   "execution_count": null,
   "id": "d2f9a4ff-eb88-4d22-a428-47b2de8eee7f",
   "metadata": {},
   "outputs": [],
   "source": []
  }
 ],
 "metadata": {
  "kernelspec": {
   "display_name": "Python 3 (ipykernel)",
   "language": "python",
   "name": "python3"
  },
  "language_info": {
   "codemirror_mode": {
    "name": "ipython",
    "version": 3
   },
   "file_extension": ".py",
   "mimetype": "text/x-python",
   "name": "python",
   "nbconvert_exporter": "python",
   "pygments_lexer": "ipython3",
   "version": "3.10.7"
  }
 },
 "nbformat": 4,
 "nbformat_minor": 5
}
