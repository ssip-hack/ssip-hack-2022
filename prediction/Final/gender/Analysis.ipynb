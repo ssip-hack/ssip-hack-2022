{
 "cells": [
  {
   "cell_type": "code",
   "execution_count": 12,
   "id": "697dfda1-b8b1-4ed9-bd55-6ecc81e36a02",
   "metadata": {},
   "outputs": [],
   "source": [
    "import pandas as pd\n",
    "import numpy as np\n",
    "import matplotlib.pyplot as plt\n",
    "import seaborn as sns\n",
    "from sklearn.linear_model import LinearRegression,LogisticRegression\n",
    "from sklearn import metrics\n",
    "from sklearn.model_selection import train_test_split"
   ]
  },
  {
   "cell_type": "code",
   "execution_count": 2,
   "id": "0d3c4be7-a030-48a1-b0e7-f12999216fbf",
   "metadata": {},
   "outputs": [],
   "source": [
    "dd = pd.read_csv('P_gender.csv')"
   ]
  },
  {
   "cell_type": "code",
   "execution_count": 3,
   "id": "3e309313-7a57-4cdb-aeda-4714018ee177",
   "metadata": {},
   "outputs": [
    {
     "data": {
      "text/html": [
       "<div>\n",
       "<style scoped>\n",
       "    .dataframe tbody tr th:only-of-type {\n",
       "        vertical-align: middle;\n",
       "    }\n",
       "\n",
       "    .dataframe tbody tr th {\n",
       "        vertical-align: top;\n",
       "    }\n",
       "\n",
       "    .dataframe thead th {\n",
       "        text-align: right;\n",
       "    }\n",
       "</style>\n",
       "<table border=\"1\" class=\"dataframe\">\n",
       "  <thead>\n",
       "    <tr style=\"text-align: right;\">\n",
       "      <th></th>\n",
       "      <th>Location</th>\n",
       "      <th>Social Category</th>\n",
       "      <th>Girls</th>\n",
       "      <th>Boys</th>\n",
       "      <th>Overall</th>\n",
       "      <th>Girls.1</th>\n",
       "      <th>Boys.1</th>\n",
       "      <th>Overall.1</th>\n",
       "      <th>Girls.2</th>\n",
       "      <th>Boys.2</th>\n",
       "      <th>Overall.2</th>\n",
       "    </tr>\n",
       "  </thead>\n",
       "  <tbody>\n",
       "    <tr>\n",
       "      <th>0</th>\n",
       "      <td>AHMEDABAD</td>\n",
       "      <td>General</td>\n",
       "      <td>0.00</td>\n",
       "      <td>0.00</td>\n",
       "      <td>0.00</td>\n",
       "      <td>0.00</td>\n",
       "      <td>0.00</td>\n",
       "      <td>0.00</td>\n",
       "      <td>8.02</td>\n",
       "      <td>12.34</td>\n",
       "      <td>10.54</td>\n",
       "    </tr>\n",
       "    <tr>\n",
       "      <th>1</th>\n",
       "      <td>AHMEDABAD</td>\n",
       "      <td>OBC</td>\n",
       "      <td>0.64</td>\n",
       "      <td>1.10</td>\n",
       "      <td>0.89</td>\n",
       "      <td>9.37</td>\n",
       "      <td>4.14</td>\n",
       "      <td>6.46</td>\n",
       "      <td>18.43</td>\n",
       "      <td>23.13</td>\n",
       "      <td>21.40</td>\n",
       "    </tr>\n",
       "    <tr>\n",
       "      <th>2</th>\n",
       "      <td>AHMEDABAD</td>\n",
       "      <td>SC</td>\n",
       "      <td>0.00</td>\n",
       "      <td>0.00</td>\n",
       "      <td>0.00</td>\n",
       "      <td>0.00</td>\n",
       "      <td>4.13</td>\n",
       "      <td>1.26</td>\n",
       "      <td>0.00</td>\n",
       "      <td>10.65</td>\n",
       "      <td>6.08</td>\n",
       "    </tr>\n",
       "    <tr>\n",
       "      <th>3</th>\n",
       "      <td>AHMEDABAD</td>\n",
       "      <td>ST</td>\n",
       "      <td>5.92</td>\n",
       "      <td>5.72</td>\n",
       "      <td>5.81</td>\n",
       "      <td>9.68</td>\n",
       "      <td>13.69</td>\n",
       "      <td>12.07</td>\n",
       "      <td>24.31</td>\n",
       "      <td>10.94</td>\n",
       "      <td>16.57</td>\n",
       "    </tr>\n",
       "    <tr>\n",
       "      <th>4</th>\n",
       "      <td>AMRELI</td>\n",
       "      <td>General</td>\n",
       "      <td>0.87</td>\n",
       "      <td>0.00</td>\n",
       "      <td>0.00</td>\n",
       "      <td>0.00</td>\n",
       "      <td>0.00</td>\n",
       "      <td>0.00</td>\n",
       "      <td>1.56</td>\n",
       "      <td>11.80</td>\n",
       "      <td>6.97</td>\n",
       "    </tr>\n",
       "  </tbody>\n",
       "</table>\n",
       "</div>"
      ],
      "text/plain": [
       "    Location Social Category  Girls  Boys  Overall  Girls.1  Boys.1  \\\n",
       "0  AHMEDABAD         General   0.00  0.00     0.00     0.00    0.00   \n",
       "1  AHMEDABAD             OBC   0.64  1.10     0.89     9.37    4.14   \n",
       "2  AHMEDABAD              SC   0.00  0.00     0.00     0.00    4.13   \n",
       "3  AHMEDABAD              ST   5.92  5.72     5.81     9.68   13.69   \n",
       "4     AMRELI         General   0.87  0.00     0.00     0.00    0.00   \n",
       "\n",
       "   Overall.1  Girls.2  Boys.2  Overall.2  \n",
       "0       0.00     8.02   12.34      10.54  \n",
       "1       6.46    18.43   23.13      21.40  \n",
       "2       1.26     0.00   10.65       6.08  \n",
       "3      12.07    24.31   10.94      16.57  \n",
       "4       0.00     1.56   11.80       6.97  "
      ]
     },
     "execution_count": 3,
     "metadata": {},
     "output_type": "execute_result"
    }
   ],
   "source": [
    "dd.head()"
   ]
  },
  {
   "cell_type": "code",
   "execution_count": 4,
   "id": "0d9d8d67-8f6d-4f04-9fdb-0247286e89fb",
   "metadata": {},
   "outputs": [],
   "source": [
    "boys=[]\n",
    "girls = []\n",
    "overall = []\n",
    "for i in range(len(dd)):\n",
    "    Gtemp = dd['Girls'][i] + dd['Girls.1'][i] + dd['Girls.2'][i]\n",
    "    Btemp = dd['Boys'][i] + dd['Boys.1'][i] + dd['Boys.2'][i]\n",
    "    Otemp = Gtemp + Btemp\n",
    "    girls.append(Gtemp)\n",
    "    boys.append(Btemp)\n",
    "    overall.append(Otemp)"
   ]
  },
  {
   "cell_type": "code",
   "execution_count": 5,
   "id": "3af6d2c8-f7a8-4423-8572-448a806942c0",
   "metadata": {},
   "outputs": [],
   "source": [
    "GenderData = list(zip(boys,girls,overall))"
   ]
  },
  {
   "cell_type": "code",
   "execution_count": 6,
   "id": "15651b84-6865-4853-98f7-97027684c425",
   "metadata": {},
   "outputs": [],
   "source": [
    "final_Gender_Data = pd.DataFrame(GenderData , columns=['Male' , 'Female' , 'Overall'])"
   ]
  },
  {
   "cell_type": "code",
   "execution_count": 7,
   "id": "e74b6793-61da-4ec8-aea7-42a5888d1dca",
   "metadata": {},
   "outputs": [],
   "source": [
    "final_Gender_Data.to_csv('C_gender.csv')"
   ]
  },
  {
   "cell_type": "code",
   "execution_count": 9,
   "id": "dc8a3330-9473-4c64-8cd4-8fae1dce3894",
   "metadata": {},
   "outputs": [
    {
     "data": {
      "text/html": [
       "<div>\n",
       "<style scoped>\n",
       "    .dataframe tbody tr th:only-of-type {\n",
       "        vertical-align: middle;\n",
       "    }\n",
       "\n",
       "    .dataframe tbody tr th {\n",
       "        vertical-align: top;\n",
       "    }\n",
       "\n",
       "    .dataframe thead th {\n",
       "        text-align: right;\n",
       "    }\n",
       "</style>\n",
       "<table border=\"1\" class=\"dataframe\">\n",
       "  <thead>\n",
       "    <tr style=\"text-align: right;\">\n",
       "      <th></th>\n",
       "      <th>Male</th>\n",
       "      <th>Female</th>\n",
       "      <th>Overall</th>\n",
       "    </tr>\n",
       "  </thead>\n",
       "  <tbody>\n",
       "    <tr>\n",
       "      <th>count</th>\n",
       "      <td>1160.000000</td>\n",
       "      <td>1160.000000</td>\n",
       "      <td>1160.000000</td>\n",
       "    </tr>\n",
       "    <tr>\n",
       "      <th>mean</th>\n",
       "      <td>34.558336</td>\n",
       "      <td>32.950914</td>\n",
       "      <td>67.509250</td>\n",
       "    </tr>\n",
       "    <tr>\n",
       "      <th>std</th>\n",
       "      <td>23.873712</td>\n",
       "      <td>25.178034</td>\n",
       "      <td>47.953628</td>\n",
       "    </tr>\n",
       "    <tr>\n",
       "      <th>min</th>\n",
       "      <td>0.000000</td>\n",
       "      <td>0.000000</td>\n",
       "      <td>0.000000</td>\n",
       "    </tr>\n",
       "    <tr>\n",
       "      <th>25%</th>\n",
       "      <td>21.282500</td>\n",
       "      <td>18.150000</td>\n",
       "      <td>40.452500</td>\n",
       "    </tr>\n",
       "    <tr>\n",
       "      <th>50%</th>\n",
       "      <td>31.170000</td>\n",
       "      <td>29.510000</td>\n",
       "      <td>60.880000</td>\n",
       "    </tr>\n",
       "    <tr>\n",
       "      <th>75%</th>\n",
       "      <td>41.775000</td>\n",
       "      <td>41.087500</td>\n",
       "      <td>82.910000</td>\n",
       "    </tr>\n",
       "    <tr>\n",
       "      <th>max</th>\n",
       "      <td>216.030000</td>\n",
       "      <td>220.710000</td>\n",
       "      <td>436.740000</td>\n",
       "    </tr>\n",
       "  </tbody>\n",
       "</table>\n",
       "</div>"
      ],
      "text/plain": [
       "              Male       Female      Overall\n",
       "count  1160.000000  1160.000000  1160.000000\n",
       "mean     34.558336    32.950914    67.509250\n",
       "std      23.873712    25.178034    47.953628\n",
       "min       0.000000     0.000000     0.000000\n",
       "25%      21.282500    18.150000    40.452500\n",
       "50%      31.170000    29.510000    60.880000\n",
       "75%      41.775000    41.087500    82.910000\n",
       "max     216.030000   220.710000   436.740000"
      ]
     },
     "execution_count": 9,
     "metadata": {},
     "output_type": "execute_result"
    }
   ],
   "source": [
    "final_Gender_Data.describe()"
   ]
  },
  {
   "cell_type": "code",
   "execution_count": 10,
   "id": "f3e1f1ad-056c-449b-a896-531400280173",
   "metadata": {},
   "outputs": [],
   "source": [
    "x = final_Gender_Data[['Overall']]\n",
    "y = final_Gender_Data[['Male' , 'Female']]"
   ]
  },
  {
   "cell_type": "code",
   "execution_count": 13,
   "id": "1e0353b0-a97a-40ae-ac61-1a536506edce",
   "metadata": {},
   "outputs": [],
   "source": [
    "x_train, x_test, y_train, y_test = train_test_split(x, y , random_state=67 , train_size=0.8 , test_size =  0.2)"
   ]
  },
  {
   "cell_type": "code",
   "execution_count": 14,
   "id": "7585eb77-3fb4-477e-92a3-5e451d4a1767",
   "metadata": {},
   "outputs": [],
   "source": [
    "lm = LinearRegression()"
   ]
  },
  {
   "cell_type": "code",
   "execution_count": 15,
   "id": "ae88f70b-3757-4dfa-b5eb-d97125907bfd",
   "metadata": {},
   "outputs": [
    {
     "data": {
      "text/html": [
       "<style>#sk-container-id-1 {color: black;background-color: white;}#sk-container-id-1 pre{padding: 0;}#sk-container-id-1 div.sk-toggleable {background-color: white;}#sk-container-id-1 label.sk-toggleable__label {cursor: pointer;display: block;width: 100%;margin-bottom: 0;padding: 0.3em;box-sizing: border-box;text-align: center;}#sk-container-id-1 label.sk-toggleable__label-arrow:before {content: \"▸\";float: left;margin-right: 0.25em;color: #696969;}#sk-container-id-1 label.sk-toggleable__label-arrow:hover:before {color: black;}#sk-container-id-1 div.sk-estimator:hover label.sk-toggleable__label-arrow:before {color: black;}#sk-container-id-1 div.sk-toggleable__content {max-height: 0;max-width: 0;overflow: hidden;text-align: left;background-color: #f0f8ff;}#sk-container-id-1 div.sk-toggleable__content pre {margin: 0.2em;color: black;border-radius: 0.25em;background-color: #f0f8ff;}#sk-container-id-1 input.sk-toggleable__control:checked~div.sk-toggleable__content {max-height: 200px;max-width: 100%;overflow: auto;}#sk-container-id-1 input.sk-toggleable__control:checked~label.sk-toggleable__label-arrow:before {content: \"▾\";}#sk-container-id-1 div.sk-estimator input.sk-toggleable__control:checked~label.sk-toggleable__label {background-color: #d4ebff;}#sk-container-id-1 div.sk-label input.sk-toggleable__control:checked~label.sk-toggleable__label {background-color: #d4ebff;}#sk-container-id-1 input.sk-hidden--visually {border: 0;clip: rect(1px 1px 1px 1px);clip: rect(1px, 1px, 1px, 1px);height: 1px;margin: -1px;overflow: hidden;padding: 0;position: absolute;width: 1px;}#sk-container-id-1 div.sk-estimator {font-family: monospace;background-color: #f0f8ff;border: 1px dotted black;border-radius: 0.25em;box-sizing: border-box;margin-bottom: 0.5em;}#sk-container-id-1 div.sk-estimator:hover {background-color: #d4ebff;}#sk-container-id-1 div.sk-parallel-item::after {content: \"\";width: 100%;border-bottom: 1px solid gray;flex-grow: 1;}#sk-container-id-1 div.sk-label:hover label.sk-toggleable__label {background-color: #d4ebff;}#sk-container-id-1 div.sk-serial::before {content: \"\";position: absolute;border-left: 1px solid gray;box-sizing: border-box;top: 0;bottom: 0;left: 50%;z-index: 0;}#sk-container-id-1 div.sk-serial {display: flex;flex-direction: column;align-items: center;background-color: white;padding-right: 0.2em;padding-left: 0.2em;position: relative;}#sk-container-id-1 div.sk-item {position: relative;z-index: 1;}#sk-container-id-1 div.sk-parallel {display: flex;align-items: stretch;justify-content: center;background-color: white;position: relative;}#sk-container-id-1 div.sk-item::before, #sk-container-id-1 div.sk-parallel-item::before {content: \"\";position: absolute;border-left: 1px solid gray;box-sizing: border-box;top: 0;bottom: 0;left: 50%;z-index: -1;}#sk-container-id-1 div.sk-parallel-item {display: flex;flex-direction: column;z-index: 1;position: relative;background-color: white;}#sk-container-id-1 div.sk-parallel-item:first-child::after {align-self: flex-end;width: 50%;}#sk-container-id-1 div.sk-parallel-item:last-child::after {align-self: flex-start;width: 50%;}#sk-container-id-1 div.sk-parallel-item:only-child::after {width: 0;}#sk-container-id-1 div.sk-dashed-wrapped {border: 1px dashed gray;margin: 0 0.4em 0.5em 0.4em;box-sizing: border-box;padding-bottom: 0.4em;background-color: white;}#sk-container-id-1 div.sk-label label {font-family: monospace;font-weight: bold;display: inline-block;line-height: 1.2em;}#sk-container-id-1 div.sk-label-container {text-align: center;}#sk-container-id-1 div.sk-container {/* jupyter's `normalize.less` sets `[hidden] { display: none; }` but bootstrap.min.css set `[hidden] { display: none !important; }` so we also need the `!important` here to be able to override the default hidden behavior on the sphinx rendered scikit-learn.org. See: https://github.com/scikit-learn/scikit-learn/issues/21755 */display: inline-block !important;position: relative;}#sk-container-id-1 div.sk-text-repr-fallback {display: none;}</style><div id=\"sk-container-id-1\" class=\"sk-top-container\"><div class=\"sk-text-repr-fallback\"><pre>LinearRegression()</pre><b>In a Jupyter environment, please rerun this cell to show the HTML representation or trust the notebook. <br />On GitHub, the HTML representation is unable to render, please try loading this page with nbviewer.org.</b></div><div class=\"sk-container\" hidden><div class=\"sk-item\"><div class=\"sk-estimator sk-toggleable\"><input class=\"sk-toggleable__control sk-hidden--visually\" id=\"sk-estimator-id-1\" type=\"checkbox\" checked><label for=\"sk-estimator-id-1\" class=\"sk-toggleable__label sk-toggleable__label-arrow\">LinearRegression</label><div class=\"sk-toggleable__content\"><pre>LinearRegression()</pre></div></div></div></div></div>"
      ],
      "text/plain": [
       "LinearRegression()"
      ]
     },
     "execution_count": 15,
     "metadata": {},
     "output_type": "execute_result"
    }
   ],
   "source": [
    "lm.fit(x_train, y_train)"
   ]
  },
  {
   "cell_type": "code",
   "execution_count": 16,
   "id": "80bae4f6-9cfc-41fd-a2d3-707fce3cd557",
   "metadata": {},
   "outputs": [
    {
     "data": {
      "text/plain": [
       "array([[0.48510918],\n",
       "       [0.51489082]])"
      ]
     },
     "execution_count": 16,
     "metadata": {},
     "output_type": "execute_result"
    }
   ],
   "source": [
    "lm.coef_"
   ]
  },
  {
   "cell_type": "code",
   "execution_count": 17,
   "id": "145bcad5-ac61-4e30-a4e2-bfdf6131893e",
   "metadata": {},
   "outputs": [
    {
     "data": {
      "text/plain": [
       "array([ 1.74112641, -1.74112641])"
      ]
     },
     "execution_count": 17,
     "metadata": {},
     "output_type": "execute_result"
    }
   ],
   "source": [
    "lm.intercept_"
   ]
  },
  {
   "cell_type": "code",
   "execution_count": 18,
   "id": "3453e9fd-caf5-4469-9f34-56dc7065b27f",
   "metadata": {},
   "outputs": [],
   "source": [
    "predict = lm.predict(x_test)"
   ]
  },
  {
   "cell_type": "code",
   "execution_count": 19,
   "id": "6d8f0367-ee5f-4a72-862b-932866dc6682",
   "metadata": {},
   "outputs": [],
   "source": [
    "Mean_error = metrics.mean_absolute_error(y_test , predict)"
   ]
  },
  {
   "cell_type": "code",
   "execution_count": 20,
   "id": "23951631-dfd1-4517-a0d8-2b5e490200b4",
   "metadata": {},
   "outputs": [],
   "source": [
    "def prediction_gender(l1):\n",
    "    return lm.predict([l1]).tolist()"
   ]
  },
  {
   "cell_type": "code",
   "execution_count": 23,
   "id": "3097ae12-2b9a-4fb3-8611-befc8f75d7b1",
   "metadata": {},
   "outputs": [
    {
     "name": "stdout",
     "output_type": "stream",
     "text": [
      "Male : 34.4904829981256 \n",
      "Female : 33.018767001874444\n"
     ]
    },
    {
     "name": "stderr",
     "output_type": "stream",
     "text": [
      "C:\\Users\\malan\\AppData\\Local\\Programs\\Python\\Python310\\lib\\site-packages\\sklearn\\base.py:450: UserWarning: X does not have valid feature names, but LinearRegression was fitted with feature names\n",
      "  warnings.warn(\n"
     ]
    }
   ],
   "source": [
    "obj = sum(final_Gender_Data['Overall']) / len(final_Gender_Data)\n",
    "ol = [obj]\n",
    "pre = prediction_gender(ol)\n",
    "print(f'Male : {pre[0][0]} \\nFemale : {pre[0][1]}')"
   ]
  },
  {
   "cell_type": "code",
   "execution_count": null,
   "id": "1cd9a5cd-2b8f-4045-bdf7-08fbfda21468",
   "metadata": {},
   "outputs": [],
   "source": []
  }
 ],
 "metadata": {
  "kernelspec": {
   "display_name": "Python 3 (ipykernel)",
   "language": "python",
   "name": "python3"
  },
  "language_info": {
   "codemirror_mode": {
    "name": "ipython",
    "version": 3
   },
   "file_extension": ".py",
   "mimetype": "text/x-python",
   "name": "python",
   "nbconvert_exporter": "python",
   "pygments_lexer": "ipython3",
   "version": "3.10.7"
  }
 },
 "nbformat": 4,
 "nbformat_minor": 5
}
