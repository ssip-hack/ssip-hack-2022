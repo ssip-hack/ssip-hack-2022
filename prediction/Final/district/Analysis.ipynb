{
 "cells": [
  {
   "cell_type": "code",
   "execution_count": 2,
   "id": "ea5a9a9d-4f52-4024-8de1-4e4ce5f3962d",
   "metadata": {},
   "outputs": [],
   "source": [
    "import pandas as pd\n",
    "import numpy as np\n",
    "import matplotlib.pyplot as plt\n",
    "import seaborn as sns\n",
    "from sklearn.model_selection import train_test_split\n",
    "from sklearn.linear_model import LinearRegression , LogisticRegression\n",
    "from sklearn import metrics"
   ]
  },
  {
   "cell_type": "code",
   "execution_count": 3,
   "id": "de64b887-48ca-4ea2-a663-bc9195dfe50b",
   "metadata": {},
   "outputs": [
    {
     "data": {
      "text/html": [
       "<div>\n",
       "<style scoped>\n",
       "    .dataframe tbody tr th:only-of-type {\n",
       "        vertical-align: middle;\n",
       "    }\n",
       "\n",
       "    .dataframe tbody tr th {\n",
       "        vertical-align: top;\n",
       "    }\n",
       "\n",
       "    .dataframe thead th {\n",
       "        text-align: right;\n",
       "    }\n",
       "</style>\n",
       "<table border=\"1\" class=\"dataframe\">\n",
       "  <thead>\n",
       "    <tr style=\"text-align: right;\">\n",
       "      <th></th>\n",
       "      <th>Location</th>\n",
       "      <th>Social Category</th>\n",
       "      <th>Girls</th>\n",
       "      <th>Boys</th>\n",
       "      <th>Overall</th>\n",
       "      <th>Girls.1</th>\n",
       "      <th>Boys.1</th>\n",
       "      <th>Overall.1</th>\n",
       "      <th>Girls.2</th>\n",
       "      <th>Boys.2</th>\n",
       "      <th>Overall.2</th>\n",
       "    </tr>\n",
       "  </thead>\n",
       "  <tbody>\n",
       "    <tr>\n",
       "      <th>0</th>\n",
       "      <td>AHMEDABAD</td>\n",
       "      <td>General</td>\n",
       "      <td>0.00</td>\n",
       "      <td>0.0</td>\n",
       "      <td>0.00</td>\n",
       "      <td>0.00</td>\n",
       "      <td>0.00</td>\n",
       "      <td>0.00</td>\n",
       "      <td>8.02</td>\n",
       "      <td>12.34</td>\n",
       "      <td>10.54</td>\n",
       "    </tr>\n",
       "    <tr>\n",
       "      <th>1</th>\n",
       "      <td>AHMEDABAD</td>\n",
       "      <td>OBC</td>\n",
       "      <td>0.64</td>\n",
       "      <td>1.1</td>\n",
       "      <td>0.89</td>\n",
       "      <td>9.37</td>\n",
       "      <td>4.14</td>\n",
       "      <td>6.46</td>\n",
       "      <td>18.43</td>\n",
       "      <td>23.13</td>\n",
       "      <td>21.40</td>\n",
       "    </tr>\n",
       "  </tbody>\n",
       "</table>\n",
       "</div>"
      ],
      "text/plain": [
       "    Location Social Category  Girls  Boys  Overall  Girls.1  Boys.1  \\\n",
       "0  AHMEDABAD         General   0.00   0.0     0.00     0.00    0.00   \n",
       "1  AHMEDABAD             OBC   0.64   1.1     0.89     9.37    4.14   \n",
       "\n",
       "   Overall.1  Girls.2  Boys.2  Overall.2  \n",
       "0       0.00     8.02   12.34      10.54  \n",
       "1       6.46    18.43   23.13      21.40  "
      ]
     },
     "execution_count": 3,
     "metadata": {},
     "output_type": "execute_result"
    }
   ],
   "source": [
    "dd = pd.read_csv('District.csv')\n",
    "dd.head(2)"
   ]
  },
  {
   "cell_type": "code",
   "execution_count": 4,
   "id": "943baacd-7cc5-4d77-b62c-01e769536eca",
   "metadata": {},
   "outputs": [],
   "source": [
    "AHMEDABAD = []\n",
    "AMRELI = []\n",
    "ANAND = []\n",
    "ARAVALLI = []\n",
    "BANAS_KANTHA = []\n",
    "BHARUCH = [] \n",
    "BHAVNAGAR = []\n",
    "BOTAD = [] \n",
    "CHHOTAUDEPUR = []\n",
    "DEVBHOOMI_DWARKA = []\n",
    "DOHAD = []\n",
    "GANDHINAGAR = []\n",
    "GIR_SOMNATH = []\n",
    "JAMNAGAR = []\n",
    "JUNAGADH = [] \n",
    "KACHCHH = []\n",
    "KHEDA = []\n",
    "MAHESANA = []\n",
    "MAHISAGAR = []\n",
    "MORBI = []\n",
    "NARMADA = [] \n",
    "NAVSARI = []\n",
    "PANCH_MAHALS = []\n",
    "PATAN = []\n",
    "PORBANDAR = []\n",
    "RAJKOT = []\n",
    "SABAR_KANTHA = []\n",
    "SURENDRANAGAR = []\n",
    "SURAT = []\n",
    "TAPI = [] \n",
    "THE_DANGS = []\n",
    "VADODARA = []\n",
    "VALSAD = []\n",
    "\n",
    "for i in range(len(dd)):\n",
    "    if dd['Location'][i] == 'AHMEDABAD':\n",
    "        AHMEDABAD.append([dd['Boys'][i] , dd['Boys.1'][i] , dd['Boys.2'][i] ,dd['Girls'][i] ,dd['Girls.1'][i], dd['Girls.1'][i]])\n",
    "    if dd['Location'][i] == 'AMRELI':\n",
    "        AMRELI.append([dd['Boys'][i] , dd['Boys.1'][i] , dd['Boys.2'][i] ,dd['Girls'][i] ,dd['Girls.1'][i], dd['Girls.1'][i]])\n",
    "    if dd['Location'][i] == 'ANAND':\n",
    "        ANAND.append([dd['Boys'][i] , dd['Boys.1'][i] , dd['Boys.2'][i] ,dd['Girls'][i] ,dd['Girls.1'][i], dd['Girls.1'][i]])\n",
    "    if dd['Location'][i] == 'ARAVALLI':\n",
    "        ARAVALLI.append([dd['Boys'][i] , dd['Boys.1'][i] , dd['Boys.2'][i] ,dd['Girls'][i] ,dd['Girls.1'][i], dd['Girls.1'][i]])\n",
    "    if dd['Location'][i] == 'BANAS KANTHA':\n",
    "        BANAS_KANTHA.append([dd['Boys'][i] , dd['Boys.1'][i] , dd['Boys.2'][i] ,dd['Girls'][i] ,dd['Girls.1'][i], dd['Girls.1'][i]])\n",
    "    if dd['Location'][i] == 'BHARUCH':\n",
    "        BHARUCH.append([dd['Boys'][i] , dd['Boys.1'][i] , dd['Boys.2'][i] ,dd['Girls'][i] ,dd['Girls.1'][i], dd['Girls.1'][i]])\n",
    "    if dd['Location'][i] == 'BHAVNAGAR':\n",
    "        BHAVNAGAR.append([dd['Boys'][i] , dd['Boys.1'][i] , dd['Boys.2'][i] ,dd['Girls'][i] ,dd['Girls.1'][i], dd['Girls.1'][i]])\n",
    "    if dd['Location'][i] == 'BOTAD':\n",
    "        BOTAD.append([dd['Boys'][i] , dd['Boys.1'][i] , dd['Boys.2'][i] ,dd['Girls'][i] ,dd['Girls.1'][i], dd['Girls.1'][i]])\n",
    "    if dd['Location'][i] == 'CHHOTAUDEPUR':\n",
    "        CHHOTAUDEPUR.append([dd['Boys'][i] , dd['Boys.1'][i] , dd['Boys.2'][i] ,dd['Girls'][i] ,dd['Girls.1'][i], dd['Girls.1'][i]])\n",
    "    if dd['Location'][i] == 'DEVBHOOMI DWARKA':\n",
    "        DEVBHOOMI_DWARKA.append([dd['Boys'][i] , dd['Boys.1'][i] , dd['Boys.2'][i] ,dd['Girls'][i] ,dd['Girls.1'][i], dd['Girls.1'][i]])\n",
    "    if dd['Location'][i] == 'DOHAD':\n",
    "        DOHAD.append([dd['Boys'][i] , dd['Boys.1'][i] , dd['Boys.2'][i] ,dd['Girls'][i] ,dd['Girls.1'][i], dd['Girls.1'][i]])\n",
    "    if dd['Location'][i] == 'GANDHINAGAR':\n",
    "        GANDHINAGAR.append([dd['Boys'][i] , dd['Boys.1'][i] , dd['Boys.2'][i] ,dd['Girls'][i] ,dd['Girls.1'][i], dd['Girls.1'][i]])\n",
    "    if dd['Location'][i] == 'GIR SOMNATH':\n",
    "        GIR_SOMNATH.append([dd['Boys'][i] , dd['Boys.1'][i] , dd['Boys.2'][i] ,dd['Girls'][i] ,dd['Girls.1'][i], dd['Girls.1'][i]])\n",
    "    if dd['Location'][i] == 'JAMNAGAR':\n",
    "        JAMNAGAR.append([dd['Boys'][i] , dd['Boys.1'][i] , dd['Boys.2'][i] ,dd['Girls'][i] ,dd['Girls.1'][i], dd['Girls.1'][i]])\n",
    "    if dd['Location'][i] == 'JUNAGADH':\n",
    "        JUNAGADH.append([dd['Boys'][i] , dd['Boys.1'][i] , dd['Boys.2'][i] ,dd['Girls'][i] ,dd['Girls.1'][i], dd['Girls.1'][i]])\n",
    "    if dd['Location'][i] == 'KACHCHH':\n",
    "        KACHCHH.append([dd['Boys'][i] , dd['Boys.1'][i] , dd['Boys.2'][i] ,dd['Girls'][i] ,dd['Girls.1'][i], dd['Girls.1'][i]])\n",
    "    if dd['Location'][i] == 'KHEDA':\n",
    "        KHEDA.append([dd['Boys'][i] , dd['Boys.1'][i] , dd['Boys.2'][i] ,dd['Girls'][i] ,dd['Girls.1'][i], dd['Girls.1'][i]])\n",
    "    if dd['Location'][i] == 'MAHESANA':\n",
    "        MAHESANA.append([dd['Boys'][i] , dd['Boys.1'][i] , dd['Boys.2'][i] ,dd['Girls'][i] ,dd['Girls.1'][i], dd['Girls.1'][i]])\n",
    "    if dd['Location'][i] == 'MAHISAGAR':\n",
    "        MAHISAGAR.append([dd['Boys'][i] , dd['Boys.1'][i] , dd['Boys.2'][i] ,dd['Girls'][i] ,dd['Girls.1'][i], dd['Girls.1'][i]])\n",
    "    if dd['Location'][i] == 'MORBI':\n",
    "        MORBI.append([dd['Boys'][i] , dd['Boys.1'][i] , dd['Boys.2'][i] ,dd['Girls'][i] ,dd['Girls.1'][i], dd['Girls.1'][i]])\n",
    "    if dd['Location'][i] == 'NARMADA':\n",
    "        NARMADA.append([dd['Boys'][i] , dd['Boys.1'][i] , dd['Boys.2'][i] ,dd['Girls'][i] ,dd['Girls.1'][i], dd['Girls.1'][i]])\n",
    "    if dd['Location'][i] == 'NAVSARI':\n",
    "        NAVSARI.append([dd['Boys'][i] , dd['Boys.1'][i] , dd['Boys.2'][i] ,dd['Girls'][i] ,dd['Girls.1'][i], dd['Girls.1'][i]])\n",
    "    if dd['Location'][i] == 'PANCH MAHALS':\n",
    "        PANCH_MAHALS.append([dd['Boys'][i] , dd['Boys.1'][i] , dd['Boys.2'][i] ,dd['Girls'][i] ,dd['Girls.1'][i], dd['Girls.1'][i]])\n",
    "    if dd['Location'][i] == 'PATAN':\n",
    "        PATAN.append([dd['Boys'][i] , dd['Boys.1'][i] , dd['Boys.2'][i] ,dd['Girls'][i] ,dd['Girls.1'][i], dd['Girls.1'][i]])\n",
    "    if dd['Location'][i] == 'PORBANDAR':\n",
    "        PORBANDAR.append([dd['Boys'][i] , dd['Boys.1'][i] , dd['Boys.2'][i] ,dd['Girls'][i] ,dd['Girls.1'][i], dd['Girls.1'][i]])\n",
    "    if dd['Location'][i] == 'RAJKOT':\n",
    "        RAJKOT.append([dd['Boys'][i] , dd['Boys.1'][i] , dd['Boys.2'][i] ,dd['Girls'][i] ,dd['Girls.1'][i], dd['Girls.1'][i]])\n",
    "    if dd['Location'][i] == 'SABAR KANTHA':\n",
    "        SABAR_KANTHA.append([dd['Boys'][i] , dd['Boys.1'][i] , dd['Boys.2'][i] ,dd['Girls'][i] ,dd['Girls.1'][i], dd['Girls.1'][i]])\n",
    "    if dd['Location'][i] == 'SURAT':\n",
    "        SURAT.append([dd['Boys'][i] , dd['Boys.1'][i] , dd['Boys.2'][i] ,dd['Girls'][i] ,dd['Girls.1'][i], dd['Girls.1'][i]])\n",
    "    if dd['Location'][i] == 'SURENDRANAGAR':\n",
    "        SURENDRANAGAR.append([dd['Boys'][i] , dd['Boys.1'][i] , dd['Boys.2'][i] ,dd['Girls'][i] ,dd['Girls.1'][i], dd['Girls.1'][i]])\n",
    "    if dd['Location'][i] == 'TAPI':\n",
    "        TAPI.append([dd['Boys'][i] , dd['Boys.1'][i] , dd['Boys.2'][i] ,dd['Girls'][i] ,dd['Girls.1'][i], dd['Girls.1'][i]])\n",
    "    if dd['Location'][i] == 'THE DANGS':\n",
    "        THE_DANGS.append([dd['Boys'][i] , dd['Boys.1'][i] , dd['Boys.2'][i] ,dd['Girls'][i] ,dd['Girls.1'][i], dd['Girls.1'][i]])\n",
    "    if dd['Location'][i] == 'VADODARA':\n",
    "        VADODARA.append([dd['Boys'][i] , dd['Boys.1'][i] , dd['Boys.2'][i] ,dd['Girls'][i] ,dd['Girls.1'][i], dd['Girls.1'][i]])\n",
    "    if dd['Location'][i] == 'VALSAD':\n",
    "        VALSAD.append([dd['Boys'][i] , dd['Boys.1'][i] , dd['Boys.2'][i] ,dd['Girls'][i] ,dd['Girls.1'][i], dd['Girls.1'][i]])        "
   ]
  },
  {
   "cell_type": "code",
   "execution_count": 5,
   "id": "4b5ac65d-9b74-4894-a5fc-0ae67388a3e4",
   "metadata": {},
   "outputs": [
    {
     "data": {
      "text/plain": [
       "36"
      ]
     },
     "execution_count": 5,
     "metadata": {},
     "output_type": "execute_result"
    }
   ],
   "source": [
    "len(AHMEDABAD)"
   ]
  },
  {
   "cell_type": "code",
   "execution_count": 6,
   "id": "c7aad7e1-252c-4ce8-8083-606237afc7ae",
   "metadata": {},
   "outputs": [
    {
     "name": "stdout",
     "output_type": "stream",
     "text": [
      "2023.3599999999994\n"
     ]
    }
   ],
   "source": [
    "# Convert the 2D List into the 1D List\n",
    "def List_con(l1):\n",
    "    temp = []\n",
    "    for i in l1:\n",
    "        if type(i) == list:\n",
    "            for j in i:\n",
    "                temp.append(j)\n",
    "        else:\n",
    "            temp.append(i)\n",
    "    return temp\n",
    "x = List_con(AHMEDABAD)\n",
    "print(sum(x))"
   ]
  },
  {
   "cell_type": "code",
   "execution_count": 7,
   "id": "633d9823-652f-4afd-bdef-8db01da7f814",
   "metadata": {},
   "outputs": [],
   "source": [
    "x1 = sum(List_con(AHMEDABAD))"
   ]
  },
  {
   "cell_type": "code",
   "execution_count": 8,
   "id": "b8483c73-8e02-4adb-acd0-78c27b421690",
   "metadata": {},
   "outputs": [],
   "source": [
    "dic = {'AHMEDABAD' : sum(List_con(AHMEDABAD)) ,'AMRELI' : sum(List_con(AMRELI)) ,'ANAND' : sum(List_con(ANAND)) ,'ARAVALLI' : sum(List_con(ARAVALLI)) ,'BANAS_KANTHA' : sum(List_con(BANAS_KANTHA)) ,'BHARUCH' : sum(List_con(BHARUCH))  ,'BHAVNAGAR' : sum(List_con(BHAVNAGAR)) ,'BOTAD' : sum(List_con(BOTAD))  ,'CHHOTAUDEPUR' : sum(List_con(CHHOTAUDEPUR)) ,'DEVBHOOMI_DWARKA' : sum(List_con(DEVBHOOMI_DWARKA)) ,'DOHAD' : sum(List_con(DOHAD)) ,'GANDHINAGAR' : sum(List_con(GANDHINAGAR)) ,'GIR_SOMNATH' : sum(List_con(GIR_SOMNATH)) ,'JAMNAGAR' : sum(List_con(JAMNAGAR)) ,'JUNAGADH' : sum(List_con(JUNAGADH))  ,'KACHCHH' : sum(List_con(KACHCHH)) ,'KHEDA' : sum(List_con(KHEDA)) ,'MAHESANA' : sum(List_con(MAHESANA)) ,'MAHISAGAR' : sum(List_con(MAHISAGAR)) ,'MORBI' : sum(List_con(MORBI)) ,'NARMADA' : sum(List_con(NARMADA))  ,'NAVSARI' : sum(List_con(NAVSARI)) ,'PANCH_MAHALS' : sum(List_con(PANCH_MAHALS)) ,'PATAN' : sum(List_con(PATAN)) ,'PORBANDAR' : sum(List_con(PORBANDAR)) ,'RAJKOT' : sum(List_con(RAJKOT)) ,'SABAR_KANTHA' : sum(List_con(SABAR_KANTHA)) ,'SURENDRANAGAR' : sum(List_con(SURENDRANAGAR)) ,'SURAT' : sum(List_con(SURAT)) ,'TAPI' : sum(List_con(TAPI))  ,'THE_DANGS' : sum(List_con(THE_DANGS)) ,'VADODARA' : sum(List_con(VADODARA)) ,'VALSAD' : sum(List_con(VALSAD)) }"
   ]
  },
  {
   "cell_type": "code",
   "execution_count": 31,
   "id": "78012b7d-1431-4f09-a9aa-c209b4fd6b61",
   "metadata": {},
   "outputs": [],
   "source": [
    "ddata = pd.DataFrame(dic,index=[1])"
   ]
  },
  {
   "cell_type": "code",
   "execution_count": 32,
   "id": "e9672dab-2d46-4b6f-8d01-de0aae026bec",
   "metadata": {},
   "outputs": [
    {
     "data": {
      "text/html": [
       "<div>\n",
       "<style scoped>\n",
       "    .dataframe tbody tr th:only-of-type {\n",
       "        vertical-align: middle;\n",
       "    }\n",
       "\n",
       "    .dataframe tbody tr th {\n",
       "        vertical-align: top;\n",
       "    }\n",
       "\n",
       "    .dataframe thead th {\n",
       "        text-align: right;\n",
       "    }\n",
       "</style>\n",
       "<table border=\"1\" class=\"dataframe\">\n",
       "  <thead>\n",
       "    <tr style=\"text-align: right;\">\n",
       "      <th></th>\n",
       "      <th>AHMEDABAD</th>\n",
       "      <th>AMRELI</th>\n",
       "      <th>ANAND</th>\n",
       "      <th>ARAVALLI</th>\n",
       "      <th>BANAS_KANTHA</th>\n",
       "      <th>BHARUCH</th>\n",
       "      <th>BHAVNAGAR</th>\n",
       "      <th>BOTAD</th>\n",
       "      <th>CHHOTAUDEPUR</th>\n",
       "      <th>DEVBHOOMI_DWARKA</th>\n",
       "      <th>...</th>\n",
       "      <th>PATAN</th>\n",
       "      <th>PORBANDAR</th>\n",
       "      <th>RAJKOT</th>\n",
       "      <th>SABAR_KANTHA</th>\n",
       "      <th>SURENDRANAGAR</th>\n",
       "      <th>SURAT</th>\n",
       "      <th>TAPI</th>\n",
       "      <th>THE_DANGS</th>\n",
       "      <th>VADODARA</th>\n",
       "      <th>VALSAD</th>\n",
       "    </tr>\n",
       "  </thead>\n",
       "  <tbody>\n",
       "    <tr>\n",
       "      <th>1</th>\n",
       "      <td>2023.36</td>\n",
       "      <td>1988.1</td>\n",
       "      <td>1566.34</td>\n",
       "      <td>868.32</td>\n",
       "      <td>2306.78</td>\n",
       "      <td>1824.07</td>\n",
       "      <td>2607.35</td>\n",
       "      <td>1474.86</td>\n",
       "      <td>1745.79</td>\n",
       "      <td>1946.66</td>\n",
       "      <td>...</td>\n",
       "      <td>2113.97</td>\n",
       "      <td>2053.79</td>\n",
       "      <td>2033.58</td>\n",
       "      <td>2237.76</td>\n",
       "      <td>2594.88</td>\n",
       "      <td>1450.47</td>\n",
       "      <td>1999.37</td>\n",
       "      <td>3376.15</td>\n",
       "      <td>2427.17</td>\n",
       "      <td>1495.86</td>\n",
       "    </tr>\n",
       "  </tbody>\n",
       "</table>\n",
       "<p>1 rows × 33 columns</p>\n",
       "</div>"
      ],
      "text/plain": [
       "   AHMEDABAD  AMRELI    ANAND  ARAVALLI  BANAS_KANTHA  BHARUCH  BHAVNAGAR  \\\n",
       "1    2023.36  1988.1  1566.34    868.32       2306.78  1824.07    2607.35   \n",
       "\n",
       "     BOTAD  CHHOTAUDEPUR  DEVBHOOMI_DWARKA  ...    PATAN  PORBANDAR   RAJKOT  \\\n",
       "1  1474.86       1745.79           1946.66  ...  2113.97    2053.79  2033.58   \n",
       "\n",
       "   SABAR_KANTHA  SURENDRANAGAR    SURAT     TAPI  THE_DANGS  VADODARA   VALSAD  \n",
       "1       2237.76        2594.88  1450.47  1999.37    3376.15   2427.17  1495.86  \n",
       "\n",
       "[1 rows x 33 columns]"
      ]
     },
     "execution_count": 32,
     "metadata": {},
     "output_type": "execute_result"
    }
   ],
   "source": [
    "ddata"
   ]
  },
  {
   "cell_type": "code",
   "execution_count": null,
   "id": "2f05b64f-cb20-4cbb-b74b-1cb70d9dc49e",
   "metadata": {},
   "outputs": [],
   "source": [
    "l = []\n",
    "for i in range(len(ddata)):\n",
    "    temp = ddata['Overall'][i] * 0.01 / 33\n",
    "    l.append(temp)"
   ]
  },
  {
   "cell_type": "code",
   "execution_count": null,
   "id": "5633d4fa-d0ca-4ed8-9487-94ed2a88de2c",
   "metadata": {},
   "outputs": [],
   "source": [
    "ddata['Percentage(%)'] = l"
   ]
  },
  {
   "cell_type": "code",
   "execution_count": 13,
   "id": "83fa1d95-d9cc-4767-b53a-6938c22c4800",
   "metadata": {},
   "outputs": [
    {
     "data": {
      "text/html": [
       "<div>\n",
       "<style scoped>\n",
       "    .dataframe tbody tr th:only-of-type {\n",
       "        vertical-align: middle;\n",
       "    }\n",
       "\n",
       "    .dataframe tbody tr th {\n",
       "        vertical-align: top;\n",
       "    }\n",
       "\n",
       "    .dataframe thead th {\n",
       "        text-align: right;\n",
       "    }\n",
       "</style>\n",
       "<table border=\"1\" class=\"dataframe\">\n",
       "  <thead>\n",
       "    <tr style=\"text-align: right;\">\n",
       "      <th></th>\n",
       "      <th>Overall</th>\n",
       "      <th>Percentage(%)</th>\n",
       "    </tr>\n",
       "  </thead>\n",
       "  <tbody>\n",
       "    <tr>\n",
       "      <th>ARAVALLI</th>\n",
       "      <td>868.32</td>\n",
       "      <td>0.263127</td>\n",
       "    </tr>\n",
       "    <tr>\n",
       "      <th>GANDHINAGAR</th>\n",
       "      <td>996.87</td>\n",
       "      <td>0.302082</td>\n",
       "    </tr>\n",
       "    <tr>\n",
       "      <th>MAHISAGAR</th>\n",
       "      <td>1181.19</td>\n",
       "      <td>0.357936</td>\n",
       "    </tr>\n",
       "    <tr>\n",
       "      <th>GIR_SOMNATH</th>\n",
       "      <td>1188.66</td>\n",
       "      <td>0.360200</td>\n",
       "    </tr>\n",
       "    <tr>\n",
       "      <th>NAVSARI</th>\n",
       "      <td>1210.59</td>\n",
       "      <td>0.366845</td>\n",
       "    </tr>\n",
       "  </tbody>\n",
       "</table>\n",
       "</div>"
      ],
      "text/plain": [
       "             Overall  Percentage(%)\n",
       "ARAVALLI      868.32       0.263127\n",
       "GANDHINAGAR   996.87       0.302082\n",
       "MAHISAGAR    1181.19       0.357936\n",
       "GIR_SOMNATH  1188.66       0.360200\n",
       "NAVSARI      1210.59       0.366845"
      ]
     },
     "execution_count": 13,
     "metadata": {},
     "output_type": "execute_result"
    }
   ],
   "source": [
    "ddata.sort_values('Overall' , inplace=True)\n",
    "ddata.head()"
   ]
  },
  {
   "cell_type": "code",
   "execution_count": 15,
   "id": "a6d7705c-54da-446b-821e-66865c61a8cd",
   "metadata": {},
   "outputs": [],
   "source": [
    "x = ddata[['Percentage(%)']]\n",
    "y = ddata[['Overall']]"
   ]
  },
  {
   "cell_type": "code",
   "execution_count": 18,
   "id": "2f9d48f8-6eeb-4aef-be7f-970e268d64c6",
   "metadata": {},
   "outputs": [
    {
     "data": {
      "text/html": [
       "<div>\n",
       "<style scoped>\n",
       "    .dataframe tbody tr th:only-of-type {\n",
       "        vertical-align: middle;\n",
       "    }\n",
       "\n",
       "    .dataframe tbody tr th {\n",
       "        vertical-align: top;\n",
       "    }\n",
       "\n",
       "    .dataframe thead th {\n",
       "        text-align: right;\n",
       "    }\n",
       "</style>\n",
       "<table border=\"1\" class=\"dataframe\">\n",
       "  <thead>\n",
       "    <tr style=\"text-align: right;\">\n",
       "      <th></th>\n",
       "      <th>Overall</th>\n",
       "      <th>Percentage(%)</th>\n",
       "    </tr>\n",
       "  </thead>\n",
       "  <tbody>\n",
       "    <tr>\n",
       "      <th>count</th>\n",
       "      <td>33.000000</td>\n",
       "      <td>33.000000</td>\n",
       "    </tr>\n",
       "    <tr>\n",
       "      <th>mean</th>\n",
       "      <td>1958.300000</td>\n",
       "      <td>0.593424</td>\n",
       "    </tr>\n",
       "    <tr>\n",
       "      <th>std</th>\n",
       "      <td>583.580906</td>\n",
       "      <td>0.176843</td>\n",
       "    </tr>\n",
       "    <tr>\n",
       "      <th>min</th>\n",
       "      <td>868.320000</td>\n",
       "      <td>0.263127</td>\n",
       "    </tr>\n",
       "    <tr>\n",
       "      <th>25%</th>\n",
       "      <td>1555.680000</td>\n",
       "      <td>0.471418</td>\n",
       "    </tr>\n",
       "    <tr>\n",
       "      <th>50%</th>\n",
       "      <td>1983.630000</td>\n",
       "      <td>0.601100</td>\n",
       "    </tr>\n",
       "    <tr>\n",
       "      <th>75%</th>\n",
       "      <td>2237.760000</td>\n",
       "      <td>0.678109</td>\n",
       "    </tr>\n",
       "    <tr>\n",
       "      <th>max</th>\n",
       "      <td>3376.150000</td>\n",
       "      <td>1.023076</td>\n",
       "    </tr>\n",
       "  </tbody>\n",
       "</table>\n",
       "</div>"
      ],
      "text/plain": [
       "           Overall  Percentage(%)\n",
       "count    33.000000      33.000000\n",
       "mean   1958.300000       0.593424\n",
       "std     583.580906       0.176843\n",
       "min     868.320000       0.263127\n",
       "25%    1555.680000       0.471418\n",
       "50%    1983.630000       0.601100\n",
       "75%    2237.760000       0.678109\n",
       "max    3376.150000       1.023076"
      ]
     },
     "execution_count": 18,
     "metadata": {},
     "output_type": "execute_result"
    }
   ],
   "source": [
    "ddata.describe()"
   ]
  },
  {
   "cell_type": "code",
   "execution_count": 19,
   "id": "5a95136b-d287-412a-8782-910d8828b467",
   "metadata": {},
   "outputs": [],
   "source": [
    "x_train,x_test,y_train,y_test = train_test_split(x,y,random_state=33 , train_size=0.8 , test_size=0.2)"
   ]
  },
  {
   "cell_type": "code",
   "execution_count": 21,
   "id": "41b99f8d-1b02-4f60-bee4-4c965ee57f5f",
   "metadata": {},
   "outputs": [
    {
     "data": {
      "text/html": [
       "<style>#sk-container-id-1 {color: black;background-color: white;}#sk-container-id-1 pre{padding: 0;}#sk-container-id-1 div.sk-toggleable {background-color: white;}#sk-container-id-1 label.sk-toggleable__label {cursor: pointer;display: block;width: 100%;margin-bottom: 0;padding: 0.3em;box-sizing: border-box;text-align: center;}#sk-container-id-1 label.sk-toggleable__label-arrow:before {content: \"▸\";float: left;margin-right: 0.25em;color: #696969;}#sk-container-id-1 label.sk-toggleable__label-arrow:hover:before {color: black;}#sk-container-id-1 div.sk-estimator:hover label.sk-toggleable__label-arrow:before {color: black;}#sk-container-id-1 div.sk-toggleable__content {max-height: 0;max-width: 0;overflow: hidden;text-align: left;background-color: #f0f8ff;}#sk-container-id-1 div.sk-toggleable__content pre {margin: 0.2em;color: black;border-radius: 0.25em;background-color: #f0f8ff;}#sk-container-id-1 input.sk-toggleable__control:checked~div.sk-toggleable__content {max-height: 200px;max-width: 100%;overflow: auto;}#sk-container-id-1 input.sk-toggleable__control:checked~label.sk-toggleable__label-arrow:before {content: \"▾\";}#sk-container-id-1 div.sk-estimator input.sk-toggleable__control:checked~label.sk-toggleable__label {background-color: #d4ebff;}#sk-container-id-1 div.sk-label input.sk-toggleable__control:checked~label.sk-toggleable__label {background-color: #d4ebff;}#sk-container-id-1 input.sk-hidden--visually {border: 0;clip: rect(1px 1px 1px 1px);clip: rect(1px, 1px, 1px, 1px);height: 1px;margin: -1px;overflow: hidden;padding: 0;position: absolute;width: 1px;}#sk-container-id-1 div.sk-estimator {font-family: monospace;background-color: #f0f8ff;border: 1px dotted black;border-radius: 0.25em;box-sizing: border-box;margin-bottom: 0.5em;}#sk-container-id-1 div.sk-estimator:hover {background-color: #d4ebff;}#sk-container-id-1 div.sk-parallel-item::after {content: \"\";width: 100%;border-bottom: 1px solid gray;flex-grow: 1;}#sk-container-id-1 div.sk-label:hover label.sk-toggleable__label {background-color: #d4ebff;}#sk-container-id-1 div.sk-serial::before {content: \"\";position: absolute;border-left: 1px solid gray;box-sizing: border-box;top: 0;bottom: 0;left: 50%;z-index: 0;}#sk-container-id-1 div.sk-serial {display: flex;flex-direction: column;align-items: center;background-color: white;padding-right: 0.2em;padding-left: 0.2em;position: relative;}#sk-container-id-1 div.sk-item {position: relative;z-index: 1;}#sk-container-id-1 div.sk-parallel {display: flex;align-items: stretch;justify-content: center;background-color: white;position: relative;}#sk-container-id-1 div.sk-item::before, #sk-container-id-1 div.sk-parallel-item::before {content: \"\";position: absolute;border-left: 1px solid gray;box-sizing: border-box;top: 0;bottom: 0;left: 50%;z-index: -1;}#sk-container-id-1 div.sk-parallel-item {display: flex;flex-direction: column;z-index: 1;position: relative;background-color: white;}#sk-container-id-1 div.sk-parallel-item:first-child::after {align-self: flex-end;width: 50%;}#sk-container-id-1 div.sk-parallel-item:last-child::after {align-self: flex-start;width: 50%;}#sk-container-id-1 div.sk-parallel-item:only-child::after {width: 0;}#sk-container-id-1 div.sk-dashed-wrapped {border: 1px dashed gray;margin: 0 0.4em 0.5em 0.4em;box-sizing: border-box;padding-bottom: 0.4em;background-color: white;}#sk-container-id-1 div.sk-label label {font-family: monospace;font-weight: bold;display: inline-block;line-height: 1.2em;}#sk-container-id-1 div.sk-label-container {text-align: center;}#sk-container-id-1 div.sk-container {/* jupyter's `normalize.less` sets `[hidden] { display: none; }` but bootstrap.min.css set `[hidden] { display: none !important; }` so we also need the `!important` here to be able to override the default hidden behavior on the sphinx rendered scikit-learn.org. See: https://github.com/scikit-learn/scikit-learn/issues/21755 */display: inline-block !important;position: relative;}#sk-container-id-1 div.sk-text-repr-fallback {display: none;}</style><div id=\"sk-container-id-1\" class=\"sk-top-container\"><div class=\"sk-text-repr-fallback\"><pre>LinearRegression()</pre><b>In a Jupyter environment, please rerun this cell to show the HTML representation or trust the notebook. <br />On GitHub, the HTML representation is unable to render, please try loading this page with nbviewer.org.</b></div><div class=\"sk-container\" hidden><div class=\"sk-item\"><div class=\"sk-estimator sk-toggleable\"><input class=\"sk-toggleable__control sk-hidden--visually\" id=\"sk-estimator-id-1\" type=\"checkbox\" checked><label for=\"sk-estimator-id-1\" class=\"sk-toggleable__label sk-toggleable__label-arrow\">LinearRegression</label><div class=\"sk-toggleable__content\"><pre>LinearRegression()</pre></div></div></div></div></div>"
      ],
      "text/plain": [
       "LinearRegression()"
      ]
     },
     "execution_count": 21,
     "metadata": {},
     "output_type": "execute_result"
    }
   ],
   "source": [
    "lm.fit(x_train , y_train)"
   ]
  },
  {
   "cell_type": "code",
   "execution_count": 22,
   "id": "b25a598f-1cc2-4841-b1ca-b486be38a47f",
   "metadata": {},
   "outputs": [
    {
     "name": "stderr",
     "output_type": "stream",
     "text": [
      "C:\\Users\\malan\\AppData\\Local\\Programs\\Python\\Python310\\lib\\site-packages\\sklearn\\base.py:450: UserWarning: X does not have valid feature names, but LinearRegression was fitted with feature names\n",
      "  warnings.warn(\n"
     ]
    },
    {
     "data": {
      "text/plain": [
       "array([[77022.]])"
      ]
     },
     "execution_count": 22,
     "metadata": {},
     "output_type": "execute_result"
    }
   ],
   "source": [
    "lm.predict([[23.34]])"
   ]
  },
  {
   "cell_type": "code",
   "execution_count": null,
   "id": "5b7bf58f-05ea-4b7e-b115-76607fc84a8a",
   "metadata": {},
   "outputs": [],
   "source": []
  }
 ],
 "metadata": {
  "kernelspec": {
   "display_name": "Python 3 (ipykernel)",
   "language": "python",
   "name": "python3"
  },
  "language_info": {
   "codemirror_mode": {
    "name": "ipython",
    "version": 3
   },
   "file_extension": ".py",
   "mimetype": "text/x-python",
   "name": "python",
   "nbconvert_exporter": "python",
   "pygments_lexer": "ipython3",
   "version": "3.10.7"
  }
 },
 "nbformat": 4,
 "nbformat_minor": 5
}
