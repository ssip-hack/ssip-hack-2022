{
 "cells": [
  {
   "cell_type": "code",
   "execution_count": 44,
   "id": "ea5a9a9d-4f52-4024-8de1-4e4ce5f3962d",
   "metadata": {},
   "outputs": [],
   "source": [
    "import pandas as pd\n",
    "import numpy as np\n",
    "import matplotlib.pyplot as plt\n",
    "import seaborn as sns\n",
    "from sklearn.model_selection import train_test_split\n",
    "from sklearn.linear_model import LinearRegression , LogisticRegression\n",
    "from sklearn import metrics"
   ]
  },
  {
   "cell_type": "code",
   "execution_count": 45,
   "id": "de64b887-48ca-4ea2-a663-bc9195dfe50b",
   "metadata": {},
   "outputs": [
    {
     "data": {
      "text/html": [
       "<div>\n",
       "<style scoped>\n",
       "    .dataframe tbody tr th:only-of-type {\n",
       "        vertical-align: middle;\n",
       "    }\n",
       "\n",
       "    .dataframe tbody tr th {\n",
       "        vertical-align: top;\n",
       "    }\n",
       "\n",
       "    .dataframe thead th {\n",
       "        text-align: right;\n",
       "    }\n",
       "</style>\n",
       "<table border=\"1\" class=\"dataframe\">\n",
       "  <thead>\n",
       "    <tr style=\"text-align: right;\">\n",
       "      <th></th>\n",
       "      <th>Location</th>\n",
       "      <th>Social Category</th>\n",
       "      <th>Girls</th>\n",
       "      <th>Boys</th>\n",
       "      <th>Overall</th>\n",
       "      <th>Girls.1</th>\n",
       "      <th>Boys.1</th>\n",
       "      <th>Overall.1</th>\n",
       "      <th>Girls.2</th>\n",
       "      <th>Boys.2</th>\n",
       "      <th>Overall.2</th>\n",
       "    </tr>\n",
       "  </thead>\n",
       "  <tbody>\n",
       "    <tr>\n",
       "      <th>0</th>\n",
       "      <td>AHMEDABAD</td>\n",
       "      <td>General</td>\n",
       "      <td>0.00</td>\n",
       "      <td>0.0</td>\n",
       "      <td>0.00</td>\n",
       "      <td>0.00</td>\n",
       "      <td>0.00</td>\n",
       "      <td>0.00</td>\n",
       "      <td>8.02</td>\n",
       "      <td>12.34</td>\n",
       "      <td>10.54</td>\n",
       "    </tr>\n",
       "    <tr>\n",
       "      <th>1</th>\n",
       "      <td>AHMEDABAD</td>\n",
       "      <td>OBC</td>\n",
       "      <td>0.64</td>\n",
       "      <td>1.1</td>\n",
       "      <td>0.89</td>\n",
       "      <td>9.37</td>\n",
       "      <td>4.14</td>\n",
       "      <td>6.46</td>\n",
       "      <td>18.43</td>\n",
       "      <td>23.13</td>\n",
       "      <td>21.40</td>\n",
       "    </tr>\n",
       "  </tbody>\n",
       "</table>\n",
       "</div>"
      ],
      "text/plain": [
       "    Location Social Category  Girls  Boys  Overall  Girls.1  Boys.1  \\\n",
       "0  AHMEDABAD         General   0.00   0.0     0.00     0.00    0.00   \n",
       "1  AHMEDABAD             OBC   0.64   1.1     0.89     9.37    4.14   \n",
       "\n",
       "   Overall.1  Girls.2  Boys.2  Overall.2  \n",
       "0       0.00     8.02   12.34      10.54  \n",
       "1       6.46    18.43   23.13      21.40  "
      ]
     },
     "execution_count": 45,
     "metadata": {},
     "output_type": "execute_result"
    }
   ],
   "source": [
    "dd = pd.read_csv('District.csv')\n",
    "dd.head(2)"
   ]
  },
  {
   "cell_type": "code",
   "execution_count": 46,
   "id": "943baacd-7cc5-4d77-b62c-01e769536eca",
   "metadata": {},
   "outputs": [],
   "source": [
    "AHMEDABAD = []\n",
    "AMRELI = []\n",
    "ANAND = []\n",
    "ARAVALLI = []\n",
    "BANAS_KANTHA = []\n",
    "BHARUCH = [] \n",
    "BHAVNAGAR = []\n",
    "BOTAD = [] \n",
    "CHHOTAUDEPUR = []\n",
    "DEVBHOOMI_DWARKA = []\n",
    "DOHAD = []\n",
    "GANDHINAGAR = []\n",
    "GIR_SOMNATH = []\n",
    "JAMNAGAR = []\n",
    "JUNAGADH = [] \n",
    "KACHCHH = []\n",
    "KHEDA = []\n",
    "MAHESANA = []\n",
    "MAHISAGAR = []\n",
    "MORBI = []\n",
    "NARMADA = [] \n",
    "NAVSARI = []\n",
    "PANCH_MAHALS = []\n",
    "PATAN = []\n",
    "PORBANDAR = []\n",
    "RAJKOT = []\n",
    "SABAR_KANTHA = []\n",
    "SURENDRANAGAR = []\n",
    "SURAT = []\n",
    "TAPI = [] \n",
    "THE_DANGS = []\n",
    "VADODARA = []\n",
    "VALSAD = []\n",
    "\n",
    "for i in range(len(dd)):\n",
    "    if dd['Location'][i] == 'AHMEDABAD':\n",
    "        AHMEDABAD.append([dd['Boys'][i] , dd['Boys.1'][i] , dd['Boys.2'][i] ,dd['Girls'][i] ,dd['Girls.1'][i], dd['Girls.1'][i]])\n",
    "    if dd['Location'][i] == 'AMRELI':\n",
    "        AMRELI.append([dd['Boys'][i] , dd['Boys.1'][i] , dd['Boys.2'][i] ,dd['Girls'][i] ,dd['Girls.1'][i], dd['Girls.1'][i]])\n",
    "    if dd['Location'][i] == 'ANAND':\n",
    "        ANAND.append([dd['Boys'][i] , dd['Boys.1'][i] , dd['Boys.2'][i] ,dd['Girls'][i] ,dd['Girls.1'][i], dd['Girls.1'][i]])\n",
    "    if dd['Location'][i] == 'ARAVALLI':\n",
    "        ARAVALLI.append([dd['Boys'][i] , dd['Boys.1'][i] , dd['Boys.2'][i] ,dd['Girls'][i] ,dd['Girls.1'][i], dd['Girls.1'][i]])\n",
    "    if dd['Location'][i] == 'BANAS KANTHA':\n",
    "        BANAS_KANTHA.append([dd['Boys'][i] , dd['Boys.1'][i] , dd['Boys.2'][i] ,dd['Girls'][i] ,dd['Girls.1'][i], dd['Girls.1'][i]])\n",
    "    if dd['Location'][i] == 'BHARUCH':\n",
    "        BHARUCH.append([dd['Boys'][i] , dd['Boys.1'][i] , dd['Boys.2'][i] ,dd['Girls'][i] ,dd['Girls.1'][i], dd['Girls.1'][i]])\n",
    "    if dd['Location'][i] == 'BHAVNAGAR':\n",
    "        BHAVNAGAR.append([dd['Boys'][i] , dd['Boys.1'][i] , dd['Boys.2'][i] ,dd['Girls'][i] ,dd['Girls.1'][i], dd['Girls.1'][i]])\n",
    "    if dd['Location'][i] == 'BOTAD':\n",
    "        BOTAD.append([dd['Boys'][i] , dd['Boys.1'][i] , dd['Boys.2'][i] ,dd['Girls'][i] ,dd['Girls.1'][i], dd['Girls.1'][i]])\n",
    "    if dd['Location'][i] == 'CHHOTAUDEPUR':\n",
    "        CHHOTAUDEPUR.append([dd['Boys'][i] , dd['Boys.1'][i] , dd['Boys.2'][i] ,dd['Girls'][i] ,dd['Girls.1'][i], dd['Girls.1'][i]])\n",
    "    if dd['Location'][i] == 'DEVBHOOMI DWARKA':\n",
    "        DEVBHOOMI_DWARKA.append([dd['Boys'][i] , dd['Boys.1'][i] , dd['Boys.2'][i] ,dd['Girls'][i] ,dd['Girls.1'][i], dd['Girls.1'][i]])\n",
    "    if dd['Location'][i] == 'DOHAD':\n",
    "        DOHAD.append([dd['Boys'][i] , dd['Boys.1'][i] , dd['Boys.2'][i] ,dd['Girls'][i] ,dd['Girls.1'][i], dd['Girls.1'][i]])\n",
    "    if dd['Location'][i] == 'GANDHINAGAR':\n",
    "        GANDHINAGAR.append([dd['Boys'][i] , dd['Boys.1'][i] , dd['Boys.2'][i] ,dd['Girls'][i] ,dd['Girls.1'][i], dd['Girls.1'][i]])\n",
    "    if dd['Location'][i] == 'GIR SOMNATH':\n",
    "        GIR_SOMNATH.append([dd['Boys'][i] , dd['Boys.1'][i] , dd['Boys.2'][i] ,dd['Girls'][i] ,dd['Girls.1'][i], dd['Girls.1'][i]])\n",
    "    if dd['Location'][i] == 'JAMNAGAR':\n",
    "        JAMNAGAR.append([dd['Boys'][i] , dd['Boys.1'][i] , dd['Boys.2'][i] ,dd['Girls'][i] ,dd['Girls.1'][i], dd['Girls.1'][i]])\n",
    "    if dd['Location'][i] == 'JUNAGADH':\n",
    "        JUNAGADH.append([dd['Boys'][i] , dd['Boys.1'][i] , dd['Boys.2'][i] ,dd['Girls'][i] ,dd['Girls.1'][i], dd['Girls.1'][i]])\n",
    "    if dd['Location'][i] == 'KACHCHH':\n",
    "        KACHCHH.append([dd['Boys'][i] , dd['Boys.1'][i] , dd['Boys.2'][i] ,dd['Girls'][i] ,dd['Girls.1'][i], dd['Girls.1'][i]])\n",
    "    if dd['Location'][i] == 'KHEDA':\n",
    "        KHEDA.append([dd['Boys'][i] , dd['Boys.1'][i] , dd['Boys.2'][i] ,dd['Girls'][i] ,dd['Girls.1'][i], dd['Girls.1'][i]])\n",
    "    if dd['Location'][i] == 'MAHESANA':\n",
    "        MAHESANA.append([dd['Boys'][i] , dd['Boys.1'][i] , dd['Boys.2'][i] ,dd['Girls'][i] ,dd['Girls.1'][i], dd['Girls.1'][i]])\n",
    "    if dd['Location'][i] == 'MAHISAGAR':\n",
    "        MAHISAGAR.append([dd['Boys'][i] , dd['Boys.1'][i] , dd['Boys.2'][i] ,dd['Girls'][i] ,dd['Girls.1'][i], dd['Girls.1'][i]])\n",
    "    if dd['Location'][i] == 'MORBI':\n",
    "        MORBI.append([dd['Boys'][i] , dd['Boys.1'][i] , dd['Boys.2'][i] ,dd['Girls'][i] ,dd['Girls.1'][i], dd['Girls.1'][i]])\n",
    "    if dd['Location'][i] == 'NARMADA':\n",
    "        NARMADA.append([dd['Boys'][i] , dd['Boys.1'][i] , dd['Boys.2'][i] ,dd['Girls'][i] ,dd['Girls.1'][i], dd['Girls.1'][i]])\n",
    "    if dd['Location'][i] == 'NAVSARI':\n",
    "        NAVSARI.append([dd['Boys'][i] , dd['Boys.1'][i] , dd['Boys.2'][i] ,dd['Girls'][i] ,dd['Girls.1'][i], dd['Girls.1'][i]])\n",
    "    if dd['Location'][i] == 'PANCH MAHALS':\n",
    "        PANCH_MAHALS.append([dd['Boys'][i] , dd['Boys.1'][i] , dd['Boys.2'][i] ,dd['Girls'][i] ,dd['Girls.1'][i], dd['Girls.1'][i]])\n",
    "    if dd['Location'][i] == 'PATAN':\n",
    "        PATAN.append([dd['Boys'][i] , dd['Boys.1'][i] , dd['Boys.2'][i] ,dd['Girls'][i] ,dd['Girls.1'][i], dd['Girls.1'][i]])\n",
    "    if dd['Location'][i] == 'PORBANDAR':\n",
    "        PORBANDAR.append([dd['Boys'][i] , dd['Boys.1'][i] , dd['Boys.2'][i] ,dd['Girls'][i] ,dd['Girls.1'][i], dd['Girls.1'][i]])\n",
    "    if dd['Location'][i] == 'RAJKOT':\n",
    "        RAJKOT.append([dd['Boys'][i] , dd['Boys.1'][i] , dd['Boys.2'][i] ,dd['Girls'][i] ,dd['Girls.1'][i], dd['Girls.1'][i]])\n",
    "    if dd['Location'][i] == 'SABAR KANTHA':\n",
    "        SABAR_KANTHA.append([dd['Boys'][i] , dd['Boys.1'][i] , dd['Boys.2'][i] ,dd['Girls'][i] ,dd['Girls.1'][i], dd['Girls.1'][i]])\n",
    "    if dd['Location'][i] == 'SURAT':\n",
    "        SURAT.append([dd['Boys'][i] , dd['Boys.1'][i] , dd['Boys.2'][i] ,dd['Girls'][i] ,dd['Girls.1'][i], dd['Girls.1'][i]])\n",
    "    if dd['Location'][i] == 'SURENDRANAGAR':\n",
    "        SURENDRANAGAR.append([dd['Boys'][i] , dd['Boys.1'][i] , dd['Boys.2'][i] ,dd['Girls'][i] ,dd['Girls.1'][i], dd['Girls.1'][i]])\n",
    "    if dd['Location'][i] == 'TAPI':\n",
    "        TAPI.append([dd['Boys'][i] , dd['Boys.1'][i] , dd['Boys.2'][i] ,dd['Girls'][i] ,dd['Girls.1'][i], dd['Girls.1'][i]])\n",
    "    if dd['Location'][i] == 'THE DANGS':\n",
    "        THE_DANGS.append([dd['Boys'][i] , dd['Boys.1'][i] , dd['Boys.2'][i] ,dd['Girls'][i] ,dd['Girls.1'][i], dd['Girls.1'][i]])\n",
    "    if dd['Location'][i] == 'VADODARA':\n",
    "        VADODARA.append([dd['Boys'][i] , dd['Boys.1'][i] , dd['Boys.2'][i] ,dd['Girls'][i] ,dd['Girls.1'][i], dd['Girls.1'][i]])\n",
    "    if dd['Location'][i] == 'VALSAD':\n",
    "        VALSAD.append([dd['Boys'][i] , dd['Boys.1'][i] , dd['Boys.2'][i] ,dd['Girls'][i] ,dd['Girls.1'][i], dd['Girls.1'][i]])        "
   ]
  },
  {
   "cell_type": "code",
   "execution_count": 47,
   "id": "4b5ac65d-9b74-4894-a5fc-0ae67388a3e4",
   "metadata": {},
   "outputs": [
    {
     "data": {
      "text/plain": [
       "36"
      ]
     },
     "execution_count": 47,
     "metadata": {},
     "output_type": "execute_result"
    }
   ],
   "source": [
    "len(AHMEDABAD)"
   ]
  },
  {
   "cell_type": "code",
   "execution_count": 48,
   "id": "c7aad7e1-252c-4ce8-8083-606237afc7ae",
   "metadata": {},
   "outputs": [
    {
     "name": "stdout",
     "output_type": "stream",
     "text": [
      "2023.3599999999994\n"
     ]
    }
   ],
   "source": [
    "# Convert the 2D List into the 1D List\n",
    "def List_con(l1):\n",
    "    temp = []\n",
    "    for i in l1:\n",
    "        if type(i) == list:\n",
    "            for j in i:\n",
    "                temp.append(j)\n",
    "        else:\n",
    "            temp.append(i)\n",
    "    return temp\n",
    "x = List_con(AHMEDABAD)\n",
    "print(sum(x))"
   ]
  },
  {
   "cell_type": "code",
   "execution_count": 49,
   "id": "633d9823-652f-4afd-bdef-8db01da7f814",
   "metadata": {},
   "outputs": [],
   "source": [
    "x1 = sum(List_con(AHMEDABAD))"
   ]
  },
  {
   "cell_type": "code",
   "execution_count": 50,
   "id": "b8483c73-8e02-4adb-acd0-78c27b421690",
   "metadata": {},
   "outputs": [],
   "source": [
    "dic = {'AHMEDABAD' : sum(List_con(AHMEDABAD)) ,'AMRELI' : sum(List_con(AMRELI)) ,'ANAND' : sum(List_con(ANAND)) ,'ARAVALLI' : sum(List_con(ARAVALLI)) ,'BANAS_KANTHA' : sum(List_con(BANAS_KANTHA)) ,'BHARUCH' : sum(List_con(BHARUCH))  ,'BHAVNAGAR' : sum(List_con(BHAVNAGAR)) ,'BOTAD' : sum(List_con(BOTAD))  ,'CHHOTAUDEPUR' : sum(List_con(CHHOTAUDEPUR)) ,'DEVBHOOMI_DWARKA' : sum(List_con(DEVBHOOMI_DWARKA)) ,'DOHAD' : sum(List_con(DOHAD)) ,'GANDHINAGAR' : sum(List_con(GANDHINAGAR)) ,'GIR_SOMNATH' : sum(List_con(GIR_SOMNATH)) ,'JAMNAGAR' : sum(List_con(JAMNAGAR)) ,'JUNAGADH' : sum(List_con(JUNAGADH))  ,'KACHCHH' : sum(List_con(KACHCHH)) ,'KHEDA' : sum(List_con(KHEDA)) ,'MAHESANA' : sum(List_con(MAHESANA)) ,'MAHISAGAR' : sum(List_con(MAHISAGAR)) ,'MORBI' : sum(List_con(MORBI)) ,'NARMADA' : sum(List_con(NARMADA))  ,'NAVSARI' : sum(List_con(NAVSARI)) ,'PANCH_MAHALS' : sum(List_con(PANCH_MAHALS)) ,'PATAN' : sum(List_con(PATAN)) ,'PORBANDAR' : sum(List_con(PORBANDAR)) ,'RAJKOT' : sum(List_con(RAJKOT)) ,'SABAR_KANTHA' : sum(List_con(SABAR_KANTHA)) ,'SURENDRANAGAR' : sum(List_con(SURENDRANAGAR)) ,'SURAT' : sum(List_con(SURAT)) ,'TAPI' : sum(List_con(TAPI))  ,'THE_DANGS' : sum(List_con(THE_DANGS)) ,'VADODARA' : sum(List_con(VADODARA)) ,'VALSAD' : sum(List_con(VALSAD)) }"
   ]
  },
  {
   "cell_type": "code",
   "execution_count": 78,
   "id": "78012b7d-1431-4f09-a9aa-c209b4fd6b61",
   "metadata": {},
   "outputs": [],
   "source": [
    "ddata = pd.DataFrame(dic,index=['overall']).T"
   ]
  },
  {
   "cell_type": "code",
   "execution_count": 79,
   "id": "e78871bb-3d5b-49a7-be8a-83bc6f2f97be",
   "metadata": {},
   "outputs": [
    {
     "data": {
      "text/plain": [
       "Index(['overall'], dtype='object')"
      ]
     },
     "execution_count": 79,
     "metadata": {},
     "output_type": "execute_result"
    }
   ],
   "source": [
    "ddata.columns"
   ]
  },
  {
   "cell_type": "code",
   "execution_count": 93,
   "id": "ae150876-a008-4a19-b290-370311edeab0",
   "metadata": {},
   "outputs": [],
   "source": [
    "dl = []\n",
    "for i in range(len(ddata)):\n",
    "    temp  = ( ddata['overall'][i] / sum(ddata['overall']) ) * 100\n",
    "    dl.append(temp)"
   ]
  },
  {
   "cell_type": "code",
   "execution_count": 94,
   "id": "1e0a4199-950d-44dd-bb8a-1f1ad32b4d2b",
   "metadata": {},
   "outputs": [],
   "source": [
    "ddata['(%)'] = dl"
   ]
  },
  {
   "cell_type": "code",
   "execution_count": 96,
   "id": "e9672dab-2d46-4b6f-8d01-de0aae026bec",
   "metadata": {},
   "outputs": [
    {
     "data": {
      "text/plain": [
       "Index(['overall', '(%)'], dtype='object')"
      ]
     },
     "execution_count": 96,
     "metadata": {},
     "output_type": "execute_result"
    }
   ],
   "source": [
    "ddata.columns"
   ]
  },
  {
   "cell_type": "code",
   "execution_count": 102,
   "id": "5b7bf58f-05ea-4b7e-b115-76607fc84a8a",
   "metadata": {},
   "outputs": [],
   "source": [
    "y= ddata[['(%)']]\n",
    "x = ddata[['overall']]"
   ]
  },
  {
   "cell_type": "code",
   "execution_count": 103,
   "id": "369d070a-61f3-4f78-b5bb-5b3aef04b244",
   "metadata": {},
   "outputs": [],
   "source": [
    "x_train , x_test , y_train , Y_test = train_test_split(x,y,random_state=34,train_size=0.8 , test_size=0.2)"
   ]
  },
  {
   "cell_type": "code",
   "execution_count": 104,
   "id": "6b77f1b6-6c06-4000-9515-4b0ea8944e76",
   "metadata": {},
   "outputs": [],
   "source": [
    "lm = LinearRegression()"
   ]
  },
  {
   "cell_type": "code",
   "execution_count": 105,
   "id": "b7f6caec-f554-4891-ad79-96009d8ae698",
   "metadata": {},
   "outputs": [
    {
     "data": {
      "text/html": [
       "<style>#sk-container-id-2 {color: black;background-color: white;}#sk-container-id-2 pre{padding: 0;}#sk-container-id-2 div.sk-toggleable {background-color: white;}#sk-container-id-2 label.sk-toggleable__label {cursor: pointer;display: block;width: 100%;margin-bottom: 0;padding: 0.3em;box-sizing: border-box;text-align: center;}#sk-container-id-2 label.sk-toggleable__label-arrow:before {content: \"▸\";float: left;margin-right: 0.25em;color: #696969;}#sk-container-id-2 label.sk-toggleable__label-arrow:hover:before {color: black;}#sk-container-id-2 div.sk-estimator:hover label.sk-toggleable__label-arrow:before {color: black;}#sk-container-id-2 div.sk-toggleable__content {max-height: 0;max-width: 0;overflow: hidden;text-align: left;background-color: #f0f8ff;}#sk-container-id-2 div.sk-toggleable__content pre {margin: 0.2em;color: black;border-radius: 0.25em;background-color: #f0f8ff;}#sk-container-id-2 input.sk-toggleable__control:checked~div.sk-toggleable__content {max-height: 200px;max-width: 100%;overflow: auto;}#sk-container-id-2 input.sk-toggleable__control:checked~label.sk-toggleable__label-arrow:before {content: \"▾\";}#sk-container-id-2 div.sk-estimator input.sk-toggleable__control:checked~label.sk-toggleable__label {background-color: #d4ebff;}#sk-container-id-2 div.sk-label input.sk-toggleable__control:checked~label.sk-toggleable__label {background-color: #d4ebff;}#sk-container-id-2 input.sk-hidden--visually {border: 0;clip: rect(1px 1px 1px 1px);clip: rect(1px, 1px, 1px, 1px);height: 1px;margin: -1px;overflow: hidden;padding: 0;position: absolute;width: 1px;}#sk-container-id-2 div.sk-estimator {font-family: monospace;background-color: #f0f8ff;border: 1px dotted black;border-radius: 0.25em;box-sizing: border-box;margin-bottom: 0.5em;}#sk-container-id-2 div.sk-estimator:hover {background-color: #d4ebff;}#sk-container-id-2 div.sk-parallel-item::after {content: \"\";width: 100%;border-bottom: 1px solid gray;flex-grow: 1;}#sk-container-id-2 div.sk-label:hover label.sk-toggleable__label {background-color: #d4ebff;}#sk-container-id-2 div.sk-serial::before {content: \"\";position: absolute;border-left: 1px solid gray;box-sizing: border-box;top: 0;bottom: 0;left: 50%;z-index: 0;}#sk-container-id-2 div.sk-serial {display: flex;flex-direction: column;align-items: center;background-color: white;padding-right: 0.2em;padding-left: 0.2em;position: relative;}#sk-container-id-2 div.sk-item {position: relative;z-index: 1;}#sk-container-id-2 div.sk-parallel {display: flex;align-items: stretch;justify-content: center;background-color: white;position: relative;}#sk-container-id-2 div.sk-item::before, #sk-container-id-2 div.sk-parallel-item::before {content: \"\";position: absolute;border-left: 1px solid gray;box-sizing: border-box;top: 0;bottom: 0;left: 50%;z-index: -1;}#sk-container-id-2 div.sk-parallel-item {display: flex;flex-direction: column;z-index: 1;position: relative;background-color: white;}#sk-container-id-2 div.sk-parallel-item:first-child::after {align-self: flex-end;width: 50%;}#sk-container-id-2 div.sk-parallel-item:last-child::after {align-self: flex-start;width: 50%;}#sk-container-id-2 div.sk-parallel-item:only-child::after {width: 0;}#sk-container-id-2 div.sk-dashed-wrapped {border: 1px dashed gray;margin: 0 0.4em 0.5em 0.4em;box-sizing: border-box;padding-bottom: 0.4em;background-color: white;}#sk-container-id-2 div.sk-label label {font-family: monospace;font-weight: bold;display: inline-block;line-height: 1.2em;}#sk-container-id-2 div.sk-label-container {text-align: center;}#sk-container-id-2 div.sk-container {/* jupyter's `normalize.less` sets `[hidden] { display: none; }` but bootstrap.min.css set `[hidden] { display: none !important; }` so we also need the `!important` here to be able to override the default hidden behavior on the sphinx rendered scikit-learn.org. See: https://github.com/scikit-learn/scikit-learn/issues/21755 */display: inline-block !important;position: relative;}#sk-container-id-2 div.sk-text-repr-fallback {display: none;}</style><div id=\"sk-container-id-2\" class=\"sk-top-container\"><div class=\"sk-text-repr-fallback\"><pre>LinearRegression()</pre><b>In a Jupyter environment, please rerun this cell to show the HTML representation or trust the notebook. <br />On GitHub, the HTML representation is unable to render, please try loading this page with nbviewer.org.</b></div><div class=\"sk-container\" hidden><div class=\"sk-item\"><div class=\"sk-estimator sk-toggleable\"><input class=\"sk-toggleable__control sk-hidden--visually\" id=\"sk-estimator-id-2\" type=\"checkbox\" checked><label for=\"sk-estimator-id-2\" class=\"sk-toggleable__label sk-toggleable__label-arrow\">LinearRegression</label><div class=\"sk-toggleable__content\"><pre>LinearRegression()</pre></div></div></div></div></div>"
      ],
      "text/plain": [
       "LinearRegression()"
      ]
     },
     "execution_count": 105,
     "metadata": {},
     "output_type": "execute_result"
    }
   ],
   "source": [
    "lm.fit(x_train, y_train)"
   ]
  },
  {
   "cell_type": "code",
   "execution_count": 107,
   "id": "9c3a57bb-48c1-49a2-a09e-61ee8312698e",
   "metadata": {},
   "outputs": [
    {
     "name": "stderr",
     "output_type": "stream",
     "text": [
      "C:\\Users\\malan\\AppData\\Local\\Programs\\Python\\Python310\\lib\\site-packages\\sklearn\\base.py:450: UserWarning: X does not have valid feature names, but LinearRegression was fitted with feature names\n",
      "  warnings.warn(\n"
     ]
    },
    {
     "data": {
      "text/plain": [
       "array([[53.46783466]])"
      ]
     },
     "execution_count": 107,
     "metadata": {},
     "output_type": "execute_result"
    }
   ],
   "source": [
    "lm.predict([[34553]])"
   ]
  },
  {
   "cell_type": "code",
   "execution_count": null,
   "id": "80c11823-1126-4309-81bd-f79ff4523903",
   "metadata": {},
   "outputs": [],
   "source": []
  },
  {
   "cell_type": "code",
   "execution_count": null,
   "id": "430cebb4-8cbb-4b2d-a325-f35b6d9a8b08",
   "metadata": {},
   "outputs": [],
   "source": []
  },
  {
   "cell_type": "code",
   "execution_count": null,
   "id": "90727405-2a2a-47e0-bf75-5540502dee69",
   "metadata": {},
   "outputs": [],
   "source": []
  }
 ],
 "metadata": {
  "kernelspec": {
   "display_name": "Python 3 (ipykernel)",
   "language": "python",
   "name": "python3"
  },
  "language_info": {
   "codemirror_mode": {
    "name": "ipython",
    "version": 3
   },
   "file_extension": ".py",
   "mimetype": "text/x-python",
   "name": "python",
   "nbconvert_exporter": "python",
   "pygments_lexer": "ipython3",
   "version": "3.10.7"
  }
 },
 "nbformat": 4,
 "nbformat_minor": 5
}
