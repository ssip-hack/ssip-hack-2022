{
 "cells": [
  {
   "cell_type": "code",
   "execution_count": 1,
   "id": "ea5a9a9d-4f52-4024-8de1-4e4ce5f3962d",
   "metadata": {},
   "outputs": [],
   "source": [
    "import pandas as pd\n",
    "import numpy as np\n",
    "import matplotlib.pyplot as plt\n",
    "import seaborn as sns\n",
    "from sklearn.model_selection import train_test_split\n",
    "from sklearn.linear_model import LinearRegression , LogisticRegression\n",
    "from sklearn import metrics"
   ]
  },
  {
   "cell_type": "code",
   "execution_count": 2,
   "id": "de64b887-48ca-4ea2-a663-bc9195dfe50b",
   "metadata": {},
   "outputs": [
    {
     "data": {
      "text/html": [
       "<div>\n",
       "<style scoped>\n",
       "    .dataframe tbody tr th:only-of-type {\n",
       "        vertical-align: middle;\n",
       "    }\n",
       "\n",
       "    .dataframe tbody tr th {\n",
       "        vertical-align: top;\n",
       "    }\n",
       "\n",
       "    .dataframe thead th {\n",
       "        text-align: right;\n",
       "    }\n",
       "</style>\n",
       "<table border=\"1\" class=\"dataframe\">\n",
       "  <thead>\n",
       "    <tr style=\"text-align: right;\">\n",
       "      <th></th>\n",
       "      <th>Location</th>\n",
       "      <th>Social Category</th>\n",
       "      <th>Girls</th>\n",
       "      <th>Boys</th>\n",
       "      <th>Overall</th>\n",
       "      <th>Girls.1</th>\n",
       "      <th>Boys.1</th>\n",
       "      <th>Overall.1</th>\n",
       "      <th>Girls.2</th>\n",
       "      <th>Boys.2</th>\n",
       "      <th>Overall.2</th>\n",
       "    </tr>\n",
       "  </thead>\n",
       "  <tbody>\n",
       "    <tr>\n",
       "      <th>0</th>\n",
       "      <td>AHMEDABAD</td>\n",
       "      <td>General</td>\n",
       "      <td>0.00</td>\n",
       "      <td>0.0</td>\n",
       "      <td>0.00</td>\n",
       "      <td>0.00</td>\n",
       "      <td>0.00</td>\n",
       "      <td>0.00</td>\n",
       "      <td>8.02</td>\n",
       "      <td>12.34</td>\n",
       "      <td>10.54</td>\n",
       "    </tr>\n",
       "    <tr>\n",
       "      <th>1</th>\n",
       "      <td>AHMEDABAD</td>\n",
       "      <td>OBC</td>\n",
       "      <td>0.64</td>\n",
       "      <td>1.1</td>\n",
       "      <td>0.89</td>\n",
       "      <td>9.37</td>\n",
       "      <td>4.14</td>\n",
       "      <td>6.46</td>\n",
       "      <td>18.43</td>\n",
       "      <td>23.13</td>\n",
       "      <td>21.40</td>\n",
       "    </tr>\n",
       "  </tbody>\n",
       "</table>\n",
       "</div>"
      ],
      "text/plain": [
       "    Location Social Category  Girls  Boys  Overall  Girls.1  Boys.1  \\\n",
       "0  AHMEDABAD         General   0.00   0.0     0.00     0.00    0.00   \n",
       "1  AHMEDABAD             OBC   0.64   1.1     0.89     9.37    4.14   \n",
       "\n",
       "   Overall.1  Girls.2  Boys.2  Overall.2  \n",
       "0       0.00     8.02   12.34      10.54  \n",
       "1       6.46    18.43   23.13      21.40  "
      ]
     },
     "execution_count": 2,
     "metadata": {},
     "output_type": "execute_result"
    }
   ],
   "source": [
    "dd = pd.read_csv('District.csv')\n",
    "dd.head(2)"
   ]
  },
  {
   "cell_type": "code",
   "execution_count": 51,
   "id": "943baacd-7cc5-4d77-b62c-01e769536eca",
   "metadata": {},
   "outputs": [],
   "source": [
    "AHMEDABAD = []\n",
    "AMRELI = []\n",
    "ANAND = []\n",
    "ARAVALLI = []\n",
    "BANAS_KANTHA = []\n",
    "BHARUCH = [] \n",
    "BHAVNAGAR = []\n",
    "BOTAD = [] \n",
    "CHHOTAUDEPUR = []\n",
    "DEVBHOOMI_DWARKA = []\n",
    "DOHAD = []\n",
    "GANDHINAGAR = []\n",
    "GIR_SOMNATH = []\n",
    "JAMNAGAR = []\n",
    "JUNAGADH = [] \n",
    "KACHCHH = []\n",
    "KHEDA = []\n",
    "MAHESANA = []\n",
    "MAHISAGAR = []\n",
    "MORBI = []\n",
    "NARMADA = [] \n",
    "NAVSARI = []\n",
    "PANCH_MAHALS = []\n",
    "PATAN = []\n",
    "PORBANDAR = []\n",
    "RAJKOT = []\n",
    "SABAR_KANTHA = []\n",
    "SURENDRANAGAR = []\n",
    "SURAT = []\n",
    "TAPI = [] \n",
    "THE_DANGS = []\n",
    "VADODARA = []\n",
    "VALSAD = []\n",
    "\n",
    "for i in range(len(dd)):\n",
    "    if dd['Location'][i] == 'AHMEDABAD':\n",
    "        AHMEDABAD.append([dd['Boys'][i] , dd['Boys.1'][i] , dd['Boys.2'][i] ,dd['Girls'][i] ,dd['Girls.1'][i], dd['Girls.1'][i]])\n",
    "    if dd['Location'][i] == 'AMRELI':\n",
    "        AMRELI.append([dd['Boys'][i] , dd['Boys.1'][i] , dd['Boys.2'][i] ,dd['Girls'][i] ,dd['Girls.1'][i], dd['Girls.1'][i]])\n",
    "    if dd['Location'][i] == 'ANAND':\n",
    "        ANAND.append([dd['Boys'][i] , dd['Boys.1'][i] , dd['Boys.2'][i] ,dd['Girls'][i] ,dd['Girls.1'][i], dd['Girls.1'][i]])\n",
    "    if dd['Location'][i] == 'ARAVALLI':\n",
    "        ARAVALLI.append([dd['Boys'][i] , dd['Boys.1'][i] , dd['Boys.2'][i] ,dd['Girls'][i] ,dd['Girls.1'][i], dd['Girls.1'][i]])\n",
    "    if dd['Location'][i] == 'BANAS KANTHA':\n",
    "        BANAS_KANTHA.append([dd['Boys'][i] , dd['Boys.1'][i] , dd['Boys.2'][i] ,dd['Girls'][i] ,dd['Girls.1'][i], dd['Girls.1'][i]])\n",
    "    if dd['Location'][i] == 'BHARUCH':\n",
    "        BHARUCH.append([dd['Boys'][i] , dd['Boys.1'][i] , dd['Boys.2'][i] ,dd['Girls'][i] ,dd['Girls.1'][i], dd['Girls.1'][i]])\n",
    "    if dd['Location'][i] == 'BHAVNAGAR':\n",
    "        BHAVNAGAR.append([dd['Boys'][i] , dd['Boys.1'][i] , dd['Boys.2'][i] ,dd['Girls'][i] ,dd['Girls.1'][i], dd['Girls.1'][i]])\n",
    "    if dd['Location'][i] == 'BOTAD':\n",
    "        BOTAD.append([dd['Boys'][i] , dd['Boys.1'][i] , dd['Boys.2'][i] ,dd['Girls'][i] ,dd['Girls.1'][i], dd['Girls.1'][i]])\n",
    "    if dd['Location'][i] == 'CHHOTAUDEPUR':\n",
    "        CHHOTAUDEPUR.append([dd['Boys'][i] , dd['Boys.1'][i] , dd['Boys.2'][i] ,dd['Girls'][i] ,dd['Girls.1'][i], dd['Girls.1'][i]])\n",
    "    if dd['Location'][i] == 'DEVBHOOMI DWARKA':\n",
    "        DEVBHOOMI_DWARKA.append([dd['Boys'][i] , dd['Boys.1'][i] , dd['Boys.2'][i] ,dd['Girls'][i] ,dd['Girls.1'][i], dd['Girls.1'][i]])\n",
    "    if dd['Location'][i] == 'DOHAD':\n",
    "        DOHAD.append([dd['Boys'][i] , dd['Boys.1'][i] , dd['Boys.2'][i] ,dd['Girls'][i] ,dd['Girls.1'][i], dd['Girls.1'][i]])\n",
    "    if dd['Location'][i] == 'GANDHINAGAR':\n",
    "        GANDHINAGAR.append([dd['Boys'][i] , dd['Boys.1'][i] , dd['Boys.2'][i] ,dd['Girls'][i] ,dd['Girls.1'][i], dd['Girls.1'][i]])\n",
    "    if dd['Location'][i] == 'GIR SOMNATH':\n",
    "        GIR_SOMNATH.append([dd['Boys'][i] , dd['Boys.1'][i] , dd['Boys.2'][i] ,dd['Girls'][i] ,dd['Girls.1'][i], dd['Girls.1'][i]])\n",
    "    if dd['Location'][i] == 'JAMNAGAR':\n",
    "        JAMNAGAR.append([dd['Boys'][i] , dd['Boys.1'][i] , dd['Boys.2'][i] ,dd['Girls'][i] ,dd['Girls.1'][i], dd['Girls.1'][i]])\n",
    "    if dd['Location'][i] == 'JUNAGADH':\n",
    "        JUNAGADH.append([dd['Boys'][i] , dd['Boys.1'][i] , dd['Boys.2'][i] ,dd['Girls'][i] ,dd['Girls.1'][i], dd['Girls.1'][i]])\n",
    "    if dd['Location'][i] == 'KACHCHH':\n",
    "        KACHCHH.append([dd['Boys'][i] , dd['Boys.1'][i] , dd['Boys.2'][i] ,dd['Girls'][i] ,dd['Girls.1'][i], dd['Girls.1'][i]])\n",
    "    if dd['Location'][i] == 'KHEDA':\n",
    "        KHEDA.append([dd['Boys'][i] , dd['Boys.1'][i] , dd['Boys.2'][i] ,dd['Girls'][i] ,dd['Girls.1'][i], dd['Girls.1'][i]])\n",
    "    if dd['Location'][i] == 'MAHESANA':\n",
    "        MAHESANA.append([dd['Boys'][i] , dd['Boys.1'][i] , dd['Boys.2'][i] ,dd['Girls'][i] ,dd['Girls.1'][i], dd['Girls.1'][i]])\n",
    "    if dd['Location'][i] == 'MAHISAGAR':\n",
    "        MAHISAGAR.append([dd['Boys'][i] , dd['Boys.1'][i] , dd['Boys.2'][i] ,dd['Girls'][i] ,dd['Girls.1'][i], dd['Girls.1'][i]])\n",
    "    if dd['Location'][i] == 'MORBI':\n",
    "        MORBI.append([dd['Boys'][i] , dd['Boys.1'][i] , dd['Boys.2'][i] ,dd['Girls'][i] ,dd['Girls.1'][i], dd['Girls.1'][i]])\n",
    "    if dd['Location'][i] == 'NARMADA':\n",
    "        NARMADA.append([dd['Boys'][i] , dd['Boys.1'][i] , dd['Boys.2'][i] ,dd['Girls'][i] ,dd['Girls.1'][i], dd['Girls.1'][i]])\n",
    "    if dd['Location'][i] == 'NAVSARI':\n",
    "        NAVSARI.append([dd['Boys'][i] , dd['Boys.1'][i] , dd['Boys.2'][i] ,dd['Girls'][i] ,dd['Girls.1'][i], dd['Girls.1'][i]])\n",
    "    if dd['Location'][i] == 'PANCH MAHALS':\n",
    "        PANCH_MAHALS.append([dd['Boys'][i] , dd['Boys.1'][i] , dd['Boys.2'][i] ,dd['Girls'][i] ,dd['Girls.1'][i], dd['Girls.1'][i]])\n",
    "    if dd['Location'][i] == 'PATAN':\n",
    "        PATAN.append([dd['Boys'][i] , dd['Boys.1'][i] , dd['Boys.2'][i] ,dd['Girls'][i] ,dd['Girls.1'][i], dd['Girls.1'][i]])\n",
    "    if dd['Location'][i] == 'PORBANDAR':\n",
    "        PORBANDAR.append([dd['Boys'][i] , dd['Boys.1'][i] , dd['Boys.2'][i] ,dd['Girls'][i] ,dd['Girls.1'][i], dd['Girls.1'][i]])\n",
    "    if dd['Location'][i] == 'RAJKOT':\n",
    "        RAJKOT.append([dd['Boys'][i] , dd['Boys.1'][i] , dd['Boys.2'][i] ,dd['Girls'][i] ,dd['Girls.1'][i], dd['Girls.1'][i]])\n",
    "    if dd['Location'][i] == 'SABAR KANTHA':\n",
    "        SABAR_KANTHA.append([dd['Boys'][i] , dd['Boys.1'][i] , dd['Boys.2'][i] ,dd['Girls'][i] ,dd['Girls.1'][i], dd['Girls.1'][i]])\n",
    "    if dd['Location'][i] == 'SURAT':\n",
    "        SURAT.append([dd['Boys'][i] , dd['Boys.1'][i] , dd['Boys.2'][i] ,dd['Girls'][i] ,dd['Girls.1'][i], dd['Girls.1'][i]])\n",
    "    if dd['Location'][i] == 'SURENDRANAGAR':\n",
    "        SURENDRANAGAR.append([dd['Boys'][i] , dd['Boys.1'][i] , dd['Boys.2'][i] ,dd['Girls'][i] ,dd['Girls.1'][i], dd['Girls.1'][i]])\n",
    "    if dd['Location'][i] == 'TAPI':\n",
    "        TAPI.append([dd['Boys'][i] , dd['Boys.1'][i] , dd['Boys.2'][i] ,dd['Girls'][i] ,dd['Girls.1'][i], dd['Girls.1'][i]])\n",
    "    if dd['Location'][i] == 'THE DANGS':\n",
    "        THE_DANGS.append([dd['Boys'][i] , dd['Boys.1'][i] , dd['Boys.2'][i] ,dd['Girls'][i] ,dd['Girls.1'][i], dd['Girls.1'][i]])\n",
    "    if dd['Location'][i] == 'VADODARA':\n",
    "        VADODARA.append([dd['Boys'][i] , dd['Boys.1'][i] , dd['Boys.2'][i] ,dd['Girls'][i] ,dd['Girls.1'][i], dd['Girls.1'][i]])\n",
    "    if dd['Location'][i] == 'VALSAD':\n",
    "        VALSAD.append([dd['Boys'][i] , dd['Boys.1'][i] , dd['Boys.2'][i] ,dd['Girls'][i] ,dd['Girls.1'][i], dd['Girls.1'][i]])        "
   ]
  },
  {
   "cell_type": "code",
   "execution_count": 52,
   "id": "4b5ac65d-9b74-4894-a5fc-0ae67388a3e4",
   "metadata": {},
   "outputs": [
    {
     "data": {
      "text/plain": [
       "36"
      ]
     },
     "execution_count": 52,
     "metadata": {},
     "output_type": "execute_result"
    }
   ],
   "source": [
    "len(AHMEDABAD)"
   ]
  },
  {
   "cell_type": "code",
   "execution_count": 68,
   "id": "c7aad7e1-252c-4ce8-8083-606237afc7ae",
   "metadata": {},
   "outputs": [
    {
     "name": "stdout",
     "output_type": "stream",
     "text": [
      "2023.3599999999994\n"
     ]
    }
   ],
   "source": [
    "# Convert the 2D List into the 1D List\n",
    "def List_con(l1):\n",
    "    temp = []\n",
    "    for i in l1:\n",
    "        if type(i) == list:\n",
    "            for j in i:\n",
    "                temp.append(j)\n",
    "        else:\n",
    "            temp.append(i)\n",
    "    return temp\n",
    "x = List_con(AHMEDABAD)\n",
    "print(sum(x))"
   ]
  },
  {
   "cell_type": "code",
   "execution_count": 69,
   "id": "633d9823-652f-4afd-bdef-8db01da7f814",
   "metadata": {},
   "outputs": [],
   "source": [
    "x1 = sum(List_con(AHMEDABAD))"
   ]
  },
  {
   "cell_type": "code",
   "execution_count": 78,
   "id": "b8483c73-8e02-4adb-acd0-78c27b421690",
   "metadata": {},
   "outputs": [],
   "source": [
    "dic = {'AHMEDABAD' : sum(List_con(AHMEDABAD)) ,'AMRELI' : sum(List_con(AMRELI)) ,'ANAND' : sum(List_con(ANAND)) ,'ARAVALLI' : sum(List_con(ARAVALLI)) ,'BANAS_KANTHA' : sum(List_con(BANAS_KANTHA)) ,'BHARUCH' : sum(List_con(BHARUCH))  ,'BHAVNAGAR' : sum(List_con(BHAVNAGAR)) ,'BOTAD' : sum(List_con(BOTAD))  ,'CHHOTAUDEPUR' : sum(List_con(CHHOTAUDEPUR)) ,'DEVBHOOMI_DWARKA' : sum(List_con(DEVBHOOMI_DWARKA)) ,'DOHAD' : sum(List_con(DOHAD)) ,'GANDHINAGAR' : sum(List_con(GANDHINAGAR)) ,'GIR_SOMNATH' : sum(List_con(GIR_SOMNATH)) ,'JAMNAGAR' : sum(List_con(JAMNAGAR)) ,'JUNAGADH' : sum(List_con(JUNAGADH))  ,'KACHCHH' : sum(List_con(KACHCHH)) ,'KHEDA' : sum(List_con(KHEDA)) ,'MAHESANA' : sum(List_con(MAHESANA)) ,'MAHISAGAR' : sum(List_con(MAHISAGAR)) ,'MORBI' : sum(List_con(MORBI)) ,'NARMADA' : sum(List_con(NARMADA))  ,'NAVSARI' : sum(List_con(NAVSARI)) ,'PANCH_MAHALS' : sum(List_con(PANCH_MAHALS)) ,'PATAN' : sum(List_con(PATAN)) ,'PORBANDAR' : sum(List_con(PORBANDAR)) ,'RAJKOT' : sum(List_con(RAJKOT)) ,'SABAR_KANTHA' : sum(List_con(SABAR_KANTHA)) ,'SURENDRANAGAR' : sum(List_con(SURENDRANAGAR)) ,'SURAT' : sum(List_con(SURAT)) ,'TAPI' : sum(List_con(TAPI))  ,'THE_DANGS' : sum(List_con(THE_DANGS)) ,'VADODARA' : sum(List_con(VADODARA)) ,'VALSAD' : sum(List_con(VALSAD)) }"
   ]
  },
  {
   "cell_type": "code",
   "execution_count": 106,
   "id": "78012b7d-1431-4f09-a9aa-c209b4fd6b61",
   "metadata": {},
   "outputs": [],
   "source": [
    "Dis_Data = pd.DataFrame(dic , index=['Overall']).T"
   ]
  },
  {
   "cell_type": "code",
   "execution_count": 107,
   "id": "e9672dab-2d46-4b6f-8d01-de0aae026bec",
   "metadata": {},
   "outputs": [
    {
     "data": {
      "text/plain": [
       "33"
      ]
     },
     "execution_count": 107,
     "metadata": {},
     "output_type": "execute_result"
    }
   ],
   "source": [
    "len(Dis_Data)"
   ]
  },
  {
   "cell_type": "code",
   "execution_count": 112,
   "id": "2f05b64f-cb20-4cbb-b74b-1cb70d9dc49e",
   "metadata": {},
   "outputs": [
    {
     "data": {
      "text/plain": [
       "AHMEDABAD           2023.36\n",
       "AMRELI              1988.10\n",
       "ANAND               1566.34\n",
       "ARAVALLI             868.32\n",
       "BANAS_KANTHA        2306.78\n",
       "BHARUCH             1824.07\n",
       "BHAVNAGAR           2607.35\n",
       "BOTAD               1474.86\n",
       "CHHOTAUDEPUR        1745.79\n",
       "DEVBHOOMI_DWARKA    1946.66\n",
       "DOHAD               1962.99\n",
       "GANDHINAGAR          996.87\n",
       "GIR_SOMNATH         1188.66\n",
       "JAMNAGAR            3122.36\n",
       "JUNAGADH            1983.63\n",
       "KACHCHH             2847.36\n",
       "KHEDA               1982.93\n",
       "MAHESANA            1555.68\n",
       "MAHISAGAR           1181.19\n",
       "MORBI               1707.14\n",
       "NARMADA             2166.46\n",
       "NAVSARI             1210.59\n",
       "PANCH_MAHALS        2583.41\n",
       "PATAN               2113.97\n",
       "PORBANDAR           2053.79\n",
       "RAJKOT              2033.58\n",
       "SABAR_KANTHA        2237.76\n",
       "SURENDRANAGAR       2594.88\n",
       "SURAT               1450.47\n",
       "TAPI                1999.37\n",
       "THE_DANGS           3376.15\n",
       "VADODARA            2427.17\n",
       "VALSAD              1495.86\n",
       "Name: Overall, dtype: float64"
      ]
     },
     "execution_count": 112,
     "metadata": {},
     "output_type": "execute_result"
    }
   ],
   "source": [
    "for i in range():\n",
    "    "
   ]
  },
  {
   "cell_type": "code",
   "execution_count": null,
   "id": "5633d4fa-d0ca-4ed8-9487-94ed2a88de2c",
   "metadata": {},
   "outputs": [],
   "source": []
  },
  {
   "cell_type": "code",
   "execution_count": null,
   "id": "83fa1d95-d9cc-4767-b53a-6938c22c4800",
   "metadata": {},
   "outputs": [],
   "source": []
  }
 ],
 "metadata": {
  "kernelspec": {
   "display_name": "Python 3 (ipykernel)",
   "language": "python",
   "name": "python3"
  },
  "language_info": {
   "codemirror_mode": {
    "name": "ipython",
    "version": 3
   },
   "file_extension": ".py",
   "mimetype": "text/x-python",
   "name": "python",
   "nbconvert_exporter": "python",
   "pygments_lexer": "ipython3",
   "version": "3.10.7"
  }
 },
 "nbformat": 4,
 "nbformat_minor": 5
}
