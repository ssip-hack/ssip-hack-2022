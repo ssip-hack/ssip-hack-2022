{
 "cells": [
  {
   "cell_type": "markdown",
   "id": "28c7537f-de87-4105-a1e4-26199d764b86",
   "metadata": {},
   "source": [
    "# Cast Wise Prediction"
   ]
  },
  {
   "cell_type": "code",
   "execution_count": 1,
   "id": "c09af6d7-1d42-4657-b546-8a5064f7cbbd",
   "metadata": {},
   "outputs": [],
   "source": [
    "import pandas as pd\n",
    "import numpy as np \n",
    "import matplotlib.pyplot as plt\n",
    "import seaborn as sns\n",
    "from sklearn.model_selection import train_test_split\n",
    "from sklearn.linear_model import LinearRegression\n",
    "from sklearn.linear_model import LogisticRegression\n",
    "from sklearn import metrics"
   ]
  },
  {
   "cell_type": "code",
   "execution_count": 2,
   "id": "c5b66880-a995-40fa-b47f-97cb721bc814",
   "metadata": {},
   "outputs": [
    {
     "data": {
      "text/html": [
       "<div>\n",
       "<style scoped>\n",
       "    .dataframe tbody tr th:only-of-type {\n",
       "        vertical-align: middle;\n",
       "    }\n",
       "\n",
       "    .dataframe tbody tr th {\n",
       "        vertical-align: top;\n",
       "    }\n",
       "\n",
       "    .dataframe thead th {\n",
       "        text-align: right;\n",
       "    }\n",
       "</style>\n",
       "<table border=\"1\" class=\"dataframe\">\n",
       "  <thead>\n",
       "    <tr style=\"text-align: right;\">\n",
       "      <th></th>\n",
       "      <th>Unnamed: 0</th>\n",
       "      <th>general</th>\n",
       "      <th>obc</th>\n",
       "      <th>sc</th>\n",
       "      <th>st</th>\n",
       "      <th>overall</th>\n",
       "    </tr>\n",
       "  </thead>\n",
       "  <tbody>\n",
       "    <tr>\n",
       "      <th>0</th>\n",
       "      <td>0</td>\n",
       "      <td>10.54</td>\n",
       "      <td>28.75</td>\n",
       "      <td>7.34</td>\n",
       "      <td>34.45</td>\n",
       "      <td>81.08</td>\n",
       "    </tr>\n",
       "    <tr>\n",
       "      <th>1</th>\n",
       "      <td>1</td>\n",
       "      <td>6.97</td>\n",
       "      <td>18.72</td>\n",
       "      <td>4.70</td>\n",
       "      <td>144.60</td>\n",
       "      <td>174.99</td>\n",
       "    </tr>\n",
       "    <tr>\n",
       "      <th>2</th>\n",
       "      <td>2</td>\n",
       "      <td>31.52</td>\n",
       "      <td>26.10</td>\n",
       "      <td>25.75</td>\n",
       "      <td>35.95</td>\n",
       "      <td>119.32</td>\n",
       "    </tr>\n",
       "    <tr>\n",
       "      <th>3</th>\n",
       "      <td>3</td>\n",
       "      <td>31.79</td>\n",
       "      <td>32.11</td>\n",
       "      <td>31.68</td>\n",
       "      <td>44.44</td>\n",
       "      <td>140.02</td>\n",
       "    </tr>\n",
       "    <tr>\n",
       "      <th>4</th>\n",
       "      <td>4</td>\n",
       "      <td>30.24</td>\n",
       "      <td>16.21</td>\n",
       "      <td>22.30</td>\n",
       "      <td>39.60</td>\n",
       "      <td>108.35</td>\n",
       "    </tr>\n",
       "    <tr>\n",
       "      <th>...</th>\n",
       "      <td>...</td>\n",
       "      <td>...</td>\n",
       "      <td>...</td>\n",
       "      <td>...</td>\n",
       "      <td>...</td>\n",
       "      <td>...</td>\n",
       "    </tr>\n",
       "    <tr>\n",
       "      <th>285</th>\n",
       "      <td>285</td>\n",
       "      <td>8.36</td>\n",
       "      <td>31.75</td>\n",
       "      <td>23.52</td>\n",
       "      <td>64.62</td>\n",
       "      <td>128.25</td>\n",
       "    </tr>\n",
       "    <tr>\n",
       "      <th>286</th>\n",
       "      <td>286</td>\n",
       "      <td>15.59</td>\n",
       "      <td>22.72</td>\n",
       "      <td>14.11</td>\n",
       "      <td>20.08</td>\n",
       "      <td>72.50</td>\n",
       "    </tr>\n",
       "    <tr>\n",
       "      <th>287</th>\n",
       "      <td>287</td>\n",
       "      <td>0.00</td>\n",
       "      <td>37.30</td>\n",
       "      <td>0.00</td>\n",
       "      <td>27.81</td>\n",
       "      <td>65.11</td>\n",
       "    </tr>\n",
       "    <tr>\n",
       "      <th>288</th>\n",
       "      <td>288</td>\n",
       "      <td>11.08</td>\n",
       "      <td>56.71</td>\n",
       "      <td>45.86</td>\n",
       "      <td>52.79</td>\n",
       "      <td>166.44</td>\n",
       "    </tr>\n",
       "    <tr>\n",
       "      <th>289</th>\n",
       "      <td>289</td>\n",
       "      <td>14.25</td>\n",
       "      <td>10.83</td>\n",
       "      <td>52.65</td>\n",
       "      <td>21.56</td>\n",
       "      <td>99.29</td>\n",
       "    </tr>\n",
       "  </tbody>\n",
       "</table>\n",
       "<p>290 rows × 6 columns</p>\n",
       "</div>"
      ],
      "text/plain": [
       "     Unnamed: 0  general    obc     sc      st  overall\n",
       "0             0    10.54  28.75   7.34   34.45    81.08\n",
       "1             1     6.97  18.72   4.70  144.60   174.99\n",
       "2             2    31.52  26.10  25.75   35.95   119.32\n",
       "3             3    31.79  32.11  31.68   44.44   140.02\n",
       "4             4    30.24  16.21  22.30   39.60   108.35\n",
       "..          ...      ...    ...    ...     ...      ...\n",
       "285         285     8.36  31.75  23.52   64.62   128.25\n",
       "286         286    15.59  22.72  14.11   20.08    72.50\n",
       "287         287     0.00  37.30   0.00   27.81    65.11\n",
       "288         288    11.08  56.71  45.86   52.79   166.44\n",
       "289         289    14.25  10.83  52.65   21.56    99.29\n",
       "\n",
       "[290 rows x 6 columns]"
      ]
     },
     "execution_count": 2,
     "metadata": {},
     "output_type": "execute_result"
    }
   ],
   "source": [
    "cd = pd.read_csv('Cast.csv')\n",
    "cd"
   ]
  },
  {
   "cell_type": "code",
   "execution_count": 3,
   "id": "fad59650-0471-4823-80e7-3869ad1b200a",
   "metadata": {},
   "outputs": [
    {
     "data": {
      "text/html": [
       "<div>\n",
       "<style scoped>\n",
       "    .dataframe tbody tr th:only-of-type {\n",
       "        vertical-align: middle;\n",
       "    }\n",
       "\n",
       "    .dataframe tbody tr th {\n",
       "        vertical-align: top;\n",
       "    }\n",
       "\n",
       "    .dataframe thead th {\n",
       "        text-align: right;\n",
       "    }\n",
       "</style>\n",
       "<table border=\"1\" class=\"dataframe\">\n",
       "  <thead>\n",
       "    <tr style=\"text-align: right;\">\n",
       "      <th></th>\n",
       "      <th>general</th>\n",
       "      <th>obc</th>\n",
       "      <th>sc</th>\n",
       "      <th>st</th>\n",
       "      <th>overall</th>\n",
       "    </tr>\n",
       "  </thead>\n",
       "  <tbody>\n",
       "    <tr>\n",
       "      <th>0</th>\n",
       "      <td>10.54</td>\n",
       "      <td>28.75</td>\n",
       "      <td>7.34</td>\n",
       "      <td>34.45</td>\n",
       "      <td>81.08</td>\n",
       "    </tr>\n",
       "    <tr>\n",
       "      <th>1</th>\n",
       "      <td>6.97</td>\n",
       "      <td>18.72</td>\n",
       "      <td>4.70</td>\n",
       "      <td>144.60</td>\n",
       "      <td>174.99</td>\n",
       "    </tr>\n",
       "    <tr>\n",
       "      <th>2</th>\n",
       "      <td>31.52</td>\n",
       "      <td>26.10</td>\n",
       "      <td>25.75</td>\n",
       "      <td>35.95</td>\n",
       "      <td>119.32</td>\n",
       "    </tr>\n",
       "    <tr>\n",
       "      <th>3</th>\n",
       "      <td>31.79</td>\n",
       "      <td>32.11</td>\n",
       "      <td>31.68</td>\n",
       "      <td>44.44</td>\n",
       "      <td>140.02</td>\n",
       "    </tr>\n",
       "    <tr>\n",
       "      <th>4</th>\n",
       "      <td>30.24</td>\n",
       "      <td>16.21</td>\n",
       "      <td>22.30</td>\n",
       "      <td>39.60</td>\n",
       "      <td>108.35</td>\n",
       "    </tr>\n",
       "  </tbody>\n",
       "</table>\n",
       "</div>"
      ],
      "text/plain": [
       "   general    obc     sc      st  overall\n",
       "0    10.54  28.75   7.34   34.45    81.08\n",
       "1     6.97  18.72   4.70  144.60   174.99\n",
       "2    31.52  26.10  25.75   35.95   119.32\n",
       "3    31.79  32.11  31.68   44.44   140.02\n",
       "4    30.24  16.21  22.30   39.60   108.35"
      ]
     },
     "execution_count": 3,
     "metadata": {},
     "output_type": "execute_result"
    }
   ],
   "source": [
    "del cd['Unnamed: 0']\n",
    "cd.head()"
   ]
  },
  {
   "cell_type": "code",
   "execution_count": 4,
   "id": "253a9f50-8295-426f-8a9a-77c3f9cfc5d2",
   "metadata": {},
   "outputs": [],
   "source": [
    "d1 = { 'general' : 0 , 'obc' : 0 , 'sc' : 0 , 'st' : 0  , 'overall' : 0}"
   ]
  },
  {
   "cell_type": "code",
   "execution_count": 5,
   "id": "a06ae883-4c4b-4e16-baf4-7bd66a991791",
   "metadata": {},
   "outputs": [
    {
     "name": "stderr",
     "output_type": "stream",
     "text": [
      "C:\\Users\\malan\\AppData\\Local\\Temp\\ipykernel_10708\\2155556461.py:1: FutureWarning: The frame.append method is deprecated and will be removed from pandas in a future version. Use pandas.concat instead.\n",
      "  cd.append(d1 , ignore_index=True).head(3)\n"
     ]
    },
    {
     "data": {
      "text/html": [
       "<div>\n",
       "<style scoped>\n",
       "    .dataframe tbody tr th:only-of-type {\n",
       "        vertical-align: middle;\n",
       "    }\n",
       "\n",
       "    .dataframe tbody tr th {\n",
       "        vertical-align: top;\n",
       "    }\n",
       "\n",
       "    .dataframe thead th {\n",
       "        text-align: right;\n",
       "    }\n",
       "</style>\n",
       "<table border=\"1\" class=\"dataframe\">\n",
       "  <thead>\n",
       "    <tr style=\"text-align: right;\">\n",
       "      <th></th>\n",
       "      <th>general</th>\n",
       "      <th>obc</th>\n",
       "      <th>sc</th>\n",
       "      <th>st</th>\n",
       "      <th>overall</th>\n",
       "    </tr>\n",
       "  </thead>\n",
       "  <tbody>\n",
       "    <tr>\n",
       "      <th>0</th>\n",
       "      <td>10.54</td>\n",
       "      <td>28.75</td>\n",
       "      <td>7.34</td>\n",
       "      <td>34.45</td>\n",
       "      <td>81.08</td>\n",
       "    </tr>\n",
       "    <tr>\n",
       "      <th>1</th>\n",
       "      <td>6.97</td>\n",
       "      <td>18.72</td>\n",
       "      <td>4.70</td>\n",
       "      <td>144.60</td>\n",
       "      <td>174.99</td>\n",
       "    </tr>\n",
       "    <tr>\n",
       "      <th>2</th>\n",
       "      <td>31.52</td>\n",
       "      <td>26.10</td>\n",
       "      <td>25.75</td>\n",
       "      <td>35.95</td>\n",
       "      <td>119.32</td>\n",
       "    </tr>\n",
       "  </tbody>\n",
       "</table>\n",
       "</div>"
      ],
      "text/plain": [
       "   general    obc     sc      st  overall\n",
       "0    10.54  28.75   7.34   34.45    81.08\n",
       "1     6.97  18.72   4.70  144.60   174.99\n",
       "2    31.52  26.10  25.75   35.95   119.32"
      ]
     },
     "execution_count": 5,
     "metadata": {},
     "output_type": "execute_result"
    }
   ],
   "source": [
    "cd.append(d1 , ignore_index=True).head(3)"
   ]
  },
  {
   "cell_type": "code",
   "execution_count": 6,
   "id": "b14aefd0-f67b-43cf-86c4-9ba1310fd886",
   "metadata": {},
   "outputs": [
    {
     "data": {
      "text/html": [
       "<div>\n",
       "<style scoped>\n",
       "    .dataframe tbody tr th:only-of-type {\n",
       "        vertical-align: middle;\n",
       "    }\n",
       "\n",
       "    .dataframe tbody tr th {\n",
       "        vertical-align: top;\n",
       "    }\n",
       "\n",
       "    .dataframe thead th {\n",
       "        text-align: right;\n",
       "    }\n",
       "</style>\n",
       "<table border=\"1\" class=\"dataframe\">\n",
       "  <thead>\n",
       "    <tr style=\"text-align: right;\">\n",
       "      <th></th>\n",
       "      <th>general</th>\n",
       "      <th>obc</th>\n",
       "      <th>sc</th>\n",
       "      <th>st</th>\n",
       "      <th>overall</th>\n",
       "    </tr>\n",
       "  </thead>\n",
       "  <tbody>\n",
       "    <tr>\n",
       "      <th>count</th>\n",
       "      <td>290.000000</td>\n",
       "      <td>290.00000</td>\n",
       "      <td>290.000000</td>\n",
       "      <td>290.000000</td>\n",
       "      <td>290.000000</td>\n",
       "    </tr>\n",
       "    <tr>\n",
       "      <th>mean</th>\n",
       "      <td>24.590310</td>\n",
       "      <td>35.01800</td>\n",
       "      <td>34.403483</td>\n",
       "      <td>40.922172</td>\n",
       "      <td>134.933966</td>\n",
       "    </tr>\n",
       "    <tr>\n",
       "      <th>std</th>\n",
       "      <td>21.557001</td>\n",
       "      <td>19.02819</td>\n",
       "      <td>23.166217</td>\n",
       "      <td>28.730276</td>\n",
       "      <td>70.118682</td>\n",
       "    </tr>\n",
       "    <tr>\n",
       "      <th>min</th>\n",
       "      <td>0.000000</td>\n",
       "      <td>0.00000</td>\n",
       "      <td>0.000000</td>\n",
       "      <td>0.000000</td>\n",
       "      <td>0.000000</td>\n",
       "    </tr>\n",
       "    <tr>\n",
       "      <th>25%</th>\n",
       "      <td>13.562500</td>\n",
       "      <td>25.42750</td>\n",
       "      <td>21.372500</td>\n",
       "      <td>25.020000</td>\n",
       "      <td>97.697500</td>\n",
       "    </tr>\n",
       "    <tr>\n",
       "      <th>50%</th>\n",
       "      <td>21.170000</td>\n",
       "      <td>34.09000</td>\n",
       "      <td>30.895000</td>\n",
       "      <td>36.425000</td>\n",
       "      <td>123.360000</td>\n",
       "    </tr>\n",
       "    <tr>\n",
       "      <th>75%</th>\n",
       "      <td>29.845000</td>\n",
       "      <td>41.64500</td>\n",
       "      <td>41.430000</td>\n",
       "      <td>50.120000</td>\n",
       "      <td>160.230000</td>\n",
       "    </tr>\n",
       "    <tr>\n",
       "      <th>max</th>\n",
       "      <td>205.750000</td>\n",
       "      <td>167.08000</td>\n",
       "      <td>193.250000</td>\n",
       "      <td>218.200000</td>\n",
       "      <td>558.870000</td>\n",
       "    </tr>\n",
       "  </tbody>\n",
       "</table>\n",
       "</div>"
      ],
      "text/plain": [
       "          general        obc          sc          st     overall\n",
       "count  290.000000  290.00000  290.000000  290.000000  290.000000\n",
       "mean    24.590310   35.01800   34.403483   40.922172  134.933966\n",
       "std     21.557001   19.02819   23.166217   28.730276   70.118682\n",
       "min      0.000000    0.00000    0.000000    0.000000    0.000000\n",
       "25%     13.562500   25.42750   21.372500   25.020000   97.697500\n",
       "50%     21.170000   34.09000   30.895000   36.425000  123.360000\n",
       "75%     29.845000   41.64500   41.430000   50.120000  160.230000\n",
       "max    205.750000  167.08000  193.250000  218.200000  558.870000"
      ]
     },
     "execution_count": 6,
     "metadata": {},
     "output_type": "execute_result"
    }
   ],
   "source": [
    "cd.describe()"
   ]
  },
  {
   "cell_type": "code",
   "execution_count": 7,
   "id": "397514cb-b715-49c7-acaf-8fee13c0a7bf",
   "metadata": {},
   "outputs": [],
   "source": [
    "x = cd[['overall']]     # d\n",
    "y = cd[['general' , 'obc' , 'sc' , 'st']] # i"
   ]
  },
  {
   "cell_type": "code",
   "execution_count": 8,
   "id": "80c9c3ef-4f47-47ed-a7f9-5fda8a29fb75",
   "metadata": {},
   "outputs": [],
   "source": [
    "x_train, x_test, y_train, y_test = train_test_split(x,y,random_state=135,test_size=0.1 , train_size=0.9)\n",
    "# mean of the all cast use in Random_state"
   ]
  },
  {
   "cell_type": "code",
   "execution_count": 9,
   "id": "77a63936-95b8-4f20-a797-72a8f7f68c16",
   "metadata": {},
   "outputs": [],
   "source": [
    "lm = LinearRegression()"
   ]
  },
  {
   "cell_type": "code",
   "execution_count": 10,
   "id": "9ec23835-bcca-4f47-8766-295cad75f68a",
   "metadata": {},
   "outputs": [
    {
     "data": {
      "text/html": [
       "<style>#sk-container-id-1 {color: black;background-color: white;}#sk-container-id-1 pre{padding: 0;}#sk-container-id-1 div.sk-toggleable {background-color: white;}#sk-container-id-1 label.sk-toggleable__label {cursor: pointer;display: block;width: 100%;margin-bottom: 0;padding: 0.3em;box-sizing: border-box;text-align: center;}#sk-container-id-1 label.sk-toggleable__label-arrow:before {content: \"▸\";float: left;margin-right: 0.25em;color: #696969;}#sk-container-id-1 label.sk-toggleable__label-arrow:hover:before {color: black;}#sk-container-id-1 div.sk-estimator:hover label.sk-toggleable__label-arrow:before {color: black;}#sk-container-id-1 div.sk-toggleable__content {max-height: 0;max-width: 0;overflow: hidden;text-align: left;background-color: #f0f8ff;}#sk-container-id-1 div.sk-toggleable__content pre {margin: 0.2em;color: black;border-radius: 0.25em;background-color: #f0f8ff;}#sk-container-id-1 input.sk-toggleable__control:checked~div.sk-toggleable__content {max-height: 200px;max-width: 100%;overflow: auto;}#sk-container-id-1 input.sk-toggleable__control:checked~label.sk-toggleable__label-arrow:before {content: \"▾\";}#sk-container-id-1 div.sk-estimator input.sk-toggleable__control:checked~label.sk-toggleable__label {background-color: #d4ebff;}#sk-container-id-1 div.sk-label input.sk-toggleable__control:checked~label.sk-toggleable__label {background-color: #d4ebff;}#sk-container-id-1 input.sk-hidden--visually {border: 0;clip: rect(1px 1px 1px 1px);clip: rect(1px, 1px, 1px, 1px);height: 1px;margin: -1px;overflow: hidden;padding: 0;position: absolute;width: 1px;}#sk-container-id-1 div.sk-estimator {font-family: monospace;background-color: #f0f8ff;border: 1px dotted black;border-radius: 0.25em;box-sizing: border-box;margin-bottom: 0.5em;}#sk-container-id-1 div.sk-estimator:hover {background-color: #d4ebff;}#sk-container-id-1 div.sk-parallel-item::after {content: \"\";width: 100%;border-bottom: 1px solid gray;flex-grow: 1;}#sk-container-id-1 div.sk-label:hover label.sk-toggleable__label {background-color: #d4ebff;}#sk-container-id-1 div.sk-serial::before {content: \"\";position: absolute;border-left: 1px solid gray;box-sizing: border-box;top: 0;bottom: 0;left: 50%;z-index: 0;}#sk-container-id-1 div.sk-serial {display: flex;flex-direction: column;align-items: center;background-color: white;padding-right: 0.2em;padding-left: 0.2em;position: relative;}#sk-container-id-1 div.sk-item {position: relative;z-index: 1;}#sk-container-id-1 div.sk-parallel {display: flex;align-items: stretch;justify-content: center;background-color: white;position: relative;}#sk-container-id-1 div.sk-item::before, #sk-container-id-1 div.sk-parallel-item::before {content: \"\";position: absolute;border-left: 1px solid gray;box-sizing: border-box;top: 0;bottom: 0;left: 50%;z-index: -1;}#sk-container-id-1 div.sk-parallel-item {display: flex;flex-direction: column;z-index: 1;position: relative;background-color: white;}#sk-container-id-1 div.sk-parallel-item:first-child::after {align-self: flex-end;width: 50%;}#sk-container-id-1 div.sk-parallel-item:last-child::after {align-self: flex-start;width: 50%;}#sk-container-id-1 div.sk-parallel-item:only-child::after {width: 0;}#sk-container-id-1 div.sk-dashed-wrapped {border: 1px dashed gray;margin: 0 0.4em 0.5em 0.4em;box-sizing: border-box;padding-bottom: 0.4em;background-color: white;}#sk-container-id-1 div.sk-label label {font-family: monospace;font-weight: bold;display: inline-block;line-height: 1.2em;}#sk-container-id-1 div.sk-label-container {text-align: center;}#sk-container-id-1 div.sk-container {/* jupyter's `normalize.less` sets `[hidden] { display: none; }` but bootstrap.min.css set `[hidden] { display: none !important; }` so we also need the `!important` here to be able to override the default hidden behavior on the sphinx rendered scikit-learn.org. See: https://github.com/scikit-learn/scikit-learn/issues/21755 */display: inline-block !important;position: relative;}#sk-container-id-1 div.sk-text-repr-fallback {display: none;}</style><div id=\"sk-container-id-1\" class=\"sk-top-container\"><div class=\"sk-text-repr-fallback\"><pre>LinearRegression()</pre><b>In a Jupyter environment, please rerun this cell to show the HTML representation or trust the notebook. <br />On GitHub, the HTML representation is unable to render, please try loading this page with nbviewer.org.</b></div><div class=\"sk-container\" hidden><div class=\"sk-item\"><div class=\"sk-estimator sk-toggleable\"><input class=\"sk-toggleable__control sk-hidden--visually\" id=\"sk-estimator-id-1\" type=\"checkbox\" checked><label for=\"sk-estimator-id-1\" class=\"sk-toggleable__label sk-toggleable__label-arrow\">LinearRegression</label><div class=\"sk-toggleable__content\"><pre>LinearRegression()</pre></div></div></div></div></div>"
      ],
      "text/plain": [
       "LinearRegression()"
      ]
     },
     "execution_count": 10,
     "metadata": {},
     "output_type": "execute_result"
    }
   ],
   "source": [
    "lm.fit(x_train, y_train)"
   ]
  },
  {
   "cell_type": "code",
   "execution_count": 11,
   "id": "fad19703-5006-4a20-88d4-4765ee9b8d41",
   "metadata": {},
   "outputs": [
    {
     "data": {
      "text/plain": [
       "array([[0.20061358],\n",
       "       [0.21801433],\n",
       "       [0.27858077],\n",
       "       [0.30279132]])"
      ]
     },
     "execution_count": 11,
     "metadata": {},
     "output_type": "execute_result"
    }
   ],
   "source": [
    "lm.coef_"
   ]
  },
  {
   "cell_type": "code",
   "execution_count": 12,
   "id": "87e31986-517c-406b-a4df-427e90cc7fa7",
   "metadata": {},
   "outputs": [
    {
     "data": {
      "text/plain": [
       "array([-2.87339111,  6.00291965, -2.62679823, -0.50273031])"
      ]
     },
     "execution_count": 12,
     "metadata": {},
     "output_type": "execute_result"
    }
   ],
   "source": [
    "lm.intercept_"
   ]
  },
  {
   "cell_type": "code",
   "execution_count": 13,
   "id": "0a5db308-ef2e-4007-921e-4ea94a4349cf",
   "metadata": {},
   "outputs": [
    {
     "data": {
      "text/plain": [
       "array([[26.56865747, 37.99870295, 38.25771601, 43.93492358],\n",
       "       [12.24284192, 22.43029953, 18.36426301, 22.31259553],\n",
       "       [35.19303515, 47.37113906, 50.23390344, 56.95192235],\n",
       "       ...,\n",
       "       [25.89459585, 37.2661748 , 37.32168461, 42.91754475],\n",
       "       [16.44369023, 26.99551963, 24.1977444 , 28.65304574],\n",
       "       [24.92162   , 36.20880529, 35.97056786, 41.44900685]])"
      ]
     },
     "execution_count": 13,
     "metadata": {},
     "output_type": "execute_result"
    }
   ],
   "source": [
    "lm.predict(x_train)"
   ]
  },
  {
   "cell_type": "code",
   "execution_count": 14,
   "id": "3da12c93-63f4-4bfa-b022-2834bf1d69df",
   "metadata": {},
   "outputs": [],
   "source": [
    "def Prediction_for_the_Cast(l1):\n",
    "    return lm.predict([l1]).tolist()"
   ]
  },
  {
   "cell_type": "code",
   "execution_count": 15,
   "id": "d7a27104-9b5d-4612-bd2d-24c974fa5bb5",
   "metadata": {},
   "outputs": [
    {
     "name": "stdout",
     "output_type": "stream",
     "text": [
      "GENERAL : 1.564181213961768 \n",
      "OBC : 10.825396661120873 \n",
      "SC : 3.5354084705068933 \n",
      "ST : 6.195013654410396\n"
     ]
    },
    {
     "name": "stderr",
     "output_type": "stream",
     "text": [
      "C:\\Users\\malan\\AppData\\Local\\Programs\\Python\\Python310\\lib\\site-packages\\sklearn\\base.py:450: UserWarning: X does not have valid feature names, but LinearRegression was fitted with feature names\n",
      "  warnings.warn(\n"
     ]
    }
   ],
   "source": [
    "value = cd['overall'].sum() / len(cd)\n",
    "l1 = [22.12]\n",
    "Final_data = Prediction_for_the_Cast(l1)\n",
    "print(f'GENERAL : {Final_data[0][0]} \\nOBC : {Final_data[0][1]} \\nSC : {Final_data[0][2]} \\nST : {Final_data[0][3]}')"
   ]
  },
  {
   "cell_type": "code",
   "execution_count": null,
   "id": "f9ecba98-5059-4df9-9bac-91b820bc0f7f",
   "metadata": {},
   "outputs": [],
   "source": []
  },
  {
   "cell_type": "code",
   "execution_count": null,
   "id": "23f51705-3074-4712-998a-e252e500df94",
   "metadata": {},
   "outputs": [],
   "source": []
  },
  {
   "cell_type": "code",
   "execution_count": null,
   "id": "185c2aef-1e68-4b20-8c5c-c331b6f0c3d8",
   "metadata": {},
   "outputs": [],
   "source": []
  }
 ],
 "metadata": {
  "kernelspec": {
   "display_name": "Python 3 (ipykernel)",
   "language": "python",
   "name": "python3"
  },
  "language_info": {
   "codemirror_mode": {
    "name": "ipython",
    "version": 3
   },
   "file_extension": ".py",
   "mimetype": "text/x-python",
   "name": "python",
   "nbconvert_exporter": "python",
   "pygments_lexer": "ipython3",
   "version": "3.10.7"
  }
 },
 "nbformat": 4,
 "nbformat_minor": 5
}
