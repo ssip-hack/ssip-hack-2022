{
 "cells": [
  {
   "cell_type": "markdown",
   "id": "b838e5e2-59f0-4d46-9967-7916daf26191",
   "metadata": {},
   "source": [
    "# Cast wise Basic Analysis\n",
    "<h6>C_Cast.csv Created (Child)"
   ]
  },
  {
   "cell_type": "code",
   "execution_count": 1,
   "id": "4f5e79b1-528a-4c1f-b6d1-096d586b1eec",
   "metadata": {},
   "outputs": [],
   "source": [
    "import pandas as pd\n",
    "import numpy as np "
   ]
  },
  {
   "cell_type": "code",
   "execution_count": 2,
   "id": "86636a04-e199-4c3e-9b7c-9b44a84fd575",
   "metadata": {},
   "outputs": [
    {
     "data": {
      "text/html": [
       "<div>\n",
       "<style scoped>\n",
       "    .dataframe tbody tr th:only-of-type {\n",
       "        vertical-align: middle;\n",
       "    }\n",
       "\n",
       "    .dataframe tbody tr th {\n",
       "        vertical-align: top;\n",
       "    }\n",
       "\n",
       "    .dataframe thead th {\n",
       "        text-align: right;\n",
       "    }\n",
       "</style>\n",
       "<table border=\"1\" class=\"dataframe\">\n",
       "  <thead>\n",
       "    <tr style=\"text-align: right;\">\n",
       "      <th></th>\n",
       "      <th>Location</th>\n",
       "      <th>Social Category</th>\n",
       "      <th>Girls</th>\n",
       "      <th>Boys</th>\n",
       "      <th>Overall</th>\n",
       "      <th>Girls.1</th>\n",
       "      <th>Boys.1</th>\n",
       "      <th>Overall.1</th>\n",
       "      <th>Girls.2</th>\n",
       "      <th>Boys.2</th>\n",
       "      <th>Overall.2</th>\n",
       "    </tr>\n",
       "  </thead>\n",
       "  <tbody>\n",
       "    <tr>\n",
       "      <th>0</th>\n",
       "      <td>AHMEDABAD</td>\n",
       "      <td>General</td>\n",
       "      <td>0.00</td>\n",
       "      <td>0.00</td>\n",
       "      <td>0.00</td>\n",
       "      <td>0.00</td>\n",
       "      <td>0.00</td>\n",
       "      <td>0.00</td>\n",
       "      <td>8.02</td>\n",
       "      <td>12.34</td>\n",
       "      <td>10.54</td>\n",
       "    </tr>\n",
       "    <tr>\n",
       "      <th>1</th>\n",
       "      <td>AHMEDABAD</td>\n",
       "      <td>OBC</td>\n",
       "      <td>0.64</td>\n",
       "      <td>1.10</td>\n",
       "      <td>0.89</td>\n",
       "      <td>9.37</td>\n",
       "      <td>4.14</td>\n",
       "      <td>6.46</td>\n",
       "      <td>18.43</td>\n",
       "      <td>23.13</td>\n",
       "      <td>21.40</td>\n",
       "    </tr>\n",
       "    <tr>\n",
       "      <th>2</th>\n",
       "      <td>AHMEDABAD</td>\n",
       "      <td>SC</td>\n",
       "      <td>0.00</td>\n",
       "      <td>0.00</td>\n",
       "      <td>0.00</td>\n",
       "      <td>0.00</td>\n",
       "      <td>4.13</td>\n",
       "      <td>1.26</td>\n",
       "      <td>0.00</td>\n",
       "      <td>10.65</td>\n",
       "      <td>6.08</td>\n",
       "    </tr>\n",
       "    <tr>\n",
       "      <th>3</th>\n",
       "      <td>AHMEDABAD</td>\n",
       "      <td>ST</td>\n",
       "      <td>5.92</td>\n",
       "      <td>5.72</td>\n",
       "      <td>5.81</td>\n",
       "      <td>9.68</td>\n",
       "      <td>13.69</td>\n",
       "      <td>12.07</td>\n",
       "      <td>24.31</td>\n",
       "      <td>10.94</td>\n",
       "      <td>16.57</td>\n",
       "    </tr>\n",
       "  </tbody>\n",
       "</table>\n",
       "</div>"
      ],
      "text/plain": [
       "    Location Social Category  Girls  Boys  Overall  Girls.1  Boys.1  \\\n",
       "0  AHMEDABAD         General   0.00  0.00     0.00     0.00    0.00   \n",
       "1  AHMEDABAD             OBC   0.64  1.10     0.89     9.37    4.14   \n",
       "2  AHMEDABAD              SC   0.00  0.00     0.00     0.00    4.13   \n",
       "3  AHMEDABAD              ST   5.92  5.72     5.81     9.68   13.69   \n",
       "\n",
       "   Overall.1  Girls.2  Boys.2  Overall.2  \n",
       "0       0.00     8.02   12.34      10.54  \n",
       "1       6.46    18.43   23.13      21.40  \n",
       "2       1.26     0.00   10.65       6.08  \n",
       "3      12.07    24.31   10.94      16.57  "
      ]
     },
     "execution_count": 2,
     "metadata": {},
     "output_type": "execute_result"
    }
   ],
   "source": [
    "cd = pd.read_csv('P_cast.csv')\n",
    "cd.head(4)"
   ]
  },
  {
   "cell_type": "code",
   "execution_count": 3,
   "id": "3842d915-f683-42a1-b37a-9d176681131c",
   "metadata": {},
   "outputs": [],
   "source": [
    "dis = cd.sort_values('Location')"
   ]
  },
  {
   "cell_type": "code",
   "execution_count": null,
   "id": "6eb41982-e183-4d21-9565-1434b961e692",
   "metadata": {},
   "outputs": [],
   "source": []
  },
  {
   "cell_type": "code",
   "execution_count": 4,
   "id": "42bd6d78-6d03-4dfd-9c1c-3ad38213fce4",
   "metadata": {},
   "outputs": [],
   "source": [
    "general = []\n",
    "obc = []\n",
    "sc= []\n",
    "st = []\n",
    "total = []\n",
    "temp = 0\n",
    "for i in range(len(cd)):\n",
    "    if cd['Social Category'][i] == 'General':\n",
    "        sg = cd['Overall'][i] + cd['Overall.1'][i] + cd['Overall.2'][i]\n",
    "        temp = temp + sg\n",
    "        general.append(sg)\n",
    "        sg= 0\n",
    "    if cd['Social Category'][i] == 'OBC':\n",
    "        so = cd['Overall'][i] + cd['Overall.1'][i] + cd['Overall.2'][i]\n",
    "        temp = temp + so\n",
    "        obc.append(so)\n",
    "        so=0\n",
    "    if cd['Social Category'][i] == 'SC':\n",
    "        ssc = cd['Overall'][i] + cd['Overall.1'][i] + cd['Overall.2'][i]\n",
    "        temp = temp + ssc\n",
    "        sc.append(ssc)\n",
    "        ssc = 0\n",
    "    if cd['Social Category'][i] == 'ST':\n",
    "        sst = cd['Overall'][i] + cd['Overall.1'][i] + cd['Overall.2'][i]\n",
    "        temp = temp + sst \n",
    "        st.append(sst)\n",
    "        total.append(temp)\n",
    "        temp = 0\n",
    "        sst =0"
   ]
  },
  {
   "cell_type": "code",
   "execution_count": 5,
   "id": "82b1f894-38f4-4398-9f10-1ce5bbde94be",
   "metadata": {},
   "outputs": [],
   "source": [
    "CombinationForTheCast =  list(zip(general,obc,sc,st , total))"
   ]
  },
  {
   "cell_type": "code",
   "execution_count": 6,
   "id": "9e05aa1d-cf1f-4d55-9878-89d5f9f756cc",
   "metadata": {},
   "outputs": [],
   "source": [
    "Cast = pd.DataFrame(CombinationForTheCast , columns=['general' , 'obc' , 'sc' , 'st' , 'overall' ])"
   ]
  },
  {
   "cell_type": "code",
   "execution_count": 7,
   "id": "fd3eeb08-8bef-4e7c-882d-673bf51a6e6d",
   "metadata": {},
   "outputs": [
    {
     "data": {
      "text/html": [
       "<div>\n",
       "<style scoped>\n",
       "    .dataframe tbody tr th:only-of-type {\n",
       "        vertical-align: middle;\n",
       "    }\n",
       "\n",
       "    .dataframe tbody tr th {\n",
       "        vertical-align: top;\n",
       "    }\n",
       "\n",
       "    .dataframe thead th {\n",
       "        text-align: right;\n",
       "    }\n",
       "</style>\n",
       "<table border=\"1\" class=\"dataframe\">\n",
       "  <thead>\n",
       "    <tr style=\"text-align: right;\">\n",
       "      <th></th>\n",
       "      <th>general</th>\n",
       "      <th>obc</th>\n",
       "      <th>sc</th>\n",
       "      <th>st</th>\n",
       "      <th>overall</th>\n",
       "    </tr>\n",
       "  </thead>\n",
       "  <tbody>\n",
       "    <tr>\n",
       "      <th>0</th>\n",
       "      <td>10.54</td>\n",
       "      <td>28.75</td>\n",
       "      <td>7.34</td>\n",
       "      <td>34.45</td>\n",
       "      <td>81.08</td>\n",
       "    </tr>\n",
       "    <tr>\n",
       "      <th>1</th>\n",
       "      <td>6.97</td>\n",
       "      <td>18.72</td>\n",
       "      <td>4.70</td>\n",
       "      <td>144.60</td>\n",
       "      <td>174.99</td>\n",
       "    </tr>\n",
       "    <tr>\n",
       "      <th>2</th>\n",
       "      <td>31.52</td>\n",
       "      <td>26.10</td>\n",
       "      <td>25.75</td>\n",
       "      <td>35.95</td>\n",
       "      <td>119.32</td>\n",
       "    </tr>\n",
       "    <tr>\n",
       "      <th>3</th>\n",
       "      <td>31.79</td>\n",
       "      <td>32.11</td>\n",
       "      <td>31.68</td>\n",
       "      <td>44.44</td>\n",
       "      <td>140.02</td>\n",
       "    </tr>\n",
       "    <tr>\n",
       "      <th>4</th>\n",
       "      <td>30.24</td>\n",
       "      <td>16.21</td>\n",
       "      <td>22.30</td>\n",
       "      <td>39.60</td>\n",
       "      <td>108.35</td>\n",
       "    </tr>\n",
       "  </tbody>\n",
       "</table>\n",
       "</div>"
      ],
      "text/plain": [
       "   general    obc     sc      st  overall\n",
       "0    10.54  28.75   7.34   34.45    81.08\n",
       "1     6.97  18.72   4.70  144.60   174.99\n",
       "2    31.52  26.10  25.75   35.95   119.32\n",
       "3    31.79  32.11  31.68   44.44   140.02\n",
       "4    30.24  16.21  22.30   39.60   108.35"
      ]
     },
     "execution_count": 7,
     "metadata": {},
     "output_type": "execute_result"
    }
   ],
   "source": [
    "Cast.head()"
   ]
  },
  {
   "cell_type": "code",
   "execution_count": 8,
   "id": "1a981f38-f2c0-4b4d-8738-ff658e545a36",
   "metadata": {},
   "outputs": [],
   "source": [
    "Cast.to_csv('Cast.csv')"
   ]
  },
  {
   "cell_type": "code",
   "execution_count": null,
   "id": "615b9274-710a-454d-af03-5cf361d30c72",
   "metadata": {},
   "outputs": [],
   "source": []
  },
  {
   "cell_type": "code",
   "execution_count": null,
   "id": "5b9bc3b2-44d1-4ac1-a15f-f7e6481b4ba7",
   "metadata": {},
   "outputs": [],
   "source": []
  },
  {
   "cell_type": "code",
   "execution_count": null,
   "id": "5b9d80b3-4280-4b33-9fa8-720607681a2c",
   "metadata": {},
   "outputs": [],
   "source": []
  },
  {
   "cell_type": "code",
   "execution_count": null,
   "id": "91577a50-8d15-47e5-813c-ee63202d2665",
   "metadata": {},
   "outputs": [],
   "source": []
  }
 ],
 "metadata": {
  "kernelspec": {
   "display_name": "Python 3",
   "language": "python",
   "name": "python3"
  },
  "language_info": {
   "codemirror_mode": {
    "name": "ipython",
    "version": 3
   },
   "file_extension": ".py",
   "mimetype": "text/x-python",
   "name": "python",
   "nbconvert_exporter": "python",
   "pygments_lexer": "ipython3",
   "version": "3.10.7 (tags/v3.10.7:6cc6b13, Sep  5 2022, 14:08:36) [MSC v.1933 64 bit (AMD64)]"
  },
  "vscode": {
   "interpreter": {
    "hash": "d2af24ff291fc1cc19dcb75466d5ace7783ffd348a33faac0c4cc728e2047f70"
   }
  }
 },
 "nbformat": 4,
 "nbformat_minor": 5
}
