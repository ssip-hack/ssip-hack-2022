{
 "cells": [
  {
   "cell_type": "code",
   "execution_count": 2,
   "id": "80a8cd0e-5f0f-4fb5-86ae-bae0ad32b59c",
   "metadata": {
    "tags": []
   },
   "outputs": [],
   "source": [
    "import pandas as pd\n",
    "import numpy as np\n",
    "import matplotlib.pyplot as plt\n",
    "%matplotlib inline"
   ]
  },
  {
   "cell_type": "code",
   "execution_count": 3,
   "id": "0b3f3ba6-2e4a-400b-8454-e8d15f38f5f2",
   "metadata": {
    "tags": []
   },
   "outputs": [],
   "source": [
    "data = pd.read_csv('dropout.csv')"
   ]
  },
  {
   "cell_type": "code",
   "execution_count": 4,
   "id": "9803fa60-abce-4a86-a09f-d61c69238fab",
   "metadata": {},
   "outputs": [
    {
     "data": {
      "text/html": [
       "<div>\n",
       "<style scoped>\n",
       "    .dataframe tbody tr th:only-of-type {\n",
       "        vertical-align: middle;\n",
       "    }\n",
       "\n",
       "    .dataframe tbody tr th {\n",
       "        vertical-align: top;\n",
       "    }\n",
       "\n",
       "    .dataframe thead th {\n",
       "        text-align: right;\n",
       "    }\n",
       "</style>\n",
       "<table border=\"1\" class=\"dataframe\">\n",
       "  <thead>\n",
       "    <tr style=\"text-align: right;\">\n",
       "      <th></th>\n",
       "      <th>Location</th>\n",
       "      <th>Social Category</th>\n",
       "      <th>primary_Girls</th>\n",
       "      <th>primary_Boys</th>\n",
       "      <th>primary_Overall</th>\n",
       "      <th>upper_Girls</th>\n",
       "      <th>upper_Boys</th>\n",
       "      <th>upper_Overall</th>\n",
       "      <th>second_Girls</th>\n",
       "      <th>second_Boys</th>\n",
       "      <th>second_Overall</th>\n",
       "    </tr>\n",
       "  </thead>\n",
       "  <tbody>\n",
       "    <tr>\n",
       "      <th>0</th>\n",
       "      <td>AHMEDABAD</td>\n",
       "      <td>General</td>\n",
       "      <td>0.00</td>\n",
       "      <td>0.00</td>\n",
       "      <td>0.00</td>\n",
       "      <td>0.00</td>\n",
       "      <td>0.00</td>\n",
       "      <td>0.00</td>\n",
       "      <td>8.00</td>\n",
       "      <td>8.51</td>\n",
       "      <td>8.28</td>\n",
       "    </tr>\n",
       "    <tr>\n",
       "      <th>1</th>\n",
       "      <td>AHMEDABAD</td>\n",
       "      <td>OBC</td>\n",
       "      <td>0.00</td>\n",
       "      <td>0.00</td>\n",
       "      <td>0.00</td>\n",
       "      <td>7.17</td>\n",
       "      <td>4.03</td>\n",
       "      <td>5.49</td>\n",
       "      <td>17.23</td>\n",
       "      <td>20.13</td>\n",
       "      <td>18.96</td>\n",
       "    </tr>\n",
       "    <tr>\n",
       "      <th>2</th>\n",
       "      <td>AHMEDABAD</td>\n",
       "      <td>SC</td>\n",
       "      <td>0.00</td>\n",
       "      <td>0.00</td>\n",
       "      <td>0.00</td>\n",
       "      <td>0.00</td>\n",
       "      <td>0.00</td>\n",
       "      <td>0.00</td>\n",
       "      <td>9.89</td>\n",
       "      <td>14.03</td>\n",
       "      <td>12.21</td>\n",
       "    </tr>\n",
       "    <tr>\n",
       "      <th>3</th>\n",
       "      <td>AHMEDABAD</td>\n",
       "      <td>ST</td>\n",
       "      <td>0.00</td>\n",
       "      <td>0.00</td>\n",
       "      <td>0.00</td>\n",
       "      <td>17.65</td>\n",
       "      <td>15.37</td>\n",
       "      <td>16.39</td>\n",
       "      <td>29.30</td>\n",
       "      <td>25.31</td>\n",
       "      <td>27.06</td>\n",
       "    </tr>\n",
       "    <tr>\n",
       "      <th>4</th>\n",
       "      <td>AMRELI</td>\n",
       "      <td>General</td>\n",
       "      <td>1.07</td>\n",
       "      <td>1.67</td>\n",
       "      <td>1.41</td>\n",
       "      <td>0.00</td>\n",
       "      <td>2.97</td>\n",
       "      <td>0.00</td>\n",
       "      <td>0.00</td>\n",
       "      <td>9.02</td>\n",
       "      <td>1.21</td>\n",
       "    </tr>\n",
       "  </tbody>\n",
       "</table>\n",
       "</div>"
      ],
      "text/plain": [
       "    Location Social Category  primary_Girls  primary_Boys  primary_Overall  \\\n",
       "0  AHMEDABAD         General           0.00          0.00             0.00   \n",
       "1  AHMEDABAD             OBC           0.00          0.00             0.00   \n",
       "2  AHMEDABAD              SC           0.00          0.00             0.00   \n",
       "3  AHMEDABAD              ST           0.00          0.00             0.00   \n",
       "4     AMRELI         General           1.07          1.67             1.41   \n",
       "\n",
       "   upper_Girls  upper_Boys  upper_Overall  second_Girls  second_Boys  \\\n",
       "0         0.00        0.00           0.00          8.00         8.51   \n",
       "1         7.17        4.03           5.49         17.23        20.13   \n",
       "2         0.00        0.00           0.00          9.89        14.03   \n",
       "3        17.65       15.37          16.39         29.30        25.31   \n",
       "4         0.00        2.97           0.00          0.00         9.02   \n",
       "\n",
       "   second_Overall  \n",
       "0            8.28  \n",
       "1           18.96  \n",
       "2           12.21  \n",
       "3           27.06  \n",
       "4            1.21  "
      ]
     },
     "execution_count": 4,
     "metadata": {},
     "output_type": "execute_result"
    }
   ],
   "source": [
    "data.head()"
   ]
  },
  {
   "cell_type": "code",
   "execution_count": 5,
   "id": "7e77ae48-aed4-4147-b0b1-d24e3a0a4424",
   "metadata": {},
   "outputs": [
    {
     "data": {
      "text/plain": [
       "Location           0\n",
       "Social Category    0\n",
       "primary_Girls      0\n",
       "primary_Boys       0\n",
       "primary_Overall    0\n",
       "upper_Girls        0\n",
       "upper_Boys         0\n",
       "upper_Overall      0\n",
       "second_Girls       0\n",
       "second_Boys        0\n",
       "second_Overall     0\n",
       "dtype: int64"
      ]
     },
     "execution_count": 5,
     "metadata": {},
     "output_type": "execute_result"
    }
   ],
   "source": [
    "data.isnull().sum()"
   ]
  },
  {
   "cell_type": "code",
   "execution_count": 6,
   "id": "f65882d6-33ad-409a-a1d6-4ddb442f0f06",
   "metadata": {},
   "outputs": [],
   "source": [
    "data.fillna(value = 0,\n",
    "          inplace = True)"
   ]
  },
  {
   "cell_type": "code",
   "execution_count": 7,
   "id": "1a960011-077a-4404-8456-e12f63028896",
   "metadata": {},
   "outputs": [
    {
     "data": {
      "text/plain": [
       "Location           0\n",
       "Social Category    0\n",
       "primary_Girls      0\n",
       "primary_Boys       0\n",
       "primary_Overall    0\n",
       "upper_Girls        0\n",
       "upper_Boys         0\n",
       "upper_Overall      0\n",
       "second_Girls       0\n",
       "second_Boys        0\n",
       "second_Overall     0\n",
       "dtype: int64"
      ]
     },
     "execution_count": 7,
     "metadata": {},
     "output_type": "execute_result"
    }
   ],
   "source": [
    "data.isnull().sum()"
   ]
  },
  {
   "cell_type": "code",
   "execution_count": 8,
   "id": "a91805ab-1bec-4e1e-9ad8-97dcd272a07f",
   "metadata": {},
   "outputs": [
    {
     "data": {
      "text/html": [
       "<div>\n",
       "<style scoped>\n",
       "    .dataframe tbody tr th:only-of-type {\n",
       "        vertical-align: middle;\n",
       "    }\n",
       "\n",
       "    .dataframe tbody tr th {\n",
       "        vertical-align: top;\n",
       "    }\n",
       "\n",
       "    .dataframe thead th {\n",
       "        text-align: right;\n",
       "    }\n",
       "</style>\n",
       "<table border=\"1\" class=\"dataframe\">\n",
       "  <thead>\n",
       "    <tr style=\"text-align: right;\">\n",
       "      <th></th>\n",
       "      <th>primary_Girls</th>\n",
       "      <th>primary_Boys</th>\n",
       "      <th>primary_Overall</th>\n",
       "      <th>upper_Girls</th>\n",
       "      <th>upper_Boys</th>\n",
       "      <th>upper_Overall</th>\n",
       "      <th>second_Girls</th>\n",
       "      <th>second_Boys</th>\n",
       "      <th>second_Overall</th>\n",
       "    </tr>\n",
       "  </thead>\n",
       "  <tbody>\n",
       "    <tr>\n",
       "      <th>count</th>\n",
       "      <td>924.000000</td>\n",
       "      <td>924.000000</td>\n",
       "      <td>924.000000</td>\n",
       "      <td>924.000000</td>\n",
       "      <td>924.000000</td>\n",
       "      <td>924.000000</td>\n",
       "      <td>924.000000</td>\n",
       "      <td>924.000000</td>\n",
       "      <td>924.000000</td>\n",
       "    </tr>\n",
       "    <tr>\n",
       "      <th>mean</th>\n",
       "      <td>2.811418</td>\n",
       "      <td>2.784935</td>\n",
       "      <td>2.739405</td>\n",
       "      <td>7.727489</td>\n",
       "      <td>5.751277</td>\n",
       "      <td>6.536407</td>\n",
       "      <td>20.724805</td>\n",
       "      <td>25.263041</td>\n",
       "      <td>23.273842</td>\n",
       "    </tr>\n",
       "    <tr>\n",
       "      <th>std</th>\n",
       "      <td>5.478286</td>\n",
       "      <td>5.352513</td>\n",
       "      <td>5.326901</td>\n",
       "      <td>8.686351</td>\n",
       "      <td>8.144939</td>\n",
       "      <td>8.197779</td>\n",
       "      <td>10.680441</td>\n",
       "      <td>10.410403</td>\n",
       "      <td>9.990065</td>\n",
       "    </tr>\n",
       "    <tr>\n",
       "      <th>min</th>\n",
       "      <td>0.000000</td>\n",
       "      <td>0.000000</td>\n",
       "      <td>0.000000</td>\n",
       "      <td>0.000000</td>\n",
       "      <td>0.000000</td>\n",
       "      <td>0.000000</td>\n",
       "      <td>0.000000</td>\n",
       "      <td>0.000000</td>\n",
       "      <td>0.000000</td>\n",
       "    </tr>\n",
       "    <tr>\n",
       "      <th>25%</th>\n",
       "      <td>0.000000</td>\n",
       "      <td>0.000000</td>\n",
       "      <td>0.000000</td>\n",
       "      <td>1.675000</td>\n",
       "      <td>0.255000</td>\n",
       "      <td>1.057500</td>\n",
       "      <td>13.740000</td>\n",
       "      <td>18.910000</td>\n",
       "      <td>16.782500</td>\n",
       "    </tr>\n",
       "    <tr>\n",
       "      <th>50%</th>\n",
       "      <td>1.010000</td>\n",
       "      <td>1.020000</td>\n",
       "      <td>0.930000</td>\n",
       "      <td>6.575000</td>\n",
       "      <td>3.815000</td>\n",
       "      <td>5.110000</td>\n",
       "      <td>20.905000</td>\n",
       "      <td>26.010000</td>\n",
       "      <td>23.825000</td>\n",
       "    </tr>\n",
       "    <tr>\n",
       "      <th>75%</th>\n",
       "      <td>3.197500</td>\n",
       "      <td>3.260000</td>\n",
       "      <td>3.192500</td>\n",
       "      <td>11.342500</td>\n",
       "      <td>8.040000</td>\n",
       "      <td>9.505000</td>\n",
       "      <td>27.212500</td>\n",
       "      <td>31.477500</td>\n",
       "      <td>29.155000</td>\n",
       "    </tr>\n",
       "    <tr>\n",
       "      <th>max</th>\n",
       "      <td>69.630000</td>\n",
       "      <td>62.110000</td>\n",
       "      <td>65.880000</td>\n",
       "      <td>148.530000</td>\n",
       "      <td>151.350000</td>\n",
       "      <td>150.000000</td>\n",
       "      <td>72.680000</td>\n",
       "      <td>78.080000</td>\n",
       "      <td>74.040000</td>\n",
       "    </tr>\n",
       "  </tbody>\n",
       "</table>\n",
       "</div>"
      ],
      "text/plain": [
       "       primary_Girls  primary_Boys  primary_Overall  upper_Girls  upper_Boys  \\\n",
       "count     924.000000    924.000000       924.000000   924.000000  924.000000   \n",
       "mean        2.811418      2.784935         2.739405     7.727489    5.751277   \n",
       "std         5.478286      5.352513         5.326901     8.686351    8.144939   \n",
       "min         0.000000      0.000000         0.000000     0.000000    0.000000   \n",
       "25%         0.000000      0.000000         0.000000     1.675000    0.255000   \n",
       "50%         1.010000      1.020000         0.930000     6.575000    3.815000   \n",
       "75%         3.197500      3.260000         3.192500    11.342500    8.040000   \n",
       "max        69.630000     62.110000        65.880000   148.530000  151.350000   \n",
       "\n",
       "       upper_Overall  second_Girls  second_Boys  second_Overall  \n",
       "count     924.000000    924.000000   924.000000      924.000000  \n",
       "mean        6.536407     20.724805    25.263041       23.273842  \n",
       "std         8.197779     10.680441    10.410403        9.990065  \n",
       "min         0.000000      0.000000     0.000000        0.000000  \n",
       "25%         1.057500     13.740000    18.910000       16.782500  \n",
       "50%         5.110000     20.905000    26.010000       23.825000  \n",
       "75%         9.505000     27.212500    31.477500       29.155000  \n",
       "max       150.000000     72.680000    78.080000       74.040000  "
      ]
     },
     "execution_count": 8,
     "metadata": {},
     "output_type": "execute_result"
    }
   ],
   "source": [
    "data.describe()"
   ]
  },
  {
   "cell_type": "code",
   "execution_count": 9,
   "id": "dff42248-f1a3-4d64-b1e4-c7a8c73fcf40",
   "metadata": {},
   "outputs": [
    {
     "data": {
      "text/plain": [
       "Index(['Location', 'Social Category', 'primary_Girls', 'primary_Boys',\n",
       "       'primary_Overall', 'upper_Girls', 'upper_Boys', 'upper_Overall',\n",
       "       'second_Girls', 'second_Boys', 'second_Overall'],\n",
       "      dtype='object')"
      ]
     },
     "execution_count": 9,
     "metadata": {},
     "output_type": "execute_result"
    }
   ],
   "source": [
    "data.columns"
   ]
  },
  {
   "cell_type": "code",
   "execution_count": 10,
   "id": "b14065be-4819-422e-aa88-b16438d05446",
   "metadata": {},
   "outputs": [],
   "source": [
    "data.sort_values('Location' , inplace =True)"
   ]
  },
  {
   "cell_type": "code",
   "execution_count": 11,
   "id": "341fc8bc-43c4-489d-9511-7f8e331c15a3",
   "metadata": {},
   "outputs": [
    {
     "data": {
      "text/html": [
       "<div>\n",
       "<style scoped>\n",
       "    .dataframe tbody tr th:only-of-type {\n",
       "        vertical-align: middle;\n",
       "    }\n",
       "\n",
       "    .dataframe tbody tr th {\n",
       "        vertical-align: top;\n",
       "    }\n",
       "\n",
       "    .dataframe thead th {\n",
       "        text-align: right;\n",
       "    }\n",
       "</style>\n",
       "<table border=\"1\" class=\"dataframe\">\n",
       "  <thead>\n",
       "    <tr style=\"text-align: right;\">\n",
       "      <th></th>\n",
       "      <th>Location</th>\n",
       "      <th>Social Category</th>\n",
       "      <th>primary_Girls</th>\n",
       "      <th>primary_Boys</th>\n",
       "      <th>primary_Overall</th>\n",
       "      <th>upper_Girls</th>\n",
       "      <th>upper_Boys</th>\n",
       "      <th>upper_Overall</th>\n",
       "      <th>second_Girls</th>\n",
       "      <th>second_Boys</th>\n",
       "      <th>second_Overall</th>\n",
       "    </tr>\n",
       "  </thead>\n",
       "  <tbody>\n",
       "    <tr>\n",
       "      <th>0</th>\n",
       "      <td>AHMEDABAD</td>\n",
       "      <td>General</td>\n",
       "      <td>0.00</td>\n",
       "      <td>0.00</td>\n",
       "      <td>0.00</td>\n",
       "      <td>0.00</td>\n",
       "      <td>0.00</td>\n",
       "      <td>0.0</td>\n",
       "      <td>8.00</td>\n",
       "      <td>8.51</td>\n",
       "      <td>8.28</td>\n",
       "    </tr>\n",
       "    <tr>\n",
       "      <th>660</th>\n",
       "      <td>AHMEDABAD</td>\n",
       "      <td>General</td>\n",
       "      <td>0.00</td>\n",
       "      <td>0.00</td>\n",
       "      <td>0.00</td>\n",
       "      <td>0.28</td>\n",
       "      <td>0.00</td>\n",
       "      <td>0.0</td>\n",
       "      <td>5.27</td>\n",
       "      <td>12.37</td>\n",
       "      <td>9.44</td>\n",
       "    </tr>\n",
       "    <tr>\n",
       "      <th>264</th>\n",
       "      <td>AHMEDABAD</td>\n",
       "      <td>General</td>\n",
       "      <td>9.23</td>\n",
       "      <td>12.54</td>\n",
       "      <td>11.02</td>\n",
       "      <td>12.00</td>\n",
       "      <td>12.73</td>\n",
       "      <td>12.4</td>\n",
       "      <td>12.77</td>\n",
       "      <td>21.93</td>\n",
       "      <td>18.05</td>\n",
       "    </tr>\n",
       "  </tbody>\n",
       "</table>\n",
       "</div>"
      ],
      "text/plain": [
       "      Location Social Category  primary_Girls  primary_Boys  primary_Overall  \\\n",
       "0    AHMEDABAD         General           0.00          0.00             0.00   \n",
       "660  AHMEDABAD         General           0.00          0.00             0.00   \n",
       "264  AHMEDABAD         General           9.23         12.54            11.02   \n",
       "\n",
       "     upper_Girls  upper_Boys  upper_Overall  second_Girls  second_Boys  \\\n",
       "0           0.00        0.00            0.0          8.00         8.51   \n",
       "660         0.28        0.00            0.0          5.27        12.37   \n",
       "264        12.00       12.73           12.4         12.77        21.93   \n",
       "\n",
       "     second_Overall  \n",
       "0              8.28  \n",
       "660            9.44  \n",
       "264           18.05  "
      ]
     },
     "execution_count": 11,
     "metadata": {},
     "output_type": "execute_result"
    }
   ],
   "source": [
    "data.sort_values(['Social Category' , 'Location']).head(3)"
   ]
  },
  {
   "cell_type": "code",
   "execution_count": 12,
   "id": "831c0e90-f549-44ab-b8c1-18fe40beb9f3",
   "metadata": {},
   "outputs": [],
   "source": [
    "primary_data = data.groupby(['Social Category' , 'primary_Overall']).size().unstack('Social Category' , fill_value = 0)"
   ]
  },
  {
   "cell_type": "code",
   "execution_count": 13,
   "id": "10d56829-d795-432b-90bc-8dce850668ea",
   "metadata": {},
   "outputs": [
    {
     "data": {
      "text/html": [
       "<div>\n",
       "<style scoped>\n",
       "    .dataframe tbody tr th:only-of-type {\n",
       "        vertical-align: middle;\n",
       "    }\n",
       "\n",
       "    .dataframe tbody tr th {\n",
       "        vertical-align: top;\n",
       "    }\n",
       "\n",
       "    .dataframe thead th {\n",
       "        text-align: right;\n",
       "    }\n",
       "</style>\n",
       "<table border=\"1\" class=\"dataframe\">\n",
       "  <thead>\n",
       "    <tr style=\"text-align: right;\">\n",
       "      <th>Social Category</th>\n",
       "      <th>General</th>\n",
       "      <th>OBC</th>\n",
       "      <th>SC</th>\n",
       "      <th>ST</th>\n",
       "    </tr>\n",
       "    <tr>\n",
       "      <th>primary_Overall</th>\n",
       "      <th></th>\n",
       "      <th></th>\n",
       "      <th></th>\n",
       "      <th></th>\n",
       "    </tr>\n",
       "  </thead>\n",
       "  <tbody>\n",
       "    <tr>\n",
       "      <th>0.00</th>\n",
       "      <td>102</td>\n",
       "      <td>67</td>\n",
       "      <td>90</td>\n",
       "      <td>63</td>\n",
       "    </tr>\n",
       "    <tr>\n",
       "      <th>0.02</th>\n",
       "      <td>1</td>\n",
       "      <td>0</td>\n",
       "      <td>1</td>\n",
       "      <td>1</td>\n",
       "    </tr>\n",
       "    <tr>\n",
       "      <th>0.03</th>\n",
       "      <td>1</td>\n",
       "      <td>1</td>\n",
       "      <td>0</td>\n",
       "      <td>0</td>\n",
       "    </tr>\n",
       "    <tr>\n",
       "      <th>0.04</th>\n",
       "      <td>1</td>\n",
       "      <td>0</td>\n",
       "      <td>0</td>\n",
       "      <td>0</td>\n",
       "    </tr>\n",
       "    <tr>\n",
       "      <th>0.06</th>\n",
       "      <td>0</td>\n",
       "      <td>1</td>\n",
       "      <td>0</td>\n",
       "      <td>0</td>\n",
       "    </tr>\n",
       "  </tbody>\n",
       "</table>\n",
       "</div>"
      ],
      "text/plain": [
       "Social Category  General  OBC  SC  ST\n",
       "primary_Overall                      \n",
       "0.00                 102   67  90  63\n",
       "0.02                   1    0   1   1\n",
       "0.03                   1    1   0   0\n",
       "0.04                   1    0   0   0\n",
       "0.06                   0    1   0   0"
      ]
     },
     "execution_count": 13,
     "metadata": {},
     "output_type": "execute_result"
    }
   ],
   "source": [
    "primary_data.head()"
   ]
  },
  {
   "cell_type": "code",
   "execution_count": 14,
   "id": "53290ec1-b9b1-4c04-bb6e-79bbe91b5ec7",
   "metadata": {},
   "outputs": [],
   "source": [
    "upper_data = data.groupby(['Social Category','upper_Overall']).size().unstack('Social Category' , fill_value = 0)"
   ]
  },
  {
   "cell_type": "code",
   "execution_count": 15,
   "id": "c52c48b7-a5f9-4680-8fb0-b628124ee627",
   "metadata": {},
   "outputs": [
    {
     "data": {
      "text/html": [
       "<div>\n",
       "<style scoped>\n",
       "    .dataframe tbody tr th:only-of-type {\n",
       "        vertical-align: middle;\n",
       "    }\n",
       "\n",
       "    .dataframe tbody tr th {\n",
       "        vertical-align: top;\n",
       "    }\n",
       "\n",
       "    .dataframe thead th {\n",
       "        text-align: right;\n",
       "    }\n",
       "</style>\n",
       "<table border=\"1\" class=\"dataframe\">\n",
       "  <thead>\n",
       "    <tr style=\"text-align: right;\">\n",
       "      <th>Social Category</th>\n",
       "      <th>General</th>\n",
       "      <th>OBC</th>\n",
       "      <th>SC</th>\n",
       "      <th>ST</th>\n",
       "    </tr>\n",
       "    <tr>\n",
       "      <th>upper_Overall</th>\n",
       "      <th></th>\n",
       "      <th></th>\n",
       "      <th></th>\n",
       "      <th></th>\n",
       "    </tr>\n",
       "  </thead>\n",
       "  <tbody>\n",
       "    <tr>\n",
       "      <th>0.00</th>\n",
       "      <td>77</td>\n",
       "      <td>8</td>\n",
       "      <td>54</td>\n",
       "      <td>50</td>\n",
       "    </tr>\n",
       "    <tr>\n",
       "      <th>0.02</th>\n",
       "      <td>0</td>\n",
       "      <td>0</td>\n",
       "      <td>0</td>\n",
       "      <td>1</td>\n",
       "    </tr>\n",
       "  </tbody>\n",
       "</table>\n",
       "</div>"
      ],
      "text/plain": [
       "Social Category  General  OBC  SC  ST\n",
       "upper_Overall                        \n",
       "0.00                  77    8  54  50\n",
       "0.02                   0    0   0   1"
      ]
     },
     "execution_count": 15,
     "metadata": {},
     "output_type": "execute_result"
    }
   ],
   "source": [
    "upper_data.head(2)"
   ]
  },
  {
   "cell_type": "code",
   "execution_count": 16,
   "id": "e3507430-5cea-4816-aa86-9d3d63cd4ee5",
   "metadata": {},
   "outputs": [],
   "source": [
    "second_data=data.groupby(['Social Category' , 'second_Overall']).size().unstack('Social Category' , fill_value = 0)"
   ]
  },
  {
   "cell_type": "code",
   "execution_count": 17,
   "id": "58394f0b-9557-4797-aba6-dddca4390765",
   "metadata": {},
   "outputs": [
    {
     "data": {
      "text/html": [
       "<div>\n",
       "<style scoped>\n",
       "    .dataframe tbody tr th:only-of-type {\n",
       "        vertical-align: middle;\n",
       "    }\n",
       "\n",
       "    .dataframe tbody tr th {\n",
       "        vertical-align: top;\n",
       "    }\n",
       "\n",
       "    .dataframe thead th {\n",
       "        text-align: right;\n",
       "    }\n",
       "</style>\n",
       "<table border=\"1\" class=\"dataframe\">\n",
       "  <thead>\n",
       "    <tr style=\"text-align: right;\">\n",
       "      <th>Social Category</th>\n",
       "      <th>General</th>\n",
       "      <th>OBC</th>\n",
       "      <th>SC</th>\n",
       "      <th>ST</th>\n",
       "    </tr>\n",
       "    <tr>\n",
       "      <th>second_Overall</th>\n",
       "      <th></th>\n",
       "      <th></th>\n",
       "      <th></th>\n",
       "      <th></th>\n",
       "    </tr>\n",
       "  </thead>\n",
       "  <tbody>\n",
       "    <tr>\n",
       "      <th>0.00</th>\n",
       "      <td>6</td>\n",
       "      <td>0</td>\n",
       "      <td>5</td>\n",
       "      <td>9</td>\n",
       "    </tr>\n",
       "    <tr>\n",
       "      <th>0.22</th>\n",
       "      <td>0</td>\n",
       "      <td>0</td>\n",
       "      <td>0</td>\n",
       "      <td>1</td>\n",
       "    </tr>\n",
       "  </tbody>\n",
       "</table>\n",
       "</div>"
      ],
      "text/plain": [
       "Social Category  General  OBC  SC  ST\n",
       "second_Overall                       \n",
       "0.00                   6    0   5   9\n",
       "0.22                   0    0   0   1"
      ]
     },
     "execution_count": 17,
     "metadata": {},
     "output_type": "execute_result"
    }
   ],
   "source": [
    "second_data.head(2)"
   ]
  },
  {
   "cell_type": "code",
   "execution_count": 18,
   "id": "465a60d3-de9c-4c2c-812f-f279bab86799",
   "metadata": {},
   "outputs": [
    {
     "data": {
      "text/plain": [
       "Index(['Location', 'Social Category', 'primary_Girls', 'primary_Boys',\n",
       "       'primary_Overall', 'upper_Girls', 'upper_Boys', 'upper_Overall',\n",
       "       'second_Girls', 'second_Boys', 'second_Overall'],\n",
       "      dtype='object')"
      ]
     },
     "execution_count": 18,
     "metadata": {},
     "output_type": "execute_result"
    }
   ],
   "source": [
    "data.columns"
   ]
  },
  {
   "cell_type": "code",
   "execution_count": 19,
   "id": "cd1e4a8e-fbf0-40f5-96c4-4fe206bfe18a",
   "metadata": {},
   "outputs": [
    {
     "data": {
      "text/plain": [
       "Index(['General', 'OBC', 'SC', 'ST'], dtype='object', name='Social Category')"
      ]
     },
     "execution_count": 19,
     "metadata": {},
     "output_type": "execute_result"
    }
   ],
   "source": [
    "upper_data.columns"
   ]
  },
  {
   "cell_type": "code",
   "execution_count": 35,
   "id": "707d77c7-f470-4dcf-9f0b-2e9bbe099e7f",
   "metadata": {},
   "outputs": [
    {
     "data": {
      "text/html": [
       "<div>\n",
       "<style scoped>\n",
       "    .dataframe tbody tr th:only-of-type {\n",
       "        vertical-align: middle;\n",
       "    }\n",
       "\n",
       "    .dataframe tbody tr th {\n",
       "        vertical-align: top;\n",
       "    }\n",
       "\n",
       "    .dataframe thead th {\n",
       "        text-align: right;\n",
       "    }\n",
       "</style>\n",
       "<table border=\"1\" class=\"dataframe\">\n",
       "  <thead>\n",
       "    <tr style=\"text-align: right;\">\n",
       "      <th></th>\n",
       "      <th>primary_Overall</th>\n",
       "      <th>General</th>\n",
       "      <th>OBC</th>\n",
       "      <th>SC</th>\n",
       "      <th>ST</th>\n",
       "    </tr>\n",
       "  </thead>\n",
       "  <tbody>\n",
       "    <tr>\n",
       "      <th>0</th>\n",
       "      <td>0.00</td>\n",
       "      <td>102</td>\n",
       "      <td>67</td>\n",
       "      <td>90</td>\n",
       "      <td>63</td>\n",
       "    </tr>\n",
       "    <tr>\n",
       "      <th>1</th>\n",
       "      <td>0.02</td>\n",
       "      <td>1</td>\n",
       "      <td>0</td>\n",
       "      <td>1</td>\n",
       "      <td>1</td>\n",
       "    </tr>\n",
       "    <tr>\n",
       "      <th>2</th>\n",
       "      <td>0.03</td>\n",
       "      <td>1</td>\n",
       "      <td>1</td>\n",
       "      <td>0</td>\n",
       "      <td>0</td>\n",
       "    </tr>\n",
       "    <tr>\n",
       "      <th>3</th>\n",
       "      <td>0.04</td>\n",
       "      <td>1</td>\n",
       "      <td>0</td>\n",
       "      <td>0</td>\n",
       "      <td>0</td>\n",
       "    </tr>\n",
       "    <tr>\n",
       "      <th>4</th>\n",
       "      <td>0.06</td>\n",
       "      <td>0</td>\n",
       "      <td>1</td>\n",
       "      <td>0</td>\n",
       "      <td>0</td>\n",
       "    </tr>\n",
       "  </tbody>\n",
       "</table>\n",
       "</div>"
      ],
      "text/plain": [
       "   primary_Overall  General  OBC  SC  ST\n",
       "0             0.00      102   67  90  63\n",
       "1             0.02        1    0   1   1\n",
       "2             0.03        1    1   0   0\n",
       "3             0.04        1    0   0   0\n",
       "4             0.06        0    1   0   0"
      ]
     },
     "execution_count": 35,
     "metadata": {},
     "output_type": "execute_result"
    }
   ],
   "source": [
    "pda = pd.read_csv('Primary_data.csv')\n",
    "ud = pd.read_csv('upper_data.csv')\n",
    "sd = pd.read_csv('second_data.csv')\n",
    "pda.head()"
   ]
  },
  {
   "cell_type": "code",
   "execution_count": 21,
   "id": "605db8f7-35b4-4634-9588-47c9869cab14",
   "metadata": {},
   "outputs": [],
   "source": [
    "import seaborn as sns"
   ]
  },
  {
   "cell_type": "code",
   "execution_count": 22,
   "id": "f09c4bf1-69ab-4d5d-8459-8355cdff1db2",
   "metadata": {},
   "outputs": [],
   "source": [
    "def comparison_Graph(input_data):\n",
    "    fig , axs  = plt.subplots(1,3 , figsize= (12,6))\n",
    "    sns.barplot(data=pda , x = \"primary_Overall\", y=input_data , ax = axs[0])\n",
    "    sns.barplot(data=ud , x = \"upper_Overall\"   , y=input_data , ax = axs[1])\n",
    "    sns.barplot(data=sd , x = \"second_Overall\"  , y=input_data , ax = axs[2])\n",
    "    axs[0].set_title('primary data' )\n",
    "    axs[1].set_title('upper data')\n",
    "    axs[2].set_title('Secodary data')\n",
    "    plt.show()"
   ]
  },
  {
   "cell_type": "code",
   "execution_count": 25,
   "id": "ca276f2a-e4ad-44a5-b359-f97fbbf08909",
   "metadata": {},
   "outputs": [
    {
     "name": "stdin",
     "output_type": "stream",
     "text": [
      "Enter The Catagory Amoung the following Data for Show the graph : ['General', 'OBC', 'SC', 'ST']  OBC\n"
     ]
    },
    {
     "name": "stdout",
     "output_type": "stream",
     "text": [
      "\n"
     ]
    },
    {
     "data": {
      "image/png": "[encoded data removed]",
      "text/plain": [
       "<Figure size 1200x600 with 3 Axes>"
      ]
     },
     "metadata": {},
     "output_type": "display_data"
    }
   ],
   "source": [
    "# piece of code for the graph plot \n",
    "Input = str(input(\"Enter The Catagory Amoung the following Data for Show the graph : ['General', 'OBC', 'SC', 'ST'] \"))\n",
    "print()\n",
    "if Input == 'General' or Input == 'OBC' or Input== 'SC' or Input == 'ST':\n",
    "    comparison_Graph(Input)\n",
    "else:\n",
    "    print(\"please Enter the valide number  \")"
   ]
  },
  {
   "cell_type": "code",
   "execution_count": 63,
   "id": "a5953a0c-0a65-44c8-997e-eb36ac3d097e",
   "metadata": {},
   "outputs": [
    {
     "data": {
      "text/plain": [
       "<seaborn.axisgrid.FacetGrid at 0x11134be8670>"
      ]
     },
     "execution_count": 63,
     "metadata": {},
     "output_type": "execute_result"
    },
    {
     "data": {
      "image/png": "[encoded data removed]",
      "text/plain": [
       "<Figure size 500x500 with 1 Axes>"
      ]
     },
     "metadata": {},
     "output_type": "display_data"
    }
   ],
   "source": [
    "sns.displot(pda['primary_Overall'] , color='gray' )"
   ]
  },
  {
   "cell_type": "code",
   "execution_count": 64,
   "id": "7924586c-3257-4e0f-b166-0f912e510d2a",
   "metadata": {},
   "outputs": [
    {
     "data": {
      "text/html": [
       "<div>\n",
       "<style scoped>\n",
       "    .dataframe tbody tr th:only-of-type {\n",
       "        vertical-align: middle;\n",
       "    }\n",
       "\n",
       "    .dataframe tbody tr th {\n",
       "        vertical-align: top;\n",
       "    }\n",
       "\n",
       "    .dataframe thead th {\n",
       "        text-align: right;\n",
       "    }\n",
       "</style>\n",
       "<table border=\"1\" class=\"dataframe\">\n",
       "  <thead>\n",
       "    <tr style=\"text-align: right;\">\n",
       "      <th></th>\n",
       "      <th>Location</th>\n",
       "      <th>Social Category</th>\n",
       "      <th>primary_Girls</th>\n",
       "      <th>primary_Boys</th>\n",
       "      <th>primary_Overall</th>\n",
       "      <th>upper_Girls</th>\n",
       "      <th>upper_Boys</th>\n",
       "      <th>upper_Overall</th>\n",
       "      <th>second_Girls</th>\n",
       "      <th>second_Boys</th>\n",
       "      <th>second_Overall</th>\n",
       "    </tr>\n",
       "  </thead>\n",
       "  <tbody>\n",
       "    <tr>\n",
       "      <th>0</th>\n",
       "      <td>AHMEDABAD</td>\n",
       "      <td>General</td>\n",
       "      <td>0.00</td>\n",
       "      <td>0.00</td>\n",
       "      <td>0.00</td>\n",
       "      <td>0.00</td>\n",
       "      <td>0.00</td>\n",
       "      <td>0.00</td>\n",
       "      <td>8.00</td>\n",
       "      <td>8.51</td>\n",
       "      <td>8.28</td>\n",
       "    </tr>\n",
       "    <tr>\n",
       "      <th>661</th>\n",
       "      <td>AHMEDABAD</td>\n",
       "      <td>OBC</td>\n",
       "      <td>6.85</td>\n",
       "      <td>6.71</td>\n",
       "      <td>6.77</td>\n",
       "      <td>16.93</td>\n",
       "      <td>11.16</td>\n",
       "      <td>13.75</td>\n",
       "      <td>33.79</td>\n",
       "      <td>35.73</td>\n",
       "      <td>35.01</td>\n",
       "    </tr>\n",
       "    <tr>\n",
       "      <th>660</th>\n",
       "      <td>AHMEDABAD</td>\n",
       "      <td>General</td>\n",
       "      <td>0.00</td>\n",
       "      <td>0.00</td>\n",
       "      <td>0.00</td>\n",
       "      <td>0.28</td>\n",
       "      <td>0.00</td>\n",
       "      <td>0.00</td>\n",
       "      <td>5.27</td>\n",
       "      <td>12.37</td>\n",
       "      <td>9.44</td>\n",
       "    </tr>\n",
       "    <tr>\n",
       "      <th>264</th>\n",
       "      <td>AHMEDABAD</td>\n",
       "      <td>General</td>\n",
       "      <td>9.23</td>\n",
       "      <td>12.54</td>\n",
       "      <td>11.02</td>\n",
       "      <td>12.00</td>\n",
       "      <td>12.73</td>\n",
       "      <td>12.40</td>\n",
       "      <td>12.77</td>\n",
       "      <td>21.93</td>\n",
       "      <td>18.05</td>\n",
       "    </tr>\n",
       "    <tr>\n",
       "      <th>265</th>\n",
       "      <td>AHMEDABAD</td>\n",
       "      <td>OBC</td>\n",
       "      <td>0.00</td>\n",
       "      <td>0.00</td>\n",
       "      <td>0.00</td>\n",
       "      <td>0.43</td>\n",
       "      <td>0.00</td>\n",
       "      <td>0.00</td>\n",
       "      <td>16.72</td>\n",
       "      <td>24.65</td>\n",
       "      <td>21.60</td>\n",
       "    </tr>\n",
       "  </tbody>\n",
       "</table>\n",
       "</div>"
      ],
      "text/plain": [
       "      Location Social Category  primary_Girls  primary_Boys  primary_Overall  \\\n",
       "0    AHMEDABAD         General           0.00          0.00             0.00   \n",
       "661  AHMEDABAD             OBC           6.85          6.71             6.77   \n",
       "660  AHMEDABAD         General           0.00          0.00             0.00   \n",
       "264  AHMEDABAD         General           9.23         12.54            11.02   \n",
       "265  AHMEDABAD             OBC           0.00          0.00             0.00   \n",
       "\n",
       "     upper_Girls  upper_Boys  upper_Overall  second_Girls  second_Boys  \\\n",
       "0           0.00        0.00           0.00          8.00         8.51   \n",
       "661        16.93       11.16          13.75         33.79        35.73   \n",
       "660         0.28        0.00           0.00          5.27        12.37   \n",
       "264        12.00       12.73          12.40         12.77        21.93   \n",
       "265         0.43        0.00           0.00         16.72        24.65   \n",
       "\n",
       "     second_Overall  \n",
       "0              8.28  \n",
       "661           35.01  \n",
       "660            9.44  \n",
       "264           18.05  \n",
       "265           21.60  "
      ]
     },
     "execution_count": 64,
     "metadata": {},
     "output_type": "execute_result"
    }
   ],
   "source": [
    "data.head()"
   ]
  },
  {
   "cell_type": "code",
   "execution_count": null,
   "id": "ecbb62f8-8042-4aa3-b029-7e50e3ea23e9",
   "metadata": {},
   "outputs": [],
   "source": []
  },
  {
   "cell_type": "code",
   "execution_count": null,
   "id": "11656950-d510-463e-8a87-76be15c7cfcf",
   "metadata": {},
   "outputs": [],
   "source": []
  },
  {
   "cell_type": "code",
   "execution_count": null,
   "id": "f36e2046-fcfe-42f1-88f3-7180b6dd2856",
   "metadata": {},
   "outputs": [],
   "source": []
  },
  {
   "cell_type": "code",
   "execution_count": null,
   "id": "9648c145-f1b5-44f4-9b63-7f814a193fd9",
   "metadata": {},
   "outputs": [],
   "source": []
  },
  {
   "cell_type": "code",
   "execution_count": null,
   "id": "905d084f-e65c-428f-9389-52852a74d922",
   "metadata": {},
   "outputs": [],
   "source": []
  },
  {
   "cell_type": "code",
   "execution_count": null,
   "id": "99028e3c-1a4f-40d4-8396-7e57a320f96d",
   "metadata": {},
   "outputs": [],
   "source": []
  }
 ],
 "metadata": {
  "kernelspec": {
   "display_name": "Python 3 (ipykernel)",
   "language": "python",
   "name": "python3"
  },
  "language_info": {
   "codemirror_mode": {
    "name": "ipython",
    "version": 3
   },
   "file_extension": ".py",
   "mimetype": "text/x-python",
   "name": "python",
   "nbconvert_exporter": "python",
   "pygments_lexer": "ipython3",
   "version": "3.10.7"
  }
 },
 "nbformat": 4,
 "nbformat_minor": 5
}
