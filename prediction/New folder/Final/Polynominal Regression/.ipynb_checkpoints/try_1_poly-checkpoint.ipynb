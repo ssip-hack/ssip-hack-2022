{
 "cells": [
  {
   "cell_type": "code",
   "execution_count": 1,
   "id": "ac62000d-4fcb-4c57-943e-04a4e7d7032d",
   "metadata": {},
   "outputs": [],
   "source": [
    "import pandas as pd \n",
    "import numpy as np \n",
    "import matplotlib.pyplot as plt\n",
    "import seaborn as sns\n",
    "from sklearn.model_selection import train_test_split\n",
    "from sklearn.linear_model import LinearRegression\n",
    "from sklearn.preprocessing import PolynomialFeatures\n"
   ]
  },
  {
   "cell_type": "code",
   "execution_count": 5,
   "id": "cb581740-e8d6-4988-aaec-33d02a4d6af6",
   "metadata": {},
   "outputs": [
    {
     "data": {
      "text/html": [
       "<div>\n",
       "<style scoped>\n",
       "    .dataframe tbody tr th:only-of-type {\n",
       "        vertical-align: middle;\n",
       "    }\n",
       "\n",
       "    .dataframe tbody tr th {\n",
       "        vertical-align: top;\n",
       "    }\n",
       "\n",
       "    .dataframe thead th {\n",
       "        text-align: right;\n",
       "    }\n",
       "</style>\n",
       "<table border=\"1\" class=\"dataframe\">\n",
       "  <thead>\n",
       "    <tr style=\"text-align: right;\">\n",
       "      <th></th>\n",
       "      <th>Location</th>\n",
       "      <th>Social Category</th>\n",
       "      <th>primary_Girls</th>\n",
       "      <th>primary_Boys</th>\n",
       "      <th>primary_Overall</th>\n",
       "      <th>upper_Girls</th>\n",
       "      <th>upper_Boys</th>\n",
       "      <th>upper_Overall</th>\n",
       "      <th>second_Girls</th>\n",
       "      <th>second_Boys</th>\n",
       "      <th>second_Overall</th>\n",
       "      <th>Overall Student</th>\n",
       "    </tr>\n",
       "  </thead>\n",
       "  <tbody>\n",
       "    <tr>\n",
       "      <th>0</th>\n",
       "      <td>AHMEDABAD</td>\n",
       "      <td>General</td>\n",
       "      <td>0.00</td>\n",
       "      <td>0.00</td>\n",
       "      <td>0.00</td>\n",
       "      <td>0.00</td>\n",
       "      <td>0.00</td>\n",
       "      <td>0.00</td>\n",
       "      <td>8.00</td>\n",
       "      <td>8.51</td>\n",
       "      <td>8.28</td>\n",
       "      <td>24.79</td>\n",
       "    </tr>\n",
       "    <tr>\n",
       "      <th>1</th>\n",
       "      <td>AHMEDABAD</td>\n",
       "      <td>OBC</td>\n",
       "      <td>0.00</td>\n",
       "      <td>0.00</td>\n",
       "      <td>0.00</td>\n",
       "      <td>7.17</td>\n",
       "      <td>4.03</td>\n",
       "      <td>5.49</td>\n",
       "      <td>17.23</td>\n",
       "      <td>20.13</td>\n",
       "      <td>18.96</td>\n",
       "      <td>73.01</td>\n",
       "    </tr>\n",
       "    <tr>\n",
       "      <th>2</th>\n",
       "      <td>AHMEDABAD</td>\n",
       "      <td>SC</td>\n",
       "      <td>0.00</td>\n",
       "      <td>0.00</td>\n",
       "      <td>0.00</td>\n",
       "      <td>0.00</td>\n",
       "      <td>0.00</td>\n",
       "      <td>0.00</td>\n",
       "      <td>9.89</td>\n",
       "      <td>14.03</td>\n",
       "      <td>12.21</td>\n",
       "      <td>36.13</td>\n",
       "    </tr>\n",
       "    <tr>\n",
       "      <th>3</th>\n",
       "      <td>AHMEDABAD</td>\n",
       "      <td>ST</td>\n",
       "      <td>0.00</td>\n",
       "      <td>0.00</td>\n",
       "      <td>0.00</td>\n",
       "      <td>17.65</td>\n",
       "      <td>15.37</td>\n",
       "      <td>16.39</td>\n",
       "      <td>29.30</td>\n",
       "      <td>25.31</td>\n",
       "      <td>27.06</td>\n",
       "      <td>131.08</td>\n",
       "    </tr>\n",
       "    <tr>\n",
       "      <th>4</th>\n",
       "      <td>AMRELI</td>\n",
       "      <td>General</td>\n",
       "      <td>1.07</td>\n",
       "      <td>1.67</td>\n",
       "      <td>1.41</td>\n",
       "      <td>0.00</td>\n",
       "      <td>2.97</td>\n",
       "      <td>0.00</td>\n",
       "      <td>0.00</td>\n",
       "      <td>9.02</td>\n",
       "      <td>1.21</td>\n",
       "      <td>17.35</td>\n",
       "    </tr>\n",
       "  </tbody>\n",
       "</table>\n",
       "</div>"
      ],
      "text/plain": [
       "    Location Social Category  primary_Girls  primary_Boys  primary_Overall  \\\n",
       "0  AHMEDABAD         General           0.00          0.00             0.00   \n",
       "1  AHMEDABAD             OBC           0.00          0.00             0.00   \n",
       "2  AHMEDABAD              SC           0.00          0.00             0.00   \n",
       "3  AHMEDABAD              ST           0.00          0.00             0.00   \n",
       "4     AMRELI         General           1.07          1.67             1.41   \n",
       "\n",
       "   upper_Girls  upper_Boys  upper_Overall  second_Girls  second_Boys  \\\n",
       "0         0.00        0.00           0.00          8.00         8.51   \n",
       "1         7.17        4.03           5.49         17.23        20.13   \n",
       "2         0.00        0.00           0.00          9.89        14.03   \n",
       "3        17.65       15.37          16.39         29.30        25.31   \n",
       "4         0.00        2.97           0.00          0.00         9.02   \n",
       "\n",
       "   second_Overall  Overall Student  \n",
       "0            8.28            24.79  \n",
       "1           18.96            73.01  \n",
       "2           12.21            36.13  \n",
       "3           27.06           131.08  \n",
       "4            1.21            17.35  "
      ]
     },
     "execution_count": 5,
     "metadata": {},
     "output_type": "execute_result"
    }
   ],
   "source": [
    "pr = pd.read_csv('dropout.csv')\n",
    "pr.head()"
   ]
  },
  {
   "cell_type": "code",
   "execution_count": 10,
   "id": "3e1fc730-8ac2-4071-b6d7-23c33e1aeb30",
   "metadata": {},
   "outputs": [],
   "source": [
    "primary = pr[['Location' , 'primary_Overall']]\n",
    "AHMEDABAD = []\n",
    "AMRELI = []\n",
    "ANAND = []\n",
    "ARAVALLI = []\n",
    "BANAS_KANTHA = []\n",
    "BHARUCH =[] \n",
    "BHAVNAGAR =[]\n",
    "BOTAD =[] \n",
    "CHHOTAUDEPUR =[]\n",
    "DEVBHOOMI_DWARKA = []\n",
    "DOHAD = []\n",
    "GANDHINAGAR = []\n",
    "GIR_SOMNATH = []\n",
    "JAMNAGAR = []\n",
    "JUNAGADH = [] \n",
    "KACHCHH = []\n",
    "KHEDA = []\n",
    "MAHESANA = []\n",
    "MAHISAGAR = []\n",
    "MORBI = []\n",
    "NARMADA =[] \n",
    "NAVSARI = []\n",
    "PANCH_MAHALS = []\n",
    "PATAN = []\n",
    "PORBANDAR = []\n",
    "RAJKOT = []\n",
    "SABAR_KANTHA = []\n",
    "SURENDRANAGAR = []\n",
    "SURAT = []\n",
    "TAPI =[] \n",
    "THE_DANGS = []\n",
    "VADODARA = []\n",
    "VALSAD = []\n",
    "for i in range(len(primary)):\n",
    "    if primary['Location'][i] == 'AHMEDABAD':\n",
    "        AHMEDABAD.append(primary['primary_Overall'][i])\n",
    "    if primary['Location'][i] == 'AMRELI':\n",
    "        AMRELI.append(primary['primary_Overall'][i])\n",
    "    if primary['Location'][i] == 'ANAND':\n",
    "        ANAND.append(primary['primary_Overall'][i])\n",
    "    if primary['Location'][i] == 'ARAVALLI':\n",
    "        ARAVALLI.append(primary['primary_Overall'][i])\n",
    "    if primary['Location'][i] == 'BANAS KANTHA':\n",
    "        BANAS_KANTHA.append(primary['primary_Overall'][i])\n",
    "    if primary['Location'][i] == 'BHARUCH':\n",
    "        BHARUCH.append(primary['primary_Overall'][i])\n",
    "    if primary['Location'][i] == 'BHAVNAGAR':\n",
    "        BHAVNAGAR.append(primary['primary_Overall'][i])\n",
    "    if primary['Location'][i] == 'BOTAD':\n",
    "        BOTAD.append(primary['primary_Overall'][i])\n",
    "    if primary['Location'][i] == 'CHHOTAUDEPUR':\n",
    "        CHHOTAUDEPUR.append(primary['primary_Overall'][i])\n",
    "    if primary['Location'][i] == 'DEVBHOOMI DWARKA':\n",
    "        DEVBHOOMI_DWARKA.append(primary['primary_Overall'][i])\n",
    "    if primary['Location'][i] == 'DOHAD':\n",
    "        DOHAD.append(primary['primary_Overall'][i])\n",
    "    if primary['Location'][i] == 'GANDHINAGAR':\n",
    "        GANDHINAGAR.append(primary['primary_Overall'][i])\n",
    "    if primary['Location'][i] == 'GIR SOMNATH':\n",
    "        GIR_SOMNATH.append(primary['primary_Overall'][i])\n",
    "    if primary['Location'][i] == 'JAMNAGAR':\n",
    "        JAMNAGAR.append(primary['primary_Overall'][i])\n",
    "    if primary['Location'][i] == 'JUNAGADH':\n",
    "        JUNAGADH.append(primary['primary_Overall'][i])\n",
    "    if primary['Location'][i] == 'KACHCHH':\n",
    "        KACHCHH.append(primary['primary_Overall'][i])\n",
    "    if primary['Location'][i] == 'KHEDA':\n",
    "        KHEDA.append(primary['primary_Overall'][i])\n",
    "    if primary['Location'][i] == 'MAHESANA':\n",
    "        MAHESANA.append(primary['primary_Overall'][i])\n",
    "    if primary['Location'][i] == 'MAHISAGAR':\n",
    "        MAHISAGAR.append(primary['primary_Overall'][i])\n",
    "    if primary['Location'][i] == 'MORBI':\n",
    "        MORBI.append(primary['primary_Overall'][i])\n",
    "    if primary['Location'][i] == 'NARMADA':\n",
    "        NARMADA.append(primary['primary_Overall'][i])\n",
    "    if primary['Location'][i] == 'NAVSARI':\n",
    "        NAVSARI.append(primary['primary_Overall'][i])\n",
    "    if primary['Location'][i] == 'PANCH MAHALS':\n",
    "        PANCH_MAHALS.append(primary['primary_Overall'][i])\n",
    "    if primary['Location'][i] == 'PATAN':\n",
    "        PATAN.append(primary['primary_Overall'][i])\n",
    "    if primary['Location'][i] == 'PORBANDAR':\n",
    "        PORBANDAR.append(primary['primary_Overall'][i])\n",
    "    if primary['Location'][i] == 'RAJKOT':\n",
    "        RAJKOT.append(primary['primary_Overall'][i])\n",
    "    if primary['Location'][i] == 'SABAR KANTHA':\n",
    "        SABAR_KANTHA.append(primary['primary_Overall'][i])\n",
    "    if primary['Location'][i] == 'SURAT':\n",
    "        SURAT.append(primary['primary_Overall'][i])\n",
    "    if primary['Location'][i] == 'SURENDRANAGAR':\n",
    "        SURENDRANAGAR.append(primary['primary_Overall'][i])\n",
    "    if primary['Location'][i] == 'TAPI':\n",
    "        TAPI.append(primary['primary_Overall'][i])\n",
    "    if primary['Location'][i] == 'THE DANGS':\n",
    "        THE_DANGS.append(primary['primary_Overall'][i])\n",
    "    if primary['Location'][i] == 'VADODARA':\n",
    "        VADODARA.append(primary['primary_Overall'][i])\n",
    "    if primary['Location'][i] == 'VALSAD':\n",
    "        VALSAD.append(primary['primary_Overall'][i])        \n",
    "    \n",
    "City = ['AHMEDABAD','AMRELI','ANAND','ARAVALLI','BANAS_KANTHA','BHARUCH' ,'BHAVNAGAR','BOTAD' ,'CHHOTAUDEPUR','DEVBHOOMI_DWARKA','DOHAD','GANDHINAGAR','GIR_SOMNATH','JAMNAGAR','JUNAGADH' ,'KACHCHH','KHEDA','MAHESANA','MAHISAGAR','MORBI','NARMAD' ,'NAVSARI','PANCH_MAHALS','PATAN','PORBANDAR','RAJKOT','SABAR_KANTHA','SURAT','SURENDRANAGAR','TAP' ,'THE_DANGS','VADODARA','VALSAD']\n",
    "sum_for_primary = [sum(AHMEDABAD),sum(AMRELI),sum(ANAND),sum(ARAVALLI),sum(BANAS_KANTHA),sum(BHARUCH) ,sum(BHAVNAGAR),sum(BOTAD) ,sum(CHHOTAUDEPUR),sum(DEVBHOOMI_DWARKA),sum(DOHAD),sum(GANDHINAGAR),sum(GIR_SOMNATH),sum(JAMNAGAR),sum(JUNAGADH) ,sum(KACHCHH),sum(KHEDA),sum(MAHESANA),sum(MAHISAGAR),sum(MORBI),sum(NARMADA),sum(NAVSARI),sum(PANCH_MAHALS),sum(PATAN),sum(PORBANDAR),sum(RAJKOT),sum(SABAR_KANTHA),sum(SURAT),sum(SURENDRANAGAR),sum(TAPI),sum(THE_DANGS),sum(VADODARA),sum(VALSAD)]       \n",
    "List_data  = list(zip(City , sum_for_primary))\n",
    "School_data = pd.DataFrame(List_data  , columns=['City' , 'Primary'])"
   ]
  },
  {
   "cell_type": "code",
   "execution_count": 14,
   "id": "894e6f14-72e5-48a6-aa27-86118cf9ae63",
   "metadata": {},
   "outputs": [],
   "source": [
    " # for Secondary\n",
    "second = pr[['Location' , 'second_Overall']]\n",
    "AHMEDABAD_S = []\n",
    "AMRELI_S = []\n",
    "ANAND_S = []\n",
    "ARAVALLI_S = []\n",
    "BANAS_KANTHA_S = []\n",
    "BHARUCH_S = [] \n",
    "BHAVNAGAR_S = []\n",
    "BOTAD_S = [] \n",
    "CHHOTAUDEPUR_S = []\n",
    "DEVBHOOMI_DWARKA_S = []\n",
    "DOHAD_S = []\n",
    "GANDHINAGAR_S = []\n",
    "GIR_SOMNATH_S = []\n",
    "JAMNAGAR_S = []\n",
    "JUNAGADH_S = [] \n",
    "KACHCHH_S = []\n",
    "KHEDA_S = []\n",
    "MAHESANA_S = []\n",
    "MAHISAGAR_S = []\n",
    "MORBI_S = []\n",
    "NARMADA_S = [] \n",
    "NAVSARI_S = []\n",
    "PANCH_MAHALS_S = []\n",
    "PATAN_S = []\n",
    "PORBANDAR_S = []\n",
    "RAJKOT_S = []\n",
    "SABAR_KANTHA_S = []\n",
    "SURENDRANAGAR_S = []\n",
    "SURAT_S = []\n",
    "TAPI_S = [] \n",
    "THE_DANGS_S = []\n",
    "VADODARA_S = []\n",
    "VALSAD_S = []\n",
    "for i in range(len(second)):\n",
    "    if second['Location'][i] == 'AHMEDABAD':\n",
    "        AHMEDABAD_S.append(second['second_Overall'][i])\n",
    "    if second['Location'][i] == 'AMRELI':\n",
    "        AMRELI_S.append(second['second_Overall'][i])\n",
    "    if second['Location'][i] == 'ANAND':\n",
    "        ANAND_S.append(second['second_Overall'][i])\n",
    "    if second['Location'][i] == 'ARAVALLI':\n",
    "        ARAVALLI_S.append(second['second_Overall'][i])\n",
    "    if second['Location'][i] == 'BANAS KANTHA':\n",
    "        BANAS_KANTHA_S.append(second['second_Overall'][i])\n",
    "    if second['Location'][i] == 'BHARUCH':\n",
    "        BHARUCH_S.append(second['second_Overall'][i])\n",
    "    if second['Location'][i] == 'BHAVNAGAR':\n",
    "        BHAVNAGAR_S.append(second['second_Overall'][i])\n",
    "    if second['Location'][i] == 'BOTAD':\n",
    "        BOTAD_S.append(second['second_Overall'][i])\n",
    "    if second['Location'][i] == 'CHHOTAUDEPUR':\n",
    "        CHHOTAUDEPUR_S.append(second['second_Overall'][i])\n",
    "    if second['Location'][i] == 'DEVBHOOMI DWARKA':\n",
    "        DEVBHOOMI_DWARKA_S.append(second['second_Overall'][i])\n",
    "    if second['Location'][i] == 'DOHAD':\n",
    "        DOHAD_S.append(second['second_Overall'][i])\n",
    "    if second['Location'][i] == 'GANDHINAGAR':\n",
    "        GANDHINAGAR_S.append(second['second_Overall'][i])\n",
    "    if second['Location'][i] == 'GIR SOMNATH':\n",
    "        GIR_SOMNATH_S.append(second['second_Overall'][i])\n",
    "    if second['Location'][i] == 'JAMNAGAR':\n",
    "        JAMNAGAR_S.append(second['second_Overall'][i])\n",
    "    if second['Location'][i] == 'JUNAGADH':\n",
    "        JUNAGADH_S.append(second['second_Overall'][i])\n",
    "    if second['Location'][i] == 'KACHCHH':\n",
    "        KACHCHH_S.append(second['second_Overall'][i])\n",
    "    if second['Location'][i] == 'KHEDA':\n",
    "        KHEDA_S.append(second['second_Overall'][i])\n",
    "    if second['Location'][i] == 'MAHESANA':\n",
    "        MAHESANA_S.append(second['second_Overall'][i])\n",
    "    if second['Location'][i] == 'MAHISAGAR':\n",
    "        MAHISAGAR_S.append(second['second_Overall'][i])\n",
    "    if second['Location'][i] == 'MORBI':\n",
    "        MORBI_S.append(second['second_Overall'][i])\n",
    "    if second['Location'][i] == 'NARMADA':\n",
    "        NARMADA_S.append(second['second_Overall'][i])\n",
    "    if second['Location'][i] == 'NAVSARI':\n",
    "        NAVSARI_S.append(second['second_Overall'][i])\n",
    "    if second['Location'][i] == 'PANCH MAHALS':\n",
    "        PANCH_MAHALS_S.append(second['second_Overall'][i])\n",
    "    if second['Location'][i] == 'PATAN':\n",
    "        PATAN_S.append(second['second_Overall'][i])\n",
    "    if second['Location'][i] == 'PORBANDAR':\n",
    "        PORBANDAR_S.append(second['second_Overall'][i])\n",
    "    if second['Location'][i] == 'RAJKOT':\n",
    "        RAJKOT_S.append(second['second_Overall'][i])\n",
    "    if second['Location'][i] == 'SABAR KANTHA':\n",
    "        SABAR_KANTHA_S.append(second['second_Overall'][i])\n",
    "    if second['Location'][i] == 'SURAT':\n",
    "        SURAT_S.append(second['second_Overall'][i])\n",
    "    if second['Location'][i] == 'SURENDRANAGAR':\n",
    "        SURENDRANAGAR_S.append(second['second_Overall'][i])\n",
    "    if second['Location'][i] == 'TAPI':\n",
    "        TAPI_S.append(second['second_Overall'][i])\n",
    "    if second['Location'][i] == 'THE DANGS':\n",
    "        THE_DANGS_S.append(second['second_Overall'][i])\n",
    "    if second['Location'][i] == 'VADODARA':\n",
    "        VADODARA_S.append(second['second_Overall'][i])\n",
    "    if second['Location'][i] == 'VALSAD':\n",
    "        VALSAD_S.append(second['second_Overall'][i])    \n",
    "sum_for_second = [sum(AHMEDABAD_S),sum(AMRELI_S),sum(ANAND_S),sum(ARAVALLI_S),sum(BANAS_KANTHA_S),sum(BHARUCH_S) ,sum(BHAVNAGAR_S),sum(BOTAD_S) ,sum(CHHOTAUDEPUR_S),sum(DEVBHOOMI_DWARKA_S),sum(DOHAD_S),sum(GANDHINAGAR_S),sum(GIR_SOMNATH_S),sum(JAMNAGAR_S),sum(JUNAGADH_S) ,sum(KACHCHH_S),sum(KHEDA_S),sum(MAHESANA_S),sum(MAHISAGAR_S),sum(MORBI_S),sum(NARMADA_S),sum(NAVSARI_S),sum(PANCH_MAHALS_S),sum(PATAN_S),sum(PORBANDAR_S),sum(RAJKOT_S),sum(SABAR_KANTHA_S),sum(SURAT_S),sum(SURENDRANAGAR_S),sum(TAPI_S),sum(THE_DANGS_S),sum(VADODARA_S),sum(VALSAD_S)]\n",
    "School_data['second'] = sum_for_second"
   ]
  },
  {
   "cell_type": "code",
   "execution_count": 15,
   "id": "b6118bbd-514f-42c9-9684-d2f982411984",
   "metadata": {},
   "outputs": [],
   "source": [
    "# upper Primary Data\n",
    "upper = pr[['Location' , 'upper_Overall']]\n",
    "AHMEDABAD_U = []\n",
    "AMRELI_U = []\n",
    "ANAND_U = []\n",
    "ARAVALLI_U = []\n",
    "BANAS_KANTHA_U = []\n",
    "BHARUCH_U = [] \n",
    "BHAVNAGAR_U = []\n",
    "BOTAD_U = [] \n",
    "CHHOTAUDEPUR_U = []\n",
    "DEVBHOOMI_DWARKA_U = []\n",
    "DOHAD_U = []\n",
    "GANDHINAGAR_U = []\n",
    "GIR_SOMNATH_U = []\n",
    "JAMNAGAR_U = []\n",
    "JUNAGADH_U = [] \n",
    "KACHCHH_U = []\n",
    "KHEDA_U = []\n",
    "MAHESANA_U = []\n",
    "MAHISAGAR_U = []\n",
    "MORBI_U = []\n",
    "NARMADA_U = [] \n",
    "NAVSARI_U = []\n",
    "PANCH_MAHALS_U = []\n",
    "PATAN_U = []\n",
    "PORBANDAR_U = []\n",
    "RAJKOT_U = []\n",
    "SABAR_KANTHA_U = []\n",
    "SURENDRANAGAR_U = []\n",
    "SURAT_U = []\n",
    "TAPI_U = [] \n",
    "THE_DANGS_U = []\n",
    "VADODARA_U = []\n",
    "VALSAD_U = []\n",
    "for i in range(len(upper)):\n",
    "    if upper['Location'][i] == 'AHMEDABAD':\n",
    "        AHMEDABAD_U.append(upper['upper_Overall'][i])\n",
    "    if upper['Location'][i] == 'AMRELI':\n",
    "        AMRELI_U.append(upper['upper_Overall'][i])\n",
    "    if upper['Location'][i] == 'ANAND':\n",
    "        ANAND_U.append(upper['upper_Overall'][i])\n",
    "    if upper['Location'][i] == 'ARAVALLI':\n",
    "        ARAVALLI_U.append(upper['upper_Overall'][i])\n",
    "    if upper['Location'][i] == 'BANAS KANTHA':\n",
    "        BANAS_KANTHA_U.append(upper['upper_Overall'][i])\n",
    "    if upper['Location'][i] == 'BHARUCH':\n",
    "        BHARUCH_U.append(upper['upper_Overall'][i])\n",
    "    if upper['Location'][i] == 'BHAVNAGAR':\n",
    "        BHAVNAGAR_U.append(upper['upper_Overall'][i])\n",
    "    if upper['Location'][i] == 'BOTAD':\n",
    "        BOTAD_U.append(upper['upper_Overall'][i])\n",
    "    if upper['Location'][i] == 'CHHOTAUDEPUR':\n",
    "        CHHOTAUDEPUR_U.append(upper['upper_Overall'][i])\n",
    "    if upper['Location'][i] == 'DEVBHOOMI DWARKA':\n",
    "        DEVBHOOMI_DWARKA_U.append(upper['upper_Overall'][i])\n",
    "    if upper['Location'][i] == 'DOHAD':\n",
    "        DOHAD_U.append(upper['upper_Overall'][i])\n",
    "    if upper['Location'][i] == 'GANDHINAGAR':\n",
    "        GANDHINAGAR_U.append(upper['upper_Overall'][i])\n",
    "    if upper['Location'][i] == 'GIR SOMNATH':\n",
    "        GIR_SOMNATH_U.append(upper['upper_Overall'][i])\n",
    "    if upper['Location'][i] == 'JAMNAGAR':\n",
    "        JAMNAGAR_U.append(upper['upper_Overall'][i])\n",
    "    if upper['Location'][i] == 'JUNAGADH':\n",
    "        JUNAGADH_U.append(upper['upper_Overall'][i])\n",
    "    if upper['Location'][i] == 'KACHCHH':\n",
    "        KACHCHH_U.append(upper['upper_Overall'][i])\n",
    "    if upper['Location'][i] == 'KHEDA':\n",
    "        KHEDA_U.append(upper['upper_Overall'][i])\n",
    "    if upper['Location'][i] == 'MAHESANA':\n",
    "        MAHESANA_U.append(upper['upper_Overall'][i])\n",
    "    if upper['Location'][i] == 'MAHISAGAR':\n",
    "        MAHISAGAR_U.append(upper['upper_Overall'][i])\n",
    "    if upper['Location'][i] == 'MORBI':\n",
    "        MORBI_U.append(upper['upper_Overall'][i])\n",
    "    if upper['Location'][i] == 'NARMADA':\n",
    "        NARMADA_U.append(upper['upper_Overall'][i])\n",
    "    if upper['Location'][i] == 'NAVSARI':\n",
    "        NAVSARI_U.append(upper['upper_Overall'][i])\n",
    "    if upper['Location'][i] == 'PANCH MAHALS':\n",
    "        PANCH_MAHALS_U.append(upper['upper_Overall'][i])\n",
    "    if upper['Location'][i] == 'PATAN':\n",
    "        PATAN_U.append(upper['upper_Overall'][i])\n",
    "    if upper['Location'][i] == 'PORBANDAR':\n",
    "        PORBANDAR_U.append(upper['upper_Overall'][i])\n",
    "    if upper['Location'][i] == 'RAJKOT':\n",
    "        RAJKOT_U.append(upper['upper_Overall'][i])\n",
    "    if upper['Location'][i] == 'SABAR KANTHA':\n",
    "        SABAR_KANTHA_U.append(upper['upper_Overall'][i])\n",
    "    if upper['Location'][i] == 'SURAT':\n",
    "        SURAT_U.append(upper['upper_Overall'][i])\n",
    "    if upper['Location'][i] == 'SURENDRANAGAR':\n",
    "        SURENDRANAGAR_U.append(upper['upper_Overall'][i])\n",
    "    if upper['Location'][i] == 'TAPI':\n",
    "        TAPI_U.append(upper['upper_Overall'][i])\n",
    "    if upper['Location'][i] == 'THE DANGS':\n",
    "        THE_DANGS_U.append(upper['upper_Overall'][i])\n",
    "    if upper['Location'][i] == 'VADODARA':\n",
    "        VADODARA_U.append(upper['upper_Overall'][i])\n",
    "    if upper['Location'][i] == 'VALSAD':\n",
    "        VALSAD_U.append(upper['upper_Overall'][i])    \n",
    "sum_for_upper = [sum(AHMEDABAD_U),sum(AMRELI_U),sum(ANAND_U),sum(ARAVALLI_U),sum(BANAS_KANTHA_U),sum(BHARUCH_U) ,sum(BHAVNAGAR_U),sum(BOTAD_U) ,sum(CHHOTAUDEPUR_U),sum(DEVBHOOMI_DWARKA_U),sum(DOHAD_U),sum(GANDHINAGAR_U),sum(GIR_SOMNATH_U),sum(JAMNAGAR_U),sum(JUNAGADH_U) ,sum(KACHCHH_U),sum(KHEDA_U),sum(MAHESANA_U),sum(MAHISAGAR_U),sum(MORBI_U),sum(NARMADA_U),sum(NAVSARI_U),sum(PANCH_MAHALS_U),sum(PATAN_U),sum(PORBANDAR_U),sum(RAJKOT_U),sum(SABAR_KANTHA_U),sum(SURAT_U),sum(SURENDRANAGAR_U),sum(TAPI_U),sum(THE_DANGS_U),sum(VADODARA_U),sum(VALSAD_U)]\n",
    "School_data['upper'] =sum_for_upper"
   ]
  },
  {
   "cell_type": "code",
   "execution_count": 32,
   "id": "b3fc4169-a1b8-49b9-8026-acad2042b4e0",
   "metadata": {},
   "outputs": [
    {
     "data": {
      "text/html": [
       "<div>\n",
       "<style scoped>\n",
       "    .dataframe tbody tr th:only-of-type {\n",
       "        vertical-align: middle;\n",
       "    }\n",
       "\n",
       "    .dataframe tbody tr th {\n",
       "        vertical-align: top;\n",
       "    }\n",
       "\n",
       "    .dataframe thead th {\n",
       "        text-align: right;\n",
       "    }\n",
       "</style>\n",
       "<table border=\"1\" class=\"dataframe\">\n",
       "  <thead>\n",
       "    <tr style=\"text-align: right;\">\n",
       "      <th></th>\n",
       "      <th>City</th>\n",
       "      <th>Primary</th>\n",
       "      <th>second</th>\n",
       "      <th>upper</th>\n",
       "    </tr>\n",
       "  </thead>\n",
       "  <tbody>\n",
       "    <tr>\n",
       "      <th>0</th>\n",
       "      <td>AHMEDABAD</td>\n",
       "      <td>153.64</td>\n",
       "      <td>543.33</td>\n",
       "      <td>234.74</td>\n",
       "    </tr>\n",
       "    <tr>\n",
       "      <th>1</th>\n",
       "      <td>AMRELI</td>\n",
       "      <td>77.76</td>\n",
       "      <td>711.27</td>\n",
       "      <td>162.32</td>\n",
       "    </tr>\n",
       "    <tr>\n",
       "      <th>2</th>\n",
       "      <td>ANAND</td>\n",
       "      <td>55.08</td>\n",
       "      <td>667.27</td>\n",
       "      <td>110.18</td>\n",
       "    </tr>\n",
       "    <tr>\n",
       "      <th>3</th>\n",
       "      <td>ARAVALLI</td>\n",
       "      <td>32.32</td>\n",
       "      <td>498.77</td>\n",
       "      <td>78.78</td>\n",
       "    </tr>\n",
       "    <tr>\n",
       "      <th>4</th>\n",
       "      <td>BANAS_KANTHA</td>\n",
       "      <td>60.67</td>\n",
       "      <td>696.83</td>\n",
       "      <td>292.89</td>\n",
       "    </tr>\n",
       "  </tbody>\n",
       "</table>\n",
       "</div>"
      ],
      "text/plain": [
       "           City  Primary  second   upper\n",
       "0     AHMEDABAD   153.64  543.33  234.74\n",
       "1        AMRELI    77.76  711.27  162.32\n",
       "2         ANAND    55.08  667.27  110.18\n",
       "3      ARAVALLI    32.32  498.77   78.78\n",
       "4  BANAS_KANTHA    60.67  696.83  292.89"
      ]
     },
     "execution_count": 32,
     "metadata": {},
     "output_type": "execute_result"
    }
   ],
   "source": [
    "School_data.head()"
   ]
  },
  {
   "cell_type": "code",
   "execution_count": 42,
   "id": "00e3db10-6322-466b-8a1e-40303baa0057",
   "metadata": {},
   "outputs": [
    {
     "data": {
      "text/plain": [
       "77.76"
      ]
     },
     "execution_count": 42,
     "metadata": {},
     "output_type": "execute_result"
    }
   ],
   "source": [
    "School_data.iloc[1][1]"
   ]
  },
  {
   "cell_type": "code",
   "execution_count": 45,
   "id": "e41284e0-798e-4a2f-8883-a73aa293e7d0",
   "metadata": {},
   "outputs": [],
   "source": [
    "# for Primary Data \n",
    "Primary_pr = []\n",
    "for i in range(len(School_data)):\n",
    "    temp = float(School_data.iloc[i][1]) / School_data['Primary'].sum()\n",
    "    final_pr = temp * 100 \n",
    "    Primary_pr.append(final_pr)"
   ]
  },
  {
   "cell_type": "code",
   "execution_count": 46,
   "id": "8ec33325-2775-49d6-905a-24fe46c32c40",
   "metadata": {},
   "outputs": [],
   "source": [
    "School_data['Primary_PR'] = Primary_pr"
   ]
  },
  {
   "cell_type": "code",
   "execution_count": 47,
   "id": "d7bf1adf-0003-4b7b-9a28-49ccf331106d",
   "metadata": {},
   "outputs": [],
   "source": [
    "# for Upper Data \n",
    "Upper_pr = []\n",
    "for i in range(len(School_data)):\n",
    "    temp = float(School_data.iloc[i][3]) / School_data['upper'].sum()\n",
    "    final_pr = temp * 100 \n",
    "    Upper_pr.append(final_pr)"
   ]
  },
  {
   "cell_type": "code",
   "execution_count": 48,
   "id": "f342e89a-9288-4a39-86d9-d1ec5d5bbb88",
   "metadata": {},
   "outputs": [],
   "source": [
    "School_data['Upper_PR'] = Upper_pr"
   ]
  },
  {
   "cell_type": "code",
   "execution_count": 49,
   "id": "221ac942-0604-429a-9e22-628283c60a7f",
   "metadata": {},
   "outputs": [],
   "source": [
    "# for Upper Data \n",
    "Second_pr = []\n",
    "for i in range(len(School_data)):\n",
    "    temp = float(School_data.iloc[i][2]) / School_data['second'].sum()\n",
    "    final_pr = temp * 100 \n",
    "    Second_pr.append(final_pr)"
   ]
  },
  {
   "cell_type": "code",
   "execution_count": 50,
   "id": "6205d9a2-f31c-48c9-b556-8c1654aea10b",
   "metadata": {},
   "outputs": [],
   "source": [
    "School_data['Second_PR'] = Second_pr"
   ]
  },
  {
   "cell_type": "code",
   "execution_count": 57,
   "id": "9a8b001f-f430-4a20-a64c-6fb105e21ef6",
   "metadata": {},
   "outputs": [],
   "source": [
    "School_data.to_csv('PR_data.csv' , index =False)"
   ]
  },
  {
   "cell_type": "code",
   "execution_count": 105,
   "id": "09962b40-1926-46ea-8ccc-0a9d48372b6d",
   "metadata": {},
   "outputs": [
    {
     "data": {
      "text/plain": [
       "Index(['City', 'Primary', 'second', 'upper', 'Primary_PR', 'Upper_PR',\n",
       "       'Second_PR'],\n",
       "      dtype='object')"
      ]
     },
     "execution_count": 105,
     "metadata": {},
     "output_type": "execute_result"
    }
   ],
   "source": [
    "School_data.columns"
   ]
  },
  {
   "cell_type": "code",
   "execution_count": 115,
   "id": "e26f0db4-02c1-40f4-821d-711d259eacce",
   "metadata": {},
   "outputs": [],
   "source": [
    "x = School_data[['second']]\n",
    "y = School_data[['Second_PR']]"
   ]
  },
  {
   "cell_type": "code",
   "execution_count": 116,
   "id": "568f6294-6239-4d54-8002-353447d36153",
   "metadata": {},
   "outputs": [],
   "source": [
    "x_train,x_test,y_train,y_test = train_test_split(x,y,random_state=12 , train_size=0.7 , test_size=0.3)"
   ]
  },
  {
   "cell_type": "code",
   "execution_count": 120,
   "id": "37d15ca3-f46c-4b87-80a1-df6e04cc4edc",
   "metadata": {},
   "outputs": [
    {
     "data": {
      "text/plain": [
       "<matplotlib.collections.PathCollection at 0x1ddcb7ac1f0>"
      ]
     },
     "execution_count": 120,
     "metadata": {},
     "output_type": "execute_result"
    },
    {
     "data": {
      "image/png": "[encoded data removed]",
      "text/plain": [
       "<Figure size 640x480 with 1 Axes>"
      ]
     },
     "metadata": {},
     "output_type": "display_data"
    }
   ],
   "source": [
    "plt.scatter(x_train, y_train)"
   ]
  },
  {
   "cell_type": "code",
   "execution_count": 121,
   "id": "5118b4fc-254b-4e8e-8ae1-95dedcc7ee0d",
   "metadata": {},
   "outputs": [],
   "source": [
    "lm = LinearRegression()"
   ]
  },
  {
   "cell_type": "code",
   "execution_count": 122,
   "id": "3fb36331-7b94-4df0-8e11-266362fa1bcf",
   "metadata": {},
   "outputs": [
    {
     "data": {
      "text/html": [
       "<style>#sk-container-id-7 {color: black;background-color: white;}#sk-container-id-7 pre{padding: 0;}#sk-container-id-7 div.sk-toggleable {background-color: white;}#sk-container-id-7 label.sk-toggleable__label {cursor: pointer;display: block;width: 100%;margin-bottom: 0;padding: 0.3em;box-sizing: border-box;text-align: center;}#sk-container-id-7 label.sk-toggleable__label-arrow:before {content: \"▸\";float: left;margin-right: 0.25em;color: #696969;}#sk-container-id-7 label.sk-toggleable__label-arrow:hover:before {color: black;}#sk-container-id-7 div.sk-estimator:hover label.sk-toggleable__label-arrow:before {color: black;}#sk-container-id-7 div.sk-toggleable__content {max-height: 0;max-width: 0;overflow: hidden;text-align: left;background-color: #f0f8ff;}#sk-container-id-7 div.sk-toggleable__content pre {margin: 0.2em;color: black;border-radius: 0.25em;background-color: #f0f8ff;}#sk-container-id-7 input.sk-toggleable__control:checked~div.sk-toggleable__content {max-height: 200px;max-width: 100%;overflow: auto;}#sk-container-id-7 input.sk-toggleable__control:checked~label.sk-toggleable__label-arrow:before {content: \"▾\";}#sk-container-id-7 div.sk-estimator input.sk-toggleable__control:checked~label.sk-toggleable__label {background-color: #d4ebff;}#sk-container-id-7 div.sk-label input.sk-toggleable__control:checked~label.sk-toggleable__label {background-color: #d4ebff;}#sk-container-id-7 input.sk-hidden--visually {border: 0;clip: rect(1px 1px 1px 1px);clip: rect(1px, 1px, 1px, 1px);height: 1px;margin: -1px;overflow: hidden;padding: 0;position: absolute;width: 1px;}#sk-container-id-7 div.sk-estimator {font-family: monospace;background-color: #f0f8ff;border: 1px dotted black;border-radius: 0.25em;box-sizing: border-box;margin-bottom: 0.5em;}#sk-container-id-7 div.sk-estimator:hover {background-color: #d4ebff;}#sk-container-id-7 div.sk-parallel-item::after {content: \"\";width: 100%;border-bottom: 1px solid gray;flex-grow: 1;}#sk-container-id-7 div.sk-label:hover label.sk-toggleable__label {background-color: #d4ebff;}#sk-container-id-7 div.sk-serial::before {content: \"\";position: absolute;border-left: 1px solid gray;box-sizing: border-box;top: 0;bottom: 0;left: 50%;z-index: 0;}#sk-container-id-7 div.sk-serial {display: flex;flex-direction: column;align-items: center;background-color: white;padding-right: 0.2em;padding-left: 0.2em;position: relative;}#sk-container-id-7 div.sk-item {position: relative;z-index: 1;}#sk-container-id-7 div.sk-parallel {display: flex;align-items: stretch;justify-content: center;background-color: white;position: relative;}#sk-container-id-7 div.sk-item::before, #sk-container-id-7 div.sk-parallel-item::before {content: \"\";position: absolute;border-left: 1px solid gray;box-sizing: border-box;top: 0;bottom: 0;left: 50%;z-index: -1;}#sk-container-id-7 div.sk-parallel-item {display: flex;flex-direction: column;z-index: 1;position: relative;background-color: white;}#sk-container-id-7 div.sk-parallel-item:first-child::after {align-self: flex-end;width: 50%;}#sk-container-id-7 div.sk-parallel-item:last-child::after {align-self: flex-start;width: 50%;}#sk-container-id-7 div.sk-parallel-item:only-child::after {width: 0;}#sk-container-id-7 div.sk-dashed-wrapped {border: 1px dashed gray;margin: 0 0.4em 0.5em 0.4em;box-sizing: border-box;padding-bottom: 0.4em;background-color: white;}#sk-container-id-7 div.sk-label label {font-family: monospace;font-weight: bold;display: inline-block;line-height: 1.2em;}#sk-container-id-7 div.sk-label-container {text-align: center;}#sk-container-id-7 div.sk-container {/* jupyter's `normalize.less` sets `[hidden] { display: none; }` but bootstrap.min.css set `[hidden] { display: none !important; }` so we also need the `!important` here to be able to override the default hidden behavior on the sphinx rendered scikit-learn.org. See: https://github.com/scikit-learn/scikit-learn/issues/21755 */display: inline-block !important;position: relative;}#sk-container-id-7 div.sk-text-repr-fallback {display: none;}</style><div id=\"sk-container-id-7\" class=\"sk-top-container\"><div class=\"sk-text-repr-fallback\"><pre>LinearRegression()</pre><b>In a Jupyter environment, please rerun this cell to show the HTML representation or trust the notebook. <br />On GitHub, the HTML representation is unable to render, please try loading this page with nbviewer.org.</b></div><div class=\"sk-container\" hidden><div class=\"sk-item\"><div class=\"sk-estimator sk-toggleable\"><input class=\"sk-toggleable__control sk-hidden--visually\" id=\"sk-estimator-id-7\" type=\"checkbox\" checked><label for=\"sk-estimator-id-7\" class=\"sk-toggleable__label sk-toggleable__label-arrow\">LinearRegression</label><div class=\"sk-toggleable__content\"><pre>LinearRegression()</pre></div></div></div></div></div>"
      ],
      "text/plain": [
       "LinearRegression()"
      ]
     },
     "execution_count": 122,
     "metadata": {},
     "output_type": "execute_result"
    }
   ],
   "source": [
    "lm.fit(x_train,y_train)"
   ]
  },
  {
   "cell_type": "code",
   "execution_count": 123,
   "id": "ada17537-4c93-4d45-9226-f381bfd43b6a",
   "metadata": {},
   "outputs": [
    {
     "data": {
      "text/plain": [
       "array([[3.07109546],\n",
       "       [2.98288354],\n",
       "       [3.20627314],\n",
       "       [2.17172448],\n",
       "       [3.30745877],\n",
       "       [3.37297832],\n",
       "       [3.24031169],\n",
       "       [4.08997337],\n",
       "       [2.49518368],\n",
       "       [4.13903166]])"
      ]
     },
     "execution_count": 123,
     "metadata": {},
     "output_type": "execute_result"
    }
   ],
   "source": [
    "lm.predict(x_test)"
   ]
  },
  {
   "cell_type": "code",
   "execution_count": 128,
   "id": "c63f6959-bfcd-48f9-98db-161fce095354",
   "metadata": {},
   "outputs": [
    {
     "data": {
      "text/plain": [
       "<matplotlib.collections.PathCollection at 0x1ddcb858880>"
      ]
     },
     "execution_count": 128,
     "metadata": {},
     "output_type": "execute_result"
    },
    {
     "data": {
      "image/png": "[encoded data removed]",
      "text/plain": [
       "<Figure size 640x480 with 1 Axes>"
      ]
     },
     "metadata": {},
     "output_type": "display_data"
    }
   ],
   "source": [
    "plt.scatter(x_test,lm.predict(x_test))"
   ]
  },
  {
   "cell_type": "code",
   "execution_count": null,
   "id": "deaf1ec3-853c-4aee-84ab-5165871ef0be",
   "metadata": {},
   "outputs": [],
   "source": []
  }
 ],
 "metadata": {
  "kernelspec": {
   "display_name": "Python 3 (ipykernel)",
   "language": "python",
   "name": "python3"
  },
  "language_info": {
   "codemirror_mode": {
    "name": "ipython",
    "version": 3
   },
   "file_extension": ".py",
   "mimetype": "text/x-python",
   "name": "python",
   "nbconvert_exporter": "python",
   "pygments_lexer": "ipython3",
   "version": "3.10.7"
  }
 },
 "nbformat": 4,
 "nbformat_minor": 5
}
