{
 "cells": [
  {
   "cell_type": "code",
   "execution_count": 47,
   "id": "d9a627e2",
   "metadata": {},
   "outputs": [],
   "source": [
    "import pandas as pd\n",
    "import random"
   ]
  },
  {
   "cell_type": "code",
   "execution_count": 48,
   "id": "f0238319",
   "metadata": {},
   "outputs": [],
   "source": [
    "data=pd.read_csv(\"OCT.csv\")"
   ]
  },
  {
   "cell_type": "code",
   "execution_count": 49,
   "id": "b46a081e",
   "metadata": {},
   "outputs": [
    {
     "data": {
      "text/html": [
       "<div>\n",
       "<style scoped>\n",
       "    .dataframe tbody tr th:only-of-type {\n",
       "        vertical-align: middle;\n",
       "    }\n",
       "\n",
       "    .dataframe tbody tr th {\n",
       "        vertical-align: top;\n",
       "    }\n",
       "\n",
       "    .dataframe thead th {\n",
       "        text-align: right;\n",
       "    }\n",
       "</style>\n",
       "<table border=\"1\" class=\"dataframe\">\n",
       "  <thead>\n",
       "    <tr style=\"text-align: right;\">\n",
       "      <th></th>\n",
       "      <th>orphan</th>\n",
       "      <th>social_category</th>\n",
       "      <th>minority_group</th>\n",
       "      <th>bpl_beneficiary</th>\n",
       "      <th>ews_group</th>\n",
       "      <th>cwsn</th>\n",
       "      <th>mother's_occupation</th>\n",
       "      <th>father's_occupation</th>\n",
       "      <th>mother's_qualification</th>\n",
       "      <th>father's_qualification</th>\n",
       "      <th>family_annual_income</th>\n",
       "      <th>debt</th>\n",
       "      <th>mental_issues</th>\n",
       "      <th>results_in_previous_year_type</th>\n",
       "      <th>status_in_previous_year</th>\n",
       "      <th>dropout_student</th>\n",
       "    </tr>\n",
       "  </thead>\n",
       "  <tbody>\n",
       "  </tbody>\n",
       "</table>\n",
       "</div>"
      ],
      "text/plain": [
       "Empty DataFrame\n",
       "Columns: [orphan, social_category, minority_group, bpl_beneficiary, ews_group, cwsn, mother's_occupation, father's_occupation, mother's_qualification, father's_qualification, family_annual_income, debt, mental_issues, results_in_previous_year_type, status_in_previous_year, dropout_student]\n",
       "Index: []"
      ]
     },
     "execution_count": 49,
     "metadata": {},
     "output_type": "execute_result"
    }
   ],
   "source": [
    "data.head()"
   ]
  },
  {
   "cell_type": "code",
   "execution_count": 50,
   "id": "f0ea1b18",
   "metadata": {},
   "outputs": [],
   "source": [
    "orphan=[]\n",
    "\n",
    "for i in range(0,50000):\n",
    "    if(random.randint(0,500) < 100):\n",
    "        orphan.append(1)\n",
    "    else:\n",
    "        orphan.append(0)\n",
    "data['orphan']=orphan"
   ]
  },
  {
   "cell_type": "code",
   "execution_count": 51,
   "id": "312389ef",
   "metadata": {},
   "outputs": [],
   "source": [
    "social_category=[]\n",
    "\n",
    "for i in range(0,50000):\n",
    "    social_category.append(random.randint(1,4))\n",
    "        \n",
    "data['social_category']=social_category"
   ]
  },
  {
   "cell_type": "code",
   "execution_count": 52,
   "id": "317e7de2",
   "metadata": {},
   "outputs": [],
   "source": [
    "minority_group=[]\n",
    "\n",
    "for i in range(0,50000):\n",
    "    minority_group.append(random.randint(1,7))\n",
    "        \n",
    "data['minority_group']=minority_group"
   ]
  },
  {
   "cell_type": "code",
   "execution_count": 53,
   "id": "3cc6d585",
   "metadata": {},
   "outputs": [],
   "source": [
    "bpl_beneficiary=[]\n",
    "\n",
    "for i in range(0,50000):\n",
    "    if(random.randint(0,500) < 100):\n",
    "        bpl_beneficiary.append(1)\n",
    "    else:\n",
    "        bpl_beneficiary.append(0)        \n",
    "data['bpl_beneficiary']=bpl_beneficiary"
   ]
  },
  {
   "cell_type": "code",
   "execution_count": 54,
   "id": "55cb3958",
   "metadata": {},
   "outputs": [],
   "source": [
    "ews_group=[]\n",
    "\n",
    "for i in range(0,50000):\n",
    "    if(random.randint(0,500) < 100):\n",
    "        ews_group.append(1)\n",
    "    else:\n",
    "        ews_group.append(0)        \n",
    "data['ews_group']=ews_group"
   ]
  },
  {
   "cell_type": "code",
   "execution_count": 55,
   "id": "f773ba15",
   "metadata": {},
   "outputs": [],
   "source": [
    "cwsn=[]\n",
    "\n",
    "for i in range(0,50000):\n",
    "    if(random.randint(0,500) < 100):\n",
    "        cwsn.append(1)\n",
    "    else:\n",
    "        cwsn.append(0)        \n",
    "data['cwsn']=cwsn"
   ]
  },
  {
   "cell_type": "code",
   "execution_count": 56,
   "id": "95c82fdf",
   "metadata": {},
   "outputs": [],
   "source": [
    "mothers_occupation=[]\n",
    "\n",
    "for i in range(0,50000):\n",
    "    if(random.randint(0,500) < 150):\n",
    "        mothers_occupation.append(0)\n",
    "    else:\n",
    "        mothers_occupation.append(1)        \n",
    "data['mother\\'s_occupation']=mothers_occupation"
   ]
  },
  {
   "cell_type": "code",
   "execution_count": 58,
   "id": "2b16ce4e",
   "metadata": {},
   "outputs": [],
   "source": [
    "fathers_occupation=[]\n",
    "\n",
    "for i in range(0,50000):\n",
    "    if(random.randint(0,500) < 70):\n",
    "        fathers_occupation.append(1)\n",
    "    else:\n",
    "        fathers_occupation.append(0)        \n",
    "data['father\\'s_occupation']=fathers_occupation"
   ]
  },
  {
   "cell_type": "code",
   "execution_count": 59,
   "id": "6d4e313a",
   "metadata": {},
   "outputs": [],
   "source": [
    "mothers_qualification=[]\n",
    "\n",
    "for i in range(0,50000):\n",
    "    mothers_qualification.append(random.randint(0,5))\n",
    "        \n",
    "data['mother\\'s_qualification']=mothers_qualification\n",
    "\n",
    "fathers_qualification=[]\n",
    "\n",
    "for i in range(0,50000):\n",
    "    fathers_qualification.append(random.randint(0,5))\n",
    "        \n",
    "data['father\\'s_qualification']=fathers_qualification"
   ]
  },
  {
   "cell_type": "code",
   "execution_count": 61,
   "id": "18b0f093",
   "metadata": {},
   "outputs": [],
   "source": [
    "family_annual_income=[]\n",
    "\n",
    "for i in range(0,50000):\n",
    "    family_annual_income.append(random.randint(0,2))\n",
    "data['family_annual_income']=family_annual_income"
   ]
  },
  {
   "cell_type": "code",
   "execution_count": 62,
   "id": "a9d24a69",
   "metadata": {},
   "outputs": [],
   "source": [
    "debt=[]\n",
    "\n",
    "for i in range(0,50000):\n",
    "    debt.append(random.randint(0,1))\n",
    "data['debt']=debt"
   ]
  },
  {
   "cell_type": "code",
   "execution_count": 63,
   "id": "1e718a88",
   "metadata": {},
   "outputs": [],
   "source": [
    "mental_issues=[]\n",
    "\n",
    "for i in range(0,50000):\n",
    "    if(random.randint(0,500) < 100):\n",
    "        mental_issues.append(0)\n",
    "    else:\n",
    "        mental_issues.append(1)\n",
    "data['mental_issues']=mental_issues"
   ]
  },
  {
   "cell_type": "code",
   "execution_count": 64,
   "id": "f6f63d21",
   "metadata": {},
   "outputs": [],
   "source": [
    "results_in_previous_year_type=[]\n",
    "\n",
    "for i in range(0,50000):\n",
    "    results_in_previous_year_type.append(random.randint(1,4))\n",
    "data['results_in_previous_year_type']=results_in_previous_year_type"
   ]
  },
  {
   "cell_type": "code",
   "execution_count": 65,
   "id": "3b23fc61",
   "metadata": {},
   "outputs": [],
   "source": [
    "status_in_previous_year=[]\n",
    "\n",
    "for i in range(0,50000):\n",
    "    status_in_previous_year.append(random.randint(1,4))\n",
    "data['status_in_previous_year']=status_in_previous_year"
   ]
  },
  {
   "cell_type": "code",
   "execution_count": 66,
   "id": "8116fe83",
   "metadata": {},
   "outputs": [],
   "source": [
    "dropout_student=[]\n",
    "\n",
    "for i in range(0,50000):\n",
    "    if(random.randint(0,500) < 100):\n",
    "        dropout_student.append(0)\n",
    "    else:\n",
    "        dropout_student.append(1)\n",
    "data['dropout_student']=dropout_student"
   ]
  },
  {
   "cell_type": "code",
   "execution_count": 68,
   "id": "8ee3e2b7",
   "metadata": {},
   "outputs": [],
   "source": [
    "data.to_csv('dataset.csv')"
   ]
  },
  {
   "cell_type": "code",
   "execution_count": null,
   "id": "124779af",
   "metadata": {},
   "outputs": [],
   "source": []
  }
 ],
 "metadata": {
  "kernelspec": {
   "display_name": "Python 3 (ipykernel)",
   "language": "python",
   "name": "python3"
  },
  "language_info": {
   "codemirror_mode": {
    "name": "ipython",
    "version": 3
   },
   "file_extension": ".py",
   "mimetype": "text/x-python",
   "name": "python",
   "nbconvert_exporter": "python",
   "pygments_lexer": "ipython3",
   "version": "3.10.5"
  }
 },
 "nbformat": 4,
 "nbformat_minor": 5
}
