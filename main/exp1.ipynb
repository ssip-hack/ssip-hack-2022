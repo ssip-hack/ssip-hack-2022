{
 "cells": [
  {
   "cell_type": "code",
   "execution_count": 1,
   "id": "2edf574c-e9b4-4068-a654-a8edccd8cebb",
   "metadata": {},
   "outputs": [],
   "source": [
    "import pandas as pd"
   ]
  },
  {
   "cell_type": "code",
   "execution_count": 31,
   "id": "e39fff03-0b88-4294-8c7c-45276d90cd5e",
   "metadata": {},
   "outputs": [],
   "source": [
    "data = pd.read_csv('temp.csv')"
   ]
  },
  {
   "cell_type": "code",
   "execution_count": 30,
   "id": "7a805ffa-c76b-4d1c-b335-7e2067e372b6",
   "metadata": {},
   "outputs": [
    {
     "data": {
      "text/plain": [
       "0    0\n",
       "1    0\n",
       "2    0\n",
       "3    1\n",
       "4    0\n",
       "Name: dropped_continued, dtype: int64"
      ]
     },
     "execution_count": 30,
     "metadata": {},
     "output_type": "execute_result"
    }
   ],
   "source": [
    "data['dropped_continued'].head()"
   ]
  },
  {
   "cell_type": "code",
   "execution_count": 41,
   "id": "d90d7f12-4f95-47b4-8db6-cfe8f3472480",
   "metadata": {},
   "outputs": [],
   "source": [
    "data = pd.read_csv('temp.csv')\n",
    "\n",
    "label=[]\n",
    "prediction=[]\n",
    "\n",
    "for ind in data.index:\n",
    "    count = 0\n",
    "    if(data['Orphan'][ind] == 1):\n",
    "        count += 1\n",
    "    if(data['social_category'][ind] < 4):\n",
    "        count += 1\n",
    "    if(data['minority_group'][ind] == 1 or data['minority_group'][ind] == 5):\n",
    "        count += 1\n",
    "    if(data['bpl_beneficiary'][ind] == 1):\n",
    "        count += 1\n",
    "    if(data['ews_group'][ind] == 1):\n",
    "        count += 1\n",
    "    if(data['cwsn'][ind] == 1):\n",
    "        count += 1\n",
    "    if(data['mother\\'s_occupation'][ind] == 1):\n",
    "        count += 1\n",
    "    if(data['father\\'s_occupation'][ind] == 1):\n",
    "        count += 1\n",
    "    if(data['mother\\'s_qualification'][ind] == 0):\n",
    "        count += 1\n",
    "    if(data['father\\'s_qualification'][ind] == 0):\n",
    "        count += 1\n",
    "    if(data['family_annual_income'][ind] < 1):\n",
    "        count += 1\n",
    "    if(data['debt'][ind] == 1):\n",
    "        count += 1\n",
    "    if(data['mental_issues'][ind] == 1):\n",
    "        count += 1\n",
    "    if(data['results_in_previous_year_type'][ind] == 3 or data['results_in_previous_year_type'][ind] == 2):\n",
    "        count += 1\n",
    "    if(data['status_in_previous_year'][ind] == 4):\n",
    "        count += 1\n",
    "    if(data['dropout_student'][ind] == 1):\n",
    "        count += 1\n",
    "        \n",
    "    label.append(count)\n",
    "    \n",
    "    if(count > 7):\n",
    "        prediction.append(1)\n",
    "    else:\n",
    "        prediction.append(0)\n",
    "    \n",
    "data['label']=label\n",
    "data['prediction']=prediction\n",
    "\n",
    "data.to_csv('processed.csv')"
   ]
  },
  {
   "cell_type": "code",
   "execution_count": null,
   "id": "7008146b-e03f-4d9c-b090-db6b851acb86",
   "metadata": {},
   "outputs": [],
   "source": []
  }
 ],
 "metadata": {
  "kernelspec": {
   "display_name": "Python 3 (ipykernel)",
   "language": "python",
   "name": "python3"
  },
  "language_info": {
   "codemirror_mode": {
    "name": "ipython",
    "version": 3
   },
   "file_extension": ".py",
   "mimetype": "text/x-python",
   "name": "python",
   "nbconvert_exporter": "python",
   "pygments_lexer": "ipython3",
   "version": "3.10.1"
  }
 },
 "nbformat": 4,
 "nbformat_minor": 5
}
