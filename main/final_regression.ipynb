{
 "cells": [
  {
   "cell_type": "code",
   "execution_count": 1,
   "id": "c17e4539-64dd-4257-a7fd-a1e3ee7e088a",
   "metadata": {},
   "outputs": [],
   "source": [
    "import pandas as pd\n",
    "import matplotlib.pyplot as plt\n",
    "import numpy as np"
   ]
  },
  {
   "cell_type": "code",
   "execution_count": 2,
   "id": "f2d49f45-5e6a-4d55-992b-bff5b7ffb1cf",
   "metadata": {},
   "outputs": [],
   "source": [
    "class MyLR:\n",
    "    \n",
    "    def __init__(self):\n",
    "        self.m = None\n",
    "        self.b = None\n",
    "        \n",
    "    def fit(self,X_train,y_train):\n",
    "        \n",
    "        num = 0\n",
    "        den = 0\n",
    "        \n",
    "        for i in range(X_train.shape[0]):\n",
    "            \n",
    "            num = num + ((X_train[i] - X_train.mean())*(y_train[i] - y_train.mean()))\n",
    "            den = den + ((X_train[i] - X_train.mean())*(X_train[i] - X_train.mean()))\n",
    "        \n",
    "        self.m = num/den\n",
    "        self.b = y_train.mean() - (self.m * X_train.mean())\n",
    "        print(self.m)\n",
    "        print(self.b)       \n",
    "    \n",
    "    def predict(self,X_test):\n",
    "        \n",
    "        print(X_test)\n",
    "        \n",
    "        return self.m * X_test + self.b"
   ]
  },
  {
   "cell_type": "code",
   "execution_count": 4,
   "id": "e6832a98-f1c5-4f55-97a3-ffad5a238d0f",
   "metadata": {},
   "outputs": [],
   "source": [
    "df = pd.read_csv('main1.csv')"
   ]
  },
  {
   "cell_type": "code",
   "execution_count": 5,
   "id": "c2db1241-e31d-4b70-a6d4-ead34141de18",
   "metadata": {},
   "outputs": [
    {
     "data": {
      "text/html": [
       "<div>\n",
       "<style scoped>\n",
       "    .dataframe tbody tr th:only-of-type {\n",
       "        vertical-align: middle;\n",
       "    }\n",
       "\n",
       "    .dataframe tbody tr th {\n",
       "        vertical-align: top;\n",
       "    }\n",
       "\n",
       "    .dataframe thead th {\n",
       "        text-align: right;\n",
       "    }\n",
       "</style>\n",
       "<table border=\"1\" class=\"dataframe\">\n",
       "  <thead>\n",
       "    <tr style=\"text-align: right;\">\n",
       "      <th></th>\n",
       "      <th>Unnamed: 0.1</th>\n",
       "      <th>Unnamed: 0</th>\n",
       "      <th>orphan</th>\n",
       "      <th>social_category</th>\n",
       "      <th>minority_group</th>\n",
       "      <th>bpl_beneficiary</th>\n",
       "      <th>ews_group</th>\n",
       "      <th>cwsn</th>\n",
       "      <th>mother's_occupation</th>\n",
       "      <th>father's_occupation</th>\n",
       "      <th>...</th>\n",
       "      <th>debt</th>\n",
       "      <th>mental_issues</th>\n",
       "      <th>results_in_previous_year_type</th>\n",
       "      <th>status_in_previous_year</th>\n",
       "      <th>dropout_student</th>\n",
       "      <th>age_group</th>\n",
       "      <th>district</th>\n",
       "      <th>gender</th>\n",
       "      <th>label</th>\n",
       "      <th>dropout</th>\n",
       "    </tr>\n",
       "  </thead>\n",
       "  <tbody>\n",
       "    <tr>\n",
       "      <th>0</th>\n",
       "      <td>0</td>\n",
       "      <td>0</td>\n",
       "      <td>0</td>\n",
       "      <td>3</td>\n",
       "      <td>4</td>\n",
       "      <td>0</td>\n",
       "      <td>0</td>\n",
       "      <td>1</td>\n",
       "      <td>1</td>\n",
       "      <td>0</td>\n",
       "      <td>...</td>\n",
       "      <td>1</td>\n",
       "      <td>0</td>\n",
       "      <td>3</td>\n",
       "      <td>3</td>\n",
       "      <td>1</td>\n",
       "      <td>5</td>\n",
       "      <td>24</td>\n",
       "      <td>0</td>\n",
       "      <td>7.0</td>\n",
       "      <td>0.4375</td>\n",
       "    </tr>\n",
       "    <tr>\n",
       "      <th>1</th>\n",
       "      <td>1</td>\n",
       "      <td>1</td>\n",
       "      <td>0</td>\n",
       "      <td>2</td>\n",
       "      <td>1</td>\n",
       "      <td>1</td>\n",
       "      <td>0</td>\n",
       "      <td>0</td>\n",
       "      <td>0</td>\n",
       "      <td>1</td>\n",
       "      <td>...</td>\n",
       "      <td>0</td>\n",
       "      <td>1</td>\n",
       "      <td>2</td>\n",
       "      <td>1</td>\n",
       "      <td>0</td>\n",
       "      <td>2</td>\n",
       "      <td>17</td>\n",
       "      <td>0</td>\n",
       "      <td>6.0</td>\n",
       "      <td>0.3750</td>\n",
       "    </tr>\n",
       "    <tr>\n",
       "      <th>2</th>\n",
       "      <td>2</td>\n",
       "      <td>2</td>\n",
       "      <td>0</td>\n",
       "      <td>3</td>\n",
       "      <td>1</td>\n",
       "      <td>0</td>\n",
       "      <td>0</td>\n",
       "      <td>0</td>\n",
       "      <td>0</td>\n",
       "      <td>0</td>\n",
       "      <td>...</td>\n",
       "      <td>1</td>\n",
       "      <td>1</td>\n",
       "      <td>2</td>\n",
       "      <td>3</td>\n",
       "      <td>0</td>\n",
       "      <td>5</td>\n",
       "      <td>11</td>\n",
       "      <td>1</td>\n",
       "      <td>5.0</td>\n",
       "      <td>0.3125</td>\n",
       "    </tr>\n",
       "    <tr>\n",
       "      <th>3</th>\n",
       "      <td>3</td>\n",
       "      <td>3</td>\n",
       "      <td>0</td>\n",
       "      <td>1</td>\n",
       "      <td>6</td>\n",
       "      <td>0</td>\n",
       "      <td>0</td>\n",
       "      <td>1</td>\n",
       "      <td>0</td>\n",
       "      <td>0</td>\n",
       "      <td>...</td>\n",
       "      <td>0</td>\n",
       "      <td>0</td>\n",
       "      <td>1</td>\n",
       "      <td>4</td>\n",
       "      <td>1</td>\n",
       "      <td>1</td>\n",
       "      <td>29</td>\n",
       "      <td>0</td>\n",
       "      <td>4.0</td>\n",
       "      <td>0.2500</td>\n",
       "    </tr>\n",
       "    <tr>\n",
       "      <th>4</th>\n",
       "      <td>4</td>\n",
       "      <td>4</td>\n",
       "      <td>0</td>\n",
       "      <td>1</td>\n",
       "      <td>2</td>\n",
       "      <td>0</td>\n",
       "      <td>0</td>\n",
       "      <td>1</td>\n",
       "      <td>1</td>\n",
       "      <td>0</td>\n",
       "      <td>...</td>\n",
       "      <td>0</td>\n",
       "      <td>1</td>\n",
       "      <td>3</td>\n",
       "      <td>3</td>\n",
       "      <td>0</td>\n",
       "      <td>4</td>\n",
       "      <td>7</td>\n",
       "      <td>0</td>\n",
       "      <td>5.0</td>\n",
       "      <td>0.3125</td>\n",
       "    </tr>\n",
       "  </tbody>\n",
       "</table>\n",
       "<p>5 rows × 23 columns</p>\n",
       "</div>"
      ],
      "text/plain": [
       "   Unnamed: 0.1  Unnamed: 0  orphan  social_category  minority_group  \\\n",
       "0             0           0       0                3               4   \n",
       "1             1           1       0                2               1   \n",
       "2             2           2       0                3               1   \n",
       "3             3           3       0                1               6   \n",
       "4             4           4       0                1               2   \n",
       "\n",
       "   bpl_beneficiary  ews_group  cwsn  mother's_occupation  father's_occupation  \\\n",
       "0                0          0     1                    1                    0   \n",
       "1                1          0     0                    0                    1   \n",
       "2                0          0     0                    0                    0   \n",
       "3                0          0     1                    0                    0   \n",
       "4                0          0     1                    1                    0   \n",
       "\n",
       "   ...  debt  mental_issues  results_in_previous_year_type  \\\n",
       "0  ...     1              0                              3   \n",
       "1  ...     0              1                              2   \n",
       "2  ...     1              1                              2   \n",
       "3  ...     0              0                              1   \n",
       "4  ...     0              1                              3   \n",
       "\n",
       "   status_in_previous_year  dropout_student  age_group  district  gender  \\\n",
       "0                        3                1          5        24       0   \n",
       "1                        1                0          2        17       0   \n",
       "2                        3                0          5        11       1   \n",
       "3                        4                1          1        29       0   \n",
       "4                        3                0          4         7       0   \n",
       "\n",
       "   label  dropout  \n",
       "0    7.0   0.4375  \n",
       "1    6.0   0.3750  \n",
       "2    5.0   0.3125  \n",
       "3    4.0   0.2500  \n",
       "4    5.0   0.3125  \n",
       "\n",
       "[5 rows x 23 columns]"
      ]
     },
     "execution_count": 5,
     "metadata": {},
     "output_type": "execute_result"
    }
   ],
   "source": [
    "df.head()\n"
   ]
  },
  {
   "cell_type": "code",
   "execution_count": 8,
   "id": "aa0cde6f-ac48-49f5-9a07-374e6a2f48c7",
   "metadata": {},
   "outputs": [],
   "source": [
    "X = df.iloc[:,18].values\n",
    "Y = df.iloc[:,22].values"
   ]
  },
  {
   "cell_type": "code",
   "execution_count": 9,
   "id": "53fd08b0-f13a-49d9-8081-ef11c0b8d7a5",
   "metadata": {},
   "outputs": [
    {
     "data": {
      "text/plain": [
       "array([5, 2, 5, ..., 2, 4, 1], dtype=int64)"
      ]
     },
     "execution_count": 9,
     "metadata": {},
     "output_type": "execute_result"
    }
   ],
   "source": [
    "X"
   ]
  },
  {
   "cell_type": "code",
   "execution_count": 10,
   "id": "c01abf09-f0e9-4ddc-812f-bc84c3793854",
   "metadata": {},
   "outputs": [
    {
     "data": {
      "text/plain": [
       "array([0.4375, 0.375 , 0.3125, ..., 0.3125, 0.5   , 0.4375])"
      ]
     },
     "execution_count": 10,
     "metadata": {},
     "output_type": "execute_result"
    }
   ],
   "source": [
    "Y"
   ]
  },
  {
   "cell_type": "code",
   "execution_count": 11,
   "id": "7ee86b7f-210a-4ca7-9d4f-a8f1b779f80c",
   "metadata": {},
   "outputs": [],
   "source": [
    "from sklearn.model_selection import train_test_split\n",
    "X_train,X_test,y_train,y_test = train_test_split(X,y,test_size=0.2,random_state=2)"
   ]
  },
  {
   "cell_type": "code",
   "execution_count": 12,
   "id": "1e7fae43-9055-4006-945f-086e486d62fe",
   "metadata": {},
   "outputs": [
    {
     "data": {
      "text/plain": [
       "(40000,)"
      ]
     },
     "execution_count": 12,
     "metadata": {},
     "output_type": "execute_result"
    }
   ],
   "source": [
    "X_train.shape"
   ]
  },
  {
   "cell_type": "code",
   "execution_count": 14,
   "id": "b62b582a-3e4a-4986-8007-50c7ae25e2f2",
   "metadata": {},
   "outputs": [],
   "source": [
    "lr = MyLR()"
   ]
  },
  {
   "cell_type": "code",
   "execution_count": 15,
   "id": "030b0c8b-5a30-4fa2-b780-020b48db42f3",
   "metadata": {},
   "outputs": [
    {
     "name": "stdout",
     "output_type": "stream",
     "text": [
      "-6.839134806006156e-06\n",
      "0.38699391455352267\n"
     ]
    }
   ],
   "source": [
    "lr.fit(X_train,y_train)"
   ]
  },
  {
   "cell_type": "code",
   "execution_count": 16,
   "id": "fa7932f5-f7bd-4e1c-871b-c81df52182c8",
   "metadata": {},
   "outputs": [
    {
     "data": {
      "text/plain": [
       "40000"
      ]
     },
     "execution_count": 16,
     "metadata": {},
     "output_type": "execute_result"
    }
   ],
   "source": [
    "X_train.shape[0]"
   ]
  },
  {
   "cell_type": "code",
   "execution_count": 17,
   "id": "e3763f87-1692-47ec-a323-205cc5b7f6e7",
   "metadata": {},
   "outputs": [
    {
     "data": {
      "text/plain": [
       "5"
      ]
     },
     "execution_count": 17,
     "metadata": {},
     "output_type": "execute_result"
    }
   ],
   "source": [
    "X_train[0]"
   ]
  },
  {
   "cell_type": "code",
   "execution_count": 18,
   "id": "163f97d5-3843-4dfc-a301-093efa2e00e5",
   "metadata": {},
   "outputs": [
    {
     "data": {
      "text/plain": [
       "2.9941"
      ]
     },
     "execution_count": 18,
     "metadata": {},
     "output_type": "execute_result"
    }
   ],
   "source": [
    "X_train.mean()\n"
   ]
  },
  {
   "cell_type": "code",
   "execution_count": 19,
   "id": "1bcb9984-4de8-47e7-8604-e8c1cd4805b0",
   "metadata": {},
   "outputs": [
    {
     "data": {
      "text/plain": [
       "2"
      ]
     },
     "execution_count": 19,
     "metadata": {},
     "output_type": "execute_result"
    }
   ],
   "source": [
    "X_test[0]"
   ]
  },
  {
   "cell_type": "code",
   "execution_count": 42,
   "id": "4e2c22f7-b095-47e6-aed9-b9430619ddc4",
   "metadata": {},
   "outputs": [
    {
     "name": "stdout",
     "output_type": "stream",
     "text": [
      "4\n",
      "0.38696655801429863\n"
     ]
    }
   ],
   "source": [
    "print(lr.predict(X_test[5]))"
   ]
  },
  {
   "cell_type": "code",
   "execution_count": 23,
   "id": "162abbce-6e81-4f48-bc6b-f48bdb229944",
   "metadata": {},
   "outputs": [
    {
     "name": "stdout",
     "output_type": "stream",
     "text": [
      "[2 5 4 ... 4 5 4]\n"
     ]
    },
    {
     "data": {
      "text/plain": [
       "Text(0, 0.5, 'dropout')"
      ]
     },
     "execution_count": 23,
     "metadata": {},
     "output_type": "execute_result"
    },
    {
     "data": {
      "image/png": "[encoded data removed]",
      "text/plain": [
       "<Figure size 640x480 with 1 Axes>"
      ]
     },
     "metadata": {},
     "output_type": "display_data"
    }
   ],
   "source": [
    "plt.scatter(df['age_group'],df['dropout'])\n",
    "plt.plot(X_test,lr.predict(X_test),color='red')\n",
    "plt.xlabel('age_group')\n",
    "plt.ylabel('dropout')"
   ]
  },
  {
   "cell_type": "code",
   "execution_count": 24,
   "id": "d9489f0c-c516-4dae-886d-311d6a5eccbe",
   "metadata": {},
   "outputs": [
    {
     "ename": "AttributeError",
     "evalue": "'numpy.ndarray' object has no attribute 'iloc'",
     "output_type": "error",
     "traceback": [
      "\u001b[1;31m---------------------------------------------------------------------------\u001b[0m",
      "\u001b[1;31mAttributeError\u001b[0m                            Traceback (most recent call last)",
      "Cell \u001b[1;32mIn [24], line 1\u001b[0m\n\u001b[1;32m----> 1\u001b[0m lr\u001b[38;5;241m.\u001b[39mpredict(X_test\u001b[38;5;241m.\u001b[39miloc[\u001b[38;5;241m1\u001b[39m]\u001b[38;5;241m.\u001b[39mvalues\u001b[38;5;241m.\u001b[39mreshape(\u001b[38;5;241m1\u001b[39m,\u001b[38;5;241m1\u001b[39m))\n",
      "\u001b[1;31mAttributeError\u001b[0m: 'numpy.ndarray' object has no attribute 'iloc'"
     ]
    }
   ],
   "source": [
    "lr.predict(X_test.iloc[1].values.reshape(1,1))"
   ]
  },
  {
   "cell_type": "code",
   "execution_count": 25,
   "id": "2515c73f-f4b2-40af-926b-44740c82e4f3",
   "metadata": {},
   "outputs": [
    {
     "data": {
      "text/plain": [
       "0     5\n",
       "1     2\n",
       "2     5\n",
       "3     1\n",
       "4     4\n",
       "5     5\n",
       "6     5\n",
       "7     2\n",
       "8     2\n",
       "9     3\n",
       "10    5\n",
       "11    4\n",
       "12    2\n",
       "13    1\n",
       "14    1\n",
       "15    3\n",
       "16    5\n",
       "17    4\n",
       "18    1\n",
       "19    2\n",
       "20    2\n",
       "21    5\n",
       "22    1\n",
       "23    4\n",
       "24    4\n",
       "25    2\n",
       "26    1\n",
       "27    5\n",
       "28    3\n",
       "29    4\n",
       "30    3\n",
       "31    1\n",
       "32    4\n",
       "33    3\n",
       "34    3\n",
       "35    4\n",
       "36    3\n",
       "37    4\n",
       "38    2\n",
       "39    5\n",
       "40    4\n",
       "41    5\n",
       "42    5\n",
       "43    2\n",
       "44    1\n",
       "45    2\n",
       "46    1\n",
       "47    4\n",
       "48    4\n",
       "49    1\n",
       "Name: age_group, dtype: int64"
      ]
     },
     "execution_count": 25,
     "metadata": {},
     "output_type": "execute_result"
    }
   ],
   "source": [
    "df['age_group'].head(50)"
   ]
  },
  {
   "cell_type": "code",
   "execution_count": 26,
   "id": "0737ef52-ba45-4ecb-9c3a-8614c6ac9082",
   "metadata": {},
   "outputs": [
    {
     "data": {
      "text/plain": [
       "0     0.4375\n",
       "1     0.3750\n",
       "2     0.3125\n",
       "3     0.2500\n",
       "4     0.3125\n",
       "5     0.5625\n",
       "6     0.1875\n",
       "7     0.3750\n",
       "8     0.4375\n",
       "9     0.3750\n",
       "10    0.2500\n",
       "11    0.3125\n",
       "12    0.4375\n",
       "13    0.5625\n",
       "14    0.3750\n",
       "15    0.5000\n",
       "16    0.5000\n",
       "17    0.4375\n",
       "18    0.3125\n",
       "19    0.3125\n",
       "20    0.3125\n",
       "21    0.3750\n",
       "22    0.5625\n",
       "23    0.1875\n",
       "24    0.3125\n",
       "25    0.3125\n",
       "26    0.4375\n",
       "27    0.5000\n",
       "28    0.6875\n",
       "29    0.5000\n",
       "30    0.5625\n",
       "31    0.3750\n",
       "32    0.4375\n",
       "33    0.4375\n",
       "34    0.3125\n",
       "35    0.5625\n",
       "36    0.3125\n",
       "37    0.2500\n",
       "38    0.3750\n",
       "39    0.3125\n",
       "40    0.3750\n",
       "41    0.3125\n",
       "42    0.3125\n",
       "43    0.3125\n",
       "44    0.5625\n",
       "45    0.3750\n",
       "46    0.1250\n",
       "47    0.4375\n",
       "48    0.5000\n",
       "49    0.5000\n",
       "Name: dropout, dtype: float64"
      ]
     },
     "execution_count": 26,
     "metadata": {},
     "output_type": "execute_result"
    }
   ],
   "source": [
    "df['dropout'].head(50)"
   ]
  },
  {
   "cell_type": "code",
   "execution_count": null,
   "id": "f4da1647-32f1-4e16-b08b-57246b0edecd",
   "metadata": {},
   "outputs": [],
   "source": []
  }
 ],
 "metadata": {
  "kernelspec": {
   "display_name": "Python 3 (ipykernel)",
   "language": "python",
   "name": "python3"
  },
  "language_info": {
   "codemirror_mode": {
    "name": "ipython",
    "version": 3
   },
   "file_extension": ".py",
   "mimetype": "text/x-python",
   "name": "python",
   "nbconvert_exporter": "python",
   "pygments_lexer": "ipython3",
   "version": "3.9.7"
  }
 },
 "nbformat": 4,
 "nbformat_minor": 5
}
