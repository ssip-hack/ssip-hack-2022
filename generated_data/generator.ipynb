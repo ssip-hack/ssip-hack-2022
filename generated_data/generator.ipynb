{
 "cells": [
  {
   "cell_type": "code",
   "execution_count": 1,
   "id": "22dbd9e2",
   "metadata": {},
   "outputs": [],
   "source": [
    "import pandas as pd"
   ]
  },
  {
   "cell_type": "code",
   "execution_count": 2,
   "id": "d57cece1",
   "metadata": {},
   "outputs": [],
   "source": [
    "data = pd.read_csv('generated_data.csv')"
   ]
  },
  {
   "cell_type": "code",
   "execution_count": 4,
   "id": "1f4dcf4e",
   "metadata": {},
   "outputs": [
    {
     "data": {
      "text/html": [
       "<div>\n",
       "<style scoped>\n",
       "    .dataframe tbody tr th:only-of-type {\n",
       "        vertical-align: middle;\n",
       "    }\n",
       "\n",
       "    .dataframe tbody tr th {\n",
       "        vertical-align: top;\n",
       "    }\n",
       "\n",
       "    .dataframe thead th {\n",
       "        text-align: right;\n",
       "    }\n",
       "</style>\n",
       "<table border=\"1\" class=\"dataframe\">\n",
       "  <thead>\n",
       "    <tr style=\"text-align: right;\">\n",
       "      <th></th>\n",
       "      <th>orphan</th>\n",
       "      <th>social_category</th>\n",
       "      <th>minority_group</th>\n",
       "      <th>bpl_beneficiary</th>\n",
       "      <th>ews_group</th>\n",
       "      <th>cwsn</th>\n",
       "      <th>mother's_occupation</th>\n",
       "      <th>father's_occupation</th>\n",
       "      <th>mother's_qualification</th>\n",
       "      <th>father's_qualification</th>\n",
       "      <th>...</th>\n",
       "      <th>debt</th>\n",
       "      <th>mental_issues</th>\n",
       "      <th>results_in_previous_year_type</th>\n",
       "      <th>status_in_previous_year</th>\n",
       "      <th>dropout_student</th>\n",
       "      <th>age_group</th>\n",
       "      <th>district</th>\n",
       "      <th>gender</th>\n",
       "      <th>label</th>\n",
       "      <th>dropout</th>\n",
       "    </tr>\n",
       "  </thead>\n",
       "  <tbody>\n",
       "  </tbody>\n",
       "</table>\n",
       "<p>0 rows × 21 columns</p>\n",
       "</div>"
      ],
      "text/plain": [
       "Empty DataFrame\n",
       "Columns: [orphan, social_category, minority_group, bpl_beneficiary, ews_group, cwsn, mother's_occupation, father's_occupation, mother's_qualification, father's_qualification, family_annual_income, debt, mental_issues, results_in_previous_year_type, status_in_previous_year, dropout_student, age_group, district, gender, label, dropout]\n",
       "Index: []\n",
       "\n",
       "[0 rows x 21 columns]"
      ]
     },
     "execution_count": 4,
     "metadata": {},
     "output_type": "execute_result"
    }
   ],
   "source": [
    "data.head()"
   ]
  },
  {
   "cell_type": "code",
   "execution_count": null,
   "id": "63cf6f12",
   "metadata": {},
   "outputs": [],
   "source": [
    "for ind in data.index:"
   ]
  }
 ],
 "metadata": {
  "kernelspec": {
   "display_name": "Python 3 (ipykernel)",
   "language": "python",
   "name": "python3"
  },
  "language_info": {
   "codemirror_mode": {
    "name": "ipython",
    "version": 3
   },
   "file_extension": ".py",
   "mimetype": "text/x-python",
   "name": "python",
   "nbconvert_exporter": "python",
   "pygments_lexer": "ipython3",
   "version": "3.10.7"
  }
 },
 "nbformat": 4,
 "nbformat_minor": 5
}
